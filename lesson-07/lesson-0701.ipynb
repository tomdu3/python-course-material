{
 "cells": [
  {
   "cell_type": "markdown",
   "metadata": {},
   "source": [
    "# Lesson 07: Numpy and Pandas Modules\n",
    "\n",
    "Very popular libraries like NumPy and Pandas are used in data science and machine learning. In this lesson, we will learn how to use these libraries in Python."
   ]
  },
  {
   "cell_type": "markdown",
   "metadata": {},
   "source": [
    "## 7.1. NumPy\n",
    "- [Numpy - Official Documentation](https://numpy.org/)\n",
    "- [Python Numpy Tutorial for Beginners on freeCodeCamp](https://youtu.be/QUT1VHiLmmI)\n",
    "\n",
    "<br>\n",
    "\n",
    "- NumPy is a library that provides support for large, multi-dimensional arrays and matrices, along with a large collection of high-level mathematical functions to operate on these arrays.\n",
    "- It is very popular in data science and machine learning.\n",
    "- It isn't a built-in library in Python. Therefore, we need to install it first: `pip install numpy`.\n",
    "- syntax: `import numpy as np`\n",
    "  - we use `as` keyword to give a name to the imported library, and we use `np` as standard name for NumPy."
   ]
  },
  {
   "cell_type": "markdown",
   "metadata": {},
   "source": [
    "### Why NumPy\n",
    "> From the NumPy documentation:\n",
    "\n",
    "- NumPy arrays have a fixed size at creation, unlike Python lists (which can grow dynamically). Changing the size of an ndarray will create a new array and delete the original.\n",
    "\n",
    "- The elements in a NumPy array are all required to be of the same data type, and thus will be the same size in memory. The exception: one can have arrays of (Python, including NumPy) objects, thereby allowing for arrays of different sized elements.\n",
    "\n",
    "- NumPy arrays facilitate advanced mathematical and other types of operations on large numbers of data. Typically, such operations are executed more efficiently and with less code than is possible using Python’s built-in sequences.\n",
    "\n",
    "- A growing plethora of scientific and mathematical Python-based packages are using NumPy arrays; though these typically support Python-sequence input, they convert such input to NumPy arrays prior to processing, and they often output NumPy arrays. In other words, in order to efficiently use much (perhaps even most) of today’s scientific/mathematical Python-based software, just knowing how to use Python’s built-in sequence types is insufficient - one also needs to know how to use NumPy arrays.\n",
    "\n",
    "### Why is NumPy Fast?\n",
    "> From the NumPy documentation:\n",
    "\n",
    "- Vectorization describes the absence of any explicit looping, indexing, etc., in the code - these things are taking place, of course, just “behind the scenes” in optimized, pre-compiled C code. Vectorized code has many advantages, among which are:\n",
    "\n",
    "    - vectorized code is more concise and easier to read\n",
    "\n",
    "    - fewer lines of code generally means fewer bugs\n",
    "\n",
    "    - the code more closely resembles standard mathematical notation (making it easier, typically, to correctly code mathematical constructs)\n",
    "\n",
    "    - vectorization results in more “Pythonic” code. Without vectorization, our code would be littered with inefficient and difficult to read for loops.\n",
    "\n",
    "- Broadcasting is the term used to describe the implicit element-by-element behavior of operations; generally speaking, in NumPy all operations, not just arithmetic operations, but logical, bit-wise, functional, etc., behave in this implicit element-by-element fashion, i.e., they broadcast. "
   ]
  },
  {
   "cell_type": "markdown",
   "metadata": {},
   "source": [
    "### 7.1.1. Basic NumPy Operations\n",
    "\n",
    "- Create NumPy Array"
   ]
  },
  {
   "cell_type": "code",
   "execution_count": 1,
   "metadata": {},
   "outputs": [
    {
     "data": {
      "text/plain": [
       "[[1, 2, 3, 4, 5], [6, 7, 8, 9, 10], [2, 3, 4, 5, 6], [7, 8, 9, 10, 11]]"
      ]
     },
     "execution_count": 1,
     "metadata": {},
     "output_type": "execute_result"
    }
   ],
   "source": [
    "# import numpy\n",
    "import numpy as np\n",
    "\n",
    "list1 = [\n",
    "    [1, 2, 3, 4, 5],\n",
    "    [6, 7, 8, 9, 10]\n",
    "]\n",
    "\n",
    "list2 = [\n",
    "    [2, 3, 4, 5, 6],\n",
    "    [7, 8, 9, 10, 11]\n",
    "]\n",
    "\n",
    "list1 + list2"
   ]
  },
  {
   "cell_type": "code",
   "execution_count": 2,
   "metadata": {},
   "outputs": [
    {
     "ename": "TypeError",
     "evalue": "can't multiply sequence by non-int of type 'list'",
     "output_type": "error",
     "traceback": [
      "\u001b[0;31m---------------------------------------------------------------------------\u001b[0m",
      "\u001b[0;31mTypeError\u001b[0m                                 Traceback (most recent call last)",
      "Cell \u001b[0;32mIn[2], line 1\u001b[0m\n\u001b[0;32m----> 1\u001b[0m \u001b[43mlist1\u001b[49m\u001b[43m \u001b[49m\u001b[38;5;241;43m*\u001b[39;49m\u001b[43m \u001b[49m\u001b[43mlist2\u001b[49m\n",
      "\u001b[0;31mTypeError\u001b[0m: can't multiply sequence by non-int of type 'list'"
     ]
    }
   ],
   "source": [
    "list1 * list2"
   ]
  },
  {
   "cell_type": "code",
   "execution_count": 3,
   "metadata": {},
   "outputs": [
    {
     "data": {
      "text/plain": [
       "array([[ 3,  5,  7,  9, 11],\n",
       "       [13, 15, 17, 19, 21]])"
      ]
     },
     "execution_count": 3,
     "metadata": {},
     "output_type": "execute_result"
    }
   ],
   "source": [
    "np_list1 = np.array(list1)\n",
    "np_list2 = np.array(list2)\n",
    "np_list1 + np_list2"
   ]
  },
  {
   "cell_type": "code",
   "execution_count": 4,
   "metadata": {},
   "outputs": [
    {
     "data": {
      "text/plain": [
       "array([[  2,   6,  12,  20,  30],\n",
       "       [ 42,  56,  72,  90, 110]])"
      ]
     },
     "execution_count": 4,
     "metadata": {},
     "output_type": "execute_result"
    }
   ],
   "source": [
    "np_list1 * np_list2"
   ]
  },
  {
   "cell_type": "code",
   "execution_count": 5,
   "metadata": {},
   "outputs": [
    {
     "name": "stdout",
     "output_type": "stream",
     "text": [
      "[[5. 4. 3. 2.]\n",
      " [6. 7. 8. 9.]]\n"
     ]
    }
   ],
   "source": [
    "# Create np.array\n",
    "\n",
    "np_array = np.array([[5.0, 4.0, 3.0, 2.0], [6.0, 7.0, 8.0, 9.0]])\n",
    "print(np_array)"
   ]
  },
  {
   "cell_type": "code",
   "execution_count": 6,
   "metadata": {},
   "outputs": [
    {
     "name": "stdout",
     "output_type": "stream",
     "text": [
      "[[5 4 3 2]\n",
      " [6 7 8 9]]\n"
     ]
    }
   ],
   "source": [
    "# Creation of a NumPy Array with defined data type\n",
    "np_array_type = np.array([[5.0, 4.0, 3.0, 2.0], [6.0, 7.0, 8.0, 9.0]], dtype='int16')  # data will be converted into int\n",
    "# if the data cannot be converted into an int, it will throw an a ValueError\n",
    "print(np_array_type)"
   ]
  },
  {
   "cell_type": "markdown",
   "metadata": {},
   "source": [
    "**Possible NumPy Array Types**\n",
    "- [datatypes in Numpy](https://numpy.org/doc/stable/user/basics.types.html)\n",
    "\n",
    "- comomnly used numeric data types:\n",
    "  - int8, int16, int32, int64 - signed integer types with different bit sizes\n",
    "  - uint8, uint16, uint32, uint64 - unsigned integer types with different bit sizes\n",
    "  - float32, float64 - floating-point types with different precision levels\n",
    "  - complex64, complex128 - complex number types with different precision levels\n",
    "\n",
    "- general data types such as bool, str, object, etc:\n",
    "  - 'b' − boolean\n",
    "  - 'i' − (signed) integer\n",
    "  - 'u' − unsigned integer\n",
    "  - 'f' − floating-point\n",
    "  - 'c' − complex-floating point\n",
    "  - 'm' − timedelta\n",
    "  - 'M' − datetime\n",
    "  - 'O' − (Python) objects\n",
    "  - 'S', 'a' − (byte-)string\n",
    "  - 'U' − Unicode\n",
    "  - 'V' − raw data (void)\n"
   ]
  },
  {
   "cell_type": "markdown",
   "metadata": {},
   "source": [
    "- Info about NumPy Array"
   ]
  },
  {
   "cell_type": "code",
   "execution_count": 7,
   "metadata": {},
   "outputs": [
    {
     "name": "stdout",
     "output_type": "stream",
     "text": [
      "2\n",
      "(2, 4)\n"
     ]
    }
   ],
   "source": [
    "# Dimension of a NumPy Array\n",
    "print(np_array.ndim)\n",
    "\n",
    "# Shape of a NumPy Array\n",
    "print(np_array.shape)"
   ]
  },
  {
   "cell_type": "code",
   "execution_count": 8,
   "metadata": {},
   "outputs": [
    {
     "name": "stdout",
     "output_type": "stream",
     "text": [
      "float64\n",
      "int16\n"
     ]
    }
   ],
   "source": [
    "# Type of the elements in a NumPy Array\n",
    "print(np_array.dtype)\n",
    "print(np_array_type.dtype)"
   ]
  },
  {
   "cell_type": "code",
   "execution_count": 9,
   "metadata": {},
   "outputs": [
    {
     "name": "stdout",
     "output_type": "stream",
     "text": [
      "8\n",
      "8\n",
      "8\n",
      "2\n",
      "64\n",
      "16\n",
      "64\n",
      "16\n"
     ]
    }
   ],
   "source": [
    "# Size of a NumPy Array\n",
    "print(np_array.size)  #  whole number of elements in the array\n",
    "print(np_array_type.size)\n",
    "\n",
    "# Number of bytes consumed by each element\n",
    "print(np_array.itemsize)\n",
    "print(np_array_type.itemsize)\n",
    "\n",
    "# Number of bytes consumed by the whole array - size * itemsize\n",
    "print(np_array.size * np_array.itemsize)\n",
    "print(np_array_type.size * np_array_type.itemsize)\n",
    "\n",
    "# Number of bytes consumed by the whole array\n",
    "print(np_array.nbytes)\n",
    "print(np_array_type.nbytes)"
   ]
  },
  {
   "cell_type": "markdown",
   "metadata": {},
   "source": [
    "### 7.1.2. Manipulating NumPy Arrays\n"
   ]
  },
  {
   "cell_type": "markdown",
   "metadata": {},
   "source": [
    "#### Accessing the elements in a NumPy Array"
   ]
  },
  {
   "cell_type": "code",
   "execution_count": 10,
   "metadata": {},
   "outputs": [],
   "source": [
    "# Create np.array\n",
    "array = np.array([[1, 2, 3, 4, 5, 6, 7, 8, 9, 10],\n",
    "                 [11, 12, 13, 14, 15, 16, 17, 18, 19, 20]])\n"
   ]
  },
  {
   "cell_type": "markdown",
   "metadata": {},
   "source": [
    "- Accessing the elements in a NumPy Array"
   ]
  },
  {
   "cell_type": "code",
   "execution_count": 11,
   "metadata": {},
   "outputs": [
    {
     "name": "stdout",
     "output_type": "stream",
     "text": [
      "2\n",
      "2\n"
     ]
    }
   ],
   "source": [
    "# Accessing the single elements in a NumPy Array\n",
    "\n",
    "print(array[0][1])  # similar to lists  - arr[row][column]\n",
    "print(array[0, 1])  # arr[row, column]"
   ]
  },
  {
   "cell_type": "markdown",
   "metadata": {},
   "source": [
    "- Accessing multiple elements in a NumPy Array"
   ]
  },
  {
   "cell_type": "code",
   "execution_count": 12,
   "metadata": {},
   "outputs": [
    {
     "name": "stdout",
     "output_type": "stream",
     "text": [
      "[ 1  2  3  4  5  6  7  8  9 10]\n",
      "[ 1 11]\n"
     ]
    }
   ],
   "source": [
    "# Accessing multiple elements in a NumPy Array\n",
    "\n",
    "# the whole row\n",
    "print(array[0, :])\n",
    "\n",
    "# the whole column\n",
    "print(array[:, 0])"
   ]
  },
  {
   "cell_type": "code",
   "execution_count": 13,
   "metadata": {},
   "outputs": [
    {
     "name": "stdout",
     "output_type": "stream",
     "text": [
      "[2 4]\n",
      "[2 4 6 8]\n",
      "[2 3 4 5 6 7 8 9]\n",
      "[ 2  3  4  5  6  7  8  9 10]\n",
      "[ 1  2  3  4  5  6  7  8  9 10]\n",
      "[ 2  4  6  8 10]\n"
     ]
    }
   ],
   "source": [
    "# Accessing parts of a NumPy Array\n",
    "# [start:stop:step]\n",
    "\n",
    "print(array[0, 1:5:2])   # start = 1, stop = 5, step = 2\n",
    "print(array[0, 1:-1:2])  # start = 1, stop = -1, step = 2\n",
    "print(array[0, 1:-1])    # start = 1, stop = -1\n",
    "print(array[0, 1:])      # start = 1\n",
    "print(array[0, :])       # start = 0\n",
    "print(array[0, 1::2])    # start = 1, step = 2"
   ]
  },
  {
   "cell_type": "markdown",
   "metadata": {},
   "source": [
    "#### Changing the elements in a NumPy Array"
   ]
  },
  {
   "cell_type": "markdown",
   "metadata": {},
   "source": [
    "- Changing single elements in a NumPy Array"
   ]
  },
  {
   "cell_type": "code",
   "execution_count": 14,
   "metadata": {},
   "outputs": [
    {
     "name": "stdout",
     "output_type": "stream",
     "text": [
      "[[ 1  2  3  4  5  6  7  8  9 10]\n",
      " [11 12 13 14 15 16 17 18 19 20]]\n",
      "12\n",
      "[[  1   2   3   4   5   6   7   8   9  10]\n",
      " [ 11 100  13  14  15  16  17  18  19  20]]\n",
      "100\n"
     ]
    }
   ],
   "source": [
    "print(array)\n",
    "print(array[1,1])\n",
    "\n",
    "array[1,1] = 100\n",
    "print(array)\n",
    "print(array[1,1])"
   ]
  },
  {
   "cell_type": "markdown",
   "metadata": {},
   "source": [
    "- Change column values in a NumPy Array"
   ]
  },
  {
   "cell_type": "code",
   "execution_count": 15,
   "metadata": {},
   "outputs": [
    {
     "name": "stdout",
     "output_type": "stream",
     "text": [
      "[[  1   2   3   4   5   6   7   8   9  10]\n",
      " [ 11 100  13  14  15  16  17  18  19  20]]\n",
      "[  2 100]\n",
      "[[  1 200   3   4   5   6   7   8   9  10]\n",
      " [ 11 200  13  14  15  16  17  18  19  20]]\n",
      "[200 200]\n",
      "[[  1 200  -1   4   5   6   7   8   9  10]\n",
      " [ 11 200 -10  14  15  16  17  18  19  20]]\n",
      "[ -1 -10]\n"
     ]
    }
   ],
   "source": [
    "print(array)\n",
    "print(array[:,1])  # all values in column 1\n",
    "\n",
    "array[:,1] = 200  # all values in column 1 are set to 200\n",
    "print(array)\n",
    "print(array[:,1])\n",
    "\n",
    "array[:,2] = [-1, -10]  # all values in column 2 are set to [-1, -10] - it needs to be of the same shape as the subarray (output)\n",
    "print(array)\n",
    "print(array[:,2])\n"
   ]
  },
  {
   "cell_type": "markdown",
   "metadata": {},
   "source": [
    "# "
   ]
  },
  {
   "cell_type": "markdown",
   "metadata": {},
   "source": [
    "#### Initialization of the different types of NumPy Arrays"
   ]
  },
  {
   "cell_type": "code",
   "execution_count": 16,
   "metadata": {},
   "outputs": [
    {
     "name": "stdout",
     "output_type": "stream",
     "text": [
      "[[0. 0. 0.]\n",
      " [0. 0. 0.]]\n",
      "[[1. 1. 1.]\n",
      " [1. 1. 1.]]\n"
     ]
    }
   ],
   "source": [
    "# Zeros and Ones\n",
    "zeros = np.zeros((2, 3))\n",
    "print(zeros)\n",
    "\n",
    "ones = np.ones((2, 3))\n",
    "print(ones)"
   ]
  },
  {
   "cell_type": "markdown",
   "metadata": {},
   "source": []
  },
  {
   "cell_type": "code",
   "execution_count": 18,
   "metadata": {},
   "outputs": [
    {
     "data": {
      "text/plain": [
       "array([[5, 5, 5],\n",
       "       [5, 5, 5]])"
      ]
     },
     "execution_count": 18,
     "metadata": {},
     "output_type": "execute_result"
    }
   ],
   "source": [
    "# Create other same number matrix\n",
    "np.full((2, 3), 5)  # np.full(shape, value)"
   ]
  },
  {
   "cell_type": "code",
   "execution_count": 20,
   "metadata": {},
   "outputs": [
    {
     "data": {
      "text/plain": [
       "array([[5, 5, 5, 5, 5, 5, 5, 5, 5, 5],\n",
       "       [5, 5, 5, 5, 5, 5, 5, 5, 5, 5]])"
      ]
     },
     "execution_count": 20,
     "metadata": {},
     "output_type": "execute_result"
    }
   ],
   "source": [
    "# Create other same number matrix with a shape of the already defined matrix\n",
    "np.full_like(array, 5)  # np.full_like(arr, value)"
   ]
  },
  {
   "cell_type": "markdown",
   "metadata": {},
   "source": [
    "#### Random NumPy Arrays\n",
    "\n",
    "- Sometimes we need to create random NumPy Arrays, that is arrays with random values."
   ]
  },
  {
   "cell_type": "code",
   "execution_count": 21,
   "metadata": {},
   "outputs": [
    {
     "data": {
      "text/plain": [
       "array([[0.94710469, 0.34042724],\n",
       "       [0.08636898, 0.88912962],\n",
       "       [0.51875848, 0.4218815 ],\n",
       "       [0.58107976, 0.13459013]])"
      ]
     },
     "execution_count": 21,
     "metadata": {},
     "output_type": "execute_result"
    }
   ],
   "source": [
    "# Matrix with Random Values\n",
    "np.random.rand(4, 2)  # np.random.rand(rows, columns)"
   ]
  },
  {
   "cell_type": "code",
   "execution_count": 23,
   "metadata": {},
   "outputs": [
    {
     "data": {
      "text/plain": [
       "array([[0.31669543, 0.1762191 , 0.66091349, 0.92839343, 0.1661094 ,\n",
       "        0.46025947, 0.49784725, 0.26847655, 0.08719662, 0.5186123 ],\n",
       "       [0.25694656, 0.22453147, 0.11426933, 0.11335487, 0.57419999,\n",
       "        0.8946826 , 0.01894507, 0.3127316 , 0.51653249, 0.96141235]])"
      ]
     },
     "execution_count": 23,
     "metadata": {},
     "output_type": "execute_result"
    }
   ],
   "source": [
    "# Another sample\n",
    "np.random.random_sample(array.shape)  # taking the shape of the already defined array"
   ]
  },
  {
   "cell_type": "code",
   "execution_count": 25,
   "metadata": {},
   "outputs": [
    {
     "data": {
      "text/plain": [
       "array([[9, 6, 9],\n",
       "       [8, 9, 7]])"
      ]
     },
     "execution_count": 25,
     "metadata": {},
     "output_type": "execute_result"
    }
   ],
   "source": [
    "# Random Integer values\n",
    "np.random.randint(low=5, high=10, size=(2, 3))  # np.random.randint(low, high, shape)"
   ]
  },
  {
   "cell_type": "code",
   "execution_count": 42,
   "metadata": {},
   "outputs": [
    {
     "data": {
      "text/plain": [
       "array([[4, 5, 2],\n",
       "       [0, 5, 1],\n",
       "       [4, 3, 3]])"
      ]
     },
     "execution_count": 42,
     "metadata": {},
     "output_type": "execute_result"
    }
   ],
   "source": [
    "np.random.randint(6, size=(3, 3))  # np.random.randint(high, shape)"
   ]
  },
  {
   "cell_type": "markdown",
   "metadata": {},
   "source": [
    "## 7.2. Pandas\n",
    "- [Pandas - Official Documentation](https://pandas.pydata.org/docs/)\n",
    "- [Geeks for Geeks: *Introduction to Pandas in Python*](https://www.geeksforgeeks.org/introduction-to-pandas-in-python/)\n",
    "- [Complete Python Data Science Tutorial](https://www.youtube.com/watch?v=vmEHCJofslg)\n",
    "\n",
    "- Pandas is a library for data manipulation and analysis. It is very popular in data science and machine learning.\n",
    "- The name comes from the 'panel data' library. It is a 2-dimensional table with rows and columns.\n",
    "- It is a very powerful library that works with tabular data, spreadsheets, databases, and time series.\n",
    "- Here is a list of things that we can do using Pandas:\n",
    "  - Data set cleaning, merging, and joining.\n",
    "  - Easy handling of missing data (represented as NaN) in floating point as well as non-floating point data.\n",
    "  - Columns can be inserted and deleted from DataFrame and higher-dimensional objects.\n",
    "  - Powerful group by functionality for performing split-apply-combine operations on data sets.\n",
    "  - Data Visualization.\n",
    "\n",
    "\n",
    "\n",
    "- It isn't a built-in library in Python. Therefore, we need to install it first: `pip install pandas`.\n",
    "- syntax: `import pandas as pd`\n"
   ]
  },
  {
   "cell_type": "code",
   "execution_count": 2,
   "metadata": {},
   "outputs": [
    {
     "name": "stdout",
     "output_type": "stream",
     "text": [
      "Requirement already satisfied: pandas in /home/tom/anaconda3/envs/myenv/lib/python3.12/site-packages (2.2.2)\n",
      "Requirement already satisfied: numpy>=1.26.0 in /home/tom/anaconda3/envs/myenv/lib/python3.12/site-packages (from pandas) (1.26.4)\n",
      "Requirement already satisfied: python-dateutil>=2.8.2 in /home/tom/.local/lib/python3.12/site-packages (from pandas) (2.9.0.post0)\n",
      "Requirement already satisfied: pytz>=2020.1 in /home/tom/anaconda3/envs/myenv/lib/python3.12/site-packages (from pandas) (2024.1)\n",
      "Requirement already satisfied: tzdata>=2022.7 in /home/tom/anaconda3/envs/myenv/lib/python3.12/site-packages (from pandas) (2024.1)\n",
      "Requirement already satisfied: six>=1.5 in /home/tom/.local/lib/python3.12/site-packages (from python-dateutil>=2.8.2->pandas) (1.16.0)\n"
     ]
    }
   ],
   "source": [
    "!pip install pandas\n",
    "\n",
    "import pandas as pd"
   ]
  },
  {
   "cell_type": "markdown",
   "metadata": {},
   "source": [
    "- There are two main data structures in Pandas: Series and DataFrame."
   ]
  },
  {
   "cell_type": "markdown",
   "metadata": {},
   "source": [
    "## 7.2.1. Pandas Series\n",
    "\n",
    "- A Pandas Series is a one-dimensional array that can hold any data type (like integer, string, float, Python object, etc.). It is similar to a column in a table (e.g. a spreadsheet in Excel).\n",
    "- The axis labels of the Pandas Series are collectively called **index**.\n",
    "- The Pandas Series can be created using the `pd.Series()` function."
   ]
  },
  {
   "cell_type": "code",
   "execution_count": 5,
   "metadata": {},
   "outputs": [
    {
     "name": "stdout",
     "output_type": "stream",
     "text": [
      "0    1\n",
      "1    2\n",
      "2    3\n",
      "3    4\n",
      "4    5\n",
      "dtype: int64\n",
      "a    1\n",
      "b    2\n",
      "c    3\n",
      "d    4\n",
      "e    5\n",
      "dtype: int64\n"
     ]
    }
   ],
   "source": [
    "# Pandas Series from a List\n",
    "s = pd.Series([1, 2, 3, 4, 5])\n",
    "print(s)\n",
    "\n",
    "s = pd.Series([1, 2, 3, 4, 5], index=['a', 'b', 'c', 'd', 'e'])  # pd.Series(data, index) - index is optional\n",
    "print(s)\n"
   ]
  },
  {
   "cell_type": "code",
   "execution_count": 7,
   "metadata": {},
   "outputs": [
    {
     "name": "stdout",
     "output_type": "stream",
     "text": [
      "a    1\n",
      "b    2\n",
      "c    3\n",
      "d    4\n",
      "e    5\n",
      "dtype: int64\n"
     ]
    }
   ],
   "source": [
    "# Pandas Series from a Dictionary\n",
    "s = pd.Series({'a': 1, 'b': 2, 'c': 3, 'd': 4, 'e': 5})\n",
    "print(s)\n"
   ]
  },
  {
   "cell_type": "code",
   "execution_count": 9,
   "metadata": {},
   "outputs": [
    {
     "name": "stdout",
     "output_type": "stream",
     "text": [
      "0    1\n",
      "1    2\n",
      "2    3\n",
      "3    4\n",
      "4    5\n",
      "dtype: int64\n",
      "a    1\n",
      "b    2\n",
      "c    3\n",
      "d    4\n",
      "e    5\n",
      "dtype: int64\n",
      "a    1\n",
      "b    2\n",
      "c    3\n",
      "d    4\n",
      "e    5\n",
      "Name: numbers, dtype: int64\n"
     ]
    }
   ],
   "source": [
    "# Pandas Series from a Numpy Array\n",
    "import numpy as np\n",
    "s = pd.Series(np.array([1, 2, 3, 4, 5]))\n",
    "print(s)\n",
    "\n",
    "s = pd.Series(np.array([1, 2, 3, 4, 5]), index=['a', 'b', 'c', 'd', 'e'])  # pd.Series(data, index) - index is optional\n",
    "print(s)\n",
    "\n",
    "s = pd.Series(np.array([1, 2, 3, 4, 5]), index=['a', 'b', 'c', 'd', 'e'], name='numbers')  # and we can give it a name\n",
    "print(s)"
   ]
  },
  {
   "cell_type": "code",
   "execution_count": 15,
   "metadata": {},
   "outputs": [
    {
     "name": "stdout",
     "output_type": "stream",
     "text": [
      "[1 2 3 4 5]\n",
      "Index(['a', 'b', 'c', 'd', 'e'], dtype='object')\n",
      "numbers\n",
      "1\n"
     ]
    }
   ],
   "source": [
    "print(s.values)\n",
    "print(s.index)\n",
    "print(s.name)\n",
    "print(s['a'])"
   ]
  },
  {
   "cell_type": "markdown",
   "metadata": {},
   "source": [
    "## 7.2.2. Pandas DataFrame\n",
    "\n",
    "- A Pandas DataFrame is a two-dimensional data structure that can hold data of any type (integer, string, float, Python object, etc.). It is similar to a table in a spreadsheet and it has labeled axes (i.e. rows and columns)."
   ]
  },
  {
   "cell_type": "code",
   "execution_count": 17,
   "metadata": {},
   "outputs": [
    {
     "name": "stdout",
     "output_type": "stream",
     "text": [
      "   a  b  c\n",
      "0  1  4  7\n",
      "1  2  5  8\n",
      "2  3  6  9\n"
     ]
    }
   ],
   "source": [
    "# Create a DataFrame from a Dictionary\n",
    "df = pd.DataFrame({'a': [1, 2, 3], 'b': [4, 5, 6], 'c': [7, 8, 9]})\n",
    "print(df)"
   ]
  },
  {
   "cell_type": "code",
   "execution_count": 18,
   "metadata": {},
   "outputs": [
    {
     "name": "stdout",
     "output_type": "stream",
     "text": [
      "   0  1  2\n",
      "0  1  2  3\n",
      "1  4  5  6\n",
      "2  7  8  9\n"
     ]
    }
   ],
   "source": [
    "# Create a DataFrame from a Numpy Array\n",
    "df = pd.DataFrame(np.array([[1, 2, 3], [4, 5, 6], [7, 8, 9]]))\n",
    "print(df)"
   ]
  },
  {
   "cell_type": "code",
   "execution_count": 19,
   "metadata": {},
   "outputs": [
    {
     "name": "stdout",
     "output_type": "stream",
     "text": [
      "   0  1  2\n",
      "0  1  2  3\n",
      "1  4  5  6\n",
      "2  7  8  9\n"
     ]
    }
   ],
   "source": [
    "# Create a DataFrame from a list\n",
    "df = pd.DataFrame([[1, 2, 3], [4, 5, 6], [7, 8, 9]])\n",
    "print(df)"
   ]
  },
  {
   "cell_type": "code",
   "execution_count": 21,
   "metadata": {},
   "outputs": [
    {
     "name": "stdout",
     "output_type": "stream",
     "text": [
      "   numbers letters\n",
      "0        1       a\n",
      "1        2       b\n",
      "2        3       c\n",
      "3        4       d\n",
      "4        5       e\n"
     ]
    }
   ],
   "source": [
    "# Create a DataFrame from the Series\n",
    "series1 = pd.Series([1, 2, 3, 4, 5])\n",
    "series2 = pd.Series(['a', 'b', 'c', 'd', 'e'])\n",
    "df = pd.DataFrame({'numbers': series1, 'letters': series2})\n",
    "print(df)"
   ]
  }
 ],
 "metadata": {
  "kernelspec": {
   "display_name": "myenv",
   "language": "python",
   "name": "python3"
  },
  "language_info": {
   "codemirror_mode": {
    "name": "ipython",
    "version": 3
   },
   "file_extension": ".py",
   "mimetype": "text/x-python",
   "name": "python",
   "nbconvert_exporter": "python",
   "pygments_lexer": "ipython3",
   "version": "3.12.3"
  }
 },
 "nbformat": 4,
 "nbformat_minor": 2
}
