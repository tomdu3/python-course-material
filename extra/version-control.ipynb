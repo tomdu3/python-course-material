{
 "cells": [
  {
   "cell_type": "markdown",
   "metadata": {},
   "source": [
    "## Version Control with Git and GitHub\n",
    "\n",
    "Version control is a necessary tool for keeping track of changes and keeping track of changes in your files. It is a crucial part of any project.\n",
    "\n",
    "It gives you a record of changes and allows you to revert to a previous version of your files. It also allows you to share your files with other people, and enables you to collaborate with others. It is tracking who made changes and when.\n",
    "\n",
    "Here we will be using Git and GitHub.\n",
    "\n",
    "## Resources\n",
    "\n",
    "To add text in red, you can use HTML tags within the Markdown cell. Here's an example of how you can modify the content:\n",
    "\n",
    "\n",
    "## Version Control with Git and GitHub\n",
    "\n",
    "Version control is a necessary tool for keeping track of changes and keeping track of changes in your files. It is a crucial part of any project.\n",
    "\n",
    "It gives you a record of changes and allows you to revert to a previous version of your files. It also allows you to share your files with other people, and enables you to collaborate with others. It is tracking who made changes and when.\n",
    "\n",
    "Here we will be using Git and GitHub.\n",
    "\n",
    "## Resources\n",
    "\n",
    "<span style=\"color:red\">There are different resources related to the version control in the resources article on this page.</span>\n",
    "\n",
    "\n",
    "### Git and GitHub Tutorials\n",
    "\n",
    "- [Mosh: *Git Tutorial for Beginners: Learn Git in 1 Hour*](https://youtu.be/8JJ101D3knE)\n",
    "- [Anton Zhiyanov: *Git by example: Interactive guide*](https://antonz.org/git-by-example/?ref=dailydev)\n",
    "- [Ihechikara Vincent Abba: Git and GitHub Tutorial – Version Control for Beginners](https://www.freecodecamp.org/news/git-and-github-for-beginners/)\n",
    "- [Paul Ehikhuemen: *Git and GitHub Basics: A Beginner's Guide*](https://pauloe-me.medium.com/git-and-github-basics-a-beginners-guide-6d57c1f0e663)\n",
    "- [Gurpreet Singh: *Git Tutorial for Beginners: A Comprehensive Guide to Mastering Version Control*](https://medium.com/@igurpreetsingh/git-tutorial-for-beginners-a-comprehensive-guide-to-mastering-version-control-a0da3eb0b6e8)\n",
    "- [FreeCodeCamp: *Learn Git in Detail to Manage Your Code*](https://www.freecodecamp.org/news/learn-git-in-detail-to-manage-your-code/)\n",
    "\n",
    "### Useful Links for Practical Use\n",
    "\n",
    "- [GitHub Docs: *GitHub SSH Keys*](https://docs.github.com/en/authentication/connecting-to-github-with-ssh/generating-a-new-ssh-key-and-adding-it-to-the-ssh-agent?platform=linux)\n",
    "- [Cbeams: *How to Write a Git Commit Message*](https://cbea.ms/git-commit/)\n",
    "- [Victoria Dye: *Write Better Commits, Build Better Projects*](https://github.blog/2022-06-30-write-better-commits-build-better-projects/)\n",
    "- [European Commission: *Git Commit Guidelines*](https://ec.europa.eu/component-library/v1.15.0/eu/docs/conventions/git/)\n",
    "\n",
    "### Git Documentation\n",
    "Git has an amazing documentation. Here are some of the links:\n",
    "\n",
    "- [Git Documentation](https://git-scm.com/docs)\n",
    "- [Git Videos](https://git-scm.com/videos)\n",
    "- [Scot Chacon: *Pro Git*](https://git-scm.com/book/en/v2/) - This free book is a great resource for digging more deeply into Git.\n",
    "- [Git Cheetsheet](https://training.github.com/downloads/github-git-cheat-sheet.pdf)\n",
    "- [Other Git resources](https://git-scm.com/doc/ext)"
   ]
  },
  {
   "cell_type": "markdown",
   "metadata": {},
   "source": [
    "## Introduction to Git\n",
    "\n",
    "Git is a distributed version control system (VCS) designed to handle everything from small to very large projects with speed and efficiency. Created by Linus Torvalds in 2005 for the development of the Linux kernel, Git has since become the most widely used version control system in the world. It allows multiple developers to work on the same project simultaneously without interfering with each other's changes, making it an essential tool for modern software development."
   ]
  },
  {
   "cell_type": "markdown",
   "metadata": {
    "vscode": {
     "languageId": "plaintext"
    }
   },
   "source": [
    "### Key Points on Why Git is Useful\n",
    "\n",
    "1. **Version Control**: Git tracks changes in source code during software development, enabling developers to revert to previous versions if needed.\n",
    "2. **Collaboration**: Multiple developers can work on the same project simultaneously, with Git managing changes and merges.\n",
    "3. **Branching and Merging**: Git supports lightweight branching and merging, allowing developers to experiment with new features or fix bugs in isolated branches before merging them into the main codebase.\n",
    "4. **Distributed Development**: Every Git clone is a full-fledged repository with complete history and full version-tracking capabilities, not dependent on network access or a central server.\n",
    "5. **Performance**: Git is fast and efficient, handling large repositories with ease, making it suitable for projects of any size.\n",
    "6. **Flexibility**: Git can handle a wide variety of workflows, supporting everything from solo projects to large teams and complex branching models."
   ]
  },
  {
   "cell_type": "markdown",
   "metadata": {},
   "source": [
    "### Basic Git Commands\n",
    "\n",
    "- **`git init`**: Initializes a new Git repository in the current directory.\n",
    "- **`git clone <repository>`**: Creates a local copy of a remote repository.\n",
    "- **`git status`**: Displays the state of the working directory and the staging area, showing which changes have been staged, which haven't, and which files aren't being tracked by Git.\n",
    "- **`git add <file>`**: Adds changes in the specified file(s) to the staging area, preparing them for the next commit.\n",
    "- **`git commit -m \"message\"`**: Records the changes made to the files in the local repository, with a descriptive message.\n",
    "- **`git push`**: Uploads local repository content to a remote repository.\n",
    "- **`git pull`**: Fetches and merges changes from a remote repository to the local repository.\n",
    "- **`git branch`**: Lists all branches in the local repository.\n",
    "- **`git checkout <branch>`**: Switches to the specified branch.\n",
    "- **`git merge <branch>`**: Merges the specified branch into the current branch.\n",
    "- **`git log`**: Shows the commit history for the repository.\n",
    "\n",
    "These commands form the foundation of Git operations, enabling developers to manage and track their code effectively."
   ]
  }
 ],
 "metadata": {
  "language_info": {
   "name": "python"
  }
 },
 "nbformat": 4,
 "nbformat_minor": 2
}
