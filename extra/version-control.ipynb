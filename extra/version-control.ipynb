{
 "cells": [
  {
   "cell_type": "markdown",
   "metadata": {},
   "source": [
    "## Version Control with Git and GitHub\n",
    "\n",
    "Version control is a necessary tool for keeping track of changes and keeping track of changes in your files. It is a crucial part of any project.\n",
    "\n",
    "It gives you a record of changes and allows you to revert to a previous version of your files. It also allows you to share your files with other people, and enables you to collaborate with others. It is tracking who made changes and when.\n",
    "\n",
    "Here we will be using Git and GitHub.\n",
    "\n",
    "## Resources\n",
    "\n",
    "### Git and GitHub Tutorials\n",
    "\n",
    "- [Mosh: *Git Tutorial for Beginners: Learn Git in 1 Hour*](https://youtu.be/8JJ101D3knE)\n",
    "- [Anton Zhiyanov: *Git by example: Interactive guide*](https://antonz.org/git-by-example/?ref=dailydev)\n",
    "- [Ihechikara Vincent Abba: Git and GitHub Tutorial – Version Control for Beginners](https://www.freecodecamp.org/news/git-and-github-for-beginners/)\n",
    "- [Paul Ehikhuemen: *Git and GitHub Basics: A Beginner's Guide*](https://pauloe-me.medium.com/git-and-github-basics-a-beginners-guide-6d57c1f0e663)\n",
    "- [Gurpreet Singh: *Git Tutorial for Beginners: A Comprehensive Guide to Mastering Version Control*](https://medium.com/@igurpreetsingh/git-tutorial-for-beginners-a-comprehensive-guide-to-mastering-version-control-a0da3eb0b6e8)\n",
    "- [FreeCodeCamp: *Learn Git in Detail to Manage Your Code*](https://www.freecodecamp.org/news/learn-git-in-detail-to-manage-your-code/)"
   ]
  },
  {
   "cell_type": "code",
   "execution_count": null,
   "metadata": {
    "vscode": {
     "languageId": "plaintext"
    }
   },
   "outputs": [],
   "source": []
  }
 ],
 "metadata": {
  "language_info": {
   "name": "python"
  }
 },
 "nbformat": 4,
 "nbformat_minor": 2
}
