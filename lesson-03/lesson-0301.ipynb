{
 "cells": [
  {
   "cell_type": "markdown",
   "metadata": {},
   "source": [
    "# Lesson 3 - Complex Data Structures in Python\n",
    "\n",
    "\n",
    "## Lesson 3.0 - Flowchart Diagram\n",
    "\n",
    "- Flowchart diagram is a visual representation of the flow of data in a program\n",
    "- It is used to visualize the flow of data in a program\n",
    "<br>\n",
    "\n",
    "- We will use [`drawio.io`](https://drawio-app.com/) to draw flowchart diagram\n",
    "- Here are the instructions we will be following: [How to create flowcharts in draw.io](https://drawio-app.com/blog/flowcharts/)\n",
    "**The different shapes used in flowcharts**                                                                                                  \n",
    "![Shapes for flowcharts](./docs/drawio-flowchart-shapes.png)\n",
    "\n",
    "- **Start/End** – circles are sometimes used to indicate start and end points.\n",
    "- **Steps** – a rectangle or square (often with rounded corners).\n",
    "- **Decisions** – usually represented by a diamond.\n",
    "- **A sub-process** – a normal step shape with borders on the left and right edges.\n",
    "- **Manual input** – where a step requires someone to enter something manually, you can use this step ‘rectangle’ with a sloped ‘roof’.\n",
    "- **Document or multiple documents** – where a step results in one or more documents, you can use these shapes\n",
    "- **Data** – a parallelogram is used to indicate where information enters or leaves the process. For example, when an invoice is sent to a customer.\n",
    "- **Delay** – this is used to show there is a delay before the next step.\n",
    "- **Preparation** – used to indicate there are setup conditions required for the next step.\n",
    "\n",
    "\n"
   ]
  }
 ],
 "metadata": {
  "language_info": {
   "name": "python"
  }
 },
 "nbformat": 4,
 "nbformat_minor": 2
}
