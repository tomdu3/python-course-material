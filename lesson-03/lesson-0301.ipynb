{
 "cells": [
  {
   "cell_type": "markdown",
   "metadata": {},
   "source": [
    "# Lesson 3 - Complex Data Structures in Python\n",
    "\n",
    "\n",
    "## Lesson 3.0 - Flowchart Diagram\n",
    "\n",
    "- Flowchart diagram is a visual representation of the flow of data in a program\n",
    "- It is used to visualize the flow of data in a program\n",
    "<br>\n",
    "\n",
    "- We will use [`drawio.io`](https://drawio-app.com/) to draw flowchart diagram\n",
    "\n",
    "- Here are some instructions **Version 1**: [How to create flowcharts in draw.io](https://drawio-app.com/blog/flowcharts/)\n",
    "**The different shapes used in flowcharts**\n",
    "\n",
    "![Shapes for flowcharts](./docs/drawio-flowchart-shapes.png)\n",
    "\n",
    "- **Start/End** – circles are sometimes used to indicate start and end points.\n",
    "- **Steps** – a rectangle or square (often with rounded corners).\n",
    "- **Decisions** – usually represented by a diamond.\n",
    "- **A sub-process** – a normal step shape with borders on the left and right edges.\n",
    "- **Manual input** – where a step requires someone to enter something manually, you can use this step ‘rectangle’ with a sloped ‘roof’.\n",
    "- **Document or multiple documents** – where a step results in one or more documents, you can use these shapes\n",
    "- **Data** – a parallelogram is used to indicate where information enters or leaves the process. For example, when an invoice is sent to a customer.\n",
    "- **Delay** – this is used to show there is a delay before the next step.\n",
    "- **Preparation** – used to indicate there are setup conditions required for the next step.\n",
    "\n",
    "- Instruction - **Version 2**: [Draw a basic flow chart in draw.io\n",
    "](https://www.drawio.com/doc/getting-started-basic-flow-chart)\n",
    "\n",
    "Here are many different shapes used to visualise processes in a flow chart.\n",
    "\n",
    "![Shapes for flowcharts](./docs/flow-chart-shapes.png)\n",
    "- **Rectangle** - Basic steps in your process.\n",
    "- **Diamond (rhombus)** - Decisions, usually yes/no questions, that split the process into two or more branches.\n",
    "- **Circle or oval** - Optional start and stop points in your process.\n",
    "- **Parallelogram** - Input or output, where your process needs or gives information to an external party or system.\n",
    "- **Cylinder** - Disk drives, used to indicate that data is stored during that step in the process.\n",
    "- **Rectangle with a wavy bottom line** - Documents that are produced as a result of a process step.\n",
    "\n",
    "### Lesson 3.0.1 - Example Flowchart Diagram\n",
    "\n",
    "- Let us see a simple Python code:"
   ]
  },
  {
   "cell_type": "code",
   "execution_count": null,
   "metadata": {},
   "outputs": [],
   "source": [
    "a = 10\n",
    "b = 20\n",
    "if a > b:\n",
    "    print(\"a is greater than b\")\n",
    "else:\n",
    "    print(\"b is greater than a\")"
   ]
  },
  {
   "cell_type": "markdown",
   "metadata": {},
   "source": [
    "- We can see this flowchart in the image below:\n",
    "\n",
    "![Flowchart](./docs/Python-example.png)\n",
    "\n",
    "[Link to the diagram](https://drive.google.com/file/d/1ddxGKsL0oe2jDy19ji2BnvzF_ZWIUEsf/view?usp=sharing)\n"
   ]
  },
  {
   "cell_type": "markdown",
   "metadata": {},
   "source": []
  }
 ],
 "metadata": {
  "kernelspec": {
   "display_name": "python312",
   "language": "python",
   "name": "python3"
  },
  "language_info": {
   "name": "python",
   "version": "3.12.2"
  }
 },
 "nbformat": 4,
 "nbformat_minor": 2
}
