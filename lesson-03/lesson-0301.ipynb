{
 "cells": [
  {
   "cell_type": "markdown",
   "metadata": {},
   "source": [
    "# Lesson 3 - Complex Data Structures in Python: Lists"
   ]
  },
  {
   "cell_type": "markdown",
   "metadata": {},
   "source": [
    "## Excursus I - Flowchart Diagram\n",
    "\n",
    "- Flowchart diagram is a visual representation of the flow of data in a program\n",
    "- It is used to visualize the flow of data in a program\n",
    "- Software Developers use flowchart to map the flow of data in a program and the way certain actions should be performed.\n",
    "- Usually, flowchart can be modified over the course of the development of the program, when some more functionalities are added, updated, or removed.\n",
    "<br>\n",
    "\n",
    "- We will use [`drawio.io`](https://drawio-app.com/) to draw flowchart diagram\n",
    "\n",
    "- Here are some instructions **Version 1**: [How to create flowcharts in draw.io](https://drawio-app.com/blog/flowcharts/)\n",
    "**The different shapes used in flowcharts**\n",
    "\n",
    "![Shapes for flowcharts](./docs/drawio-flowchart-shapes.png)\n",
    "\n",
    "- **Start/End** – circles are sometimes used to indicate start and end points.\n",
    "- **Steps** – a rectangle or square (often with rounded corners).\n",
    "- **Decisions** – usually represented by a diamond.\n",
    "- **A sub-process** – a normal step shape with borders on the left and right edges.\n",
    "- **Manual input** – where a step requires someone to enter something manually, you can use this step ‘rectangle’ with a sloped ‘roof’.\n",
    "- **Document or multiple documents** – where a step results in one or more documents, you can use these shapes\n",
    "- **Data** – a parallelogram is used to indicate where information enters or leaves the process. For example, when an invoice is sent to a customer.\n",
    "- **Delay** – this is used to show there is a delay before the next step.\n",
    "- **Preparation** – used to indicate there are setup conditions required for the next step.\n",
    "\n",
    "- Instruction - **Version 2**: [Draw a basic flow chart in draw.io\n",
    "](https://www.drawio.com/doc/getting-started-basic-flow-chart)\n",
    "\n",
    "Here are many different shapes used to visualise processes in a flow chart.\n",
    "\n",
    "![Shapes for flowcharts](./docs/flow-chart-shapes.png)\n",
    "- **Rectangle** - Basic steps in your process.\n",
    "- **Diamond (rhombus)** - Decisions, usually yes/no questions, that split the process into two or more branches.\n",
    "- **Circle or oval** - Optional start and stop points in your process.\n",
    "- **Parallelogram** - Input or output, where your process needs or gives information to an external party or system.\n",
    "- **Cylinder** - Disk drives, used to indicate that data is stored during that step in the process.\n",
    "- **Rectangle with a wavy bottom line** - Documents that are produced as a result of a process step.\n",
    "\n",
    "### Excursus - Example Flowchart Diagram\n",
    "\n",
    "- Let us see a simple Python code:"
   ]
  },
  {
   "cell_type": "code",
   "execution_count": null,
   "metadata": {},
   "outputs": [],
   "source": [
    "a = 10\n",
    "b = 20\n",
    "if a > b:\n",
    "    print(\"a is greater than b\")\n",
    "else:\n",
    "    print(\"b is greater than a\")"
   ]
  },
  {
   "cell_type": "markdown",
   "metadata": {},
   "source": [
    "- We can see this flowchart in the image below:\n",
    "\n",
    "![Flowchart](./docs/Python-example.png)\n",
    "\n",
    "[Link to the diagram](https://drive.google.com/file/d/1ddxGKsL0oe2jDy19ji2BnvzF_ZWIUEsf/view?usp=sharing)\n"
   ]
  },
  {
   "cell_type": "markdown",
   "metadata": {},
   "source": [
    "- Here's an interesting link about using `Draw.io` and `VS Code`: [Flow charts and process diagrams with Draw.io & VS Code](https://paulvanderlaken.com/2020/12/22/draw-io-flow-chart-process-diagram-vscode/)"
   ]
  },
  {
   "cell_type": "markdown",
   "metadata": {},
   "source": [
    "## 3.1 - Complex Data Structures - Lists\n",
    "\n",
    "- Complex Data Structures in Python are: **Lists**, **Tuples**, **Sets**, **Dictionaries**.\n",
    "- To these we should add **strings**, because they are sequences of characters, but we prefere to categorize them as basic data structures.\n",
    "- Generally, we understand as a Complex Data Structure a type of data that contains more different type of data.\n",
    "- They can be sequential or contain sequential data.\n",
    "\n",
    "<br>\n",
    "\n",
    "**Lists**\n",
    "\n",
    "- **Lists are mutable and ordered collections of items.**\n",
    "\n",
    "<br>\n",
    "\n",
    "- Lists are used to store multiple items in a single variable.\n",
    "- The items in a list do not need to be of the same data type.\n",
    "- it is an ordered collection or sequence of items. Therefore, we can access items by referring to their position in the list.\n",
    "- We can use indexing to access items in a list."
   ]
  },
  {
   "cell_type": "code",
   "execution_count": 1,
   "metadata": {},
   "outputs": [],
   "source": [
    "# list with the same type of elements\n",
    "shopping_list = ['bread', 'milk', 'oil', 'eggs']\n",
    "math_marks = [78, 89, 90, 100]\n",
    "hiking_coordinates = [(40.7128, -74.0060), (34.0522, -118.2437)]\n",
    "voting_for_president_Tom = [True, False, True, True, False]\n",
    "\n",
    "# lists with different types of elements\n",
    "mixed_list = ['a', 10, 10.5, True]"
   ]
  },
  {
   "cell_type": "markdown",
   "metadata": {},
   "source": [
    "### 3.2 **Accessing the items in a list**\n",
    "- we use the index number and square bracket notation to access the items in a list\n",
    "- the index number starts from 0\n",
    "\n",
    "Syntax:\n",
    "- `list_name[index_number]`"
   ]
  },
  {
   "cell_type": "code",
   "execution_count": 1,
   "metadata": {},
   "outputs": [
    {
     "name": "stdout",
     "output_type": "stream",
     "text": [
      "bread\n",
      "milk\n",
      "oil\n",
      "eggs\n"
     ]
    }
   ],
   "source": [
    "  shopping_list = ['bread', 'milk', 'oil', 'eggs']\n",
    "  print(shopping_list[0])\n",
    "  print(shopping_list[1])\n",
    "  print(shopping_list[2])\n",
    "  print(shopping_list[3])"
   ]
  },
  {
   "cell_type": "code",
   "execution_count": null,
   "metadata": {},
   "outputs": [
    {
     "name": "stdout",
     "output_type": "stream",
     "text": [
      "eggs\n",
      "oil\n",
      "milk\n",
      "bread\n"
     ]
    }
   ],
   "source": [
    "# negative index\n",
    "shopping_list = ['bread', 'milk', 'oil', 'eggs']\n",
    "\n",
    "print(shopping_list[-1])\n",
    "print(shopping_list[-2])\n",
    "print(shopping_list[-3])\n",
    "print(shopping_list[-4])"
   ]
  },
  {
   "cell_type": "markdown",
   "metadata": {},
   "source": [
    "- if we use an index number that is out of the range of the list, we will get an error message"
   ]
  },
  {
   "cell_type": "code",
   "execution_count": null,
   "metadata": {},
   "outputs": [
    {
     "ename": "IndexError",
     "evalue": "list index out of range",
     "output_type": "error",
     "traceback": [
      "\u001b[0;31m---------------------------------------------------------------------------\u001b[0m\n",
      "\u001b[0;31mIndexError\u001b[0m                                Traceback (most recent call last)\n",
      "Cell \u001b[0;32mIn[3], line 4\u001b[0m\n",
      "\u001b[1;32m      1\u001b[0m \u001b[38;5;66;03m# out of range error\u001b[39;00m\n",
      "\u001b[1;32m      2\u001b[0m friends_list \u001b[38;5;241m=\u001b[39m [\u001b[38;5;124m'\u001b[39m\u001b[38;5;124mTom\u001b[39m\u001b[38;5;124m'\u001b[39m, \u001b[38;5;124m'\u001b[39m\u001b[38;5;124mJerry\u001b[39m\u001b[38;5;124m'\u001b[39m, \u001b[38;5;124m'\u001b[39m\u001b[38;5;124mSpike\u001b[39m\u001b[38;5;124m'\u001b[39m]\n",
      "\u001b[0;32m----> 4\u001b[0m \u001b[38;5;28mprint\u001b[39m(\u001b[43mfriends_list\u001b[49m\u001b[43m[\u001b[49m\u001b[38;5;241;43m3\u001b[39;49m\u001b[43m]\u001b[49m)\n",
      "\n",
      "\u001b[0;31mIndexError\u001b[0m: list index out of range"
     ]
    }
   ],
   "source": [
    "# out of range error\n",
    "friends_list = ['Tom', 'Jerry', 'Spike']\n",
    "\n",
    "print(friends_list[3])"
   ]
  },
  {
   "cell_type": "markdown",
   "metadata": {},
   "source": [
    "- we can also use slicing to get the part of the list\n",
    "- slicing can be also used to reverse the list"
   ]
  },
  {
   "cell_type": "code",
   "execution_count": null,
   "metadata": {},
   "outputs": [
    {
     "name": "stdout",
     "output_type": "stream",
     "text": [
      "['bread', 'milk']\n"
     ]
    }
   ],
   "source": [
    "# slicing\n",
    "shopping_list = ['bread', 'milk', 'oil', 'eggs']\n",
    "\n",
    "print(shopping_list[0:2])"
   ]
  },
  {
   "cell_type": "markdown",
   "metadata": {},
   "source": [
    "- we can also use negative indexes"
   ]
  },
  {
   "cell_type": "code",
   "execution_count": 23,
   "metadata": {},
   "outputs": [
    {
     "name": "stdout",
     "output_type": "stream",
     "text": [
      "['eggs', 'oil', 'milk', 'bread']\n"
     ]
    }
   ],
   "source": [
    "# reverse slicing - reversing of the list\n",
    "shopping_list = ['bread', 'milk', 'oil', 'eggs']\n",
    "\n",
    "print(shopping_list[::-1])"
   ]
  },
  {
   "cell_type": "markdown",
   "metadata": {},
   "source": [
    "### 3.3 **Changing the value of an item**\n",
    "- we can change the value of an item in a list\n",
    "- we use the index number to change the value of an item"
   ]
  },
  {
   "cell_type": "code",
   "execution_count": 2,
   "metadata": {},
   "outputs": [
    {
     "name": "stdout",
     "output_type": "stream",
     "text": [
      "['bread', 'milk', 'oil', 'eggs']\n",
      "['butter', 'milk', 'oil', 'eggs']\n"
     ]
    }
   ],
   "source": [
    "# change values\n",
    "shopping_list = ['bread', 'milk', 'oil', 'eggs']\n",
    "print(shopping_list)\n",
    "shopping_list[0] = 'butter'\n",
    "print(shopping_list)\n",
    "  "
   ]
  },
  {
   "cell_type": "markdown",
   "metadata": {},
   "source": [
    "### 3.4 **len() function**\n",
    "- we can use the len() function to get the length of the list\n",
    "- it returns the number of items in the list\n",
    "- syntax: `len(list_name)`"
   ]
  },
  {
   "cell_type": "code",
   "execution_count": 4,
   "metadata": {},
   "outputs": [
    {
     "name": "stdout",
     "output_type": "stream",
     "text": [
      "4\n"
     ]
    }
   ],
   "source": [
    "# length of a list\n",
    "\n",
    "shopping_list = ['bread', 'milk', 'oil', 'eggs']\n",
    "\n",
    "print(len(shopping_list))\n"
   ]
  },
  {
   "cell_type": "markdown",
   "metadata": {},
   "source": [
    "### 3.5 **Removing items from a list**\n",
    "\n",
    "- `clear()` function removes all the items from the list\n",
    "    - syntax: `list_name.clear()`\n",
    "- `pop()` function removes the last item from the list and returns it\n",
    "  - syntax: `list_name.pop()`\n",
    "  - we can also remove an item by specifying the index number and recieve the removed item\n",
    "  - syntax: `list_name.pop(index_number)`\n",
    "- `remove(value)` function removes the item with specified value from the list \n",
    "  - syntax: `list_name.remove(value)`\n",
    "- `del` function removes the item at the specified index, or a slice from the list\n",
    "  - syntax: `del list_name[index_number]` - removes item\n",
    "  - syntax: `del list_name[start_index:end_index]` - removes items from start_index to end_index"
   ]
  },
  {
   "cell_type": "code",
   "execution_count": 9,
   "metadata": {},
   "outputs": [
    {
     "name": "stdout",
     "output_type": "stream",
     "text": [
      "[]\n"
     ]
    }
   ],
   "source": [
    "# clear\n",
    "shopping_list = ['bread', 'milk', 'oil', 'eggs']\n",
    "\n",
    "shopping_list.clear()\n",
    "print(shopping_list)"
   ]
  },
  {
   "cell_type": "code",
   "execution_count": 10,
   "metadata": {},
   "outputs": [
    {
     "name": "stdout",
     "output_type": "stream",
     "text": [
      "['bread', 'milk', 'oil']\n"
     ]
    }
   ],
   "source": [
    "# pop\n",
    "shopping_list = ['bread', 'milk', 'oil', 'eggs']\n",
    "\n",
    "shopping_list.pop()\n",
    "print(shopping_list)"
   ]
  },
  {
   "cell_type": "code",
   "execution_count": 12,
   "metadata": {},
   "outputs": [
    {
     "name": "stdout",
     "output_type": "stream",
     "text": [
      "['bread', 'milk', 'eggs']\n",
      "[78, 90, 100, 89, 67, 89]\n"
     ]
    }
   ],
   "source": [
    "# remove\n",
    "shopping_list = ['bread', 'milk', 'oil', 'eggs']\n",
    "\n",
    "shopping_list.remove('oil')\n",
    "print(shopping_list)\n",
    "\n",
    "# example 2 - only first occurrence will be removed\n",
    "test_marks = [78, 89, 90, 100, 89, 67, 89]\n",
    "\n",
    "test_marks.remove(89)\n",
    "print(test_marks)"
   ]
  },
  {
   "cell_type": "code",
   "execution_count": 14,
   "metadata": {},
   "outputs": [
    {
     "name": "stdout",
     "output_type": "stream",
     "text": [
      "['milk', 'oil', 'eggs']\n",
      "[78, 100, 89, 67, 89]\n"
     ]
    }
   ],
   "source": [
    "# del\n",
    "shopping_list = ['bread', 'milk', 'oil', 'eggs']\n",
    "\n",
    "del shopping_list[0]\n",
    "print(shopping_list)\n",
    "\n",
    "# example 2\n",
    "test_marks = [78, 89, 90, 100, 89, 67, 89]\n",
    "\n",
    "del test_marks[1:3]\n",
    "print(test_marks)"
   ]
  },
  {
   "cell_type": "markdown",
   "metadata": {},
   "source": [
    "### 3.6 **Adding elements to a list**\n",
    "- `append()` function adds an item to the end of the list\n",
    "  - syntax: `list_name.append(value)`\n",
    "- `insert()` function adds an item at the specified index\n",
    "  - syntax: `list_name.insert(index_number, value)`\n",
    "  - we can also insert multiple items\n",
    "  - syntax: `list_name.insert(index_number, value1, value2, value3, ...)`"
   ]
  },
  {
   "cell_type": "code",
   "execution_count": 15,
   "metadata": {},
   "outputs": [
    {
     "name": "stdout",
     "output_type": "stream",
     "text": [
      "['bread', 'milk', 'oil', 'eggs', 'chocolate']\n"
     ]
    }
   ],
   "source": [
    "# append item to a list\n",
    "shopping_list = ['bread', 'milk', 'oil', 'eggs']\n",
    "\n",
    "shopping_list.append('chocolate')\n",
    "print(shopping_list)"
   ]
  },
  {
   "cell_type": "code",
   "execution_count": 16,
   "metadata": {},
   "outputs": [
    {
     "name": "stdout",
     "output_type": "stream",
     "text": [
      "['chocolate', 'bread', 'milk', 'oil', 'eggs']\n"
     ]
    }
   ],
   "source": [
    "# insert item to a list\n",
    "shopping_list = ['bread', 'milk', 'oil', 'eggs']\n",
    "\n",
    "shopping_list.insert(0, 'chocolate')\n",
    "print(shopping_list)"
   ]
  },
  {
   "cell_type": "markdown",
   "metadata": {},
   "source": [
    "### 3.7 **Checking if an item is in a list**\n",
    "- `in` keyword - if the value is in the list\n",
    "  - syntax: `value in list`\n",
    "- `not in` keyword - if the value is not in the list\n",
    "  - syntax: `value not in list`"
   ]
  },
  {
   "cell_type": "code",
   "execution_count": 20,
   "metadata": {},
   "outputs": [
    {
     "name": "stdout",
     "output_type": "stream",
     "text": [
      "yes, the oil is in the list\n"
     ]
    }
   ],
   "source": [
    "# check value in the list\n",
    "shopping_list = ['bread', 'milk', 'oil', 'eggs']\n",
    "\n",
    "if 'oil' in shopping_list:\n",
    "    print('yes, the oil is in the list')\n",
    "else:\n",
    "    print(shopping_list)\n",
    "    print('oh, no! you have forgotten to buy oil')\n",
    "    # shopping_list.append('oil')\n",
    "    # print(shopping_list)\n",
    "    # print('we have added oil to your list. now it is all fine!')\n",
    "    # print(shopping_list)"
   ]
  },
  {
   "cell_type": "markdown",
   "metadata": {},
   "source": [
    "### 3.8 **Sorting a list**\n",
    "\n",
    "- `sort()` function sorts the list\n",
    "  - syntax: `list_name.sort()`\n",
    "- `reverse()` function reverses the list\n",
    "  - syntax: `list_name.reverse()`\n",
    "- these functions do not return any value, but they change the original list"
   ]
  },
  {
   "cell_type": "code",
   "execution_count": 26,
   "metadata": {},
   "outputs": [
    {
     "name": "stdout",
     "output_type": "stream",
     "text": [
      "['bread', 'eggs', 'milk', 'oil']\n",
      "['oil', 'milk', 'eggs', 'bread']\n"
     ]
    }
   ],
   "source": [
    "# sort\n",
    "\n",
    "shopping_list = ['bread', 'milk', 'oil', 'eggs']\n",
    "shopping_list.sort()\n",
    "print(shopping_list)\n",
    "\n",
    "# reverse with sort\n",
    "shopping_list.sort(reverse=True)\n",
    "print(shopping_list)"
   ]
  },
  {
   "cell_type": "code",
   "execution_count": 25,
   "metadata": {},
   "outputs": [
    {
     "name": "stdout",
     "output_type": "stream",
     "text": [
      "['eggs', 'oil', 'milk', 'bread']\n"
     ]
    }
   ],
   "source": [
    "# reverse()\n",
    "\n",
    "shopping_list = ['bread', 'milk', 'oil', 'eggs']\n",
    "shopping_list.reverse()\n",
    "print(shopping_list)"
   ]
  },
  {
   "cell_type": "markdown",
   "metadata": {},
   "source": [
    "### 3.9 **Finding the index of an item**\n",
    "\n",
    "- `index()` function returns the index of the first occurrence of the specified value\n",
    "  - syntax: `list_name.index(value)`\n",
    "- `count()` function returns the number of times the specified value appears in the list\n",
    "  - syntax: `list_name.count(value)`"
   ]
  },
  {
   "cell_type": "code",
   "execution_count": 41,
   "metadata": {},
   "outputs": [
    {
     "name": "stdout",
     "output_type": "stream",
     "text": [
      "1\n",
      "4\n",
      "6\n"
     ]
    }
   ],
   "source": [
    "# find the index of an item\n",
    "shopping_list = ['bread', 'milk', 'oil', 'eggs']\n",
    "\n",
    "# print(shopping_list.index('oil'))\n",
    "# print(shopping_list.index('milk'))\n",
    "# print(shopping_list.index('bread'))\n",
    "# print(shopping_list.index('eggs'))\n",
    "\n",
    "# find and index of a repeating item\n",
    "test_marks = [78, 89, 90, 100, 89, 67, 89]\n",
    "\n",
    "print(test_marks.index(89))\n",
    "\n",
    "# if we want to find a second occurence, we need to start from the index that comes after the first occurence\n",
    "print(test_marks.index(89, 2))\n",
    "\n",
    "# if we want to find the last occurence\n",
    "print(test_marks.index(89, -2))"
   ]
  },
  {
   "cell_type": "markdown",
   "metadata": {},
   "source": [
    "### 3.10 **Looping through a list**\n",
    "\n",
    "- we can loop through a list by using a for loop in different ways:\n",
    "  - looping through the indices of the list:\n",
    "    ```python\n",
    "    for index in range(len(my_list)):\n",
    "        print(my_list[index])\n",
    "    ```\n",
    "\n",
    "  - looping through the list items:\n",
    "    ```python\n",
    "    for item in my_list:\n",
    "        print(item)\n",
    "    ```\n",
    "\n",
    "  - looping through the list items and indices - we use a function called `enumerate()`. It gives us the index and the value:\n",
    "    ```python\n",
    "    for index, item in enumerate(my_list):\n",
    "        print(index, item)\n",
    "    ```"
   ]
  },
  {
   "cell_type": "code",
   "execution_count": 42,
   "metadata": {},
   "outputs": [
    {
     "name": "stdout",
     "output_type": "stream",
     "text": [
      "0 bread\n",
      "1 milk\n",
      "2 oil\n",
      "3 eggs\n"
     ]
    }
   ],
   "source": [
    "# looping through indices of a list\n",
    "\n",
    "shopping_list = ['bread', 'milk', 'oil', 'eggs']\n",
    "\n",
    "for i in range(len(shopping_list)):\n",
    "    print(i, shopping_list[i])"
   ]
  },
  {
   "cell_type": "code",
   "execution_count": 43,
   "metadata": {},
   "outputs": [
    {
     "name": "stdout",
     "output_type": "stream",
     "text": [
      "bread\n",
      "milk\n",
      "oil\n",
      "eggs\n"
     ]
    }
   ],
   "source": [
    "# looping through a list items\n",
    "\n",
    "shopping_list = ['bread', 'milk', 'oil', 'eggs']\n",
    "\n",
    "for item in shopping_list:\n",
    "    print(item)"
   ]
  },
  {
   "cell_type": "code",
   "execution_count": 44,
   "metadata": {},
   "outputs": [
    {
     "name": "stdout",
     "output_type": "stream",
     "text": [
      "0 bread\n",
      "1 milk\n",
      "2 oil\n",
      "3 eggs\n"
     ]
    }
   ],
   "source": [
    "# looping through a list items and indices\n",
    "\n",
    "shopping_list = ['bread', 'milk', 'oil', 'eggs']\n",
    "\n",
    "for i, item in enumerate(shopping_list):\n",
    "    print(i, item)"
   ]
  },
  {
   "cell_type": "markdown",
   "metadata": {},
   "source": [
    "- we can also loop through a list with a while loop\n",
    "    ```python\n",
    "    index = 0\n",
    "\n",
    "    while index < len(my_list):\n",
    "        print(my_list[index])\n",
    "        index += 1\n",
    "    ```"
   ]
  },
  {
   "cell_type": "markdown",
   "metadata": {},
   "source": [
    "### 3.11 **Copying a list**\n",
    "\n",
    "- there's one issue with the lists. Let us consider the following code:"
   ]
  },
  {
   "cell_type": "code",
   "execution_count": 47,
   "metadata": {},
   "outputs": [
    {
     "name": "stdout",
     "output_type": "stream",
     "text": [
      "a=3, b=3\n",
      "a=5, b=3\n"
     ]
    }
   ],
   "source": [
    "a = 3\n",
    "b = a\n",
    "print(f\"a={a}, b={b}\")\n",
    "\n",
    "a = 5\n",
    "print(f\"a={a}, b={b}\")"
   ]
  },
  {
   "cell_type": "markdown",
   "metadata": {},
   "source": [
    "If we do the same with a list, it will not work the same:"
   ]
  },
  {
   "cell_type": "code",
   "execution_count": 48,
   "metadata": {},
   "outputs": [
    {
     "name": "stdout",
     "output_type": "stream",
     "text": [
      "list_a=[1, 2, 3], list_b=[1, 2, 3]\n",
      "list_a=[5, 2, 3], list_b=[5, 2, 3]\n"
     ]
    }
   ],
   "source": [
    "list_a = [1, 2, 3]\n",
    "list_b = list_a\n",
    "print(f\"list_a={list_a}, list_b={list_b}\")\n",
    "\n",
    "list_a[0] = 5\n",
    "print(f\"list_a={list_a}, list_b={list_b}\")"
   ]
  },
  {
   "cell_type": "markdown",
   "metadata": {},
   "source": [
    "What happened here? The problem is that the list `list_b` is a reference to the list `list_a`. Therefore, if we change the value of `list_a[0]` then the value of `list_b` will also change.\n",
    "If we wish to take the same list and then change the value of the new variable that contains the list, without changing the original list, we can use the `copy()` function:\n",
    "\n",
    "- syntax: `list_name.copy()`"
   ]
  },
  {
   "cell_type": "code",
   "execution_count": 49,
   "metadata": {},
   "outputs": [
    {
     "name": "stdout",
     "output_type": "stream",
     "text": [
      "list_a=[1, 2, 3], list_b=[1, 2, 3]\n",
      "list_a=[5, 2, 3], list_b=[1, 2, 3]\n"
     ]
    }
   ],
   "source": [
    "# copy of a list\n",
    "\n",
    "list_a = [1, 2, 3]\n",
    "list_b = list_a.copy()\n",
    "print(f\"list_a={list_a}, list_b={list_b}\")\n",
    "\n",
    "list_a[0] = 5\n",
    "print(f\"list_a={list_a}, list_b={list_b}\")"
   ]
  },
  {
   "cell_type": "markdown",
   "metadata": {},
   "source": [
    "- We can also make a copy of a list with the `list()` function:\n",
    "- syntax: `list(list_name)`"
   ]
  },
  {
   "cell_type": "code",
   "execution_count": 50,
   "metadata": {},
   "outputs": [
    {
     "name": "stdout",
     "output_type": "stream",
     "text": [
      "list_a=[1, 2, 3], list_b=[1, 2, 3]\n",
      "list_a=[5, 2, 3], list_b=[1, 2, 3]\n"
     ]
    }
   ],
   "source": [
    "# copy a list with list()\n",
    "\n",
    "list_a = [1, 2, 3]\n",
    "list_b = list(list_a)\n",
    "print(f\"list_a={list_a}, list_b={list_b}\")\n",
    "\n",
    "list_a[0] = 5\n",
    "print(f\"list_a={list_a}, list_b={list_b}\")"
   ]
  },
  {
   "cell_type": "markdown",
   "metadata": {},
   "source": [
    "- there's another way to make a copy of a list. We can use list slicing operator `[:]`:\n",
    "  - syntax: `list_name[:]`"
   ]
  },
  {
   "cell_type": "code",
   "execution_count": 51,
   "metadata": {},
   "outputs": [
    {
     "name": "stdout",
     "output_type": "stream",
     "text": [
      "list_a=[1, 2, 3], list_b=[1, 2, 3]\n",
      "list_a=[5, 2, 3], list_b=[1, 2, 3]\n"
     ]
    }
   ],
   "source": [
    "# copy list with [:]\n",
    "list_a = [1, 2, 3]\n",
    "list_b = list_a[:]\n",
    "print(f\"list_a={list_a}, list_b={list_b}\")\n",
    "\n",
    "list_a[0] = 5\n",
    "print(f\"list_a={list_a}, list_b={list_b}\")"
   ]
  },
  {
   "cell_type": "markdown",
   "metadata": {},
   "source": [
    "### 3.12 **Converting list to string**\n",
    "\n",
    "- we can convert a list to a string with the `.join()` function:\n",
    "  - syntax: `\"x\".join(list_name)` - where `x` is a joing string/character, but only if all elements in the list are strings."
   ]
  },
  {
   "cell_type": "code",
   "execution_count": 58,
   "metadata": {},
   "outputs": [
    {
     "name": "stdout",
     "output_type": "stream",
     "text": [
      "1*2*3\n"
     ]
    }
   ],
   "source": [
    "# convert list to a string with join()\n",
    "\n",
    "list_a = ['1', '2', '3']\n",
    "list_b = '*'.join(list_a)\n",
    "\n",
    "print(list_b)"
   ]
  },
  {
   "cell_type": "markdown",
   "metadata": {},
   "source": [
    "### 3.13 **Converting string to list**\n",
    "\n",
    "- we can convert a string to a list with the `.split()` function:\n",
    "  - syntax: `list_name.split(\"x\")` - where `x` is a split string/character. If it is not specified, the default value is any white space.\n",
    "- we can also specify the number of splits\n",
    "  - syntax: `list_name.split(\"x\", number_of_splits)`"
   ]
  },
  {
   "cell_type": "code",
   "execution_count": 2,
   "metadata": {},
   "outputs": [
    {
     "name": "stdout",
     "output_type": "stream",
     "text": [
      "['1', '2', '3']\n",
      "<class 'list'>\n",
      "['I', 'am', 'learning', 'Python']\n",
      "<class 'list'>\n"
     ]
    }
   ],
   "source": [
    "# split string with split()\n",
    "\n",
    "list_a = '1*2*3'\n",
    "list_b = list_a.split('*')\n",
    "print(list_b)\n",
    "print(type(list_b))\n",
    "\n",
    "# split a sentence\n",
    "sentence = 'I am learning Python'\n",
    "list_c = sentence.split()\n",
    "print(list_c)\n",
    "print(type(list_c))"
   ]
  },
  {
   "cell_type": "markdown",
   "metadata": {},
   "source": [
    "### 3.14 **Merging two lists**\n",
    "\n",
    "- we can merge/concatenate two lists with the `+` operator:\n",
    "  - syntax: `list_a + list_b`"
   ]
  },
  {
   "cell_type": "code",
   "execution_count": 1,
   "metadata": {},
   "outputs": [
    {
     "name": "stdout",
     "output_type": "stream",
     "text": [
      "[1, 2, 3, 4, 5, 6]\n",
      "<class 'list'>\n"
     ]
    }
   ],
   "source": [
    "# concatenation of two lists\n",
    "\n",
    "list_a = [1, 2, 3]\n",
    "list_b = [4, 5, 6]\n",
    "\n",
    "list_c = list_a + list_b\n",
    "print(list_c)\n",
    "print(type(list_c))"
   ]
  },
  {
   "cell_type": "markdown",
   "metadata": {},
   "source": [
    "- we can also use the `extend()` function:\n",
    "  - syntax: `list_name.extend(list_name)`"
   ]
  },
  {
   "cell_type": "code",
   "execution_count": 2,
   "metadata": {},
   "outputs": [
    {
     "name": "stdout",
     "output_type": "stream",
     "text": [
      "[1, 2, 3, 4, 5, 6]\n",
      "<class 'list'>\n"
     ]
    }
   ],
   "source": [
    "# merging two lists with extend()\n",
    "\n",
    "list_a = [1, 2, 3]\n",
    "list_b = [4, 5, 6]\n",
    "\n",
    "list_a.extend(list_b)\n",
    "print(list_a)\n",
    "print(type(list_a))"
   ]
  },
  {
   "cell_type": "markdown",
   "metadata": {},
   "source": [
    "## Excursus II\n",
    "### a. Time Module\n",
    "\n",
    "- [Time in Python Docs](https://docs.python.org/3/library/time.html)\n",
    "- [Python Time Moduel in *Real Python*](https://realpython.com/python-time-module/)\n",
    "- we will use time module only to suspend the execution of the code\n",
    "- syntax:\n",
    "  - `import time` - we import the time module\n",
    "  - `time.sleep(x)` - where `x` is the number of seconds to suspend the execution of the code"
   ]
  },
  {
   "cell_type": "code",
   "execution_count": 2,
   "metadata": {},
   "outputs": [
    {
     "name": "stdout",
     "output_type": "stream",
     "text": [
      "I will sleep for 2 seconds\n",
      "hello! I am awake!\n"
     ]
    }
   ],
   "source": [
    "# suspend execution of the code for 2 seconds\n",
    "\n",
    "import time\n",
    "print('I will sleep for 2 seconds')\n",
    "time.sleep(2)\n",
    "print('hello! I am awake!')"
   ]
  },
  {
   "cell_type": "markdown",
   "metadata": {},
   "source": [
    "### b. Datetime Module\n",
    "\n",
    "- [Datetime in Python Docs](https://docs.python.org/3/library/datetime.html)\n",
    "- [Python Datetime Module in *GeeksforGeeks*](https://www.geeksforgeeks.org/python-datetime-module/)\n",
    "<br>\n",
    "- we will use datetime module only to get the current date and time\n",
    "- syntax:\n",
    "  - `import datetime` - we import the datetime module\n",
    "  - `datetime.datetime.now()` - we get the current date and time\n",
    "  - `datetime.datetime.now().year` - we get the current year\n",
    "  - `datetime.datetime.now().month` - we get the current month\n",
    "  - `datetime.datetime.now().day` - we get the current day\n",
    "  - `datetime.datetime.now().hour` - we get the current hour\n",
    "  - `datetime.datetime.now().minute` - we get the current minute\n",
    "  - `datetime.datetime.now().second` - we get the current second\n",
    "  - `datetime.datetime.today()` - we get the current date and time\n",
    "  - `datetime.date.today()` - we get the date only"
   ]
  },
  {
   "cell_type": "code",
   "execution_count": 9,
   "metadata": {},
   "outputs": [
    {
     "name": "stdout",
     "output_type": "stream",
     "text": [
      "2024-03-27\n",
      "2024-03-27 21:06:52.610645\n",
      "21:06:52.610717\n",
      "21:06\n"
     ]
    }
   ],
   "source": [
    "import datetime\n",
    "# print today date\n",
    "\n",
    "print(datetime.date.today())\n",
    "\n",
    "# print current time\n",
    "print(datetime.datetime.now())\n",
    "\n",
    "# print only current time\n",
    "print(datetime.datetime.now().time())\n",
    "\n",
    "# print only current hour and minute\n",
    "print(f'{datetime.datetime.now().time().hour}:{datetime.datetime.now().time().minute:0>2}')\n"
   ]
  }
 ],
 "metadata": {
  "kernelspec": {
   "display_name": "python312",
   "language": "python",
   "name": "python3"
  },
  "language_info": {
   "codemirror_mode": {
    "name": "ipython",
    "version": 3
   },
   "file_extension": ".py",
   "mimetype": "text/x-python",
   "name": "python",
   "nbconvert_exporter": "python",
   "pygments_lexer": "ipython3",
   "version": "3.12.2"
  }
 },
 "nbformat": 4,
 "nbformat_minor": 2
}
