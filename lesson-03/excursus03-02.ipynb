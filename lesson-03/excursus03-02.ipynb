{
 "cells": [
  {
   "cell_type": "code",
   "execution_count": 1,
   "metadata": {},
   "outputs": [],
   "source": [
    "# Lesson 3"
   ]
  },
  {
   "cell_type": "markdown",
   "metadata": {},
   "source": [
    "## Excursus II\n",
    "### a. Time Module\n",
    "\n",
    "- [Time in Python Docs](https://docs.python.org/3/library/time.html)\n",
    "- [Python Time Moduel in *Real Python*](https://realpython.com/python-time-module/)\n",
    "- we will use time module only to suspend the execution of the code\n",
    "- syntax:\n",
    "  - `import time` - we import the time module\n",
    "  - `time.sleep(x)` - where `x` is the number of seconds to suspend the execution of the code"
   ]
  },
  {
   "cell_type": "code",
   "execution_count": null,
   "metadata": {},
   "outputs": [
    {
     "name": "stdout",
     "output_type": "stream",
     "text": [
      "I will sleep for 2 seconds\n",
      "hello! I am awake!\n"
     ]
    }
   ],
   "source": [
    "# suspend execution of the code for 2 seconds\n",
    "\n",
    "import time\n",
    "print('I will sleep for 2 seconds')\n",
    "time.sleep(2)\n",
    "print('hello! I am awake!')"
   ]
  },
  {
   "cell_type": "markdown",
   "metadata": {},
   "source": [
    "### b. Datetime Module\n",
    "\n",
    "- [Datetime in Python Docs](https://docs.python.org/3/library/datetime.html)\n",
    "- [Python Datetime Module in *GeeksforGeeks*](https://www.geeksforgeeks.org/python-datetime-module/)\n",
    "<br>\n",
    "- we will use datetime module only to get the current date and time\n",
    "- syntax:\n",
    "  - `import datetime` - we import the datetime module\n",
    "  - `datetime.datetime.now()` - we get the current date and time\n",
    "  - `datetime.datetime.now().year` - we get the current year\n",
    "  - `datetime.datetime.now().month` - we get the current month\n",
    "  - `datetime.datetime.now().day` - we get the current day\n",
    "  - `datetime.datetime.now().hour` - we get the current hour\n",
    "  - `datetime.datetime.now().minute` - we get the current minute\n",
    "  - `datetime.datetime.now().second` - we get the current second\n",
    "  - `datetime.datetime.today()` - we get the current date and time\n",
    "  - `datetime.date.today()` - we get the date only"
   ]
  },
  {
   "cell_type": "code",
   "execution_count": null,
   "metadata": {},
   "outputs": [
    {
     "name": "stdout",
     "output_type": "stream",
     "text": [
      "2024-03-27\n",
      "2024-03-27 21:06:52.610645\n",
      "21:06:52.610717\n",
      "21:06\n"
     ]
    }
   ],
   "source": [
    "import datetime\n",
    "# print today date\n",
    "\n",
    "print(datetime.date.today())\n",
    "\n",
    "# print current time\n",
    "print(datetime.datetime.now())\n",
    "\n",
    "# print only current time\n",
    "print(datetime.datetime.now().time())\n",
    "\n",
    "# print only current hour and minute\n",
    "print(f'{datetime.datetime.now().time().hour}:{datetime.datetime.now().time().minute:0>2}')\n"
   ]
  }
 ],
 "metadata": {
  "kernelspec": {
   "display_name": "myenv",
   "language": "python",
   "name": "python3"
  },
  "language_info": {
   "codemirror_mode": {
    "name": "ipython",
    "version": 3
   },
   "file_extension": ".py",
   "mimetype": "text/x-python",
   "name": "python",
   "nbconvert_exporter": "python",
   "pygments_lexer": "ipython3",
   "version": "3.12.3"
  }
 },
 "nbformat": 4,
 "nbformat_minor": 2
}
