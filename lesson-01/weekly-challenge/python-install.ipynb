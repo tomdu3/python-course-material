{
 "cells": [
  {
   "cell_type": "markdown",
   "metadata": {},
   "source": [
    "# Coding with Python"
   ]
  },
  {
   "cell_type": "markdown",
   "metadata": {},
   "source": [
    "These are instructions for installing Python and necessary tools as it was explained in the class."
   ]
  },
  {
   "cell_type": "markdown",
   "metadata": {},
   "source": [
    "## Install Python - Only Python install (Option 1)\n",
    "\n",
    "You can find the instructions on this page:\n",
    "\n",
    "[Install Python on Windows, Mac, and Linux](https://www.tutorialsteacher.com/python/install-python)\n",
    "\n",
    "Video Guides:\n",
    "- Windows Installation - [How to Install Python 3.11.4 on Windows 11 [ 2023 Update ] Complete Guide](https://youtu.be/m9I-YpOjXVQ)\n",
    "\n",
    "## Install Python - Anaconda (Option 2)\n",
    "- [Install Anaconda Python, Jupyter Notebook And Spyder on Windows 2024](https://youtu.be/BGTor-HJvKA)\n",
    "- [Anaconda Beginners Guide for Linux and Windows - Python Working Environments Tutorial](https://youtu.be/MUZtVEDKXsk)\n",
    "- [How to Install Anaconda on Mac (Getting Started)](https://youtu.be/RFeIn2ywxG4)"
   ]
  },
  {
   "cell_type": "markdown",
   "metadata": {},
   "source": [
    "## Install an IDE - Integrated Development Environment \n",
    "\n",
    "### Visual Studio Code (Option 1)\n",
    "- [How to install Visual Studio Code on Windows 10/11 [ 2024 Update ]](https://youtu.be/naL0cZNQh1g)\n",
    "\n",
    "### PyCharm (Option 2)\n",
    "- [ How to Install PyCharm IDE on Windows 11 ](https://youtu.be/EWTLWH-dH90)"
   ]
  },
  {
   "cell_type": "markdown",
   "metadata": {},
   "source": [
    "## Online Cloud Editor\n",
    "\n",
    "### REPLIT\n",
    "- link to [REPLIT page](https://replit.com/)\n",
    "- video introduction - [Welcome to Replit!](https://youtu.be/D4f7_lPwXtE)"
   ]
  },
  {
   "cell_type": "code",
   "execution_count": 1,
   "metadata": {},
   "outputs": [
    {
     "name": "stdout",
     "output_type": "stream",
     "text": [
      "Python 3.12.1\n"
     ]
    }
   ],
   "source": [
    "!python --version"
   ]
  },
  {
   "cell_type": "code",
   "execution_count": 1,
   "metadata": {},
   "outputs": [
    {
     "name": "stdout",
     "output_type": "stream",
     "text": [
      "Hello World\n"
     ]
    }
   ],
   "source": [
    "# first code - test your installation|\n",
    "print('Hello World')"
   ]
  }
 ],
 "metadata": {
  "kernelspec": {
   "display_name": "myenv",
   "language": "python",
   "name": "python3"
  },
  "language_info": {
   "codemirror_mode": {
    "name": "ipython",
    "version": 3
   },
   "file_extension": ".py",
   "mimetype": "text/x-python",
   "name": "python",
   "nbconvert_exporter": "python",
   "pygments_lexer": "ipython3",
   "version": "3.12.1"
  }
 },
 "nbformat": 4,
 "nbformat_minor": 2
}
