{
 "cells": [
  {
   "cell_type": "markdown",
   "metadata": {},
   "source": [
    "# Print and Input Functions and For Loop\n",
    "\n",
    "We will understand better the so called **functional programming** in the next lessons. Here we will learn how to use the **print** and **input** functions.\n",
    "\n",
    "## Print Function\n",
    "\n",
    "**Print** is a function that is used to print text in the console. We have already seen the print function in the previous lesson. Let's see how it works.\n",
    "\n",
    "- we can see the details on the Python documentation page [here](https://docs.python.org/3/library/functions.html#print)"
   ]
  },
  {
   "cell_type": "code",
   "execution_count": 3,
   "metadata": {},
   "outputs": [
    {
     "name": "stdout",
     "output_type": "stream",
     "text": [
      "Something\n",
      "4\n",
      "3 + 4 =  7\n"
     ]
    }
   ],
   "source": [
    "# basic print statement\n",
    "print('Something')\n",
    "print(2+2)\n",
    "print('3 + 4 = ', 3+4)"
   ]
  },
  {
   "cell_type": "markdown",
   "metadata": {},
   "source": [
    "These are the details of the print function from the Python documentation.\n",
    "\n",
    "`print(*objects, sep=' ', end='\\n', file=None, flush=False)`\n",
    "\n",
    "- `sep` is an optional argument that specifies the separator between objects. The default separator is a space. If no separator is specified, no separator is printed.\n",
    "- `end` is an optional argument that specifies the ending string. The default ending string is a newline. If no ending string is specified, no ending string is printed.\n",
    "- `file` is an optional argument that specifies the file to write the output to. If no file is specified, the output is printed to the console.\n",
    "- `flush` is an optional argument that specifies whether to flush the output buffer. The default is `False`. If `True`, the output buffer is flushed.\n"
   ]
  },
  {
   "cell_type": "code",
   "execution_count": 6,
   "metadata": {},
   "outputs": [
    {
     "name": "stdout",
     "output_type": "stream",
     "text": [
      "This__is__a__test\n",
      "a*b*c\n",
      "Hello World\n",
      "!\n"
     ]
    }
   ],
   "source": [
    "# separator argument\n",
    "print('This', 'is', 'a', 'test', sep='__')\n",
    "print('a', 'b', 'c', sep='*')\n",
    "\n",
    "# end argument\n",
    "print('Hello', end=' ')\n",
    "print('World')\n",
    "print('!')\n",
    "\n",
    "# file argument - we will see later\n",
    "\n",
    "# flush argument - we will see later"
   ]
  },
  {
   "cell_type": "markdown",
   "metadata": {},
   "source": [
    "## Input Function\n",
    "\n",
    "**Input** is a function that is used to get input from the user.\n",
    "\n",
    "- we can see the details on the Python documentation page [here](https://docs.python.org/3/library/functions.html#input)\n",
    "\n",
    "`input(prompt)` - where `prompt` is an optional argument that specifies the prompt to display. The default prompt is `> `."
   ]
  },
  {
   "cell_type": "code",
   "execution_count": 10,
   "metadata": {},
   "outputs": [
    {
     "data": {
      "text/plain": [
       "'hello'"
      ]
     },
     "execution_count": 10,
     "metadata": {},
     "output_type": "execute_result"
    }
   ],
   "source": [
    "# let us try a basic input statement\n",
    "input()  # this will wait for user input but the input is not stored"
   ]
  },
  {
   "cell_type": "code",
   "execution_count": 11,
   "metadata": {},
   "outputs": [
    {
     "name": "stdout",
     "output_type": "stream",
     "text": [
      "to\n"
     ]
    }
   ],
   "source": [
    "# we need to store the input in a variable so that we can use it\n",
    "a = input()\n",
    "print(a)"
   ]
  },
  {
   "cell_type": "markdown",
   "metadata": {},
   "source": [
    "- The `input` function returns a string that is the input from the user. If no input is provided, the default value `''` or `empty string` is returned.\n",
    "\n",
    "- if we want to store a number, we need to convert it to a number using `int()`, `float()`, etc."
   ]
  },
  {
   "cell_type": "code",
   "execution_count": 12,
   "metadata": {},
   "outputs": [
    {
     "name": "stdout",
     "output_type": "stream",
     "text": [
      "16\n"
     ]
    }
   ],
   "source": [
    "# input of a number\n",
    "num = input('Enter a number: ')\n",
    "num = int(num)  # convert the input to an integer\n",
    "\n",
    "print(num**2)"
   ]
  },
  {
   "cell_type": "markdown",
   "metadata": {},
   "source": [
    "If we expect to get a number, but the user inputs letters, we get an error."
   ]
  },
  {
   "cell_type": "code",
   "execution_count": 13,
   "metadata": {},
   "outputs": [
    {
     "ename": "ValueError",
     "evalue": "invalid literal for int() with base 10: 'po'",
     "output_type": "error",
     "traceback": [
      "\u001b[0;31m---------------------------------------------------------------------------\u001b[0m",
      "\u001b[0;31mValueError\u001b[0m                                Traceback (most recent call last)",
      "Cell \u001b[0;32mIn[13], line 2\u001b[0m\n\u001b[1;32m      1\u001b[0m num \u001b[38;5;241m=\u001b[39m \u001b[38;5;28minput\u001b[39m(\u001b[38;5;124m'\u001b[39m\u001b[38;5;124mEnter a number: \u001b[39m\u001b[38;5;124m'\u001b[39m)\n\u001b[0;32m----> 2\u001b[0m num \u001b[38;5;241m=\u001b[39m \u001b[38;5;28;43mint\u001b[39;49m\u001b[43m(\u001b[49m\u001b[43mnum\u001b[49m\u001b[43m)\u001b[49m  \u001b[38;5;66;03m# convert the input to an integer - here we get an error if the user inputs letters\u001b[39;00m\n\u001b[1;32m      3\u001b[0m \u001b[38;5;28mprint\u001b[39m(num)\n",
      "\u001b[0;31mValueError\u001b[0m: invalid literal for int() with base 10: 'po'"
     ]
    }
   ],
   "source": [
    "num = input('Enter a number: ')\n",
    "num = int(num)  # convert the input to an integer - here we get an error if the user inputs letters\n",
    "print(num)"
   ]
  },
  {
   "cell_type": "markdown",
   "metadata": {},
   "source": [
    "## For Loop\n",
    "\n",
    "- We are introducing just a basic version of a for loop in order to have some repetitive skills.\n",
    "- we use for loop to do some repetitive task for some definitive number of times.\n",
    "\n",
    "`for i in range(5)` - where `i` is a variable that represents the number of times the loop will repeat.\n",
    "- range(5) will give us the numbers from 0 to 4"
   ]
  },
  {
   "cell_type": "code",
   "execution_count": 15,
   "metadata": {},
   "outputs": [
    {
     "name": "stdout",
     "output_type": "stream",
     "text": [
      "0\n",
      "1\n",
      "2\n",
      "3\n",
      "4\n"
     ]
    }
   ],
   "source": [
    "# basic for loop\n",
    "for i in range(5):\n",
    "    print(i)"
   ]
  },
  {
   "cell_type": "code",
   "execution_count": 16,
   "metadata": {},
   "outputs": [
    {
     "name": "stdout",
     "output_type": "stream",
     "text": [
      "#####"
     ]
    }
   ],
   "source": [
    "for i in range(5):\n",
    "    print('#', end='')"
   ]
  },
  {
   "cell_type": "code",
   "execution_count": 18,
   "metadata": {},
   "outputs": [
    {
     "name": "stdout",
     "output_type": "stream",
     "text": [
      "#\n",
      "##\n",
      "###\n",
      "####\n",
      "#####\n"
     ]
    }
   ],
   "source": [
    "for i in range(5):\n",
    "    print('#'*(i+1))"
   ]
  },
  {
   "cell_type": "code",
   "execution_count": 20,
   "metadata": {},
   "outputs": [
    {
     "name": "stdout",
     "output_type": "stream",
     "text": [
      "\n",
      "#\n",
      "##\n",
      "###\n",
      "####\n",
      "#####\n",
      "####\n",
      "###\n",
      "##\n",
      "#\n"
     ]
    }
   ],
   "source": [
    "for i in range(5):\n",
    "    print('#'*i)\n",
    "\n",
    "for i in range(5):\n",
    "    print('#'*(5-i))"
   ]
  },
  {
   "cell_type": "code",
   "execution_count": 34,
   "metadata": {},
   "outputs": [
    {
     "name": "stdout",
     "output_type": "stream",
     "text": [
      "     #      \n",
      "    ###     \n",
      "   #####    \n",
      "  #######   \n",
      " #########  \n"
     ]
    }
   ],
   "source": [
    "for i in range(5):\n",
    "    print(f'{'#'*(i*2 +1):^12}')"
   ]
  },
  {
   "cell_type": "markdown",
   "metadata": {},
   "source": [
    "---\n",
    "\n",
    "Let us practice now some of these skills."
   ]
  },
  {
   "cell_type": "code",
   "execution_count": 35,
   "metadata": {},
   "outputs": [
    {
     "name": "stdout",
     "output_type": "stream",
     "text": [
      "Fido is 70 dog years old\n"
     ]
    }
   ],
   "source": [
    "# input dogs name and years and output his name and age in dog years\n",
    "name = input('Enter your dogs name: ')\n",
    "age = int(input('Enter your dogs age: '))\n",
    "\n",
    "print(f'{name} is {age*7} dog years old')"
   ]
  },
  {
   "cell_type": "markdown",
   "metadata": {},
   "source": [
    "**Madlib Game**\n",
    "\n",
    "- Let us create a madlib game using the print and input functions.\n",
    "\n",
    "This is an example from the web site [https://hobbylark.com/party-games/How-to-Make-Your-Own-Mad-Libs](https://hobbylark.com/party-games/How-to-Make-Your-Own-Mad-Libs)\n",
    "\n",
    "![Madlib Game](madlib.webp)"
   ]
  },
  {
   "cell_type": "code",
   "execution_count": 40,
   "metadata": {},
   "outputs": [
    {
     "name": "stdout",
     "output_type": "stream",
     "text": [
      "It was a rare, cold November day.\n",
      "I woke up to the smart smell of swallow roasting\n",
      "in the bedroom downstairs. I cut down the stairs\n",
      "to see if I could help to see the dinner.\n",
      "My mom said, 'See if Mark needs a fresh pot.'\n",
      "So I carried a tray of glasses full of Coke into the kitchen.\n",
      "When I got there, I couldn't believe my ears!\n",
      "There were roads playing on the killer!\n"
     ]
    }
   ],
   "source": [
    "# madlib game \n",
    "\n",
    "adjective1 = input('Enter an adjective: ')\n",
    "adjective2 = input('Enter another adjective: ')\n",
    "type_of_bird = input('Enter a type of bird: ')\n",
    "room_in_a_house = input('Enter a room in a house: ')\n",
    "verb_past_tense = input('Enter a verb in the past tense: ')\n",
    "verb = input('Enter a verb in infinitive (to ...): ')\n",
    "relative_name = input('Enter a relative\\'s name: ')\n",
    "noun = input('Enter a noun: ')\n",
    "liquid = input('Enter a liquid: ')\n",
    "room = input('Enter another room in a house: ')\n",
    "body_part_plural = input('Enter a part of the body (plural): ')\n",
    "plural_noun = input('Enter a plural noun: ')\n",
    "verb_ending_in_ing = input('Enter a verb ending in -ing: ')\n",
    "noun2 = input('Enter another noun: ')\n",
    "\n",
    "# Use an f-string to insert the input into the template\n",
    "story = f'''It was a {adjective1}, cold November day.\n",
    "I woke up to the {adjective2} smell of {type_of_bird} roasting\n",
    "in the {room_in_a_house} downstairs. I {verb_past_tense} down the stairs\n",
    "to see if I could help {verb} the dinner.\n",
    "My mom said, 'See if {relative_name} needs a fresh {noun}.'\n",
    "So I carried a tray of glasses full of {liquid} into the {room}.\n",
    "When I got there, I couldn't believe my {body_part_plural}!\n",
    "There were {plural_noun} {verb_ending_in_ing} on the {noun2}!'''\n",
    "\n",
    "# Output the completed story\n",
    "print(story)\n"
   ]
  },
  {
   "cell_type": "code",
   "execution_count": null,
   "metadata": {},
   "outputs": [],
   "source": []
  }
 ],
 "metadata": {
  "kernelspec": {
   "display_name": "python312",
   "language": "python",
   "name": "python3"
  },
  "language_info": {
   "codemirror_mode": {
    "name": "ipython",
    "version": 3
   },
   "file_extension": ".py",
   "mimetype": "text/x-python",
   "name": "python",
   "nbconvert_exporter": "python",
   "pygments_lexer": "ipython3",
   "version": "3.12.2"
  }
 },
 "nbformat": 4,
 "nbformat_minor": 2
}
