{
 "cells": [
  {
   "cell_type": "markdown",
   "metadata": {},
   "source": [
    "# Introduction to Python Programming - Lesson 1"
   ]
  },
  {
   "cell_type": "markdown",
   "metadata": {},
   "source": [
    "## First Steps in Python\n",
    "\n",
    "print, data types (numbers, strings), variables, operators, comments, and basic input/output"
   ]
  },
  {
   "cell_type": "code",
   "execution_count": 1,
   "metadata": {},
   "outputs": [
    {
     "name": "stdout",
     "output_type": "stream",
     "text": [
      "Hello, World!\n"
     ]
    }
   ],
   "source": [
    "# hello world\n",
    "print('Hello, World!')"
   ]
  },
  {
   "cell_type": "code",
   "execution_count": 2,
   "metadata": {},
   "outputs": [
    {
     "name": "stdout",
     "output_type": "stream",
     "text": [
      "Hello, Tomislav!\n",
      "Hello, John!\n",
      "Hello, Mary!\n"
     ]
    }
   ],
   "source": [
    "# let us say hallo to everybody\n",
    "print('Hello, Tomislav!')\n",
    "print('Hello, John!')\n",
    "print('Hello, Mary!')\n",
    "# ..."
   ]
  },
  {
   "cell_type": "markdown",
   "metadata": {},
   "source": [
    "## Data Types and Variables"
   ]
  },
  {
   "cell_type": "markdown",
   "metadata": {},
   "source": [
    "Numbers"
   ]
  },
  {
   "cell_type": "code",
   "execution_count": 3,
   "metadata": {},
   "outputs": [
    {
     "name": "stdout",
     "output_type": "stream",
     "text": [
      "1\n",
      "<class 'int'>\n",
      "1.0\n",
      "<class 'float'>\n"
     ]
    }
   ],
   "source": [
    "# numbers - integers\n",
    "print(1)\n",
    "print(type(1))\n",
    "\n",
    "# numbers - floats\n",
    "print(1.0)\n",
    "print(type(1.0))\n"
   ]
  },
  {
   "cell_type": "code",
   "execution_count": 11,
   "metadata": {},
   "outputs": [
    {
     "name": "stdout",
     "output_type": "stream",
     "text": [
      "4\n",
      "0\n",
      "4\n",
      "1.0\n",
      "0\n",
      "4\n",
      "1\n"
     ]
    }
   ],
   "source": [
    "# arithmetic operators\n",
    "# + - * / % ** //\n",
    "\n",
    "# addition\n",
    "print(2 + 2)\n",
    "# subtraction\n",
    "print(2 - 2)\n",
    "# multiplication\n",
    "print(2 * 2)\n",
    "# division\n",
    "print(2 / 2)  # result is always float\n",
    "# modulo\n",
    "print(2 % 2)\n",
    "# exponentiation\n",
    "print(2 ** 2)\n",
    "# floor division\n",
    "print(2 // 2)\n"
   ]
  },
  {
   "cell_type": "code",
   "execution_count": 12,
   "metadata": {},
   "outputs": [
    {
     "name": "stdout",
     "output_type": "stream",
     "text": [
      "-2.5\n",
      "-7.5\n",
      "-12.75\n"
     ]
    }
   ],
   "source": [
    "# pemdas\n",
    "# parenthesis, exponents, multiplication, division, addition, subtraction\n",
    "\n",
    "# example 1\n",
    "print(1 + 2 * 3 / 4 - 5)\n",
    "# example 2\n",
    "print(1 + 2 * (3 / 4 - 5))\n",
    "# example 3\n",
    "print((1 + 2) * (3 / 4 - 5))"
   ]
  },
  {
   "cell_type": "code",
   "execution_count": 13,
   "metadata": {},
   "outputs": [
    {
     "name": "stdout",
     "output_type": "stream",
     "text": [
      "100\n",
      "100\n",
      "55\n"
     ]
    }
   ],
   "source": [
    "# Example - Rectangle Area\n",
    "# area = width * height\n",
    "\n",
    "print(20 * 5)\n",
    "\n",
    "print(10 * 10)\n",
    "\n",
    "print(11 * 5)\n",
    "\n",
    "# all values are hardcoded"
   ]
  },
  {
   "cell_type": "code",
   "execution_count": 10,
   "metadata": {},
   "outputs": [
    {
     "name": "stdout",
     "output_type": "stream",
     "text": [
      "100\n"
     ]
    }
   ],
   "source": [
    "# let us use variables\n",
    "a = 20\n",
    "b = 5\n",
    "c = a * b\n",
    "print(c)"
   ]
  },
  {
   "cell_type": "code",
   "execution_count": 14,
   "metadata": {},
   "outputs": [
    {
     "name": "stdout",
     "output_type": "stream",
     "text": [
      "100\n"
     ]
    }
   ],
   "source": [
    "# let us use variables, but with better names (Semantics)\n",
    "\n",
    "width = 20\n",
    "height = 5\n",
    "area = width * height\n",
    "\n",
    "print(area)\n"
   ]
  },
  {
   "cell_type": "markdown",
   "metadata": {},
   "source": [
    "**Rules for variables**\n",
    "1. can not start with number\n",
    "2. can not contain space\n",
    "3. can not contain special characters (exept '_')\n",
    "4. can not be a reserved word (keyword):\n",
    "    - int, float, str, bool, list, tuple, dict, set, None, True, False,\n",
    "    - and, or, not, if, else, elif, for, while, break, continue, return,\n",
    "    - try, except, finally, class, def, yield, with, async, await, global\n"
   ]
  },
  {
   "cell_type": "code",
   "execution_count": 18,
   "metadata": {},
   "outputs": [
    {
     "name": "stdout",
     "output_type": "stream",
     "text": [
      "Michael\n",
      "Jordan\n",
      "James Bond\n",
      "30\n",
      "100000.3\n"
     ]
    }
   ],
   "source": [
    "# let us try some names\n",
    "# valid variable names\n",
    "_name = 'Michael'\n",
    "last_name = 'Jordan'\n",
    "agent007 = 'James Bond'\n",
    "Age = 30\n",
    "bank_balance = 100000.30\n",
    "# invalid variable names\n",
    "# 1name = 'Michael'\n",
    "# name@ = 'Michael'\n",
    "# first name = 'Michael'\n",
    "# first-name = 'Michael'\n",
    "# not = 'Michael'\n",
    "# True = 'Michael'\n",
    "\n",
    "# let us print out the variables' values\n",
    "print(_name)\n",
    "print(last_name)\n",
    "print(agent007)\n",
    "print(Age)\n",
    "print(bank_balance)\n"
   ]
  },
  {
   "cell_type": "markdown",
   "metadata": {},
   "source": [
    "**Pep8 naming convention**\n",
    "- snake_case\n",
    "- all lowercase\n",
    "- words separated by underscore\n",
    "- descriptive names\n",
    "- class names start with capital letter - PascalCase\n",
    "- function names start with lowercase letter\n",
    "- variables start with lowercase letter\n",
    "- constants are usually written in ALL_CAPS\n"
   ]
  },
  {
   "cell_type": "code",
   "execution_count": 21,
   "metadata": {},
   "outputs": [],
   "source": [
    "snake_case = 'variable'\n",
    "all_lowercase = 'variable'\n",
    "words_separated_by_underscore = 'value'\n",
    "descriptive_names = 'something to describe the value'\n",
    "def some_function():\n",
    "    pass\n",
    "THIS_IS_CONSTANT = 'constant'\n",
    "PI = 3.14159"
   ]
  },
  {
   "cell_type": "markdown",
   "metadata": {},
   "source": [
    "## Reading Input from the Keyboard"
   ]
  },
  {
   "cell_type": "code",
   "execution_count": 24,
   "metadata": {},
   "outputs": [
    {
     "data": {
      "text/plain": [
       "'as'"
      ]
     },
     "execution_count": 24,
     "metadata": {},
     "output_type": "execute_result"
    }
   ],
   "source": [
    "input('Enter your name: ')  # asks for an input\n",
    "# print(WHAT SHALL I PRINT??????)"
   ]
  },
  {
   "cell_type": "code",
   "execution_count": 25,
   "metadata": {},
   "outputs": [
    {
     "name": "stdout",
     "output_type": "stream",
     "text": [
      "Tomislav\n"
     ]
    }
   ],
   "source": [
    "name = input('Enter your name: ')\n",
    "print(name)"
   ]
  },
  {
   "cell_type": "code",
   "execution_count": 26,
   "metadata": {},
   "outputs": [
    {
     "name": "stdout",
     "output_type": "stream",
     "text": [
      "D t\n",
      "D t\n"
     ]
    }
   ],
   "source": [
    "first_name = input('Enter your first name: ')\n",
    "last_name = input('Enter your last name: ')\n",
    "\n",
    "print(last_name + ' ' + first_name)\n",
    "# or\n",
    "print(last_name, first_name)"
   ]
  },
  {
   "cell_type": "code",
   "execution_count": 29,
   "metadata": {},
   "outputs": [
    {
     "name": "stdout",
     "output_type": "stream",
     "text": [
      "wq\n"
     ]
    }
   ],
   "source": [
    "# rectangle area\n",
    "width = input('Enter the width: ')\n",
    "height = input('Enter the height: ')\n",
    "# area = width * height\n",
    "# print(area)\n",
    "print(width + height)"
   ]
  },
  {
   "cell_type": "code",
   "execution_count": 32,
   "metadata": {},
   "outputs": [
    {
     "name": "stdout",
     "output_type": "stream",
     "text": [
      "10\n",
      "<class 'str'>\n",
      "10\n",
      "<class 'int'>\n"
     ]
    }
   ],
   "source": [
    "# convert the input to numbers\n",
    "number = input('Enter a number: ')\n",
    "print(number)\n",
    "print(type(number))\n",
    "number = int(number)\n",
    "print(number)\n",
    "print(type(number))"
   ]
  },
  {
   "cell_type": "code",
   "execution_count": 33,
   "metadata": {},
   "outputs": [
    {
     "name": "stdout",
     "output_type": "stream",
     "text": [
      "<class 'str'>\n",
      "12\n",
      "<class 'float'>\n",
      "12.0\n"
     ]
    }
   ],
   "source": [
    "float_number = input('Enter a float number: ')\n",
    "print(type(float_number))\n",
    "print(float_number)\n",
    "float_number = float(float_number)\n",
    "print(type(float_number))\n",
    "print(float_number)\n"
   ]
  },
  {
   "cell_type": "markdown",
   "metadata": {},
   "source": [
    "**Data Type Conversion**\n",
    "- string to integer: int()\n",
    "- string to float: float()\n",
    "- integer to string: str()\n",
    "- float to string: str()"
   ]
  },
  {
   "cell_type": "code",
   "execution_count": 34,
   "metadata": {},
   "outputs": [
    {
     "name": "stdout",
     "output_type": "stream",
     "text": [
      "<class 'str'>\n",
      "<class 'int'>\n",
      "123\n",
      "<class 'int'>\n",
      "<class 'str'>\n",
      "123\n",
      "<class 'str'>\n",
      "<class 'float'>\n",
      "123.456\n",
      "<class 'float'>\n",
      "<class 'str'>\n",
      "123.456\n"
     ]
    }
   ],
   "source": [
    "# string to int\n",
    "string_number = '123'\n",
    "print(type(string_number))\n",
    "int_number = int(string_number)\n",
    "print(type(int_number))\n",
    "print(int_number)\n",
    "\n",
    "# int to string\n",
    "int_number = 123\n",
    "print(type(int_number))\n",
    "string_number = str(int_number)\n",
    "print(type(string_number))\n",
    "print(string_number)\n",
    "\n",
    "# string to float\n",
    "string_number = '123.456'\n",
    "print(type(string_number))\n",
    "float_number = float(string_number)\n",
    "print(type(float_number))\n",
    "print(float_number)\n",
    "\n",
    "# float to string\n",
    "float_number = 123.456\n",
    "print(type(float_number))\n",
    "string_number = str(float_number)\n",
    "print(type(string_number))\n",
    "print(string_number)\n"
   ]
  },
  {
   "cell_type": "code",
   "execution_count": null,
   "metadata": {},
   "outputs": [],
   "source": [
    "\n",
    "# comparison operators\n",
    "# == != < > <= >=\n"
   ]
  }
 ],
 "metadata": {
  "kernelspec": {
   "display_name": "myenv",
   "language": "python",
   "name": "python3"
  },
  "language_info": {
   "codemirror_mode": {
    "name": "ipython",
    "version": 3
   },
   "file_extension": ".py",
   "mimetype": "text/x-python",
   "name": "python",
   "nbconvert_exporter": "python",
   "pygments_lexer": "ipython3",
   "version": "3.12.1"
  }
 },
 "nbformat": 4,
 "nbformat_minor": 2
}
