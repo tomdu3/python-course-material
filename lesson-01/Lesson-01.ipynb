{
 "cells": [
  {
   "cell_type": "markdown",
   "id": "d683e03e",
   "metadata": {},
   "source": [
    "# Introduction to Python \n",
    "---"
   ]
  },
  {
   "cell_type": "markdown",
   "id": "1947e15d",
   "metadata": {},
   "source": [
    "## First code"
   ]
  },
  {
   "cell_type": "code",
   "execution_count": 1,
   "id": "b60291f5",
   "metadata": {},
   "outputs": [
    {
     "name": "stdout",
     "output_type": "stream",
     "text": [
      "Hello world!\n"
     ]
    }
   ],
   "source": [
    "print('Hello world!')"
   ]
  },
  {
   "cell_type": "markdown",
   "id": "e266731f",
   "metadata": {},
   "source": [
    "## Basic Data Types"
   ]
  },
  {
   "cell_type": "markdown",
   "id": "a28edc43",
   "metadata": {},
   "source": [
    "- **int**: integers or whole numbers - 0, 1, 2, 100, -2, ...\n",
    "- **float**: floating-point or decimal numbers - 0.1, 2.3, 3.14, -2.199 ...\n",
    "- **string**: collections of characters - '', 'Name', 'Some sentence.'\n",
    "- **bool**: Boolean (binary) type - value can be **True** or **False**\n",
    "- **None**: an empty value\n",
    "\n",
    "[Basic Data Types in Python](https://realpython.com/python-data-types/)"
   ]
  },
  {
   "cell_type": "code",
   "execution_count": 4,
   "id": "77a6b79d",
   "metadata": {},
   "outputs": [
    {
     "name": "stdout",
     "output_type": "stream",
     "text": [
      "2\n",
      "2.2\n",
      "This is Sparta!\n",
      "True\n",
      "None\n"
     ]
    }
   ],
   "source": [
    "# print integer\n",
    "print(2)\n",
    "# print float\n",
    "print(2.2)\n",
    "# print string\n",
    "print('This is Sparta!')\n",
    "# print bool\n",
    "print(True)\n",
    "# print None\n",
    "print(None)"
   ]
  },
  {
   "cell_type": "markdown",
   "id": "820c3ea0",
   "metadata": {},
   "source": [
    "If we want to check the type of some value, we use the function **type**"
   ]
  },
  {
   "cell_type": "code",
   "execution_count": 6,
   "id": "c81dbed2",
   "metadata": {},
   "outputs": [
    {
     "name": "stdout",
     "output_type": "stream",
     "text": [
      "<class 'int'>\n",
      "<class 'float'>\n",
      "<class 'str'>\n",
      "<class 'bool'>\n",
      "<class 'NoneType'>\n"
     ]
    }
   ],
   "source": [
    "# print integer\n",
    "print(type(2))\n",
    "# print float\n",
    "print(type(2.2))\n",
    "# print string\n",
    "print(type('This is Sparta!'))\n",
    "# print bool\n",
    "print(type(True))\n",
    "# print None\n",
    "print(type(None))"
   ]
  },
  {
   "cell_type": "markdown",
   "id": "6888661f",
   "metadata": {},
   "source": [
    "---\n",
    "## Variables"
   ]
  },
  {
   "cell_type": "markdown",
   "id": "490b8659",
   "metadata": {},
   "source": [
    "Variables are:\n",
    "- containers for the values\n",
    "- we use them so that we can easily manipulate values they contain and perform calculations\n",
    "\n",
    "### Rules of naming\n",
    "\n",
    "- variable names in Python can be any length\n",
    "- can consist of uppercase and lowercase letters (A-Z, a-z), digits (0-9), and the underscore character (_).\n",
    "- the first character of a variable name cannot be a digit\n",
    "- it cannot be a reserved keyword:\n",
    "\n",
    "```\n",
    "    False \tdef \tif \traise\n",
    "    None \tdel \timport \treturn\n",
    "    True \telif \tin \ttry\n",
    "    and \telse \tis \twhile\n",
    "    as\t\texcept \tlambda \twith\n",
    "    assert \tfinally nonlocal yield\n",
    "    break \tfor \tnot \t\n",
    "    class \tfrom \tor \t\n",
    "    continue \tglobal \tpass\n",
    "```\n",
    "\n",
    "### Examples:\n",
    "<font color='green'>**Good Naming**</font>\n",
    "- num1\n",
    "- user_name\n",
    "- User007\n",
    "- \\_pi\n",
    "\n",
    "<font color='red'>**Wrong Naming**</font>\n",
    "- 007\n",
    "- 1User\n",
    "- or\n",
    "- True\n",
    "\n",
    "[Variables in Python](https://realpython.com/python-variables/)\n",
    "\n",
    "[Pep 8 - Style Guide for Python Code](https://peps.python.org/pep-0008/)\n",
    "\n",
    "### Attention\n",
    "\n",
    "- e.g. **User** and **user** are two different variables\n"
   ]
  },
  {
   "cell_type": "markdown",
   "id": "0b0865fb",
   "metadata": {},
   "source": [
    "## Naming PEP8 Convention\n",
    "- Snake Case should be used for functions and variable names.\n",
    "\n",
    "`this_is_snake_case_naming`\n",
    "\n",
    "- Pascal Case should be used for class names. (PEP 8 refers to this as the “CapWords” convention.)\n",
    "\n",
    "`ThisIsPascalCaseNaming`"
   ]
  },
  {
   "cell_type": "markdown",
   "id": "b085fea4",
   "metadata": {},
   "source": [
    "### Variable Assignment\n",
    "\n",
    "In some programming languages we have two different events:\n",
    "1. variable declaration or definition\n",
    "2. value assignment\n",
    "\n",
    "In Python a variable doesn't need any declaration or value type definition. We just assign the value.\n",
    "\n",
    "Assignment is done with a single equals sign **(=)**. The statement that assings a value to a variable is called an assignment statement:\n",
    "```Python\n",
    "num1 = 3\n",
    "\n",
    "user_name = 'Tom'\n",
    "\n",
    "is_activated = False\n",
    "```\n",
    "\n",
    "We can also add a value with an assignment expression statement:\n",
    "```python\n",
    "num1 = 3 + 2\n",
    "```\n",
    "[Python Variables](https://realpython.com/python-variables/)"
   ]
  },
  {
   "cell_type": "markdown",
   "id": "c1c42f35",
   "metadata": {},
   "source": [
    "### Variable types\n",
    "\n",
    "Though we don't find a strict definition of a constant values, there is a convention for the naming of the variables that should have a **constant** or **invariable** value. We call them **constants** and we use capital letters in naming them:\n",
    "```python\n",
    "PI = 3.14\n",
    "PENALTY_PAY = 200\n",
    "ERROR_MESSAGE = 'There was an error!`\n",
    "```"
   ]
  },
  {
   "cell_type": "code",
   "execution_count": 9,
   "id": "7055749c",
   "metadata": {},
   "outputs": [
    {
     "name": "stdout",
     "output_type": "stream",
     "text": [
      "5\n",
      "There Be Dragons\n",
      "9\n"
     ]
    }
   ],
   "source": [
    "# assing value of 5 to a constant DEFAULT_STEP\n",
    "DEFAULT_STEP = 5\n",
    "# assign value of 'There Be Dragons' to variable \"movie_title\"\n",
    "movie_title = 'There Be Dragons'\n",
    "# assing value of 4+5 to variable \"calculate_sum\"\n",
    "calculate_sum = 4 + 5\n",
    "\n",
    "# print out all variable values\n",
    "print(DEFAULT_STEP)\n",
    "print(movie_title)\n",
    "print(calculate_sum)"
   ]
  },
  {
   "cell_type": "markdown",
   "id": "77fc2146",
   "metadata": {},
   "source": [
    "---\n",
    "## Operators"
   ]
  },
  {
   "cell_type": "markdown",
   "id": "bba07ae9",
   "metadata": {},
   "source": [
    "### Terminology\n",
    "\n",
    "- an **operator** is usually a symbol or combination of symbols that allows you to perform a specific operation. This operation can act on one or more **operands**. If the operation involves a single operand, then the operator is **unary**. If the operator involves two operands, then the operator is **binary**. Operators must be part of **expressions**, which you can build using Python objects as operands.\n",
    "\n",
    "- Assignment operators\n",
    "- Arithmetic operators\n",
    "- Comparison operators\n",
    "- Boolean or logical operators\n",
    "- Identity operators\n",
    "- Membership operators\n",
    "- Concatenation and repetition operators\n",
    "- Bitwise operators\n",
    "\n",
    "- Python has simple and compound statements:\n",
    "    - **simple statement** is a construct that occupies a single logical line, like an assignment statement.\n",
    "    - **compound statement** is a construct that occupies multiple logical lines, such as a for loop or a conditional statement.\n",
    "    - **expression** is a simple statement that produces and returns a value."
   ]
  },
  {
   "cell_type": "markdown",
   "id": "0b61b907",
   "metadata": {},
   "source": [
    "![](./arithmetic-operation-in-python.png)"
   ]
  },
  {
   "cell_type": "markdown",
   "id": "57d7e3a3",
   "metadata": {},
   "source": [
    "### Order of operations - PEMDAS\n",
    "![](./PEMDAS_trans-1200x429.webp)\n",
    "\n",
    "\n",
    "In programming, this concept of precedence and the ability to override that precedence using parentheses is used not only in mathematical expressions, but also in expressions using logical operators such as AND, OR and NOT.\n",
    "For now just remember the order of operations: PEMDAS (Please Excuse My Dear Aunt Sally!)\n"
   ]
  },
  {
   "cell_type": "markdown",
   "id": "c5030226",
   "metadata": {},
   "source": [
    "### Comparison or Relational Operators"
   ]
  },
  {
   "cell_type": "markdown",
   "id": "8d5a44b3",
   "metadata": {},
   "source": [
    "![](./comparison-operators.jpeg)"
   ]
  },
  {
   "cell_type": "markdown",
   "id": "539526c7",
   "metadata": {},
   "source": [
    "The result values of comparing are always booleans: **True** or **False**"
   ]
  },
  {
   "cell_type": "markdown",
   "id": "b958966a",
   "metadata": {},
   "source": [
    "---\n",
    "### Logical operators "
   ]
  },
  {
   "cell_type": "markdown",
   "id": "e9d08ca6",
   "metadata": {},
   "source": [
    "We use these operators to evaluate a statement to return either a **True**  or a  **False**\n",
    "\n",
    "<table>\n",
    "\t<thead>\n",
    "\t\t<tr>\n",
    "\t\t\t<th class=\"ck_border\" scope=\"col\" style=\"border: 1px solid rgb(221, 221, 221);\">Operator</th>\n",
    "\t\t\t<th class=\"ck_border\" scope=\"col\" style=\"border: 1px solid rgb(221, 221, 221);\">Syntax</th>\n",
    "\t\t\t<th class=\"ck_border\" scope=\"col\" style=\"border: 1px solid rgb(221, 221, 221);\">Description</th>\n",
    "\t\t\t<th class=\"ck_border\" scope=\"col\" style=\"border: 1px solid rgb(221, 221, 221);\">Example</th>\n",
    "\t\t</tr>\n",
    "\t</thead>\n",
    "\t<tbody>\n",
    "\t\t<tr>\n",
    "\t\t\t<td class=\"ck_border\" style=\"border: 1px solid rgb(221, 221, 221);\">and</td>\n",
    "\t\t\t<td class=\"ck_border\" style=\"border: 1px solid rgb(221, 221, 221);\">x and y</td>\n",
    "\t\t\t<td class=\"ck_border\" style=\"border: 1px solid rgb(221, 221, 221);\">This returns <strong><span>&nbsp;True&nbsp;</span></strong>&nbsp;if both x and y are true</td>\n",
    "\t\t\t<td class=\"ck_border\" style=\"border: 1px solid rgb(221, 221, 221);\">\n",
    "\t\t\t<p>x = 10<br>\n",
    "\t\t\tx &gt; 5 and x &lt; 15</p>\n",
    "\t\t\t</td>\n",
    "\t\t</tr>\n",
    "\t\t<tr>\n",
    "\t\t\t<td class=\"ck_border\" style=\"border: 1px solid rgb(221, 221, 221);\">or</td>\n",
    "\t\t\t<td class=\"ck_border\" style=\"border: 1px solid rgb(221, 221, 221);\">x or y</td>\n",
    "\t\t\t<td class=\"ck_border\" style=\"border: 1px solid rgb(221, 221, 221);\">This returns&nbsp;<strong><span> True&nbsp;</span></strong><strong>&nbsp;</strong>if either x or y are true</td>\n",
    "\t\t\t<td class=\"ck_border\" style=\"border: 1px solid rgb(221, 221, 221);\">x = 10<br>\n",
    "\t\t\tx &gt; 5 or x &lt; 2</td>\n",
    "\t\t</tr>\n",
    "\t\t<tr>\n",
    "\t\t\t<td class=\"ck_border\" style=\"border: 1px solid rgb(221, 221, 221);\">not</td>\n",
    "\t\t\t<td class=\"ck_border\" style=\"border: 1px solid rgb(221, 221, 221);\">not x</td>\n",
    "\t\t\t<td class=\"ck_border\" style=\"border: 1px solid rgb(221, 221, 221);\">Reverses a result, so if something is&nbsp;<strong><span> True&nbsp;</span></strong>,<br>\n",
    "\t\t\tnot turns it&nbsp;<strong><span>&nbsp;False&nbsp;</span></strong></td>\n",
    "\t\t\t<td class=\"ck_border\" style=\"border: 1px solid rgb(221, 221, 221);\">x = 10<br>\n",
    "\t\t\tnot(x &gt; 5 and x &lt; 15)</td>\n",
    "\t\t</tr>\n",
    "\t</tbody>\n",
    "<table>\n"
   ]
  },
  {
   "cell_type": "markdown",
   "id": "f5a8fded",
   "metadata": {},
   "source": [
    "![Python Logical Operators](./logic-operators.png)"
   ]
  },
  {
   "cell_type": "markdown",
   "id": "0dce097d",
   "metadata": {},
   "source": [
    "## Errors"
   ]
  },
  {
   "cell_type": "markdown",
   "id": "5982b45d",
   "metadata": {},
   "source": [
    "- There are different errors in Python. They occur when Python script is executed. Some of them would make the execution impssible, some would interrupt the execution.\n",
    "- **Syntax errors**, also known as *parsing errors*, are perhaps the most common kind of complaint you get while you are still learning Python:"
   ]
  },
  {
   "cell_type": "code",
   "execution_count": 2,
   "id": "aab65b9d",
   "metadata": {},
   "outputs": [
    {
     "ename": "SyntaxError",
     "evalue": "invalid syntax (2884618176.py, line 1)",
     "output_type": "error",
     "traceback": [
      "\u001b[0;36m  Cell \u001b[0;32mIn[2], line 1\u001b[0;36m\u001b[0m\n\u001b[0;31m    while True print('Hello world')\u001b[0m\n\u001b[0m               ^\u001b[0m\n\u001b[0;31mSyntaxError\u001b[0m\u001b[0;31m:\u001b[0m invalid syntax\n"
     ]
    }
   ],
   "source": [
    "while True print('Hello world')"
   ]
  },
  {
   "cell_type": "markdown",
   "id": "8cd2ffa8",
   "metadata": {},
   "source": [
    "Link to the Python Docs - [Errors and Exceptions](https://docs.python.org/3/tutorial/errors.html)\n",
    "\n",
    "We will talk about the Errors, Exceptions and Debugging in the comming lessons."
   ]
  },
  {
   "cell_type": "markdown",
   "id": "30b4fcf8",
   "metadata": {},
   "source": [
    "---\n",
    "### Comments\n",
    "[Comments in Python: Why are They Important And How to Use Them](https://www.simplilearn.com/tutorials/python-tutorial/comments-in-python)"
   ]
  },
  {
   "cell_type": "markdown",
   "id": "2e864001",
   "metadata": {},
   "source": [
    "There are multiple uses of writing comments in Python. Some significant uses include:\n",
    "- Increasing readability\n",
    "- Explaining the code to others\n",
    "- Understanding the code easily after a long-term\n",
    "- Including resources\n",
    "- Re-using the existing code\n",
    "\n",
    "\n",
    "Comments in Python provide numerous advantages. Their primary benefits include:\n",
    "\n",
    "- Makes the code easily understandable by other programmers\n",
    "- The code becomes self-explanatory\n",
    "- Helps remember why we used a specific command, method, or function in the code\n",
    "- Enables the interpreter to ignore some part of the code while testing"
   ]
  },
  {
   "cell_type": "markdown",
   "id": "cead6c92",
   "metadata": {},
   "source": [
    "### Different Types of Comments"
   ]
  },
  {
   "cell_type": "markdown",
   "id": "1f1fab24",
   "metadata": {},
   "source": [
    "**Single-Line Comments**\n",
    "\n",
    "Single-line comments begin with the “#” character. Anything that is written in a single line after ‘#’ is considered as a comment. The syntax for writing single-line comments is:\n",
    "\n",
    "`# comments here`\n",
    "\n",
    "There are two ways of using single-line comments in Python. You can use it before the code or next to the code."
   ]
  },
  {
   "cell_type": "code",
   "execution_count": null,
   "id": "7057bb13",
   "metadata": {},
   "outputs": [],
   "source": [
    "# looping through a range of 10 numbers\n",
    "for i in range(10):\n",
    "    print(i)  # prints 0 to 9"
   ]
  },
  {
   "cell_type": "markdown",
   "id": "29e78212",
   "metadata": {},
   "source": [
    "PEP8, Python Style Guide, recommends using less than 79 characters in a single-line comment to make it easier to read. If your comment is exceeding the recommended length, you can use the next type: multi-line comments."
   ]
  },
  {
   "cell_type": "markdown",
   "id": "b2e1fa80",
   "metadata": {},
   "source": [
    "**Multi-Line Comments**\n",
    "\n",
    "Python does not support multi-line comments. However, there are multiple ways to overcome this issue. None of these ways are technically multi-line comments, but you can use them as one. The first way is by using `#` at the beginning of each line of the comment."
   ]
  },
  {
   "cell_type": "code",
   "execution_count": 3,
   "id": "be566df6",
   "metadata": {},
   "outputs": [],
   "source": [
    "# This is a sample multi-line comment\n",
    "# You put a hashtag at the beginning of each line\n",
    "# Comments are ignored by the interpreter"
   ]
  },
  {
   "cell_type": "markdown",
   "id": "3623888a",
   "metadata": {},
   "source": [
    "You can also use multi-line strings for commenting. To do this, use either a ‘’ or “” quotation marks three times."
   ]
  },
  {
   "cell_type": "code",
   "execution_count": 6,
   "id": "fcb753f7",
   "metadata": {},
   "outputs": [
    {
     "name": "stdout",
     "output_type": "stream",
     "text": [
      "Hello World!\n"
     ]
    }
   ],
   "source": [
    "'''\n",
    "This is a multi-line comment.\n",
    "Just write here whatever you want.\n",
    "Nothing will be executed.\n",
    "'''\n",
    "print(\"Hello World!\")"
   ]
  },
  {
   "cell_type": "markdown",
   "id": "70b6d1b4",
   "metadata": {},
   "source": [
    "**Python Docstrings**\n",
    "\n",
    "Python provides an in-built feature called docstrings for commenting on modules, methods, functions, objects, and classes. They are written in the first line after defining a module, function, method, etc., using three quotation marks (‘’ or “”). If you do not use it in the first line, the interpreter will not take it as a docstring. You can also access docstrings using the __doc__ attribute."
   ]
  },
  {
   "cell_type": "markdown",
   "id": "85725e93",
   "metadata": {},
   "source": [
    "🎉🎉🎉 ***End of Lesson 1***"
   ]
  }
 ],
 "metadata": {
  "kernelspec": {
   "display_name": "Python 3 (ipykernel)",
   "language": "python",
   "name": "python3"
  },
  "language_info": {
   "codemirror_mode": {
    "name": "ipython",
    "version": 3
   },
   "file_extension": ".py",
   "mimetype": "text/x-python",
   "name": "python",
   "nbconvert_exporter": "python",
   "pygments_lexer": "ipython3",
   "version": "3.12.1"
  }
 },
 "nbformat": 4,
 "nbformat_minor": 5
}
