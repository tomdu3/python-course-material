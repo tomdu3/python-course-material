{
 "cells": [
  {
   "cell_type": "markdown",
   "id": "d683e03e",
   "metadata": {},
   "source": [
    "# Introduction to Python Programming"
   ]
  },
  {
   "cell_type": "markdown",
   "id": "1947e15d",
   "metadata": {},
   "source": [
    "## First code"
   ]
  },
  {
   "cell_type": "code",
   "execution_count": 1,
   "id": "b60291f5",
   "metadata": {},
   "outputs": [
    {
     "name": "stdout",
     "output_type": "stream",
     "text": [
      "Hello world!\n"
     ]
    }
   ],
   "source": [
    "print('Hello world!')"
   ]
  },
  {
   "cell_type": "markdown",
   "id": "a28edc43",
   "metadata": {},
   "source": [
    "## Basic Data Types\n",
    "\n",
    "- **int**: integers or whole numbers - 0, 1, 2, 100, -2, ...\n",
    "- **float**: floating-point or decimal numbers - 0.1, 2.3, 3.14, -2.199 ...\n",
    "- **string**: collections of characters - '', 'Name', 'Some sentence.'\n",
    "- **bool**: Boolean (binary) type - value can be **True** or **False**\n",
    "- **None**: an empty value\n",
    "\n",
    "[Basic Data Types in Python](https://realpython.com/python-data-types/)"
   ]
  },
  {
   "cell_type": "code",
   "execution_count": 4,
   "id": "77a6b79d",
   "metadata": {},
   "outputs": [
    {
     "name": "stdout",
     "output_type": "stream",
     "text": [
      "2\n",
      "2.2\n",
      "This is Sparta!\n",
      "True\n",
      "None\n"
     ]
    }
   ],
   "source": [
    "# print integer\n",
    "print(2)\n",
    "# print float\n",
    "print(2.2)\n",
    "# print string\n",
    "print('This is Sparta!')\n",
    "# print bool\n",
    "print(True)\n",
    "# print None\n",
    "print(None)"
   ]
  },
  {
   "cell_type": "markdown",
   "id": "820c3ea0",
   "metadata": {},
   "source": [
    "If we want to check the type of some value, we use the function **type**"
   ]
  },
  {
   "cell_type": "code",
   "execution_count": 6,
   "id": "c81dbed2",
   "metadata": {},
   "outputs": [
    {
     "name": "stdout",
     "output_type": "stream",
     "text": [
      "<class 'int'>\n",
      "<class 'float'>\n",
      "<class 'str'>\n",
      "<class 'bool'>\n",
      "<class 'NoneType'>\n"
     ]
    }
   ],
   "source": [
    "# print integer\n",
    "print(type(2))\n",
    "# print float\n",
    "print(type(2.2))\n",
    "# print string\n",
    "print(type('This is Sparta!'))\n",
    "# print bool\n",
    "print(type(True))\n",
    "# print None\n",
    "print(type(None))"
   ]
  },
  {
   "cell_type": "markdown",
   "id": "490b8659",
   "metadata": {},
   "source": [
    "## Variables\n",
    "\n",
    "- containers for the values\n",
    "- we use them so that we can easily manipulate values they contain and perform calculations\n",
    "\n",
    "### Rules of naming\n",
    "\n",
    "- variable names in Python can be any length\n",
    "- can consist of uppercase and lowercase letters (A-Z, a-z), digits (0-9), and the underscore character (_).\n",
    "- the first character of a variable name cannot be a digit\n",
    "- it cannot be a reserved keyword:\n",
    "\n",
    "```\n",
    "    False \tdef \tif \traise\n",
    "    None \tdel \timport \treturn\n",
    "    True \telif \tin \ttry\n",
    "    and \telse \tis \twhile\n",
    "    as\t\texcept \tlambda \twith\n",
    "    assert \tfinally nonlocal yield\n",
    "    break \tfor \tnot \t\n",
    "    class \tfrom \tor \t\n",
    "    continue \tglobal \tpass\n",
    "```\n",
    "\n",
    "### Examples:\n",
    "<font color='green'>**Good Naming**</font>\n",
    "- num1\n",
    "- user_name\n",
    "- User007\n",
    "- \\_pi\n",
    "\n",
    "<font color='red'>**Wrong Naming**</font>\n",
    "- 007\n",
    "- 1User\n",
    "- or\n",
    "- True\n",
    "\n",
    "[Variables in Python](https://realpython.com/python-variables/)\n",
    "\n",
    "[Pep 8 - Style Guide for Python Code](https://peps.python.org/pep-0008/)\n",
    "\n",
    "### Attention\n",
    "\n",
    "- e.g. **User** and **user** are two different variables\n"
   ]
  },
  {
   "cell_type": "markdown",
   "id": "0b0865fb",
   "metadata": {},
   "source": [
    "## Naming PEP8 Convention\n",
    "- Snake Case should be used for functions and variable names.\n",
    "\n",
    "`this_is_snake_case_naming`\n",
    "\n",
    "- Pascal Case should be used for class names. (PEP 8 refers to this as the “CapWords” convention.)\n",
    "\n",
    "`ThisIsPascalCaseNaming`"
   ]
  },
  {
   "cell_type": "markdown",
   "id": "b085fea4",
   "metadata": {},
   "source": [
    "### Variable Assignment\n",
    "\n",
    "In some programming languages we have two different events:\n",
    "1. variable declaration or definition\n",
    "2. value assignment\n",
    "\n",
    "In Python a variable doesn't need any declaration or value type definition. We just assign the value.\n",
    "\n",
    "Assignment is done with a single equals sign **(=)**. The statement that assings a value to a variable is called an assignment statement:\n",
    "```Python\n",
    "num1 = 3\n",
    "\n",
    "user_name = 'Tom'\n",
    "\n",
    "is_activated = False\n",
    "```\n",
    "\n",
    "We can also add a value with an assignment expression statement:\n",
    "```python\n",
    "num1 = 3 + 2\n",
    "```\n",
    "[Python Variables](https://realpython.com/python-variables/)"
   ]
  },
  {
   "cell_type": "markdown",
   "id": "c1c42f35",
   "metadata": {},
   "source": [
    "### Variable types\n",
    "\n",
    "Though we don't find a strict definition of a constant values, there is a convention for the naming of the variables that should have a **constant** or **invariable** value. We call them **constants** and we use capital letters in naming them:\n",
    "```python\n",
    "PI = 3.14\n",
    "PENALTY_PAY = 200\n",
    "ERROR_MESSAGE = 'There was an error!`\n",
    "```"
   ]
  },
  {
   "cell_type": "code",
   "execution_count": 9,
   "id": "7055749c",
   "metadata": {},
   "outputs": [
    {
     "name": "stdout",
     "output_type": "stream",
     "text": [
      "5\n",
      "There Be Dragons\n",
      "9\n"
     ]
    }
   ],
   "source": [
    "# assing value of 5 to a constant DEFAULT_STEP\n",
    "DEFAULT_STEP = 5\n",
    "# assign value of 'There Be Dragons' to variable \"movie_title\"\n",
    "movie_title = 'There Be Dragons'\n",
    "# assing value of 4+5 to variable \"calculate_sum\"\n",
    "calculate_sum = 4 + 5\n",
    "\n",
    "# print out all variable values\n",
    "print(DEFAULT_STEP)\n",
    "print(movie_title)\n",
    "print(calculate_sum)"
   ]
  },
  {
   "cell_type": "markdown",
   "id": "77fc2146",
   "metadata": {},
   "source": [
    "## Operators"
   ]
  },
  {
   "cell_type": "markdown",
   "id": "bba07ae9",
   "metadata": {},
   "source": [
    "### Terminology\n",
    "\n",
    "- an **operator** is usually a symbol or combination of symbols that allows you to perform a specific operation. This operation can act on one or more **operands**. If the operation involves a single operand, then the operator is **unary**. If the operator involves two operands, then the operator is **binary**. Operators must be part of **expressions**, which you can build using Python objects as operands.\n",
    "\n",
    "- Assignment operators\n",
    "- Arithmetic operators\n",
    "- Comparison operators\n",
    "- Boolean or logical operators\n",
    "- Identity operators\n",
    "- Membership operators\n",
    "- Concatenation and repetition operators\n",
    "- Bitwise operators\n",
    "\n",
    "- Python has simple and compound statements:\n",
    "    - **simple statement** is a construct that occupies a single logical line, like an assignment statement.\n",
    "    - **compound statement** is a construct that occupies multiple logical lines, such as a for loop or a conditional statement.\n",
    "    - **expression** is a simple statement that produces and returns a value."
   ]
  },
  {
   "cell_type": "code",
   "execution_count": null,
   "id": "0b61b907",
   "metadata": {},
   "outputs": [],
   "source": []
  }
 ],
 "metadata": {
  "kernelspec": {
   "display_name": "Python 3 (ipykernel)",
   "language": "python",
   "name": "python3"
  },
  "language_info": {
   "codemirror_mode": {
    "name": "ipython",
    "version": 3
   },
   "file_extension": ".py",
   "mimetype": "text/x-python",
   "name": "python",
   "nbconvert_exporter": "python",
   "pygments_lexer": "ipython3",
   "version": "3.11.5"
  }
 },
 "nbformat": 4,
 "nbformat_minor": 5
}
