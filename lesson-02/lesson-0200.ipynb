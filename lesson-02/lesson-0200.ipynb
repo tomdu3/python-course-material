{
 "cells": [
  {
   "cell_type": "markdown",
   "metadata": {},
   "source": [
    "# Lesson 2: Intro\n",
    "## Data Types - Continuation"
   ]
  },
  {
   "cell_type": "markdown",
   "metadata": {},
   "source": [
    "Standard Data Types in Python are:\n",
    "- int - integer numbers, like: 0, 1, 100, -23, ...\n",
    "- float - floating point numbers (decimals), like: 0.0, 1.0, 100.0, -23.0, ...\n",
    "- str - string, like: \"hello\", \"world\", \"123\", ...\n",
    "- bool - boolean, like: True, False\n",
    "- list - list of elements, like: [1, 2, 3], [\"hello\", \"world\"], ...\n",
    "- tuple - immutable list, like: (1, 2, 3), (\"hello\", \"world\"), ...\n",
    "- dict - dictionary, like: {\"name\": \"John\", \"age\": 30}, ...\n",
    "- set - set of unique elements, like: {1, 2, 3}, {\"hello\", \"world\"}, ...\n",
    "- NoneType - None, like: None\n",
    "\n",
    "We have already seen some of these data types in the previous notebook, especially ints and floats."
   ]
  },
  {
   "cell_type": "markdown",
   "metadata": {},
   "source": [
    "## Strings\n",
    "\n",
    "- Strings are sequences of characters, using the syntax of either single quotes or double quotes.\n",
    "- Strings are immutable, meaning they cannot be changed after they are created.\n",
    "- Strings are ordered sequences, meaning each element in the sequence can be accessed using an index represented by the array of numbers.\n",
    "- Strings can be sliced, concatenated, and formatted.\n",
    "- Strings can be compared using comparison operators.\n",
    "- Strings can be formatted using the `format` method or f-strings.\n",
    "- Strings can be manipulated using methods like `upper`, `lower`, `strip`, `replace`, `split`, `join`, and many others."
   ]
  },
  {
   "cell_type": "code",
   "execution_count": 1,
   "metadata": {},
   "outputs": [
    {
     "name": "stdout",
     "output_type": "stream",
     "text": [
      "Hello, World!\n",
      "Hello, World!\n"
     ]
    }
   ],
   "source": [
    "# define a string variable\n",
    "my_string = \"Hello, World!\"\n",
    "# we can use single quotes as well\n",
    "my_string2 = 'Hello, World!'\n",
    "# print the strings\n",
    "print(my_string)\n",
    "print(my_string2)"
   ]
  },
  {
   "cell_type": "code",
   "execution_count": 4,
   "metadata": {},
   "outputs": [
    {
     "name": "stdout",
     "output_type": "stream",
     "text": [
      "8\n",
      "13\n"
     ]
    }
   ],
   "source": [
    "# let us print the length of the string\n",
    "# we can use len() function to find the length of the string\n",
    "print(len(\"Tomislav\"))  # prints 8\n",
    "print(len(my_string))  # prints 13"
   ]
  },
  {
   "cell_type": "markdown",
   "metadata": {},
   "source": [
    "- We can use the index operator [] to access an item in a string\n",
    "- The index operator returns the character at the specified position\n",
    "- The index must be an integer\n",
    "- Negative indices count from the end of the string\n",
    "- The index must be in the range 0 to len(string) - 1\n",
    "\n",
    "![String indexing](https://res.cloudinary.com/practicaldev/image/fetch/s--A7oqOWqx--/c_limit%2Cf_auto%2Cfl_progressive%2Cq_auto%2Cw_880/https://thepracticaldev.s3.amazonaws.com/i/1wr90mjnil60r7226bgq.png)\n",
    "\n"
   ]
  },
  {
   "cell_type": "code",
   "execution_count": 5,
   "metadata": {},
   "outputs": [
    {
     "name": "stdout",
     "output_type": "stream",
     "text": [
      "H\n",
      "o\n",
      "l\n"
     ]
    }
   ],
   "source": [
    "\n",
    "\"\"\" 'Hello' is a string with 5 characters (length is 5)\n",
    "The indices and characters are:\n",
    "0: H\n",
    "1: e\n",
    "2: l\n",
    "3: l\n",
    "4: o\n",
    "\"\"\"\n",
    "word = 'Hello'\n",
    "# print the first character of the string\n",
    "print(word[0])  # prints H  -> we could also do it like: 'Hello'[0]\n",
    "# print the last character of the string\n",
    "print(word[-1])  # prints o\n",
    "# print the character at index 3\n",
    "print(word[3])  # prints l\n"
   ]
  },
  {
   "cell_type": "markdown",
   "metadata": {},
   "source": [
    "## Slicing Strings\n",
    "When we take only a part of a string, we are slicing it. We can use the slice operator `:` to get a range of characters from the string.\n",
    "When slicing, the first index is included, while the last given index is excluded.\n",
    "![Slicing strings](https://prepinstadotcom.s3.ap-south-1.amazonaws.com/wp-content/uploads/2020/07/Slicing-in-python.webp)"
   ]
  },
  {
   "cell_type": "code",
   "execution_count": 7,
   "metadata": {},
   "outputs": [
    {
     "name": "stdout",
     "output_type": "stream",
     "text": [
      "llo world\n",
      "hello\n",
      "llo\n",
      "world\n",
      "hello \n",
      "hlowrd\n",
      "el ol\n",
      "dlrow olleh\n",
      "drwolh\n"
     ]
    }
   ],
   "source": [
    "# slicing\n",
    "s = 'hello world'\n",
    "print(s[2:])  # prints llo world\n",
    "print(s[:5])  # prints hello\n",
    "print(s[2:5])  # prints llo\n",
    "print(s[-5:])  # prints world\n",
    "print(s[:-5])  # prints hello\n",
    "\n",
    "# slicing with step\n",
    "print(s[::2])  # prints hlowrd\n",
    "print(s[1::2])  # prints el ol\n",
    "print(s[::-1])  # prints dlrow olleh - this is reversing a string\n",
    "# reversing a string with step -2\n",
    "print(s[::-2])  # prints dlrow olleh\n",
    "\n"
   ]
  },
  {
   "cell_type": "markdown",
   "metadata": {},
   "source": [
    "## Concatenate Strings\n",
    "We can concatenate strings using the `+` operator. What it does is it joins the two strings together.\n",
    "We can also use the `*` operator to repeat a string a given number of times.\n",
    "Let us see some examples."
   ]
  },
  {
   "cell_type": "code",
   "execution_count": 8,
   "metadata": {},
   "outputs": [
    {
     "name": "stdout",
     "output_type": "stream",
     "text": [
      "MarkTwain\n",
      "Mark Twain\n"
     ]
    }
   ],
   "source": [
    "# define two string variables and concatenate them\n",
    "f_name = 'Mark'\n",
    "l_name = 'Twain'\n",
    "\n",
    "full_name = f_name + l_name\n",
    "print(full_name)  # prints MarkTwain\n",
    "# is this what we wanted? No, we need a space between the first and last name\n",
    "full_name = f_name + ' ' + l_name\n",
    "print(full_name)  # prints Mark Twain\n"
   ]
  },
  {
   "cell_type": "markdown",
   "metadata": {},
   "source": [
    "**Multi Line Strings**\n",
    "- We can create multi-line strings using triple quotes `'''` or `\"\"\"`.\n",
    "- We can also use the escape character `\\n` to create multi-line strings."
   ]
  },
  {
   "cell_type": "code",
   "execution_count": 16,
   "metadata": {},
   "outputs": [
    {
     "name": "stdout",
     "output_type": "stream",
     "text": [
      "This is a\n",
      "multiline string.\n",
      "As you can see, it spans\n",
      "multiple lines.\n",
      "\n"
     ]
    }
   ],
   "source": [
    "# multi-line string using triple quotes\n",
    "multiline_string = '''This is a\n",
    "multiline string.\n",
    "As you can see, it spans\n",
    "multiple lines.\n",
    "'''\n",
    "print(multiline_string)"
   ]
  },
  {
   "cell_type": "markdown",
   "metadata": {},
   "source": [
    "**Escaping Characters**\n",
    "- We can use the escape character `\\` to escape characters that have a special meaning in Python, like `\"` or `\\`.\n",
    "- We can also use the escape character `\\` to create new lines, tabs, and other special characters.\n",
    "  - Examples: `\\\\`, `\\'`, `\\\"`, `\\n`, `\\t`, ...\n",
    "\n",
    "**<p style=\"color:red;\">Attention:</p>**\n",
    "- When we are using single quotes `'` to define a string, we can use double quotes `\"` inside the string without escaping them.\n",
    "- When we are using double quotes `\"` to define a string, we can use single quotes `'` inside the string without escaping them.\n",
    "- When we are using triple quotes `'''` or `\"\"\"` to define a string, we can use both single and double quotes inside the string without escaping them.\n",
    "- We can also use the escape character `\\` to escape the quotes inside the string, e.g. `\\'`, `\\\"`."
   ]
  },
  {
   "cell_type": "code",
   "execution_count": 23,
   "metadata": {},
   "outputs": [
    {
     "name": "stdout",
     "output_type": "stream",
     "text": [
      "My name is \\ Hermione\n",
      "My name is \n",
      " Hermione\n",
      "My name is 'Tomislav'\n",
      "My name is \"Tomislav\"\n",
      "My name is \t Hermione\n"
     ]
    }
   ],
   "source": [
    "# escape characters\n",
    "name = 'Hermione'\n",
    "print('My name is \\\\', name )  # prints My name is \\ Hermion\n",
    "print('My name is \\n', name)  # prints My name is and then goes to the next line and prints my name\n",
    "\n",
    "print('My name is \\'Tomislav\\'')  # prints My name is 'Tomislav'\n",
    "print('My name is \"Tomislav\"')  # prints My name is \"Tomislav\"\n",
    "print('My name is \\t', name)  # prints My name is <tab space> Hermione"
   ]
  },
  {
   "cell_type": "markdown",
   "metadata": {},
   "source": [
    "## Printing Strings, numbers and string formatting\n",
    "\n",
    "- We can use the `print` function to print strings, numbers, and other objects.\n",
    "- We can use the `+` operator to concatenate strings and the `*` operator to repeat strings.\n",
    "- But, we cannot concatenate strings with numbers or other objects.\n",
    "- if we want to combine strings with numbers, we need first to convert the numbers to strings using the `str` function."
   ]
  },
  {
   "cell_type": "code",
   "execution_count": 24,
   "metadata": {},
   "outputs": [
    {
     "name": "stdout",
     "output_type": "stream",
     "text": [
      "Charles Dickens is 58 years old\n"
     ]
    }
   ],
   "source": [
    "name = 'Charles Dickens'\n",
    "age = 58\n",
    "print(name + ' is ' + str(age) + ' years old')  # prints Charles Dickens is 58 years old"
   ]
  },
  {
   "cell_type": "markdown",
   "metadata": {},
   "source": [
    "- if we use comma to separate the strings and numbers in the `print` function, it will automatically add a space between them. Therefore, we don't need to add a space manually, and we don't have to convert numbers to strings."
   ]
  },
  {
   "cell_type": "code",
   "execution_count": 25,
   "metadata": {},
   "outputs": [
    {
     "name": "stdout",
     "output_type": "stream",
     "text": [
      "Charles Dickens is 58 years old.\n"
     ]
    }
   ],
   "source": [
    "print(name, 'is', age, 'years old.')"
   ]
  },
  {
   "cell_type": "markdown",
   "metadata": {},
   "source": [
    "- we can use the formatting string or f-string to format strings and numbers in a more readable way.\n",
    "- that way, we can use placeholders `{}` inside the string, and then pass the values to be formatted as arguments to the `f` string."
   ]
  },
  {
   "cell_type": "code",
   "execution_count": 26,
   "metadata": {},
   "outputs": [
    {
     "name": "stdout",
     "output_type": "stream",
     "text": [
      "Hello, Charles Dickens. You are 58 years old.\n"
     ]
    }
   ],
   "source": [
    "print(f'Hello, {name}. You are {age} years old.')"
   ]
  },
  {
   "cell_type": "markdown",
   "metadata": {},
   "source": [
    "## String Methods\n",
    "\n",
    "Strings have many methods that can be used to manipulate and format them:\n",
    "- `upper`, `lower`, `capitalize`, `title`, `swapcase`\n",
    "- `strip`, `lstrip`, `rstrip`\n",
    "- `replace`, `count`\n",
    "- `find`, `index`\n",
    "- `startswith`, `endswith`\n",
    "- `split`, `join`\n",
    "- `format`\n",
    "- `isalnum`, `isalpha`, `isdigit`, `isnumeric`, `isdecimal`, `isspace`, `islower`, `isupper`, `istitle`, `isidentifier`, `isprintable`\n",
    "- `encode`, `decode`\n",
    "- `zfill`\n",
    "- `center`, `ljust`, `rjust`\n",
    "- `expandtabs`\n",
    "\n",
    "We will not go through all of them (there are too many), but we will see some of the most important ones."
   ]
  },
  {
   "cell_type": "code",
   "execution_count": 32,
   "metadata": {},
   "outputs": [
    {
     "name": "stdout",
     "output_type": "stream",
     "text": [
      "THIS IS A NICE TITLE OF A BOOK\n",
      "nobody should read this book\n",
      "This is a nice title of a book\n",
      "This Is A Nice Title Of A Book\n",
      "True\n",
      "False\n",
      "4\n"
     ]
    }
   ],
   "source": [
    "title = 'this is a nice title of a book'\n",
    "title2 = 'NOBODY SHOULD READ THIS BOOK'\n",
    "\n",
    "# upper\n",
    "print(title.upper())\n",
    "# lower\n",
    "print(title2.lower())\n",
    "# capitalize\n",
    "print(title.capitalize())\n",
    "# title\n",
    "print(title.title())\n",
    "\n",
    "# startswith\n",
    "print(title.startswith('this'))  # prints True\n",
    "print(title.startswith('This'))  # prints False\n",
    "\n",
    "# count\n",
    "print(title.count('i'))  # prints 4"
   ]
  },
  {
   "cell_type": "markdown",
   "metadata": {},
   "source": [
    "Some formating perks"
   ]
  },
  {
   "cell_type": "code",
   "execution_count": 34,
   "metadata": {},
   "outputs": [
    {
     "name": "stdout",
     "output_type": "stream",
     "text": [
      "123,456,789\n",
      "123,456,789.00\n"
     ]
    }
   ],
   "source": [
    "# we can print a number with commas for thousands separator\n",
    "print(f'{123456789:,}')  # prints 123,456,789\n",
    "# we can print a number with commas for thousands separator and decimal separator\n",
    "print(f'{123456789:,.2f}')  # prints 123,456,789.00\n"
   ]
  },
  {
   "cell_type": "markdown",
   "metadata": {},
   "source": [
    "---\n",
    "\n",
    "### F-string\n",
    "\n",
    "F-string is an advanced version of the `format` method. It allows us to format strings and numbers in a more readable way.\n",
    "- We can use the `f` or `F` prefix before the string.\n",
    "- Then, we can use placeholders `{}` inside the string, and then pass the values to be formatted as arguments to the `f` string.\n",
    "- We can use the `:=^10` specifier(here `=`) to align the string to the center and fill it with spaces to the left and right (here 10, but it can be any number).\n",
    "- to center the string on the left we use `:=<10` and to the right we use `:=>10`\n"
   ]
  },
  {
   "cell_type": "code",
   "execution_count": 13,
   "metadata": {},
   "outputs": [
    {
     "name": "stdout",
     "output_type": "stream",
     "text": [
      "Hello, Hermione. You are ----58---- years old.\n",
      "Hello, Hermione. You are 58======== years old.\n",
      "Hello, Hermione. You are ********58 years old.\n"
     ]
    }
   ],
   "source": [
    "name = 'Hermione'\n",
    "age = 58\n",
    "print(f'Hello, {name}. You are {age:-^10} years old.')\n",
    "print(f'Hello, {name}. You are {age:=<10} years old.')\n",
    "print(f'Hello, {name}. You are {age:*>10} years old.')\n"
   ]
  },
  {
   "cell_type": "markdown",
   "metadata": {},
   "source": [
    "- We can use f-string to output the values of the expressions in curly brackets."
   ]
  },
  {
   "cell_type": "code",
   "execution_count": 14,
   "metadata": {},
   "outputs": [
    {
     "name": "stdout",
     "output_type": "stream",
     "text": [
      "Hello, Hermione. You are 116 years old.\n"
     ]
    }
   ],
   "source": [
    "# f-string with expressions\n",
    "name = 'Hermione'\n",
    "age = 58\n",
    "print(f'Hello, {name}. You are {age*2} years old.')\n"
   ]
  },
  {
   "cell_type": "markdown",
   "metadata": {},
   "source": [
    "### Multiline Strings\n",
    "\n",
    "- We can use triple quotes to create multiline strings.\n",
    "- F-strings can also be multiline."
   ]
  },
  {
   "cell_type": "code",
   "execution_count": 15,
   "metadata": {},
   "outputs": [
    {
     "name": "stdout",
     "output_type": "stream",
     "text": [
      "This is a\n",
      "multiline string.\n",
      "As you can see, it spans\n",
      "multiple lines.\n",
      "\n"
     ]
    }
   ],
   "source": [
    "# multiline strings\n",
    "\n",
    "multiline_string = '''This is a\n",
    "multiline string.\n",
    "As you can see, it spans\n",
    "multiple lines.\n",
    "'''\n",
    "print(multiline_string)"
   ]
  },
  {
   "cell_type": "code",
   "execution_count": 16,
   "metadata": {},
   "outputs": [
    {
     "name": "stdout",
     "output_type": "stream",
     "text": [
      "Hello, Hermione.\n",
      "You are 58 years old.\n"
     ]
    }
   ],
   "source": [
    "# multiline f-string\n",
    "name = 'Hermione'\n",
    "age = 58\n",
    "print(f'''Hello, {name}.\n",
    "You are {age} years old.''')"
   ]
  },
  {
   "cell_type": "markdown",
   "metadata": {},
   "source": [
    "### Strings and Numbers\n",
    "\n",
    "When we are combining strings and numbers in a print statemente, we have to convert the numbers to strings using the `str` function. We cannot concatenate strings with numbers."
   ]
  },
  {
   "cell_type": "code",
   "execution_count": 17,
   "metadata": {},
   "outputs": [
    {
     "name": "stdout",
     "output_type": "stream",
     "text": [
      "Hello, World!\n",
      "Hello, World! 123\n"
     ]
    },
    {
     "ename": "TypeError",
     "evalue": "can only concatenate str (not \"int\") to str",
     "output_type": "error",
     "traceback": [
      "\u001b[0;31m---------------------------------------------------------------------------\u001b[0m",
      "\u001b[0;31mTypeError\u001b[0m                                 Traceback (most recent call last)",
      "Cell \u001b[0;32mIn[17], line 4\u001b[0m\n\u001b[1;32m      2\u001b[0m \u001b[38;5;28mprint\u001b[39m(\u001b[38;5;124m'\u001b[39m\u001b[38;5;124mHello, World!\u001b[39m\u001b[38;5;124m'\u001b[39m)  \u001b[38;5;66;03m# prints Hello, World!\u001b[39;00m\n\u001b[1;32m      3\u001b[0m \u001b[38;5;28mprint\u001b[39m(\u001b[38;5;124m'\u001b[39m\u001b[38;5;124mHello, World!\u001b[39m\u001b[38;5;124m'\u001b[39m, \u001b[38;5;241m123\u001b[39m)  \u001b[38;5;66;03m# prints Hello, World! 123\u001b[39;00m\n\u001b[0;32m----> 4\u001b[0m \u001b[38;5;28mprint\u001b[39m(\u001b[38;5;124;43m'\u001b[39;49m\u001b[38;5;124;43mHello, World!\u001b[39;49m\u001b[38;5;124;43m'\u001b[39;49m\u001b[38;5;241;43m+\u001b[39;49m\u001b[43m \u001b[49m\u001b[38;5;241;43m123\u001b[39;49m)  \u001b[38;5;66;03m# throws error\u001b[39;00m\n",
      "\u001b[0;31mTypeError\u001b[0m: can only concatenate str (not \"int\") to str"
     ]
    }
   ],
   "source": [
    "# printing strings and numbers\n",
    "print('Hello, World!')  # prints Hello, World!\n",
    "print('Hello, World!', 123)  # prints Hello, World! 123\n",
    "print('Hello, World!'+ 123)  # throws error"
   ]
  },
  {
   "cell_type": "code",
   "execution_count": 18,
   "metadata": {},
   "outputs": [
    {
     "name": "stdout",
     "output_type": "stream",
     "text": [
      "Hello, World!123\n"
     ]
    }
   ],
   "source": [
    "print('Hello, World!'+ str(123))  # prints Hello, World!123"
   ]
  },
  {
   "cell_type": "markdown",
   "metadata": {},
   "source": [
    "But we can \"multipy\" strings and numbers by using operator `*`. It is not multiplication in mathematical sense. It is merly a concatenation of the same string by `n` times."
   ]
  },
  {
   "cell_type": "code",
   "execution_count": 19,
   "metadata": {},
   "outputs": [
    {
     "name": "stdout",
     "output_type": "stream",
     "text": [
      "Hello, World!\n",
      "Hello, World!\n",
      "Hello, World!\n",
      "Hello, World!\n",
      "\n"
     ]
    }
   ],
   "source": [
    "# print twice 'Hello world!'\n",
    "print('Hello, World!')\n",
    "print('Hello, World!')\n",
    "\n",
    "# or\n",
    "print('Hello, World!\\n'*2)  # prints Hello, World! two times - here we added a new line character"
   ]
  }
 ],
 "metadata": {
  "kernelspec": {
   "display_name": "myenv",
   "language": "python",
   "name": "python3"
  },
  "language_info": {
   "codemirror_mode": {
    "name": "ipython",
    "version": 3
   },
   "file_extension": ".py",
   "mimetype": "text/x-python",
   "name": "python",
   "nbconvert_exporter": "python",
   "pygments_lexer": "ipython3",
   "version": "3.12.2"
  }
 },
 "nbformat": 4,
 "nbformat_minor": 2
}
