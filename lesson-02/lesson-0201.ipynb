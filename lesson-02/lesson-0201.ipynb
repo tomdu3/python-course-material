{
 "cells": [
  {
   "cell_type": "markdown",
   "metadata": {},
   "source": [
    "# Lesson 2: Control Flow - 1. Functions, Loops and Modules\n",
    "\n",
    "## 1. Functions\n",
    "[Function in Python Documentation](https://docs.python.org/3/tutorial/controlflow.html#defining-functions)\n",
    "\n",
    "- function is a reusable block of code that performs a specific task.\n",
    "- function can be defined in two ways:\n",
    "    - function definition\n",
    "    - function declaration\n",
    "\n",
    "### 1.1. Function definition in Python\n",
    "- syntax: `def function_name(parameters):`\n",
    "- `parameters` are optional\n",
    "- `return` is optional\n",
    "- `:` is required\n",
    "- indentation is required\n",
    "- `pass` is optional"
   ]
  },
  {
   "cell_type": "code",
   "execution_count": null,
   "metadata": {},
   "outputs": [],
   "source": [
    "# print the title\n",
    "def print_title():\n",
    "    print('---------------------------------------------------------------')\n",
    "    print('Lesson 2: Functions')\n",
    "    print('---------------------------------------------------------------')"
   ]
  }
 ],
 "metadata": {
  "kernelspec": {
   "display_name": "python312",
   "language": "python",
   "name": "python3"
  },
  "language_info": {
   "name": "python",
   "version": "3.12.2"
  }
 },
 "nbformat": 4,
 "nbformat_minor": 2
}
