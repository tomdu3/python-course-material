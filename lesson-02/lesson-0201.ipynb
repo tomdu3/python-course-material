{
 "cells": [
  {
   "cell_type": "markdown",
   "metadata": {},
   "source": [
    "# Lesson 2: Control Flow - 1. Functions, Scopes\n",
    "\n",
    "## 2.1. Functions\n",
    "[Function in Python Documentation](https://docs.python.org/3/tutorial/controlflow.html#defining-functions)\n",
    "\n",
    "- function is a reusable block of code that performs a specific task.\n",
    "- function can be defined in two ways:\n",
    "    - function definition\n",
    "    - function declaration\n",
    "\n",
    "### 2.1.1. Function definition in Python\n",
    "- syntax: `def function_name(parameters):`\n",
    "- `parameters` are optional\n",
    "- `return` is optional\n",
    "- `:` is required\n",
    "- indentation is required\n",
    "- `pass` is optional"
   ]
  },
  {
   "cell_type": "code",
   "execution_count": 10,
   "metadata": {},
   "outputs": [],
   "source": [
    "# declaration of the function to print the title\n",
    "def print_title():\n",
    "    print('---------------------------------------------------------------')\n",
    "    print('{:^63}'.format('Lesson 2: Functions'))\n",
    "    print('---------------------------------------------------------------')"
   ]
  },
  {
   "cell_type": "markdown",
   "metadata": {},
   "source": [
    "- Why nothing happened when we run the code? Because we only defined the function, but we didn't call it. Functions are like a recepie for our code. We have the instructions, but if we don't say - ok make it so, nothing happens.\n",
    "- Therefore, we need make a **function** call. We do that by writing the name of the function and parentheses."
   ]
  },
  {
   "cell_type": "code",
   "execution_count": 11,
   "metadata": {},
   "outputs": [
    {
     "name": "stdout",
     "output_type": "stream",
     "text": [
      "---------------------------------------------------------------\n",
      "                      Lesson 2: Functions                      \n",
      "---------------------------------------------------------------\n"
     ]
    }
   ],
   "source": [
    "# function call\n",
    "print_title()"
   ]
  },
  {
   "cell_type": "markdown",
   "metadata": {},
   "source": [
    "### 2.1.2. Function definition with return value\n",
    "\n",
    "- if a function doesn't have a return value, the default value is `None`. We call that function a void function.\n",
    "- usually, we expect a function to return a value, after some data manipulation\n",
    "- we use the `return` keyword to return a value from a function\n",
    "- we also use the `return` keyword to exit the function\n",
    "\n",
    "Because of this, the value of the function needs to be assigned to a variable, stored in a file or passed to another function."
   ]
  },
  {
   "cell_type": "code",
   "execution_count": 12,
   "metadata": {},
   "outputs": [
    {
     "name": "stdout",
     "output_type": "stream",
     "text": [
      "The weather will be sunny with a high of 75 degrees.\n"
     ]
    }
   ],
   "source": [
    "# weather forecast functin\n",
    "\n",
    "def weather_forecast():\n",
    "    return 'The weather will be sunny with a high of 75 degrees.'\n",
    "\n",
    "print(weather_forecast())"
   ]
  },
  {
   "cell_type": "code",
   "execution_count": 13,
   "metadata": {},
   "outputs": [
    {
     "name": "stdout",
     "output_type": "stream",
     "text": [
      "The news today is that the stock market is up 100 points.\n"
     ]
    }
   ],
   "source": [
    "# news\n",
    "def news():\n",
    "    return 'The news today is that the stock market is up 100 points.'\n",
    "\n",
    "headline = news()\n",
    "print(headline)"
   ]
  },
  {
   "cell_type": "markdown",
   "metadata": {},
   "source": [
    "### 2.1.3 Functions with parameters\n",
    "\n",
    "- functions can take parameters\n",
    "- parameters are variables that are passed to the function when it is called\n",
    "- we use the `:` operator to specify the type of a parameter (optional)\n",
    "- we user the `->` operator to specify the type of the return value (optional)\n",
    "- we use the `=` operator to assign a default value to a parameter if it is not specified in a function call\n"
   ]
  },
  {
   "cell_type": "code",
   "execution_count": 14,
   "metadata": {},
   "outputs": [
    {
     "name": "stdout",
     "output_type": "stream",
     "text": [
      "3\n",
      "6\n",
      "4\n",
      "6\n"
     ]
    }
   ],
   "source": [
    "# function with parameters\n",
    "def add_two_numbers(num1, num2):\n",
    "    return num1 + num2\n",
    "\n",
    "# function with specified types of parameters\n",
    "def add_three_numbers(num1: int, num2: int, num3: int) -> int:\n",
    "    return num1 + num2 + num3\n",
    "\n",
    "# function with default parameters\n",
    "def multiply_by_two(num1, num2=2):\n",
    "    return num1 * num2\n",
    "\n",
    "sum_of_two = add_two_numbers(1, 2)\n",
    "sum_of_three = add_three_numbers(1, 2, 3)\n",
    "product_of_two_one_parameter = multiply_by_two(2)\n",
    "product_of_two = multiply_by_two(2, 3)\n",
    "\n",
    "print(sum_of_two)\n",
    "print(sum_of_three)\n",
    "print(product_of_two_one_parameter)\n",
    "print(product_of_two)"
   ]
  },
  {
   "cell_type": "markdown",
   "metadata": {},
   "source": [
    "## 2.2 Scope\n",
    "- scope is the visibility of a variable. It determines where a variable can be accessed.\n",
    "- variables can be accessed from anywhere in the program, depending on their scope\n",
    "\n",
    "- there are 2 important types of scopes in Python:\n",
    "    - local scope\n",
    "    - global scope\n",
    "  \n",
    "### 2.2.1. Local scope\n",
    "\n",
    "- local scope is the scope of a variable in a function or class\n",
    "- local scope is defined by indentation\n",
    "- local scope is only accessible within the function or class"
   ]
  },
  {
   "cell_type": "code",
   "execution_count": 16,
   "metadata": {},
   "outputs": [
    {
     "name": "stdout",
     "output_type": "stream",
     "text": [
      "4\n"
     ]
    },
    {
     "ename": "NameError",
     "evalue": "name 'total' is not defined",
     "output_type": "error",
     "traceback": [
      "\u001b[0;31m---------------------------------------------------------------------------\u001b[0m",
      "\u001b[0;31mNameError\u001b[0m                                 Traceback (most recent call last)",
      "Cell \u001b[0;32mIn[16], line 8\u001b[0m\n\u001b[1;32m      4\u001b[0m     \u001b[38;5;28;01mreturn\u001b[39;00m total\n\u001b[1;32m      6\u001b[0m \u001b[38;5;28mprint\u001b[39m(sum_numbers(\u001b[38;5;241m1\u001b[39m,\u001b[38;5;241m3\u001b[39m))\n\u001b[0;32m----> 8\u001b[0m \u001b[38;5;28mprint\u001b[39m(\u001b[43mtotal\u001b[49m)\n",
      "\u001b[0;31mNameError\u001b[0m: name 'total' is not defined"
     ]
    }
   ],
   "source": [
    "# function with variable definition\n",
    "def sum_numbers(num1, num2):\n",
    "    total = num1 + num2\n",
    "    return total\n",
    "\n",
    "print(sum_numbers(1,3))\n",
    "\n",
    "print(total)"
   ]
  },
  {
   "cell_type": "markdown",
   "metadata": {},
   "source": [
    "### 2.2.2. Global scope\n",
    "\n",
    "- global scope is the scope of a variable in the program\n",
    "- global scope is defined by the `global` keyword\n",
    "- global scope is accessible from anywhere in the program\n",
    "- global scope is not limited to a function or class\n",
    "- global scope can be overwritten by a local scope"
   ]
  },
  {
   "cell_type": "code",
   "execution_count": 30,
   "metadata": {},
   "outputs": [
    {
     "name": "stdout",
     "output_type": "stream",
     "text": [
      "Jane\n",
      "John\n"
     ]
    }
   ],
   "source": [
    "name = 'John'\n",
    "def print_name():\n",
    "    # we can use name in our function, but that will not change the global variable value\n",
    "    name = 'Jane'\n",
    "    print(name)\n",
    "\n",
    "print_name()\n",
    "print(name)"
   ]
  },
  {
   "cell_type": "code",
   "execution_count": 31,
   "metadata": {},
   "outputs": [
    {
     "name": "stdout",
     "output_type": "stream",
     "text": [
      "Jane\n",
      "Jane\n"
     ]
    }
   ],
   "source": [
    "# we can access a global variable in a function\n",
    "name = 'John'\n",
    "def print_name():\n",
    "    global name\n",
    "    name = 'Jane' # this will change the global variable value\n",
    "    print(name)\n",
    "\n",
    "print_name()\n",
    "print(name)"
   ]
  },
  {
   "cell_type": "markdown",
   "metadata": {},
   "source": [
    "We have to be careful when we overwrite a global variable with a local variable. It can lead to unexpected behavior of our program.\n"
   ]
  },
  {
   "cell_type": "code",
   "execution_count": null,
   "metadata": {},
   "outputs": [],
   "source": []
  }
 ],
 "metadata": {
  "kernelspec": {
   "display_name": "python312",
   "language": "python",
   "name": "python3"
  },
  "language_info": {
   "codemirror_mode": {
    "name": "ipython",
    "version": 3
   },
   "file_extension": ".py",
   "mimetype": "text/x-python",
   "name": "python",
   "nbconvert_exporter": "python",
   "pygments_lexer": "ipython3",
   "version": "3.12.2"
  }
 },
 "nbformat": 4,
 "nbformat_minor": 2
}
