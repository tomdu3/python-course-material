{
 "cells": [
  {
   "cell_type": "markdown",
   "metadata": {},
   "source": [
    "# Lesson 2 - Control Flow Part 2 - If statements and Loops"
   ]
  },
  {
   "cell_type": "markdown",
   "metadata": {},
   "source": [
    "## 2.3. If statements\n",
    "\n",
    "An if statement is a conditional statement that runs or skips code based on whether a condition is True or False.\n",
    "\n",
    "### 2.3.1 True or False\n",
    "In order to work with if statements in Python, we need to recall our Boolean data type. A Boolean data type is a data type that has one of two possible values (usually denoted true and false), intended to represent the two truth values of logic and Boolean algebra. In Python, the two possible values are `True` and `False`. `True` is represented as `1` and `False` is represented as `0`. It is important to note that `True` and `False` are not the same as `1` and `0`.\n",
    "\n",
    "Let us see some examples:"
   ]
  },
  {
   "cell_type": "code",
   "execution_count": 1,
   "metadata": {},
   "outputs": [
    {
     "name": "stdout",
     "output_type": "stream",
     "text": [
      "True\n",
      "False\n",
      "False\n",
      "False\n",
      "True\n",
      "True\n"
     ]
    }
   ],
   "source": [
    "# True or False statements with comparisons\n",
    "print(5==5)\n",
    "print(5!=5)\n",
    "print(5>5)\n",
    "print(5<5)\n",
    "print(5>=5)\n",
    "print(5<=5)"
   ]
  },
  {
   "cell_type": "code",
   "execution_count": 2,
   "metadata": {},
   "outputs": [
    {
     "name": "stdout",
     "output_type": "stream",
     "text": [
      "False\n",
      "True\n",
      "False\n"
     ]
    }
   ],
   "source": [
    "# True or False statements with boolean operators\n",
    "print(5==5 and 5!=5)\n",
    "print(5==5 or 5!=5)\n",
    "print(not 5==5)"
   ]
  },
  {
   "cell_type": "code",
   "execution_count": 9,
   "metadata": {},
   "outputs": [
    {
     "name": "stdout",
     "output_type": "stream",
     "text": [
      "False\n",
      "True\n",
      "False\n",
      "True\n",
      "True\n",
      "False\n",
      "False\n",
      "True\n"
     ]
    }
   ],
   "source": [
    "print(bool(0))\n",
    "print(bool(1))\n",
    "print(bool(''))\n",
    "print(bool('hello'))\n",
    "print(bool(' '))\n",
    "print(bool(None))\n",
    "a = 0\n",
    "print(bool(a))\n",
    "b = 2\n",
    "print(bool(b))"
   ]
  },
  {
   "cell_type": "markdown",
   "metadata": {},
   "source": [
    "### 2.3.2 if statement\n",
    "\n",
    "- if statement is a conditional statement that runs or skips code based on whether a condition is True or False.\n",
    "- the general structure of an if statement is as follows:\n",
    "\n",
    "    ```python\n",
    "    if condition:\n",
    "        # code to be executed if condition is True\n",
    "    else:\n",
    "        # code to be executed if condition is False\n",
    "    ```\n"
   ]
  },
  {
   "cell_type": "code",
   "execution_count": 10,
   "metadata": {},
   "outputs": [
    {
     "name": "stdout",
     "output_type": "stream",
     "text": [
      "a is 5\n"
     ]
    }
   ],
   "source": [
    "# if statement\n",
    "a = 5\n",
    "if a == 5:\n",
    "    print('a is 5')\n",
    "else:\n",
    "    print('a is not 5')"
   ]
  },
  {
   "cell_type": "code",
   "execution_count": 11,
   "metadata": {},
   "outputs": [
    {
     "name": "stdout",
     "output_type": "stream",
     "text": [
      "a is not 5\n"
     ]
    }
   ],
   "source": [
    "# if else statement\n",
    "a = 4\n",
    "if a == 5:\n",
    "    print('a is 5')\n",
    "else:\n",
    "    print('a is not 5')"
   ]
  },
  {
   "cell_type": "markdown",
   "metadata": {},
   "source": [
    "If we need to check more than one condition, we can use `elif` keyword. It is used to indicate the next condition if the previous condition is false. The general structure of an if statement with `elif` is as follows:\n",
    "\n",
    "```python\n",
    "    if condition1:\n",
    "        # code to be executed if condition1 is True\n",
    "    elif condition2:\n",
    "        # code to be executed if condition1 is False and condition2 is True\n",
    "    else:\n",
    "        # code to be executed if condition1 and condition2 are False\n",
    "```\n"
   ]
  },
  {
   "cell_type": "code",
   "execution_count": null,
   "metadata": {},
   "outputs": [],
   "source": [
    "# example if elif else\n",
    "a = 5\n",
    "if a == 5:\n",
    "    print('a is 5')  # condition is true\n",
    "elif a == 4:  # condition is not true\n",
    "    print('a is 4')\n",
    "else:  # condition is not true\n",
    "    print('a is not 5 or 4')"
   ]
  },
  {
   "cell_type": "markdown",
   "metadata": {},
   "source": [
    "### 2.3.3 Nested if statements\n",
    "\n",
    "- if statement can be nested inside another if statement. This means that an if statement can be inside another if statement."
   ]
  },
  {
   "cell_type": "code",
   "execution_count": 12,
   "metadata": {},
   "outputs": [
    {
     "name": "stdout",
     "output_type": "stream",
     "text": [
      "a is 5 and b is 10\n"
     ]
    }
   ],
   "source": [
    "# nested if statement\n",
    "a = 5\n",
    "b = 10\n",
    "if a == 5:\n",
    "    if b == 10:\n",
    "        print('a is 5 and b is 10')\n",
    "    else:\n",
    "        print('a is 5 but b is not 10')\n",
    "else:\n",
    "    print('a is not 5')\n"
   ]
  },
  {
   "cell_type": "markdown",
   "metadata": {},
   "source": [
    "## 2.4 Loops\n",
    "\n",
    "- A loop is a sequence of instructions that is repeated until a specific condition is met.\n",
    "- We have different types of loops in Python:\n",
    "    - for loop\n",
    "    - while loop\n",
    "\n",
    "### 2.4.1 for loop\n",
    "\n",
    "[For Loop](https://www.w3schools.com/python/python_for_loops.asp)\n",
    "\n",
    "- A for loop is used to iterate over a sequence (list, tuple, string, dictionary, set, etc.) and execute a block of code for each element in the sequence.\n",
    "- The general structure of a for loop is as follows:\n",
    "\n",
    "```python\n",
    "for item in sequence:\n",
    "    # code to be executed for each item in the sequence\n",
    "```\n",
    "\n",
    "- there's a special sequence called `range` that can be used to generate a sequence of numbers. The general structure of a range is as follows:\n",
    "\n",
    "[Range Function](https://www.w3schools.com/python/ref_func_range.asp)\n",
    "\n",
    "```python\n",
    "range(start, stop, step)\n",
    "```\n",
    "\n",
    "- `start` is the starting number of the sequence (optional, default is 0)\n",
    "- `stop` is the ending number of the sequence (mandatory, exclusive)\n",
    "- `step` is the difference between each number in the sequence (optional, default is 1)"
   ]
  },
  {
   "cell_type": "code",
   "execution_count": 1,
   "metadata": {},
   "outputs": [
    {
     "name": "stdout",
     "output_type": "stream",
     "text": [
      "0\n",
      "1\n",
      "2\n",
      "3\n",
      "4\n"
     ]
    }
   ],
   "source": [
    "# basic for loop with range\n",
    "for i in range(5):\n",
    "    print(i)  # 0, 1, 2, 3, 4"
   ]
  },
  {
   "cell_type": "code",
   "execution_count": 2,
   "metadata": {},
   "outputs": [
    {
     "name": "stdout",
     "output_type": "stream",
     "text": [
      "2\n",
      "3\n",
      "4\n"
     ]
    }
   ],
   "source": [
    "# for loop with start and end range\n",
    "for i in range(2, 5):\n",
    "    print(i)  # 2, 3, 4"
   ]
  },
  {
   "cell_type": "code",
   "execution_count": 3,
   "metadata": {},
   "outputs": [
    {
     "name": "stdout",
     "output_type": "stream",
     "text": [
      "2\n",
      "4\n"
     ]
    }
   ],
   "source": [
    "# for loop with start, end and step\n",
    "for i in range(2, 5, 2):\n",
    "    print(i)  # 2, 4"
   ]
  },
  {
   "cell_type": "code",
   "execution_count": 4,
   "metadata": {},
   "outputs": [
    {
     "name": "stdout",
     "output_type": "stream",
     "text": [
      "5\n",
      "4\n",
      "3\n"
     ]
    }
   ],
   "source": [
    "# we can go backwards\n",
    "for i in range(5, 2, -1):\n",
    "    print(i)  # 5, 4, 3"
   ]
  },
  {
   "cell_type": "markdown",
   "metadata": {},
   "source": [
    "We will get back to for loops later, when we learn about other sequences."
   ]
  },
  {
   "cell_type": "markdown",
   "metadata": {},
   "source": [
    "### 2.4.2 while loop\n",
    "\n",
    "[While Loop](https://www.w3schools.com/python/python_while_loops.asp)\n",
    "\n",
    "- A while loop is used to execute a block of code until a certain condition is met.\n",
    "- The general structure of a while loop is as follows:\n",
    "    \n",
    "```python\n",
    "    while condition:\n",
    "        # code to be executed\n",
    "```"
   ]
  },
  {
   "cell_type": "code",
   "execution_count": null,
   "metadata": {},
   "outputs": [],
   "source": [
    "# while loop\n",
    "i = 0\n",
    "while i < 5:\n",
    "    print(i)  # 0, 1, 2, 3, 4\n",
    "    i += 1  # increments i by 1. it corresponds to i = i + 1"
   ]
  },
  {
   "cell_type": "markdown",
   "metadata": {},
   "source": [
    "This example is quite similar to a for loop. In fact, every for loop can be transformed into a while loop. However, there are some cases where a while loop is more appropriate than a for loop. For example, when we don't know the number of iterations in advance.\n",
    "\n",
    "General rule of thumb:\n",
    "- when the number of iterations is known, that is when we need to loop throug a defined sequence,use a for loop\n",
    "- when the number of iterations is unknown, use a while loop"
   ]
  },
  {
   "cell_type": "code",
   "execution_count": 6,
   "metadata": {},
   "outputs": [
    {
     "name": "stdout",
     "output_type": "stream",
     "text": [
      "e\n"
     ]
    }
   ],
   "source": [
    "# while loop without knowing the number of iterations\n",
    "user_input = ''\n",
    "\n",
    "while not user_input:\n",
    "    user_input = input('Enter something: ')  # if empty string, while loop continues\n",
    "\n",
    "print(user_input)\n"
   ]
  },
  {
   "cell_type": "markdown",
   "metadata": {},
   "source": [
    "Many times we need to count the number of iterations that a while loop performs. This can be done using a counter variable. It is usually initialized to 0 and then incremented by 1 each time the loop iterates.\n"
   ]
  },
  {
   "cell_type": "code",
   "execution_count": 8,
   "metadata": {},
   "outputs": [
    {
     "name": "stdout",
     "output_type": "stream",
     "text": [
      "You entered 1 after 3 times\n"
     ]
    }
   ],
   "source": [
    "count = 0\n",
    "user_input = ''\n",
    "\n",
    "while not user_input:\n",
    "    user_input = input('Enter something: ')\n",
    "    count += 1\n",
    "\n",
    "print(f'You entered {user_input} after {count} times')\n"
   ]
  },
  {
   "cell_type": "markdown",
   "metadata": {},
   "source": []
  }
 ],
 "metadata": {
  "kernelspec": {
   "display_name": "python312",
   "language": "python",
   "name": "python3"
  },
  "language_info": {
   "codemirror_mode": {
    "name": "ipython",
    "version": 3
   },
   "file_extension": ".py",
   "mimetype": "text/x-python",
   "name": "python",
   "nbconvert_exporter": "python",
   "pygments_lexer": "ipython3",
   "version": "3.12.2"
  }
 },
 "nbformat": 4,
 "nbformat_minor": 2
}
