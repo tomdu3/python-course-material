{
 "cells": [
  {
   "cell_type": "markdown",
   "metadata": {},
   "source": [
    "# Lesson 2 - Control Flow Part 2 - If statements and Loops"
   ]
  },
  {
   "cell_type": "markdown",
   "metadata": {},
   "source": [
    "## 2.3. If statements\n",
    "\n",
    "An if statement is a conditional statement that runs or skips code based on whether a condition is True or False.\n",
    "\n",
    "### 2.3.1 True or False\n",
    "In order to work with if statements in Python, we need to recall our Boolean data type. A Boolean data type is a data type that has one of two possible values (usually denoted true and false), intended to represent the two truth values of logic and Boolean algebra. In Python, the two possible values are `True` and `False`. `True` is represented as `1` and `False` is represented as `0`. It is important to note that `True` and `False` are not the same as `1` and `0`.\n",
    "\n",
    "Let us see some examples:"
   ]
  },
  {
   "cell_type": "code",
   "execution_count": 1,
   "metadata": {},
   "outputs": [
    {
     "name": "stdout",
     "output_type": "stream",
     "text": [
      "True\n",
      "False\n",
      "False\n",
      "False\n",
      "True\n",
      "True\n"
     ]
    }
   ],
   "source": [
    "# True or False statements with comparisons\n",
    "print(5==5)\n",
    "print(5!=5)\n",
    "print(5>5)\n",
    "print(5<5)\n",
    "print(5>=5)\n",
    "print(5<=5)"
   ]
  },
  {
   "cell_type": "code",
   "execution_count": 2,
   "metadata": {},
   "outputs": [
    {
     "name": "stdout",
     "output_type": "stream",
     "text": [
      "False\n",
      "True\n",
      "False\n"
     ]
    }
   ],
   "source": [
    "# True or False statements with boolean operators\n",
    "print(5==5 and 5!=5)\n",
    "print(5==5 or 5!=5)\n",
    "print(not 5==5)"
   ]
  },
  {
   "cell_type": "code",
   "execution_count": 9,
   "metadata": {},
   "outputs": [
    {
     "name": "stdout",
     "output_type": "stream",
     "text": [
      "False\n",
      "True\n",
      "False\n",
      "True\n",
      "True\n",
      "False\n",
      "False\n",
      "True\n"
     ]
    }
   ],
   "source": [
    "print(bool(0))\n",
    "print(bool(1))\n",
    "print(bool(''))\n",
    "print(bool('hello'))\n",
    "print(bool(' '))\n",
    "print(bool(None))\n",
    "a = 0\n",
    "print(bool(a))\n",
    "b = 2\n",
    "print(bool(b))"
   ]
  },
  {
   "cell_type": "markdown",
   "metadata": {},
   "source": [
    "### 2.3.2 if statement\n",
    "\n",
    "- if statement is a conditional statement that runs or skips code based on whether a condition is True or False.\n",
    "- the general structure of an if statement is as follows:\n",
    "\n",
    "    ```python\n",
    "    if condition:\n",
    "        # code to be executed if condition is True\n",
    "    else:\n",
    "        # code to be executed if condition is False\n",
    "    ```\n"
   ]
  },
  {
   "cell_type": "code",
   "execution_count": 10,
   "metadata": {},
   "outputs": [
    {
     "name": "stdout",
     "output_type": "stream",
     "text": [
      "a is 5\n"
     ]
    }
   ],
   "source": [
    "# if statement\n",
    "a = 5\n",
    "if a == 5:\n",
    "    print('a is 5')\n",
    "else:\n",
    "    print('a is not 5')"
   ]
  },
  {
   "cell_type": "code",
   "execution_count": 11,
   "metadata": {},
   "outputs": [
    {
     "name": "stdout",
     "output_type": "stream",
     "text": [
      "a is not 5\n"
     ]
    }
   ],
   "source": [
    "# if else statement\n",
    "a = 4\n",
    "if a == 5:\n",
    "    print('a is 5')\n",
    "else:\n",
    "    print('a is not 5')"
   ]
  },
  {
   "cell_type": "markdown",
   "metadata": {},
   "source": [
    "If we need to check more than one condition, we can use `elif` keyword. It is used to indicate the next condition if the previous condition is false. The general structure of an if statement with `elif` is as follows:\n",
    "\n",
    "```python\n",
    "    if condition1:\n",
    "        # code to be executed if condition1 is True\n",
    "    elif condition2:\n",
    "        # code to be executed if condition1 is False and condition2 is True\n",
    "    else:\n",
    "        # code to be executed if condition1 and condition2 are False\n",
    "```\n"
   ]
  },
  {
   "cell_type": "code",
   "execution_count": null,
   "metadata": {},
   "outputs": [],
   "source": [
    "# example if elif else\n",
    "a = 5\n",
    "if a == 5:\n",
    "    print('a is 5')  # condition is true\n",
    "elif a == 4:  # condition is not true\n",
    "    print('a is 4')\n",
    "else:  # condition is not true\n",
    "    print('a is not 5 or 4')"
   ]
  },
  {
   "cell_type": "markdown",
   "metadata": {},
   "source": [
    "### 2.3.3 Nested if statements\n",
    "\n",
    "- if statement can be nested inside another if statement. This means that an if statement can be inside another if statement."
   ]
  },
  {
   "cell_type": "code",
   "execution_count": 12,
   "metadata": {},
   "outputs": [
    {
     "name": "stdout",
     "output_type": "stream",
     "text": [
      "a is 5 and b is 10\n"
     ]
    }
   ],
   "source": [
    "# nested if statement\n",
    "a = 5\n",
    "b = 10\n",
    "if a == 5:\n",
    "    if b == 10:\n",
    "        print('a is 5 and b is 10')\n",
    "    else:\n",
    "        print('a is 5 but b is not 10')\n",
    "else:\n",
    "    print('a is not 5')\n"
   ]
  },
  {
   "cell_type": "markdown",
   "metadata": {},
   "source": []
  }
 ],
 "metadata": {
  "kernelspec": {
   "display_name": "python312",
   "language": "python",
   "name": "python3"
  },
  "language_info": {
   "codemirror_mode": {
    "name": "ipython",
    "version": 3
   },
   "file_extension": ".py",
   "mimetype": "text/x-python",
   "name": "python",
   "nbconvert_exporter": "python",
   "pygments_lexer": "ipython3",
   "version": "3.12.2"
  }
 },
 "nbformat": 4,
 "nbformat_minor": 2
}
