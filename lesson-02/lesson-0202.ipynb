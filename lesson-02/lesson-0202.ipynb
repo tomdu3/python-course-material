{
 "cells": [
  {
   "cell_type": "markdown",
   "metadata": {},
   "source": [
    "# Lesson 2 - Control Flow Part 2 - If statements and Loops"
   ]
  },
  {
   "cell_type": "markdown",
   "metadata": {},
   "source": [
    "## 2.3. If statements\n",
    "\n",
    "An if statement is a conditional statement that runs or skips code based on whether a condition is True or False.\n",
    "\n",
    "### 2.3.1 True or False\n",
    "In order to work with if statements in Python, we need to recall our Boolean data type. A Boolean data type is a data type that has one of two possible values (usually denoted true and false), intended to represent the two truth values of logic and Boolean algebra. In Python, the two possible values are `True` and `False`. `True` is represented as `1` and `False` is represented as `0`. It is important to note that `True` and `False` are not the same as `1` and `0`.\n",
    "\n",
    "Let us see some examples:"
   ]
  },
  {
   "cell_type": "code",
   "execution_count": 1,
   "metadata": {},
   "outputs": [
    {
     "name": "stdout",
     "output_type": "stream",
     "text": [
      "True\n",
      "False\n",
      "False\n",
      "False\n",
      "True\n",
      "True\n"
     ]
    }
   ],
   "source": [
    "# True or False statements with comparisons\n",
    "print(5==5)\n",
    "print(5!=5)\n",
    "print(5>5)\n",
    "print(5<5)\n",
    "print(5>=5)\n",
    "print(5<=5)"
   ]
  },
  {
   "cell_type": "code",
   "execution_count": 2,
   "metadata": {},
   "outputs": [
    {
     "name": "stdout",
     "output_type": "stream",
     "text": [
      "False\n",
      "True\n",
      "False\n"
     ]
    }
   ],
   "source": [
    "# True or False statements with boolean operators\n",
    "print(5==5 and 5!=5)\n",
    "print(5==5 or 5!=5)\n",
    "print(not 5==5)"
   ]
  },
  {
   "cell_type": "code",
   "execution_count": 3,
   "metadata": {},
   "outputs": [
    {
     "name": "stdout",
     "output_type": "stream",
     "text": [
      "False\n",
      "True\n",
      "False\n",
      "True\n",
      "True\n",
      "False\n",
      "False\n",
      "True\n"
     ]
    }
   ],
   "source": [
    "print(bool(0))\n",
    "print(bool(1))\n",
    "print(bool(''))\n",
    "print(bool('hello'))\n",
    "print(bool(' '))\n",
    "print(bool(None))\n",
    "a = 0\n",
    "print(bool(a))\n",
    "b = 2\n",
    "print(bool(b))"
   ]
  },
  {
   "cell_type": "markdown",
   "metadata": {},
   "source": [
    "- **Truth Tables**\n",
    "\n",
    "| Condition | True | False |\n",
    "| --- | --- | --- |\n",
    "| 5 == 5 | True | False |\n",
    "| 5 != 5 | False | True |\n",
    "| 5 > 5 | False | False |\n",
    "| 5 < 5 | False | False |\n",
    "| 5 >= 5 | True | False |\n",
    "| 5 <= 5 | True | False |\n",
    "\n",
    "- **Logical Operators**\n",
    "- `and`, `or` and `not` (not in Python is `!`)\n",
    "<br>\n",
    "\n",
    "- **AND**\n",
    "  \n",
    "| A | B | A and B |\n",
    "| --- | --- | --- |\n",
    "| 0 | 0 | 0 |\n",
    "| 0 | 1 | 0 |\n",
    "| 1 | 0 | 0 |\n",
    "| 1 | 1 | 1 |\n",
    "\n",
    "- **OR**\n",
    "\n",
    "| A | B | A or B |\n",
    "| --- | --- | --- |\n",
    "| 0 | 0 | 0 |\n",
    "| 0 | 1 | 1 |\n",
    "| 1 | 0 | 1 |\n",
    "| 1 | 1 | 1 |\n",
    "\n",
    "- **NOT**\n",
    "\n",
    "| A | A not |\n",
    "| --- | --- |\n",
    "| 0 | 1 |\n",
    "| 1 | 0 |\n",
    "\n",
    "- **NOT AND**\n",
    "\n",
    "| A | B | NOT (A and B) |\n",
    "| --- | --- | --- |\n",
    "| 0 | 0 | 1 |\n",
    "| 0 | 1 | 0 |\n",
    "| 1 | 0 | 0 |\n",
    "| 1 | 1 | 0 |\n",
    "\n",
    "- **NOT OR**\n",
    "\n",
    "| A | B | NOT (A or B) |\n",
    "| --- | --- | --- |\n",
    "| 0 | 0 | 1 |\n",
    "| 0 | 1 | 1 |\n",
    "| 1 | 0 | 1 |\n",
    "| 1 | 1 | 0 |\n",
    "\n",
    "<br>\n",
    "\n",
    "- `NOT AND` is equivalent to `NOT(A and B) == (NOT A) or (NOT B)`\n",
    "- `NOT OR` is equivalent to `NOT(A or B) == NOT(A) and NOT(B)`"
   ]
  },
  {
   "cell_type": "markdown",
   "metadata": {},
   "source": [
    "### 2.3.2 if statement\n",
    "\n",
    "- if statement is a conditional statement that runs or skips code based on whether a condition is True or False.\n",
    "- the general structure of an if statement is as follows:\n",
    "\n",
    "    ```python\n",
    "    if condition:\n",
    "        # code to be executed if condition is True\n",
    "    else:\n",
    "        # code to be executed if condition is False\n",
    "    ```\n"
   ]
  },
  {
   "cell_type": "code",
   "execution_count": 4,
   "metadata": {},
   "outputs": [
    {
     "name": "stdout",
     "output_type": "stream",
     "text": [
      "a is 5\n"
     ]
    }
   ],
   "source": [
    "# if statement\n",
    "a = 5\n",
    "if a == 5:\n",
    "    print('a is 5')\n",
    "else:\n",
    "    print('a is not 5')"
   ]
  },
  {
   "cell_type": "code",
   "execution_count": 5,
   "metadata": {},
   "outputs": [
    {
     "name": "stdout",
     "output_type": "stream",
     "text": [
      "a is not 5\n"
     ]
    }
   ],
   "source": [
    "# if else statement\n",
    "a = 4\n",
    "if a == 5:\n",
    "    print('a is 5')\n",
    "else:\n",
    "    print('a is not 5')"
   ]
  },
  {
   "cell_type": "markdown",
   "metadata": {},
   "source": [
    "If we need to check more than one condition, we can use `elif` keyword. It is used to indicate the next condition if the previous condition is false. The general structure of an if statement with `elif` is as follows:\n",
    "\n",
    "```python\n",
    "    if condition1:\n",
    "        # code to be executed if condition1 is True\n",
    "    elif condition2:\n",
    "        # code to be executed if condition1 is False and condition2 is True\n",
    "    else:\n",
    "        # code to be executed if condition1 and condition2 are False\n",
    "```\n"
   ]
  },
  {
   "cell_type": "code",
   "execution_count": 6,
   "metadata": {},
   "outputs": [
    {
     "name": "stdout",
     "output_type": "stream",
     "text": [
      "a is 5\n"
     ]
    }
   ],
   "source": [
    "# example if elif else\n",
    "a = 5\n",
    "if a == 5:\n",
    "    print('a is 5')  # condition is true\n",
    "elif a == 4:  # condition is not true\n",
    "    print('a is 4')\n",
    "else:  # condition is not true\n",
    "    print('a is not 5 or 4')"
   ]
  },
  {
   "cell_type": "markdown",
   "metadata": {},
   "source": [
    "### 2.3.3 Nested if statements\n",
    "\n",
    "- if statement can be nested inside another if statement. This means that an if statement can be inside another if statement."
   ]
  },
  {
   "cell_type": "code",
   "execution_count": 7,
   "metadata": {},
   "outputs": [
    {
     "name": "stdout",
     "output_type": "stream",
     "text": [
      "a is 5 and b is 10\n"
     ]
    }
   ],
   "source": [
    "# nested if statement\n",
    "a = 5\n",
    "b = 10\n",
    "if a == 5:\n",
    "    if b == 10:\n",
    "        print('a is 5 and b is 10')\n",
    "    else:\n",
    "        print('a is 5 but b is not 10')\n",
    "else:\n",
    "    print('a is not 5')\n"
   ]
  },
  {
   "cell_type": "markdown",
   "metadata": {},
   "source": [
    "## 2.3.4 Match Statements\n",
    "\n",
    "[Match Statement](https://medium.com/@sabcan.uy/python-match-case-statement-63d01477e1c0)\n",
    "\n",
    "- Match statements are a new feature in Python 3.10. They are used to match a value of the certain data.\n",
    "- Every match statement can be rewritten as if-elif-else statements.\n",
    "- we use `case` keyword to indicate the case with certain condition.\n",
    "\n",
    "- the syntax is as follow:\n",
    "  ```python\n",
    "  match value:\n",
    "    case value1:\n",
    "        # code to be executed if value is value1\n",
    "    case value2:\n",
    "        # code to be executed if value is value2\n",
    "    case _:\n",
    "        # code to be executed if value is not value1 or value2\n",
    "  ```\n",
    "<br>\n",
    "\n",
    "Let us first see an example in if-elif-else statement that we will then convert into match statement."
   ]
  },
  {
   "cell_type": "code",
   "execution_count": 8,
   "metadata": {},
   "outputs": [
    {
     "name": "stdout",
     "output_type": "stream",
     "text": [
      "You did not enter 1 or 2\n"
     ]
    }
   ],
   "source": [
    "# example with if elif else\n",
    "user_input = int(input('Enter a number: '))\n",
    "\n",
    "if user_input == 1:\n",
    "    print('You entered 1')\n",
    "elif user_input == 2:\n",
    "    print('You entered 2')\n",
    "else:\n",
    "    print('You did not enter 1 or 2')"
   ]
  },
  {
   "cell_type": "code",
   "execution_count": null,
   "metadata": {},
   "outputs": [
    {
     "name": "stdout",
     "output_type": "stream",
     "text": [
      "You entered 2\n"
     ]
    }
   ],
   "source": [
    "# same code with match\n",
    "user_input = int(input('Enter a number: '))\n",
    "\n",
    "match user_input:\n",
    "    case 1:\n",
    "        print('You entered 1')\n",
    "    case 2:\n",
    "        print('You entered 2')\n",
    "    case _:\n",
    "        print('You did not enter 1 or 2')"
   ]
  },
  {
   "cell_type": "markdown",
   "metadata": {},
   "source": [
    "**Using Match with conditionals**\n",
    "- We can use match statement with conditionals.\n",
    "- we will use `_` in the match statement to indicate the case with certain condition.\n",
    "- we also use `|` to indicate `OR` condition.\n",
    "- we also use `&` to indicate `AND` condition.\n",
    "- we also use `not` to indicate `NOT` condition."
   ]
  },
  {
   "cell_type": "code",
   "execution_count": null,
   "metadata": {},
   "outputs": [],
   "source": [
    "# example with if elif else\n",
    "user_input = int(input('Enter a number: '))\n",
    "\n",
    "if user_input == 1 | 2:\n",
    "    print('You entered 1 or 2')\n",
    "else:\n",
    "    print('You did not enter 1 or 2')"
   ]
  },
  {
   "cell_type": "code",
   "execution_count": null,
   "metadata": {},
   "outputs": [],
   "source": [
    "# same code with match\n",
    "user_input = int(input('Enter a number: '))\n",
    "\n",
    "match user_input:\n",
    "    case 1 | 2:\n",
    "        print('You entered 1 or 2')\n",
    "    case _:\n",
    "        print('You did not enter 1 or 2')"
   ]
  },
  {
   "cell_type": "code",
   "execution_count": null,
   "metadata": {},
   "outputs": [],
   "source": [
    "# example with if elif else\n",
    "user_input = int(input('Enter a number: '))\n",
    "\n",
    "if user_input == 0:\n",
    "    print('You entered 0')\n",
    "elif user_input > 0:\n",
    "    print('You entered a positive number')\n",
    "elif user_input < 0:\n",
    "    print('You entered a negative number')\n",
    "else:\n",
    "    print('You did not enter a number')"
   ]
  },
  {
   "cell_type": "code",
   "execution_count": null,
   "metadata": {},
   "outputs": [],
   "source": [
    "# same code with match\n",
    "user_input = int(input('Enter a number: '))\n",
    "\n",
    "match user_input:\n",
    "    case 0:\n",
    "        print('You entered 0')\n",
    "    case _ if user_input > 0:\n",
    "        print('You entered a positive number')\n",
    "    case _ if user_input < 0:\n",
    "        print('You entered a negative number')\n",
    "    case _:\n",
    "        print('You did not enter a number')"
   ]
  },
  {
   "cell_type": "markdown",
   "metadata": {},
   "source": [
    "Let use show now another beautiful example."
   ]
  },
  {
   "cell_type": "code",
   "execution_count": 2,
   "metadata": {},
   "outputs": [
    {
     "name": "stdout",
     "output_type": "stream",
     "text": [
      "HELLO\n",
      "(1, 5)\n",
      "10\n",
      "11.0\n"
     ]
    }
   ],
   "source": [
    "# example with match\n",
    "def process_data(data):\n",
    "    match data:\n",
    "        case str():\n",
    "            return data.upper()\n",
    "        case list() as l if len(l) > 2:\n",
    "            return l[0], l[-1]\n",
    "        case int() | float():\n",
    "            return data * 2\n",
    "        case _:\n",
    "            return \"Unknown data type\"\n",
    "\n",
    "\n",
    "print(process_data('hello'))\n",
    "print(process_data([1, 2, 3, 4, 5]))\n",
    "print(process_data(5))\n",
    "print(process_data(5.5))"
   ]
  },
  {
   "cell_type": "code",
   "execution_count": 1,
   "metadata": {},
   "outputs": [
    {
     "name": "stdout",
     "output_type": "stream",
     "text": [
      "HELLO\n",
      "(1, 5)\n",
      "10\n",
      "11.0\n"
     ]
    }
   ],
   "source": [
    "# rewritten with if elif else\n",
    "def process_data(data):\n",
    "    if isinstance(data, str):\n",
    "        return data.upper()\n",
    "    elif isinstance(data, list) and len(data) > 2:\n",
    "        return data[0], data[-1]\n",
    "    elif isinstance(data, (int, float)):\n",
    "        return data * 2\n",
    "    else:\n",
    "        return \"Unknown data type\"\n",
    "\n",
    "\n",
    "print(process_data('hello'))\n",
    "print(process_data([1, 2, 3, 4, 5]))\n",
    "print(process_data(5))\n",
    "print(process_data(5.5))"
   ]
  },
  {
   "cell_type": "markdown",
   "metadata": {},
   "source": [
    "## 2.4 Loops\n",
    "\n",
    "- A loop is a sequence of instructions that is repeated until a specific condition is met.\n",
    "- We have different types of loops in Python:\n",
    "    - for loop\n",
    "    - while loop\n",
    "\n",
    "### 2.4.1 for loop\n",
    "\n",
    "[For Loop](https://www.w3schools.com/python/python_for_loops.asp)\n",
    "\n",
    "- A for loop is used to iterate over a sequence (list, tuple, string, dictionary, set, etc.) and execute a block of code for each element in the sequence.\n",
    "- The general structure of a for loop is as follows:\n",
    "\n",
    "```python\n",
    "for item in sequence:\n",
    "    # code to be executed for each item in the sequence\n",
    "```\n",
    "\n",
    "- there's a special sequence called `range` that can be used to generate a sequence of numbers. The general structure of a range is as follows:\n",
    "\n",
    "[Range Function](https://www.w3schools.com/python/ref_func_range.asp)\n",
    "\n",
    "```python\n",
    "range(start, stop, step)\n",
    "```\n",
    "\n",
    "- `start` is the starting number of the sequence (optional, default is 0)\n",
    "- `stop` is the ending number of the sequence (mandatory, exclusive)\n",
    "- `step` is the difference between each number in the sequence (optional, default is 1)"
   ]
  },
  {
   "cell_type": "code",
   "execution_count": 1,
   "metadata": {},
   "outputs": [
    {
     "name": "stdout",
     "output_type": "stream",
     "text": [
      "0\n",
      "1\n",
      "2\n",
      "3\n",
      "4\n"
     ]
    }
   ],
   "source": [
    "# basic for loop with range\n",
    "for i in range(5):\n",
    "    print(i)  # 0, 1, 2, 3, 4"
   ]
  },
  {
   "cell_type": "code",
   "execution_count": 2,
   "metadata": {},
   "outputs": [
    {
     "name": "stdout",
     "output_type": "stream",
     "text": [
      "2\n",
      "3\n",
      "4\n"
     ]
    }
   ],
   "source": [
    "# for loop with start and end range\n",
    "for i in range(2, 5):\n",
    "    print(i)  # 2, 3, 4"
   ]
  },
  {
   "cell_type": "code",
   "execution_count": 3,
   "metadata": {},
   "outputs": [
    {
     "name": "stdout",
     "output_type": "stream",
     "text": [
      "2\n",
      "4\n"
     ]
    }
   ],
   "source": [
    "# for loop with start, end and step\n",
    "for i in range(2, 5, 2):\n",
    "    print(i)  # 2, 4"
   ]
  },
  {
   "cell_type": "code",
   "execution_count": 4,
   "metadata": {},
   "outputs": [
    {
     "name": "stdout",
     "output_type": "stream",
     "text": [
      "5\n",
      "4\n",
      "3\n"
     ]
    }
   ],
   "source": [
    "# we can go backwards\n",
    "for i in range(5, 2, -1):\n",
    "    print(i)  # 5, 4, 3"
   ]
  },
  {
   "cell_type": "markdown",
   "metadata": {},
   "source": [
    "We will get back to for loops later, when we learn about other sequences."
   ]
  },
  {
   "cell_type": "markdown",
   "metadata": {},
   "source": [
    "### 2.4.2 while loop\n",
    "\n",
    "[While Loop](https://www.w3schools.com/python/python_while_loops.asp)\n",
    "\n",
    "- A while loop is used to execute a block of code until a certain condition is met.\n",
    "- The general structure of a while loop is as follows:\n",
    "    \n",
    "```python\n",
    "    while condition:\n",
    "        # code to be executed\n",
    "```"
   ]
  },
  {
   "cell_type": "code",
   "execution_count": null,
   "metadata": {},
   "outputs": [],
   "source": [
    "# while loop\n",
    "i = 0\n",
    "while i < 5:\n",
    "    print(i)  # 0, 1, 2, 3, 4\n",
    "    i += 1  # increments i by 1. it corresponds to i = i + 1"
   ]
  },
  {
   "cell_type": "markdown",
   "metadata": {},
   "source": [
    "This example is quite similar to a for loop. In fact, every for loop can be transformed into a while loop. However, there are some cases where a while loop is more appropriate than a for loop. For example, when we don't know the number of iterations in advance.\n",
    "\n",
    "General rule of thumb:\n",
    "- when the number of iterations is known, that is when we need to loop throug a defined sequence,use a for loop\n",
    "- when the number of iterations is unknown, use a while loop"
   ]
  },
  {
   "cell_type": "code",
   "execution_count": 6,
   "metadata": {},
   "outputs": [
    {
     "name": "stdout",
     "output_type": "stream",
     "text": [
      "e\n"
     ]
    }
   ],
   "source": [
    "# while loop without knowing the number of iterations\n",
    "user_input = ''\n",
    "\n",
    "while not user_input:\n",
    "    user_input = input('Enter something: ')  # if empty string, while loop continues\n",
    "\n",
    "print(user_input)\n"
   ]
  },
  {
   "cell_type": "markdown",
   "metadata": {},
   "source": [
    "Many times we need to count the number of iterations that a while loop performs. This can be done using a counter variable. It is usually initialized to 0 and then incremented by 1 each time the loop iterates.\n"
   ]
  },
  {
   "cell_type": "code",
   "execution_count": 8,
   "metadata": {},
   "outputs": [
    {
     "name": "stdout",
     "output_type": "stream",
     "text": [
      "You entered 1 after 3 times\n"
     ]
    }
   ],
   "source": [
    "count = 0\n",
    "user_input = ''\n",
    "\n",
    "while not user_input:\n",
    "    user_input = input('Enter something: ')\n",
    "    count += 1\n",
    "\n",
    "print(f'You entered {user_input} after {count} times')\n"
   ]
  },
  {
   "cell_type": "markdown",
   "metadata": {},
   "source": [
    "### 2.5. Random Module\n",
    "\n",
    "https://docs.python.org/3/library/random.html\n",
    "\n",
    "- The `random` library in Python is used to generate random numbers. The `randint()` function from this library is often used when an integer needs to be randomly selected within a certain range.\n",
    "- The `randint()` function takes two arguments: the start and the end of the range (both inclusive). It returns a random integer within this range.\n",
    "<br>\n",
    "Here's how you can use it:\n",
    "\n",
    "In this example, `random.randint(1, 10)` will generate a random integer between 1 and 10 (1 and 10 included)."
   ]
  },
  {
   "cell_type": "code",
   "execution_count": null,
   "metadata": {},
   "outputs": [],
   "source": [
    "import random\n",
    "\n",
    "random_number = random.randint(1, 10)\n",
    "print(random_number)\n"
   ]
  },
  {
   "cell_type": "code",
   "execution_count": 3,
   "metadata": {},
   "outputs": [
    {
     "name": "stdout",
     "output_type": "stream",
     "text": [
      "9\n"
     ]
    }
   ],
   "source": [
    "import random\n",
    "\n",
    "# generate a random number\n",
    "random_number = random.randint(1, 10)\n",
    "print(random_number)  # 1, 2, 3, 4, 5, 6, 7, 8, 9, 10"
   ]
  },
  {
   "cell_type": "markdown",
   "metadata": {},
   "source": [
    "Here's another example:"
   ]
  },
  {
   "cell_type": "code",
   "execution_count": 4,
   "metadata": {},
   "outputs": [
    {
     "name": "stdout",
     "output_type": "stream",
     "text": [
      "21\n",
      "46\n",
      "57\n",
      "29\n",
      "63\n"
     ]
    }
   ],
   "source": [
    "import random\n",
    "\n",
    "for _ in range(5):\n",
    "    print(random.randint(1, 100))"
   ]
  },
  {
   "cell_type": "markdown",
   "metadata": {},
   "source": [
    "In this example, we generate and print five random integers between 1 and 100.\n",
    "<br>\n",
    "\n",
    "The `random` library is not just limited to the `randint()` function. There are also other functions available that provide more flexibility and control over the randomization process.\n",
    "For example, the `random()` function returns a random floating point number in the range [0.0, 1.0). Here's an example:"
   ]
  },
  {
   "cell_type": "code",
   "execution_count": 6,
   "metadata": {},
   "outputs": [
    {
     "name": "stdout",
     "output_type": "stream",
     "text": [
      "0.6294152416500041\n"
     ]
    }
   ],
   "source": [
    "import random\n",
    "\n",
    "random_float = random.random()\n",
    "print(random_float)"
   ]
  },
  {
   "cell_type": "markdown",
   "metadata": {},
   "source": [
    "In this code, `random.random()` generates a random float between 0 (inclusive) and 1 (exclusive)."
   ]
  }
 ],
 "metadata": {
  "kernelspec": {
   "display_name": "python312",
   "language": "python",
   "name": "python3"
  },
  "language_info": {
   "codemirror_mode": {
    "name": "ipython",
    "version": 3
   },
   "file_extension": ".py",
   "mimetype": "text/x-python",
   "name": "python",
   "nbconvert_exporter": "python",
   "pygments_lexer": "ipython3",
   "version": "3.12.2"
  }
 },
 "nbformat": 4,
 "nbformat_minor": 2
}
