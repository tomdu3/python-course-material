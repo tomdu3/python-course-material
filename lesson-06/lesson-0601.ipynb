{
 "cells": [
  {
   "cell_type": "markdown",
   "metadata": {},
   "source": [
    "# 6. Object oriented progamming, Lambda Functions and APIs "
   ]
  },
  {
   "cell_type": "markdown",
   "metadata": {},
   "source": [
    "## 6.1 Object oriented progamming\n",
    "\n",
    "### 6.1.1. Introduction\n",
    "\n",
    "Object oriented programming is a programming paradigm that uses objects and their interactions to design applications. It is an ultimate approach to software development and reusability.\n",
    "\n",
    "Object Oriented Programming is a fundamental concept in Python, empowering developers to build modular, maintainable, and scalable applications. By understanding the core OOP principles—classes, objects, inheritance, encapsulation, polymorphism, and abstraction—programmers can leverage the full potential of Python’s OOP capabilities to design elegant and efficient solutions to complex problems.\n",
    "\n",
    "\n",
    "### 6.1.2. What is Object-Oriented Programming in Python?\n",
    "\n",
    "In Python object-oriented Programming (OOPs) is a programming paradigm that uses objects and classes in programming. It aims to implement real-world entities like inheritance, polymorphisms, encapsulation, etc. in the programming. The main concept of object-oriented Programming (OOPs) or oops concepts in Python is to bind the data and the functions that work together as a single unit so that no other part of the code can access this data. \n",
    "\n",
    "We use objects and classes in Python to define the real-world entities like inheritance, polymorphisms, encapsulation, etc."
   ]
  },
  {
   "cell_type": "markdown",
   "metadata": {},
   "source": [
    "### 6.1.3. Classes\n",
    "[Classes from GeekForGeeks](https://www.geeksforgeeks.org/python-oops-concepts/)\n",
    "\n",
    "A class is a collection of objects. A class contains the blueprints or the prototype from which the objects are being created. It is a logical entity that contains some attributes and methods. \n",
    "\n",
    "To understand the need for creating a class let’s consider an example, let’s say you wanted to track the number of dogs that may have different attributes like breed, and age. If a list is used, the first element could be the dog’s breed while the second element could represent its age. Let’s suppose there are 100 different dogs, then how would you know which element is supposed to be which? What if you wanted to add other properties to these dogs? This lacks organization and it’s the exact need for classes. \n",
    "\n",
    "Some points on Python class:  \n",
    "\n",
    "    Classes are created by keyword class.\n",
    "    Attributes are the variables that belong to a class.\n",
    "    Attributes are always public and can be accessed using the dot (.) operator. Eg.: Myclass.Myattribute\n",
    "\n",
    "Class Definition Syntax:\n",
    "\n",
    "```python\n",
    "    class Name(parameters):\n",
    "        ...\n",
    "```\n",
    "\n",
    "    "
   ]
  },
  {
   "cell_type": "code",
   "execution_count": 1,
   "metadata": {},
   "outputs": [
    {
     "name": "stdout",
     "output_type": "stream",
     "text": [
      "John is 36 years old.\n"
     ]
    }
   ],
   "source": [
    "# class example\n",
    "class Human:\n",
    "        def __init__(self, name, age):\n",
    "            self.name = name\n",
    "            self.age = age\n",
    "\n",
    "        def display(self):\n",
    "            print(f'{self.name} is {self.age} years old.')\n",
    "        \n",
    "# object creation\n",
    "h1 = Human('John', 36)\n",
    "h1.display()\n",
    "\n"
   ]
  },
  {
   "cell_type": "markdown",
   "metadata": {},
   "source": [
    "- let us explain the code\n",
    "- `class` is defining a class\n",
    "- `Human` is the name of the class\n",
    "- `def __init__(self, name, age)` is the constructor of the class. It is called automatically when an object is created.\n",
    "- `self` is the instance of the class - it refers to the object itself\n",
    "- `name` and `age` are the attributes of the class - these are the variables we receive when we create an object\n",
    "- `display(self)` is the method of the class\n",
    "- `f'{self.name} is {self.age} years old.'` is the output of the method\n",
    "- `h1` is an object made on the blueprint of the class Human"
   ]
  },
  {
   "cell_type": "markdown",
   "metadata": {},
   "source": [
    "#### 6.1.4. Static variables vs instance variables\n",
    "\n",
    "- Static variables - variables that are shared by all objects of the class\n",
    "- Instance variables - variables that are unique to each object "
   ]
  },
  {
   "cell_type": "code",
   "execution_count": 2,
   "metadata": {},
   "outputs": [
    {
     "name": "stdout",
     "output_type": "stream",
     "text": [
      "Title: Title 1\n",
      "Author: Author 1\n",
      "Title: Title 2\n",
      "Author: Author 2\n",
      "Title: Title 3\n",
      "Author: Author 3\n",
      "Total number of books: 3\n"
     ]
    }
   ],
   "source": [
    "# Make a class with static and instance variables\n",
    "\n",
    "class Book:\n",
    "\n",
    "    # static variable\n",
    "    num_books = 0\n",
    "\n",
    "    def __init__(self, title, author):\n",
    "        self.title = title\n",
    "        self.author = author\n",
    "        Book.num_books += 1\n",
    "\n",
    "    def display(self):\n",
    "        print(f'Title: {self.title}')\n",
    "        print(f'Author: {self.author}')\n",
    "\n",
    "# object creation\n",
    "b1 = Book('Title 1', 'Author 1')\n",
    "b1.display()\n",
    "\n",
    "b2 = Book('Title 2', 'Author 2')\n",
    "b2.display()\n",
    "\n",
    "b3 = Book('Title 3', 'Author 3')\n",
    "b3.display()\n",
    "\n",
    "print(f'Total number of books: {Book.num_books}')"
   ]
  },
  {
   "cell_type": "markdown",
   "metadata": {},
   "source": [
    "### 6.1.5. Inheritance\n",
    "\n",
    "Let us see one other example."
   ]
  },
  {
   "cell_type": "code",
   "execution_count": 3,
   "metadata": {},
   "outputs": [
    {
     "name": "stdout",
     "output_type": "stream",
     "text": [
      "John is 36 years old and goes to MIT.\n"
     ]
    }
   ],
   "source": [
    "# make a class that will inherit from the Human class\n",
    "class Student(Human):\n",
    "    def __init__(self, name, age, school):\n",
    "        super().__init__(name, age)\n",
    "        self.school = school\n",
    "\n",
    "    def display(self):\n",
    "        print(f'{self.name} is {self.age} years old and goes to {self.school}.')\n",
    "\n",
    "# object creation\n",
    "s1 = Student('John', 36, 'MIT')\n",
    "s1.display()"
   ]
  },
  {
   "cell_type": "markdown",
   "metadata": {},
   "source": [
    "- here we have a class with 3 attributes and 1 method\n",
    "- `super()` is a function that is used to access the attributes and methods of the parent class\n",
    "- `self` is an instance of the class\n",
    "- `school` is an attribute of the class Student\n",
    "- `f'{self.name} is {self.age} years old and goes to {self.school}.'` is the output of the method\n",
    "\n",
    "- here we have an example of the concept we call inheritance.\n",
    "\n",
    "**Inheritance** is a concept that allows us to define a class that inherits the properties from another class.\n",
    "- **Parent class** is the class being inherited from, also called base class.\n",
    "- **Child class** is the class that inherits from another class, also called derived class.\n"
   ]
  },
  {
   "cell_type": "code",
   "execution_count": 4,
   "metadata": {},
   "outputs": [
    {
     "name": "stdout",
     "output_type": "stream",
     "text": [
      "John is 36 years old.\n",
      "Salary: 50000\n"
     ]
    }
   ],
   "source": [
    "# Child class\n",
    "class Employee(Human):\n",
    "    def __init__(self, name, age, salary):  # overrides the parent class initialization\n",
    "        super().__init__(name, age)  # inherits the parent class initialization\n",
    "        self.salary = salary\n",
    "\n",
    "    def display(self):\n",
    "        print(f'{self.name} is {self.age} years old.')\n",
    "        print(f'Salary: {self.salary}')\n",
    "\n",
    "# object creation\n",
    "e1 = Employee('John', 36, 50000)\n",
    "e1.display()"
   ]
  },
  {
   "cell_type": "markdown",
   "metadata": {},
   "source": [
    "Let us see one example of the class that will contain all the objects that are created from the class."
   ]
  },
  {
   "cell_type": "code",
   "execution_count": 5,
   "metadata": {},
   "outputs": [
    {
     "name": "stdout",
     "output_type": "stream",
     "text": [
      "John Smith 35 False\n",
      "Jane Doe 30 True\n",
      "John Smith 35 False\n",
      "Jane Doe 30 True\n",
      "[<__main__.Client object at 0x7f4c941039b0>, <__main__.Client object at 0x7f4c94103b00>]\n",
      "John Smith 35 False\n",
      "Jane Doe 30 True\n"
     ]
    }
   ],
   "source": [
    "class Client:\n",
    "    clients = []\n",
    "\n",
    "    def __init__(self, fname, lname, age, subscription=False):\n",
    "        self.fname = fname\n",
    "        self.lname = lname\n",
    "        self.age = age\n",
    "        self.subscription = subscription\n",
    "        self.clients.append(self)\n",
    "\n",
    "    def display(self):\n",
    "        print(f'{self.fname} {self.lname} {self.age} {self.subscription}')\n",
    "\n",
    "    def __str__(self):\n",
    "        return f'{self.fname} {self.lname} {self.age} {self.subscription}'\n",
    "\n",
    "\n",
    "c1 = Client('John', 'Smith', 35)\n",
    "c1.display()\n",
    "\n",
    "c2 = Client('Jane', 'Doe', 30, True)\n",
    "c2.display()\n",
    "\n",
    "print(c1)\n",
    "print(c2)\n",
    "\n",
    "\n",
    "print(Client.clients)  # list of objects - we receive the type details and the address\n",
    "\n",
    "for client in Client.clients:  # we are accessing the objects\n",
    "    print(client)\n"
   ]
  },
  {
   "cell_type": "markdown",
   "metadata": {},
   "source": [
    "- `__str__(self)` is a special method that is called when we print an object. Let us see the case when we print an object without and with this method."
   ]
  },
  {
   "cell_type": "code",
   "execution_count": 6,
   "metadata": {},
   "outputs": [
    {
     "name": "stdout",
     "output_type": "stream",
     "text": [
      "<__main__.CreditCard object at 0x7f4c94103800>\n"
     ]
    }
   ],
   "source": [
    "class CreditCard:\n",
    "\n",
    "    def __init__(self, card_number, expiration_date, cvv):\n",
    "        self.card_number = card_number\n",
    "        self.expiration_date = expiration_date\n",
    "        self.cvv = cvv\n",
    "\n",
    "card = CreditCard('1234 5678 9012 3456', '02/25', '123')\n",
    "print(card)"
   ]
  },
  {
   "cell_type": "markdown",
   "metadata": {},
   "source": [
    "Now, with the `__str__(self)` method"
   ]
  },
  {
   "cell_type": "code",
   "execution_count": 7,
   "metadata": {},
   "outputs": [
    {
     "name": "stdout",
     "output_type": "stream",
     "text": [
      "card number: 1234 5678 9012 3456, exp: 02/25, CVV: 123\n"
     ]
    }
   ],
   "source": [
    "class CreditCard:\n",
    "\n",
    "    def __init__(self, card_number, expiration_date, cvv):\n",
    "        self.card_number = card_number\n",
    "        self.expiration_date = expiration_date\n",
    "        self.cvv = cvv\n",
    "\n",
    "    def __str__(self):\n",
    "        return f'card number: {self.card_number}, exp: {self.expiration_date}, CVV: {self.cvv}'\n",
    "\n",
    "card = CreditCard('1234 5678 9012 3456', '02/25', '123')\n",
    "print(card)\n"
   ]
  },
  {
   "cell_type": "markdown",
   "metadata": {},
   "source": [
    "### 6.1.6. Polymorphism\n",
    "\n",
    "Polymorphism is the ability of an object to take on many forms. In Python, polymorphism is achieved using the concept of inheritance.\n",
    "Practically, polymorphism is achieved using method overriding.\n",
    "- That means we can create a method in a child class that has the same name as that of the method in the parent class, but it will have a different implementation."
   ]
  },
  {
   "cell_type": "code",
   "execution_count": 8,
   "metadata": {},
   "outputs": [
    {
     "name": "stdout",
     "output_type": "stream",
     "text": [
      "Car color is Red and brand is Toyota\n",
      "210 km/h\n",
      "Truck color is Blue and brand is Ford and payload is 1000\n",
      "120 km/h\n",
      "<class '__main__.Car'>\n",
      "<class '__main__.Truck'>\n",
      "True\n",
      "True\n",
      "True\n"
     ]
    }
   ],
   "source": [
    "# Polymorphism example\n",
    "class Car:\n",
    "\n",
    "    def __init__(self, color, brand):\n",
    "        self.color = color\n",
    "        self.brand = brand\n",
    "\n",
    "    def __str__(self):\n",
    "        return f'Car color is {self.color} and brand is {self.brand}'\n",
    "    \n",
    "    def speed(self):\n",
    "        print('210 km/h')\n",
    "\n",
    "class Truck(Car):\n",
    "\n",
    "    def __init__(self, color, brand, payload):\n",
    "        super().__init__(color, brand)\n",
    "        self.payload = payload\n",
    "    \n",
    "    def speed(self):\n",
    "        print('120 km/h')\n",
    "\n",
    "    def __str__(self):\n",
    "        return f'Truck color is {self.color} and brand is {self.brand} and payload is {self.payload}'\n",
    "\n",
    "\n",
    "c1 = Car('Red', 'Toyota')\n",
    "print(c1)\n",
    "c1.speed()\n",
    "\n",
    "t1 = Truck('Blue', 'Ford', 1000)\n",
    "print(t1)\n",
    "t1.speed()\n",
    "\n",
    "print(type(c1))\n",
    "print(type(t1))\n",
    "print(isinstance(c1, Car))\n",
    "print(isinstance(t1, Car))\n",
    "print(isinstance(t1, Truck))"
   ]
  },
  {
   "cell_type": "markdown",
   "metadata": {},
   "source": [
    "Compile time polymorphism or Method Overloading\n",
    "\n",
    "- We can create a method in a parent class that has the same name as that of the method in the child class, but it will have a different implementation."
   ]
  },
  {
   "cell_type": "code",
   "execution_count": 9,
   "metadata": {},
   "outputs": [
    {
     "ename": "TypeError",
     "evalue": "Area.area() missing 2 required positional arguments: 'y' and 'z'",
     "output_type": "error",
     "traceback": [
      "\u001b[0;31m---------------------------------------------------------------------------\u001b[0m",
      "\u001b[0;31mTypeError\u001b[0m                                 Traceback (most recent call last)",
      "Cell \u001b[0;32mIn[9], line 12\u001b[0m\n\u001b[1;32m      8\u001b[0m         \u001b[38;5;28;01mreturn\u001b[39;00m \u001b[38;5;124mf\u001b[39m\u001b[38;5;124m'\u001b[39m\u001b[38;5;124mArea of a triangle is \u001b[39m\u001b[38;5;132;01m{\u001b[39;00mx\u001b[38;5;250m \u001b[39m\u001b[38;5;241m*\u001b[39m\u001b[38;5;250m \u001b[39my\u001b[38;5;250m \u001b[39m\u001b[38;5;241m*\u001b[39m\u001b[38;5;250m \u001b[39mz\u001b[38;5;132;01m}\u001b[39;00m\u001b[38;5;124m'\u001b[39m\n\u001b[1;32m     11\u001b[0m area \u001b[38;5;241m=\u001b[39m Area()\n\u001b[0;32m---> 12\u001b[0m \u001b[38;5;28mprint\u001b[39m(\u001b[43marea\u001b[49m\u001b[38;5;241;43m.\u001b[39;49m\u001b[43marea\u001b[49m\u001b[43m(\u001b[49m\u001b[38;5;241;43m10\u001b[39;49m\u001b[43m)\u001b[49m)\n\u001b[1;32m     13\u001b[0m \u001b[38;5;28mprint\u001b[39m(area\u001b[38;5;241m.\u001b[39marea(\u001b[38;5;241m10\u001b[39m, \u001b[38;5;241m20\u001b[39m))\n\u001b[1;32m     14\u001b[0m \u001b[38;5;28mprint\u001b[39m(area\u001b[38;5;241m.\u001b[39marea(\u001b[38;5;241m10\u001b[39m, \u001b[38;5;241m20\u001b[39m, \u001b[38;5;241m30\u001b[39m))\n",
      "\u001b[0;31mTypeError\u001b[0m: Area.area() missing 2 required positional arguments: 'y' and 'z'"
     ]
    }
   ],
   "source": [
    "# Compile time polymorphism - static polymorphism - not a valid Python example\n",
    "class Area:\n",
    "\n",
    "    def area(self, x, y):\n",
    "        return f'Area of a rectangle is {x * y}'\n",
    "    \n",
    "    def area(self, x, y, z):\n",
    "        return f'Area of a triangle is {x * y * z}'\n",
    "\n",
    "\n",
    "area = Area()\n",
    "print(area.area(10))\n",
    "print(area.area(10, 20))\n",
    "print(area.area(10, 20, 30))"
   ]
  },
  {
   "cell_type": "code",
   "execution_count": 10,
   "metadata": {},
   "outputs": [
    {
     "name": "stdout",
     "output_type": "stream",
     "text": [
      "Invalid number of arguments\n",
      "Area of a rectangle is 200\n",
      "Area of a triangle is 6000\n"
     ]
    }
   ],
   "source": [
    "# Compile time polymorphism - static polymorphism - a valid Python example\n",
    "class Area:\n",
    "    def area(self, x, y=None, z=None):\n",
    "        if z is not None:\n",
    "            return f'Area of a triangle is {x * y * z}'\n",
    "        elif y is not None:\n",
    "            return f'Area of a rectangle is {x * y}'\n",
    "        else:\n",
    "            return f'Invalid number of arguments'\n",
    "\n",
    "area = Area()\n",
    "print(area.area(10))          # Output: Invalid number of arguments\n",
    "print(area.area(10, 20))      # Output: Area of a rectangle is 200\n",
    "print(area.area(10, 20, 30))  # Output: Area of a triangle is 6000"
   ]
  },
  {
   "cell_type": "markdown",
   "metadata": {},
   "source": [
    "### 6.1.7 Encapsulation\n",
    "\n",
    "- Encapsulation is the process of binding data and methods together in a single unit. In Python, encapsulation is achieved using the concept of attributes (data) and methods (functions).\n",
    "- The reason behind encapsulation is to achieve data hiding.\n",
    "- The data inside the class is private and the methods are public. The data and methods inside the class are accessible to the class and its subclasses.\n",
    "- syntax for encapsulation:\n",
    "    - private attributes and methods are using single underscores `_`\n",
    "    - protected attributes and methods are using double underscores `__`"
   ]
  },
  {
   "cell_type": "code",
   "execution_count": 17,
   "metadata": {},
   "outputs": [
    {
     "name": "stdout",
     "output_type": "stream",
     "text": [
      "Car color is Red and brand is Toyota\n",
      "210 km/h\n"
     ]
    }
   ],
   "source": [
    "# Encapsulation example\n",
    "class Car:\n",
    "\n",
    "    def __init__(self, color, brand):\n",
    "        self.__color = color\n",
    "        self.__brand = brand\n",
    "\n",
    "    def __str__(self):  # private method\n",
    "        return f'Car color is {self.__color} and brand is {self.__brand}'\n",
    "    \n",
    "    def _price_(self):  # protected method\n",
    "        return '210 km/h' \n",
    "\n",
    "    def get_price(self):  # calling the protected method\n",
    "        return self._price_()  # accessing the private method\n",
    "\n",
    "c1 = Car('Red', 'Toyota')\n",
    "print(c1)\n",
    "\n",
    "print(c1.get_price())  # Now get_price() returns a value, so it can be printed\n"
   ]
  },
  {
   "cell_type": "markdown",
   "metadata": {},
   "source": [
    "- When we are dealing with private or protected variables, we need to use the getter and setter methods to access or modify them.\n",
    "- The getter method is used to access the private variable and the setter method is used to modify the private variable."
   ]
  },
  {
   "cell_type": "code",
   "execution_count": 2,
   "metadata": {},
   "outputs": [
    {
     "name": "stdout",
     "output_type": "stream",
     "text": [
      "Dog says woof\n",
      "Dog\n",
      "woof\n",
      "arf\n",
      "Dog says arf\n",
      "Cat says meow\n",
      "Cat\n",
      "meow\n",
      "purr\n",
      "Cat says purr\n"
     ]
    }
   ],
   "source": [
    "# private variables, getter and setter methods\n",
    "class Animal:\n",
    "\n",
    "    def __init__(self, name, says_what):\n",
    "        self.__name = name\n",
    "        self.__says_what = says_what\n",
    "\n",
    "    def __str__(self):\n",
    "        return f'{self.__name} says {self.__says_what}'\n",
    "\n",
    "    def get_name(self):\n",
    "        return self.__name\n",
    "\n",
    "    def get_says_what(self):\n",
    "        return self.__says_what\n",
    "\n",
    "    def set_says_what(self, says_what):\n",
    "        self.__says_what = says_what\n",
    "\n",
    "\n",
    "a1 = Animal('Dog', 'woof')\n",
    "print(a1)\n",
    "print(a1.get_name())\n",
    "print(a1.get_says_what())\n",
    "a1.set_says_what('arf')\n",
    "print(a1.get_says_what())\n",
    "print(a1)\n",
    "a2 = Animal('Cat', 'meow')\n",
    "print(a2)\n",
    "print(a2.get_name())\n",
    "print(a2.get_says_what())\n",
    "a2.set_says_what('purr')\n",
    "print(a2.get_says_what())\n",
    "print(a2)"
   ]
  },
  {
   "cell_type": "markdown",
   "metadata": {},
   "source": [
    "## 6.2. Lambda functions and use cases\n",
    "\n",
    "Sometimes we need to create a function without a name. In this case, we can use lambda functions. They are useful when we need to pass a function as an argument to another function, or when we want to create a function that is useful only in one place of the code, and never called again.\n",
    "\n",
    "### 6.2.1. Lambda functions\n",
    "- [https://www.programiz.com/python-programming/anonymous-function](https://www.programiz.com/python-programming/anonymous-function)\n",
    "- [https://www.freecodecamp.org/news/python-lambda-function-explained/](https://www.freecodecamp.org/news/python-lambda-function-explained/)\n",
    "\n",
    "<br>\n",
    "\n",
    "- A lambda function is a small anonymous function.\n",
    "- It can take any number of arguments, but can only have one expression.\n",
    "- It is used when we want to create a function without a name.\n",
    "- It is useful when we want to pass a function as an argument to another function.\n",
    "- It is also used when we want to create a function that is called only once.\n",
    "- sytax:\n",
    "    ```python\n",
    "    lambda argument(s) : expression  \n",
    "    ```"
   ]
  },
  {
   "cell_type": "code",
   "execution_count": 1,
   "metadata": {},
   "outputs": [
    {
     "name": "stdout",
     "output_type": "stream",
     "text": [
      "Hello, John!\n",
      "Hello, Jane!\n"
     ]
    }
   ],
   "source": [
    "\n",
    "# lambda function example\n",
    "hello = lambda name: f'Hello, {name}!'\n",
    "\n",
    "print(hello('John'))\n",
    "print(hello('Jane'))"
   ]
  },
  {
   "cell_type": "code",
   "execution_count": 2,
   "metadata": {},
   "outputs": [
    {
     "name": "stdout",
     "output_type": "stream",
     "text": [
      "Hello, John! You are 30 years old.\n",
      "Hello, Jane! You are 25 years old.\n"
     ]
    }
   ],
   "source": [
    "# lambda function with multiple arguments\n",
    "say_hello = lambda name, age: f'Hello, {name}! You are {age} years old.'\n",
    "\n",
    "print(say_hello('John', 30))\n",
    "print(say_hello('Jane', 25))"
   ]
  },
  {
   "cell_type": "code",
   "execution_count": 4,
   "metadata": {},
   "outputs": [
    {
     "name": "stdout",
     "output_type": "stream",
     "text": [
      "60\n"
     ]
    }
   ],
   "source": [
    "# lambda function called only once in a complex program\n",
    "\n",
    "def get_sum(num1, num2):\n",
    "    return lambda num3: num1 + num2 + num3\n",
    "\n",
    "print(get_sum(10, 20)(30))  # Output: 60, because 10 + 20 + 30 = 60"
   ]
  },
  {
   "cell_type": "markdown",
   "metadata": {},
   "source": [
    "This code defines a function called get_sum that takes two arguments num1 and num2. The function returns another function defined as a lambda function which takes a single argument num3 and returns the sum of num1, num2, and num3.\n",
    "\n",
    "When the get_sum function is called with arguments 10 and 20, it returns a lambda function. Then, the returned lambda function is immediately called with argument 30 using (30) which calculates the sum of 10, 20, and 30. The output of the code will be 60."
   ]
  },
  {
   "cell_type": "markdown",
   "metadata": {},
   "source": [
    "### 6.2.2. Lambda functions and map, filter, and reduce\n",
    "\n",
    "- Map, filter, and reduce are functions that are used in functional programming. They are used to apply a function to each element of a list, filter out elements based on a condition, and reduce the elements into a single value.\n",
    "- we use lambda functions in these functions to perform these tasks."
   ]
  },
  {
   "cell_type": "markdown",
   "metadata": {},
   "source": [
    "#### Map\n",
    "\n",
    "- Map function applies a function to each element of a list. It returns a new list with the modified elements.\n",
    "- It is used to transform the elements of a list.\n",
    "\n",
    "- syntax: `map(function, iterable)`"
   ]
  },
  {
   "cell_type": "code",
   "execution_count": 2,
   "metadata": {},
   "outputs": [
    {
     "name": "stdout",
     "output_type": "stream",
     "text": [
      "[1, 4, 9, 16, 25]\n"
     ]
    }
   ],
   "source": [
    "# map function example\n",
    "numbers = [1, 2, 3, 4, 5]\n",
    "\n",
    "squares = list(map(lambda x: x**2, numbers))\n",
    "\n",
    "print(squares)  # Output: [1, 4, 9, 16, 25]\n"
   ]
  },
  {
   "cell_type": "code",
   "execution_count": 3,
   "metadata": {},
   "outputs": [
    {
     "name": "stdout",
     "output_type": "stream",
     "text": [
      "[1, 4, 9, 16, 25]\n"
     ]
    }
   ],
   "source": [
    "# map function using external function\n",
    "def my_square(x):\n",
    "    return x**2\n",
    "\n",
    "numbers = [1, 2, 3, 4, 5]\n",
    "\n",
    "squares = list(map(my_square, numbers))\n",
    "\n",
    "print(squares)  # Output: [1, 4, 9, 16, 25]"
   ]
  },
  {
   "cell_type": "markdown",
   "metadata": {},
   "source": [
    "#### Filter\n",
    "\n",
    "- Filter function filters out elements from a list based on a condition. It returns a new list with the filtered elements.\n",
    "- It is used to remove elements from a list based on a condition.\n",
    "\n",
    "- syntax: `filter(function, iterable)`"
   ]
  },
  {
   "cell_type": "code",
   "execution_count": 4,
   "metadata": {},
   "outputs": [
    {
     "name": "stdout",
     "output_type": "stream",
     "text": [
      "[2, 4, 6, 8, 10]\n"
     ]
    }
   ],
   "source": [
    "# filter function example\n",
    "numbers = [1, 2, 3, 4, 5, 6, 7, 8, 9, 10]\n",
    "\n",
    "even_numbers = list(filter(lambda x: x % 2 == 0, numbers))\n",
    "\n",
    "print(even_numbers)  # Output: [2, 4, 6, 8, 10]"
   ]
  },
  {
   "cell_type": "markdown",
   "metadata": {},
   "source": [
    "#### Reduce\n",
    "\n",
    "- Reduce function reduces the elements of a list into a single value. It returns a single value.\n",
    "- It is used to combine the elements of a list into a single value.\n",
    "- e.g. to calculate the sum of a list of numbers.\n",
    "- syntax: `reduce(function, iterable)`"
   ]
  },
  {
   "cell_type": "code",
   "execution_count": 1,
   "metadata": {},
   "outputs": [
    {
     "name": "stdout",
     "output_type": "stream",
     "text": [
      "120\n"
     ]
    }
   ],
   "source": [
    "# reduce function example\n",
    "from functools import reduce\n",
    "\n",
    "numbers = [1, 2, 3, 4, 5]\n",
    "\n",
    "product = reduce(lambda x, y: x * y, numbers)\n",
    "\n",
    "print(product)  # Output: 120"
   ]
  }
 ],
 "metadata": {
  "kernelspec": {
   "display_name": "python312",
   "language": "python",
   "name": "python3"
  },
  "language_info": {
   "codemirror_mode": {
    "name": "ipython",
    "version": 3
   },
   "file_extension": ".py",
   "mimetype": "text/x-python",
   "name": "python",
   "nbconvert_exporter": "python",
   "pygments_lexer": "ipython3",
   "version": "3.12.3"
  }
 },
 "nbformat": 4,
 "nbformat_minor": 2
}
