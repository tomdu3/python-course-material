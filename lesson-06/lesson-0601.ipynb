{
 "cells": [
  {
   "cell_type": "markdown",
   "metadata": {},
   "source": [
    "# 6. Object oriented progamming\n",
    "\n",
    "## 6.1. Introduction\n",
    "\n",
    "Object oriented programming is a programming paradigm that uses objects and their interactions to design applications. It is an ultimate approach to software development and reusability.\n",
    "\n",
    "Object Oriented Programming is a fundamental concept in Python, empowering developers to build modular, maintainable, and scalable applications. By understanding the core OOP principles—classes, objects, inheritance, encapsulation, polymorphism, and abstraction—programmers can leverage the full potential of Python’s OOP capabilities to design elegant and efficient solutions to complex problems.\n",
    "\n",
    "\n",
    "## 6.2. What is Object-Oriented Programming in Python?\n",
    "\n",
    "In Python object-oriented Programming (OOPs) is a programming paradigm that uses objects and classes in programming. It aims to implement real-world entities like inheritance, polymorphisms, encapsulation, etc. in the programming. The main concept of object-oriented Programming (OOPs) or oops concepts in Python is to bind the data and the functions that work together as a single unit so that no other part of the code can access this data. \n",
    "\n",
    "We use objects and classes in Python to define the real-world entities like inheritance, polymorphisms, encapsulation, etc."
   ]
  },
  {
   "cell_type": "markdown",
   "metadata": {},
   "source": [
    "## 6.3. Clases\n",
    "[Classes from GeekForGeeks](https://www.geeksforgeeks.org/python-oops-concepts/)\n",
    "\n",
    "A class is a collection of objects. A class contains the blueprints or the prototype from which the objects are being created. It is a logical entity that contains some attributes and methods. \n",
    "\n",
    "To understand the need for creating a class let’s consider an example, let’s say you wanted to track the number of dogs that may have different attributes like breed, and age. If a list is used, the first element could be the dog’s breed while the second element could represent its age. Let’s suppose there are 100 different dogs, then how would you know which element is supposed to be which? What if you wanted to add other properties to these dogs? This lacks organization and it’s the exact need for classes. \n",
    "\n",
    "Some points on Python class:  \n",
    "\n",
    "    Classes are created by keyword class.\n",
    "    Attributes are the variables that belong to a class.\n",
    "    Attributes are always public and can be accessed using the dot (.) operator. Eg.: Myclass.Myattribute\n",
    "\n",
    "Class Definition Syntax:\n",
    "\n",
    "```python\n",
    "    class Name(parameters):\n",
    "        ...\n",
    "```\n",
    "\n",
    "    "
   ]
  },
  {
   "cell_type": "code",
   "execution_count": 1,
   "metadata": {},
   "outputs": [
    {
     "name": "stdout",
     "output_type": "stream",
     "text": [
      "John is 36 years old.\n"
     ]
    }
   ],
   "source": [
    "# class example\n",
    "class Human:\n",
    "        def __init__(self, name, age):\n",
    "            self.name = name\n",
    "            self.age = age\n",
    "\n",
    "        def display(self):\n",
    "            print(f'{self.name} is {self.age} years old.')\n",
    "        \n",
    "# object creation\n",
    "h1 = Human('John', 36)\n",
    "h1.display()\n",
    "\n"
   ]
  },
  {
   "cell_type": "markdown",
   "metadata": {},
   "source": [
    "- let us explain the code\n",
    "- `class` is defining a class\n",
    "- `Human` is the name of the class\n",
    "- `def __init__(self, name, age)` is the constructor of the class. It is called automatically when an object is created.\n",
    "- `self` is the instance of the class - it refers to the object itself\n",
    "- `name` and `age` are the attributes of the class - these are the variables we receive when we create an object\n",
    "- `display(self)` is the method of the class\n",
    "- `f'{self.name} is {self.age} years old.'` is the output of the method\n",
    "- `h1` is an object made on the blueprint of the class Huma"
   ]
  },
  {
   "cell_type": "code",
   "execution_count": 4,
   "metadata": {},
   "outputs": [],
   "source": [
    "# make a class with comments explanations\n",
    "class Person(Human):\n",
    "    def __init__(self, name, age, gender):\n",
    "        super().__init__(name, age)\n",
    "        self.gender = gender\n",
    "\n",
    "    def display(self):\n",
    "        print(f'{self.name} is {self.age} years old and is a {self.gender}.')"
   ]
  },
  {
   "cell_type": "markdown",
   "metadata": {},
   "source": [
    "- here we have a class with 3 attributes and 1 method\n",
    "- `super()` is a function that is used to access the attributes and methods of the parent class\n",
    "- `self` is an instance of the class\n",
    "- `gender` is an attribute of the class Person\n",
    "- `f'{self.name} is {self.age} years old and is a {self.gender}.'` is the output of the method\n",
    "\n",
    "- here we have an example of the concept we call inheritance.\n",
    "\n",
    "**Inheritance** is a concept that allows us to define a class that inherits the properties from another class.\n",
    "- **Parent class** is the class being inherited from, also called base class.\n",
    "- **Child class** is the class that inherits from another class, also called derived class.\n"
   ]
  },
  {
   "cell_type": "code",
   "execution_count": null,
   "metadata": {},
   "outputs": [],
   "source": [
    "# Parent class\n",
    "class Person(Human):\n",
    "    def __init__(self, name, age, gender):\n",
    "        super().__init__(name, age)\n",
    "        self.gender = gender\n",
    "\n",
    "    def display(self):\n",
    "        print(f'{self.name} is {self.age} years old and is a {self.gender}.')\n",
    "\n",
    "# Child class\n",
    "class Employee(Person):\n",
    "    def __init__(self, name, age, gender, salary):  # overrides the parent class initialization\n",
    "        super().__init__(name, age, gender)  # inherits the parent class initialization\n",
    "        self.salary = salary\n",
    "\n",
    "    def display(self):\n",
    "        print(f'{self.name} is {self.age} years old and is a {self.gender}.')\n",
    "        print(f'Salary: {self.salary}')"
   ]
  },
  {
   "cell_type": "code",
   "execution_count": null,
   "metadata": {},
   "outputs": [],
   "source": []
  }
 ],
 "metadata": {
  "kernelspec": {
   "display_name": "python312",
   "language": "python",
   "name": "python3"
  },
  "language_info": {
   "codemirror_mode": {
    "name": "ipython",
    "version": 3
   },
   "file_extension": ".py",
   "mimetype": "text/x-python",
   "name": "python",
   "nbconvert_exporter": "python",
   "pygments_lexer": "ipython3",
   "version": "3.12.2"
  }
 },
 "nbformat": 4,
 "nbformat_minor": 2
}
