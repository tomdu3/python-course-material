{
 "cells": [
  {
   "cell_type": "markdown",
   "metadata": {},
   "source": [
    "# Lesson 6.3 - APIs\n",
    "\n",
    "![API](./apiai.jpeg)\n",
    "\n",
    "Useful links:\n",
    "- [Python and REST APIs: Interacting With Web Services](https://realpython.com/api-integration-in-python/)\n",
    "- [Python API Tutorial](https://www.geeksforgeeks.org/python-api-tutorial-getting-started-with-apis/)\n",
    "\n",
    "### 6.3.1 - What is an API?\n",
    "\n",
    "APIs or *Application Programming Interfaces* are sets of protocols, routines, and tools for building software applications. They are a crucial part of any software application. In this lesson, we will learn about APIs and how to use them in Python.\n",
    "\n",
    "A RESTful API is an interface that two computer systems use to exchange information securely over the internet. Most business applications have to communicate with other internal and third-party applications to perform various tasks.\n",
    "\n",
    "Representational State Transfer (REST) is a software architecture that imposes conditions on how an API should work. REST was initially created as a guideline to manage communication on a complex network like the internet. "
   ]
  },
  {
   "cell_type": "markdown",
   "metadata": {},
   "source": [
    "## 6.3.2. Requests Module\n",
    "\n",
    "- In order to use APIs in Python, we need to import the `requests` module. Requests is a Python module that makes it easy to send HTTP requests using Python.\n",
    "- This is not a built-in module. You need to install it first.\n",
    "- You can install it with the following command: `pip install requests`\n",
    "- You can check if it is installed with the following command: `pip show requests`"
   ]
  },
  {
   "cell_type": "code",
   "execution_count": 1,
   "metadata": {},
   "outputs": [
    {
     "name": "stdout",
     "output_type": "stream",
     "text": [
      "Requirement already satisfied: requests in /home/tom/anaconda3/envs/myenv/lib/python3.12/site-packages (2.31.0)\n",
      "Requirement already satisfied: charset-normalizer<4,>=2 in /home/tom/anaconda3/envs/myenv/lib/python3.12/site-packages (from requests) (3.3.2)\n",
      "Requirement already satisfied: idna<4,>=2.5 in /home/tom/anaconda3/envs/myenv/lib/python3.12/site-packages (from requests) (3.7)\n",
      "Requirement already satisfied: urllib3<3,>=1.21.1 in /home/tom/anaconda3/envs/myenv/lib/python3.12/site-packages (from requests) (2.2.1)\n",
      "Requirement already satisfied: certifi>=2017.4.17 in /home/tom/anaconda3/envs/myenv/lib/python3.12/site-packages (from requests) (2024.2.2)\n"
     ]
    }
   ],
   "source": [
    "!pip install requests"
   ]
  },
  {
   "cell_type": "markdown",
   "metadata": {},
   "source": [
    "## 6.3.3. JSON File\n",
    "\n",
    "- Before we start our API calls, we need to understand JSON. A JSON is a lightweight data-interchange format that is easy for humans to read and write. JSON is a text format that is used to store and transport data. It is not a data type in Python. It is a data format that is used to transfer data between computers.\n",
    "- It is called JSON as abbreviation for JavaScript Object Notation.\n",
    "- It is a very popular format and it's use goes beyond the scope of this lesson.\n",
    " \n",
    " - Structurally, JSON File is a combination of dictionaries and lists.\n",
    " - Let us see an example of a JSON file (`sample.json`)."
   ]
  },
  {
   "cell_type": "code",
   "execution_count": 2,
   "metadata": {},
   "outputs": [
    {
     "name": "stdout",
     "output_type": "stream",
     "text": [
      "[\n",
      "  {\n",
      "    \"id\": 1,\n",
      "    \"name\": \"John Doe\",\n",
      "    \"email\": \"john.doe@example.com\",\n",
      "    \"age\": 25,\n",
      "    \"city\": \"New York\"\n",
      "  },\n",
      "  {\n",
      "    \"id\": 2,\n",
      "    \"name\": \"Jane Smith\",\n",
      "    \"email\": \"jane.smith@example.com\",\n",
      "    \"age\": 30,\n",
      "    \"city\": \"Chicago\"\n",
      "  },\n",
      "  {\n",
      "    \"id\": 3,\n",
      "    \"name\": \"Mike Johnson\",\n",
      "    \"email\": \"mike.johnson@example.com\",\n",
      "    \"age\": 40,\n",
      "    \"city\": \"San Francisco\"\n",
      "  },\n",
      "  {\n",
      "    \"id\": 4,\n",
      "    \"name\": \"Emma Wilson\",\n",
      "    \"email\": \"emma.wilson@example.com\",\n",
      "    \"age\": 28,\n",
      "    \"city\": \"Los Angeles\"\n",
      "  },\n",
      "  {\n",
      "    \"id\": 5,\n",
      "    \"name\": \"David Lee\",\n",
      "    \"email\": \"david.lee@example.com\",\n",
      "    \"age\": 35,\n",
      "    \"city\": \"Austin\"\n",
      "  }\n",
      "]\n",
      "\n",
      "\n"
     ]
    }
   ],
   "source": [
    "!cat data/sample.json"
   ]
  },
  {
   "cell_type": "markdown",
   "metadata": {},
   "source": [
    "- As you can notice, this data stucture is a list of dictionaries.\n",
    "- Let us see how to read it in Python. For that, we need to import the `json` module. "
   ]
  },
  {
   "cell_type": "code",
   "execution_count": 3,
   "metadata": {},
   "outputs": [
    {
     "name": "stdout",
     "output_type": "stream",
     "text": [
      "[{'id': 1, 'name': 'John Doe', 'email': 'john.doe@example.com', 'age': 25, 'city': 'New York'}, {'id': 2, 'name': 'Jane Smith', 'email': 'jane.smith@example.com', 'age': 30, 'city': 'Chicago'}, {'id': 3, 'name': 'Mike Johnson', 'email': 'mike.johnson@example.com', 'age': 40, 'city': 'San Francisco'}, {'id': 4, 'name': 'Emma Wilson', 'email': 'emma.wilson@example.com', 'age': 28, 'city': 'Los Angeles'}, {'id': 5, 'name': 'David Lee', 'email': 'david.lee@example.com', 'age': 35, 'city': 'Austin'}]\n"
     ]
    }
   ],
   "source": [
    "import json  # module needed for decoding/encoding JSON data\n",
    "\n",
    "with open(\"data/sample.json\", \"r\") as f:\n",
    "    data = json.load(f)\n",
    "\n",
    "print(data)"
   ]
  },
  {
   "cell_type": "markdown",
   "metadata": {},
   "source": [
    "- To make the output more readable, we can use the `pprint` (pretty print) module."
   ]
  },
  {
   "cell_type": "code",
   "execution_count": 4,
   "metadata": {},
   "outputs": [
    {
     "name": "stdout",
     "output_type": "stream",
     "text": [
      "[{'age': 25,\n",
      "  'city': 'New York',\n",
      "  'email': 'john.doe@example.com',\n",
      "  'id': 1,\n",
      "  'name': 'John Doe'},\n",
      " {'age': 30,\n",
      "  'city': 'Chicago',\n",
      "  'email': 'jane.smith@example.com',\n",
      "  'id': 2,\n",
      "  'name': 'Jane Smith'},\n",
      " {'age': 40,\n",
      "  'city': 'San Francisco',\n",
      "  'email': 'mike.johnson@example.com',\n",
      "  'id': 3,\n",
      "  'name': 'Mike Johnson'},\n",
      " {'age': 28,\n",
      "  'city': 'Los Angeles',\n",
      "  'email': 'emma.wilson@example.com',\n",
      "  'id': 4,\n",
      "  'name': 'Emma Wilson'},\n",
      " {'age': 35,\n",
      "  'city': 'Austin',\n",
      "  'email': 'david.lee@example.com',\n",
      "  'id': 5,\n",
      "  'name': 'David Lee'}]\n"
     ]
    }
   ],
   "source": [
    "from pprint import pprint\n",
    "\n",
    "pprint(data)"
   ]
  },
  {
   "cell_type": "markdown",
   "metadata": {},
   "source": [
    "I we wish to access the precise data, we can use the `data` variable and notation for accessing lists and dictionaries."
   ]
  },
  {
   "cell_type": "code",
   "execution_count": 5,
   "metadata": {},
   "outputs": [
    {
     "name": "stdout",
     "output_type": "stream",
     "text": [
      "John Doe\n",
      "John Doe john.doe@example.com\n",
      "Jane Smith jane.smith@example.com\n",
      "Mike Johnson mike.johnson@example.com\n",
      "Emma Wilson emma.wilson@example.com\n",
      "David Lee david.lee@example.com\n"
     ]
    }
   ],
   "source": [
    "# fetch name of the first person\n",
    "print(data[0][\"name\"])  # 0 is the index of the first person, and `name` is the key of the person's name\n",
    "\n",
    "# fetch the names and the emails of all the people\n",
    "for person in data:\n",
    "    print(person[\"name\"], person[\"email\"])"
   ]
  },
  {
   "cell_type": "markdown",
   "metadata": {},
   "source": [
    "### 6.3.4. API URL data\n",
    "\n",
    "Let us see how we can fetch data from an online API. We will use [**Open Trivia Database**](https://opentdb.com/) as an example.\n",
    "\n",
    "Let us interact first with the data directly from the website.\n",
    "- Click on the link above and then on the menu go to the **API** tab or click on it, or enter **https://opentdb.com/api_config.php** driectly in the **URL** field of your browser.\n",
    "- This is where the data is located.\n",
    "![Open Trivia Database](data/open-trivia-db.png)"
   ]
  },
  {
   "cell_type": "markdown",
   "metadata": {},
   "source": [
    "Here we can select different parameters to get different data. If we just click on the **Generate Api Url** button, it will generate a URL that will fetch 10 random questions. You can also change the parameters and generate the URL.\n",
    "\n",
    "![Generated URL with questions data](data/generated-url.png)\n",
    "\n",
    "The resulting url is `https://opentdb.com/api.php?amount=10`\n",
    "\n",
    "- Copy the link and past it in the url address field of your browser and press enter. The data will be fetched automatically and displayed in the browser as a json file structure.\n",
    "- Copy the contents of the browser (the json file). Now, we can open an empty file called `questions.json` and paste the contents inside.\n",
    "- Save the file.\n",
    "\n",
    "- Now, let us open a website [json viewer](https://jsonviewer.stack.hu/). Paste the contents inside the field of the website (it says `Paste JSON code here...`).\n",
    "- Once the data is loaded, click on the menu button that says `Viewer`. The data is displayed in the browser as a json file structure.\n",
    "![Json Viewer](data/json-viewer.png)\n",
    "\n",
    "Here we can more easily study the structure of the data that we will be later accessing via Python."
   ]
  },
  {
   "cell_type": "markdown",
   "metadata": {},
   "source": [
    "### 6.3.5. Accessing JSON data from a file\n",
    "\n",
    "Let us work with the file `questions.json` that we created in the previous step. In the following steps, we will use the `json` module to access the data, read the data and go through it."
   ]
  },
  {
   "cell_type": "code",
   "execution_count": 6,
   "metadata": {},
   "outputs": [
    {
     "name": "stdout",
     "output_type": "stream",
     "text": [
      "{'category': 'Entertainment: Video Games',\n",
      " 'correct_answer': 'Mike Harrington',\n",
      " 'difficulty': 'medium',\n",
      " 'incorrect_answers': ['Robin Walker', 'Marc Laidlaw', 'Stephen Bahl'],\n",
      " 'question': 'Along with Gabe Newell, who co-founded Valve?',\n",
      " 'type': 'multiple'}\n",
      "'Along with Gabe Newell, who co-founded Valve?'\n",
      "['Robin Walker', 'Marc Laidlaw', 'Stephen Bahl']\n",
      "'Mike Harrington'\n"
     ]
    }
   ],
   "source": [
    "import json\n",
    "from pprint import pprint\n",
    "\n",
    "with open(\"data/questions.json\", \"r\") as f:\n",
    "    questions = json.load(f)\n",
    "\n",
    "# pprint(questions)\n",
    "pprint(questions['results'][0])  # first question record\n",
    "pprint(questions['results'][0]['question'])  # first question record - question\n",
    "\n",
    "pprint(questions['results'][0]['incorrect_answers'])  # first question record - incorrect answers\n",
    "\n",
    "pprint(questions['results'][0]['correct_answer'])  # first question record - correct answer"
   ]
  },
  {
   "cell_type": "markdown",
   "metadata": {},
   "source": [
    "### 6.3.6. Accessing JSON data from a website with Python\n",
    "Now, we well use Python to access the data from the website.\n",
    "1. First, we need to import the `requests` module.\n",
    "2. Next, we need to import the `json` module.\n",
    "3. Now, we can use the `requests` module to fetch the data from the website.\n",
    "4. We are fetching the data from the website and storing the data in a variable called `response`.\n",
    "5. Then we need to check if the data was fetched successfully, that is to check if the status code is 200 (OK). If it is not 200, we need to handle the error.\n",
    "   - there are different reasons why the requesting data was not successful. Or we have made a mistake in our request, or there is a problem with the website, etc.\n",
    "   - here are the possible status codes and their meanings:\n",
    "     - `200`: OK\n",
    "     - `400`: Bad Request\n",
    "     - `401`: Unauthorized\n",
    "     - `403`: Forbidden\n",
    "     - `404`: Not Found\n",
    "     - `500`: Internal Server Error\n",
    "     - `502`: Bad Gateway\n",
    "     - `503`: Service Unavailable\n",
    "     - `504`: Gateway Timeout\n",
    "     - `505`: HTTP Version Not Supported\n",
    "     - `520`: Unknown Error\n",
    "6. If we have successfully fetched the data, we need to parse the data into a readable format. We can use the `json` module to parse the data.\n",
    "7. Once the data is parsed, we can access the data we need in a way that is already known to us."
   ]
  },
  {
   "cell_type": "code",
   "execution_count": 7,
   "metadata": {},
   "outputs": [
    {
     "name": "stdout",
     "output_type": "stream",
     "text": [
      "{'response_code': 0,\n",
      " 'results': [{'category': 'Politics',\n",
      "              'correct_answer': 'Ronald Reagan',\n",
      "              'difficulty': 'medium',\n",
      "              'incorrect_answers': ['Jimmy Carter',\n",
      "                                    'Bill Clinton',\n",
      "                                    'Richard Nixon'],\n",
      "              'question': 'Who was the 40th President of the USA?',\n",
      "              'type': 'multiple'},\n",
      "             {'category': 'Entertainment: Television',\n",
      "              'correct_answer': 'True',\n",
      "              'difficulty': 'medium',\n",
      "              'incorrect_answers': ['False'],\n",
      "              'question': 'Klingons once had a period of Democracy in their '\n",
      "                          'history, they referred to it as the &quot;Dark '\n",
      "                          'Times&quot;.',\n",
      "              'type': 'boolean'},\n",
      "             {'category': 'Entertainment: Video Games',\n",
      "              'correct_answer': 'Sonic the Hedgehog',\n",
      "              'difficulty': 'easy',\n",
      "              'incorrect_answers': ['Dynamite Headdy', 'Alex Kidd', 'Opa-Opa'],\n",
      "              'question': 'Which of these characters is the mascot of the '\n",
      "                          'video game company SEGA?',\n",
      "              'type': 'multiple'},\n",
      "             {'category': 'Entertainment: Video Games',\n",
      "              'correct_answer': 'False',\n",
      "              'difficulty': 'easy',\n",
      "              'incorrect_answers': ['True'],\n",
      "              'question': 'Codemasters is the developer of the Gran Turismo '\n",
      "                          'series.',\n",
      "              'type': 'boolean'},\n",
      "             {'category': 'Geography',\n",
      "              'correct_answer': 'False',\n",
      "              'difficulty': 'easy',\n",
      "              'incorrect_answers': ['True'],\n",
      "              'question': 'New Haven is the capital city of the state of '\n",
      "                          'Connecticut in the United States.',\n",
      "              'type': 'boolean'},\n",
      "             {'category': 'Science: Computers',\n",
      "              'correct_answer': 'Micronesia',\n",
      "              'difficulty': 'hard',\n",
      "              'incorrect_answers': ['Fiji', 'Tuvalu', 'Marshall Islands'],\n",
      "              'question': 'The internet domain .fm is the country-code '\n",
      "                          'top-level domain for which Pacific Ocean island '\n",
      "                          'nation?',\n",
      "              'type': 'multiple'},\n",
      "             {'category': 'Entertainment: Video Games',\n",
      "              'correct_answer': 'True',\n",
      "              'difficulty': 'medium',\n",
      "              'incorrect_answers': ['False'],\n",
      "              'question': 'Mortal Kombat was almost based on Jean-Claude Van '\n",
      "                          'Damme movie.',\n",
      "              'type': 'boolean'},\n",
      "             {'category': 'Entertainment: Video Games',\n",
      "              'correct_answer': 'Jack Black',\n",
      "              'difficulty': 'easy',\n",
      "              'incorrect_answers': ['Kanye West', 'Lemmy', 'Ozzy Osbourne'],\n",
      "              'question': 'Who stars in Brutal Legend?',\n",
      "              'type': 'multiple'},\n",
      "             {'category': 'Entertainment: Music',\n",
      "              'correct_answer': 'Left Alone',\n",
      "              'difficulty': 'hard',\n",
      "              'incorrect_answers': ['What About Us',\n",
      "                                    'This Song Is Not About A Girl',\n",
      "                                    'Drop The Game'],\n",
      "              'question': 'Which of these is NOT a song featured on the '\n",
      "                          'Lockjaw EP released in 2013 by Flume &amp; Chet '\n",
      "                          'Faker?',\n",
      "              'type': 'multiple'},\n",
      "             {'category': 'Geography',\n",
      "              'correct_answer': 'Andorra',\n",
      "              'difficulty': 'medium',\n",
      "              'incorrect_answers': ['Liechtenstein', 'Monaco', 'San Marino'],\n",
      "              'question': 'What tiny principality lies between Spain and '\n",
      "                          'France?',\n",
      "              'type': 'multiple'}]}\n",
      "'Who was the 40th President of the USA?'\n",
      "'Ronald Reagan'\n",
      "['Jimmy Carter', 'Bill Clinton', 'Richard Nixon']\n",
      "'multiple'\n",
      "Questions saved to API-questions.json\n"
     ]
    }
   ],
   "source": [
    "# import necessary modules\n",
    "import requests\n",
    "import json\n",
    "\n",
    "# fetch data\n",
    "url = \"https://opentdb.com/api.php?amount=10\"  # this is the URL of the API endpoint that we already got from the website \n",
    "\n",
    "response = requests.get(url)  # we are fetching data from the URL\n",
    "\n",
    "if response.status_code == 200:  # if the response is successful\n",
    "    questions = response.json()  # we are decoding the JSON data\n",
    "    pprint(questions)\n",
    "    pprint(questions['results'][0]['question'])\n",
    "    pprint(questions['results'][0]['correct_answer'])\n",
    "    pprint(questions['results'][0]['incorrect_answers'])\n",
    "    pprint(questions['results'][0]['type'])\n",
    "\n",
    "    # we can also decode the JSON data and save it to a file\n",
    "    with open(\"API-questions.json\", \"w\") as f:\n",
    "        json.dump(questions, f)\n",
    "    print(\"Questions saved to API-questions.json\")\n",
    "else:\n",
    "    print(f\"Error: {response.status_code}\")\n",
    "\n"
   ]
  },
  {
   "cell_type": "markdown",
   "metadata": {},
   "source": [
    "### 6.3.7. Accessing API data from a website with Python and authentication\n",
    "\n",
    "**Different APIs**\n",
    "- Private API\n",
    "- Public API\n",
    "- API with authentication\n",
    "- API with authorization\n",
    "- API with authentication and authorization\n",
    "- API with authentication, authorization, and rate limiting\n",
    "- API with authentication, authorization, rate limiting, and caching\n",
    "- API with authentication, authorization, rate limiting, caching, and pagination\n",
    "\n",
    "- We will be going through the same steps as in the previous step, but this time we will use authentication. For many APis that require authentication, we need to provide the username and password to access the API. For this, we will use the `requests` module and `json` module.\n",
    "\n",
    "The website API that we will be using is [Rapid APi](https://rapidapi.com/). It contains many different APIs that we will be using in this lesson. We will be using the IMDB API.\n",
    "\n",
    "![RAPID APII](data/rapidapi.png)\n",
    "\n",
    "As you can see, we have a Free Subscription that we will be using that also limits the number of requests we make to 500 per month. This is important to have in mind when using the app, especially if our programm is running constantly - like on a web page."
   ]
  },
  {
   "cell_type": "markdown",
   "metadata": {},
   "source": [
    "Once you have your account set up, go to the [IMDb API on Rapid Api](https://rapidapi.com/Glavier/api/imdb146/) and `subscribe to test` for the free plan.\n",
    "![Imdb API](data/imdb-api.png)\n",
    "\n",
    "- The RAPID APIs are very developer friendly. What is needed to do now is to go to the page of the IMDB API and select the programming language and you will get the code you can use to access the API together with the access keys.\n",
    "\n",
    "![RAPID APII](data/rapid-api-code.gif)\n"
   ]
  },
  {
   "cell_type": "code",
   "execution_count": 8,
   "metadata": {},
   "outputs": [
    {
     "name": "stdout",
     "output_type": "stream",
     "text": [
      "{'companyResults': {'results': []},\n",
      " 'findPageMeta': {'includeAdult': False,\n",
      "                  'isExactMatch': False,\n",
      "                  'searchTerm': 'die hard'},\n",
      " 'keywordResults': {'results': []},\n",
      " 'nameResults': {'hasExactMatches': True,\n",
      "                 'nextCursor': 'eyJlc1Rva2VuIjpbIjIzMzcuMDYzNyIsIm5tNzQ3NDY2NyJdLCJmaWx0ZXIiOiJ7XCJpbmNsdWRlQWR1bHRcIjpmYWxzZSxcImlzRXhhY3RNYXRjaFwiOmZhbHNlLFwic2VhcmNoVGVybVwiOlwiZGllIGhhcmRcIixcInR5cGVcIjpbXCJOQU1FXCJdfSJ9',\n",
      "                 'results': [{'akaName': 'Die Hard',\n",
      "                              'displayNameText': 'Jonathan McLain',\n",
      "                              'id': 'nm9590276',\n",
      "                              'knownForJobCategory': 'Producer',\n",
      "                              'knownForTitleText': 'She',\n",
      "                              'knownForTitleYear': '2021'},\n",
      "                             {'akaName': 'DHL aka \"Die Hard Leon\"',\n",
      "                              'displayNameText': 'Leon Lee',\n",
      "                              'id': 'nm6092181',\n",
      "                              'knownForJobCategory': 'Actor',\n",
      "                              'knownForTitleText': 'Sky Hunter',\n",
      "                              'knownForTitleYear': '2017'},\n",
      "                             {'akaName': 'Die Hard',\n",
      "                              'displayNameText': 'Tom McClane',\n",
      "                              'id': 'nm2647687',\n",
      "                              'knownForJobCategory': 'Actor',\n",
      "                              'knownForTitleText': 'Suspension of Disbelief',\n",
      "                              'knownForTitleYear': '2012'},\n",
      "                             {'avatarImageModel': {'caption': 'Goldie Hawn in '\n",
      "                                                              'Cactus Flower '\n",
      "                                                              '(1969)',\n",
      "                                                   'maxHeight': 4602,\n",
      "                                                   'maxWidth': 3684,\n",
      "                                                   'url': 'https://m.media-amazon.com/images/M/MV5BMTc0MDQ5MDUzMF5BMl5BanBnXkFtZTgwMjIwNTU5MTE@._V1_.jpg'},\n",
      "                              'displayNameText': 'Goldie Hawn',\n",
      "                              'id': 'nm0000443',\n",
      "                              'knownForJobCategory': 'Actress',\n",
      "                              'knownForTitleText': 'Private Benjamin',\n",
      "                              'knownForTitleYear': '1980'},\n",
      "                             {'akaName': 'Die Hard Pianist',\n",
      "                              'displayNameText': 'Caitlin Yarbrough',\n",
      "                              'id': 'nm7474667',\n",
      "                              'knownForJobCategory': 'Composer',\n",
      "                              'knownForTitleText': 'Emily',\n",
      "                              'knownForTitleYear': '2013'}]},\n",
      " 'resultsSectionOrder': ['TITLE', 'NAME'],\n",
      " 'titleResults': {'hasExactMatches': True,\n",
      "                  'nextCursor': 'eyJlc1Rva2VuIjpbIjExOTgzNC4wNyIsInR0MTYwNjM3OCJdLCJmaWx0ZXIiOiJ7XCJpbmNsdWRlQWR1bHRcIjpmYWxzZSxcImlzRXhhY3RNYXRjaFwiOmZhbHNlLFwic2VhcmNoVGVybVwiOlwiZGllIGhhcmRcIixcInR5cGVcIjpbXCJUSVRMRVwiXX0ifQ==',\n",
      "                  'results': [{'id': 'tt0095016',\n",
      "                               'imageType': 'movie',\n",
      "                               'titleNameText': 'Die Hard',\n",
      "                               'titlePosterImageModel': {'caption': 'Bruce '\n",
      "                                                                    'Willis in '\n",
      "                                                                    'Die Hard '\n",
      "                                                                    '(1988)',\n",
      "                                                         'maxHeight': 1600,\n",
      "                                                         'maxWidth': 1066,\n",
      "                                                         'url': 'https://m.media-amazon.com/images/M/MV5BZjRlNDUxZjAtOGQ4OC00OTNlLTgxNmQtYTBmMDgwZmNmNjkxXkEyXkFqcGdeQXVyNzkwMjQ5NzM@._V1_.jpg'},\n",
      "                               'titleReleaseText': '1988',\n",
      "                               'titleTypeText': '',\n",
      "                               'topCredits': ['Bruce Willis', 'Alan Rickman']},\n",
      "                              {'id': 'tt0112864',\n",
      "                               'imageType': 'movie',\n",
      "                               'titleNameText': 'Die Hard with a Vengeance',\n",
      "                               'titlePosterImageModel': {'caption': 'Bruce '\n",
      "                                                                    'Willis in '\n",
      "                                                                    'Die Hard '\n",
      "                                                                    'with a '\n",
      "                                                                    'Vengeance '\n",
      "                                                                    '(1995)',\n",
      "                                                         'maxHeight': 1500,\n",
      "                                                         'maxWidth': 1005,\n",
      "                                                         'url': 'https://m.media-amazon.com/images/M/MV5BZjI0ZWFiMmQtMjRlZi00ZmFhLWI4NmYtMjQ5YmY0MzIyMzRiXkEyXkFqcGdeQXVyMTQxNzMzNDI@._V1_.jpg'},\n",
      "                               'titleReleaseText': '1995',\n",
      "                               'titleTypeText': '',\n",
      "                               'topCredits': ['Bruce Willis', 'Jeremy Irons']},\n",
      "                              {'id': 'tt0337978',\n",
      "                               'imageType': 'movie',\n",
      "                               'titleNameText': 'Live Free or Die Hard',\n",
      "                               'titlePosterImageModel': {'caption': 'Bruce '\n",
      "                                                                    'Willis in '\n",
      "                                                                    'Live Free '\n",
      "                                                                    'or Die '\n",
      "                                                                    'Hard '\n",
      "                                                                    '(2007)',\n",
      "                                                         'maxHeight': 2048,\n",
      "                                                         'maxWidth': 1392,\n",
      "                                                         'url': 'https://m.media-amazon.com/images/M/MV5BNDQxMDE1OTg4NV5BMl5BanBnXkFtZTcwMTMzOTQzMw@@._V1_.jpg'},\n",
      "                               'titleReleaseText': '2007',\n",
      "                               'titleTypeText': '',\n",
      "                               'topCredits': ['Bruce Willis', 'Justin Long']},\n",
      "                              {'id': 'tt0099423',\n",
      "                               'imageType': 'movie',\n",
      "                               'titleNameText': 'Die Hard 2',\n",
      "                               'titlePosterImageModel': {'caption': 'Bruce '\n",
      "                                                                    'Willis in '\n",
      "                                                                    'Die Hard '\n",
      "                                                                    '2 (1990)',\n",
      "                                                         'maxHeight': 1500,\n",
      "                                                         'maxWidth': 1013,\n",
      "                                                         'url': 'https://m.media-amazon.com/images/M/MV5BMzMzYzk3ZTEtZDg0My00MTY5LWE3ZmQtYzNhYjhjN2RhZGRjL2ltYWdlXkEyXkFqcGdeQXVyNTAyODkwOQ@@._V1_.jpg'},\n",
      "                               'titleReleaseText': '1990',\n",
      "                               'titleTypeText': '',\n",
      "                               'topCredits': ['Bruce Willis',\n",
      "                                              'William Atherton']},\n",
      "                              {'id': 'tt1606378',\n",
      "                               'imageType': 'movie',\n",
      "                               'titleNameText': 'A Good Day to Die Hard',\n",
      "                               'titlePosterImageModel': {'caption': 'Bruce '\n",
      "                                                                    'Willis '\n",
      "                                                                    'and Jai '\n",
      "                                                                    'Courtney '\n",
      "                                                                    'in A Good '\n",
      "                                                                    'Day to '\n",
      "                                                                    'Die Hard '\n",
      "                                                                    '(2013)',\n",
      "                                                         'maxHeight': 800,\n",
      "                                                         'maxWidth': 540,\n",
      "                                                         'url': 'https://m.media-amazon.com/images/M/MV5BMTcwNzgyNzUzOV5BMl5BanBnXkFtZTcwMzAwOTA5OA@@._V1_.jpg'},\n",
      "                               'titleReleaseText': '2013',\n",
      "                               'titleTypeText': '',\n",
      "                               'topCredits': ['Bruce Willis',\n",
      "                                              'Jai Courtney']}]}}\n"
     ]
    }
   ],
   "source": [
    "# code from Rapid Api\n",
    "import requests\n",
    "\n",
    "url = \"https://imdb146.p.rapidapi.com/v1/find/\"\n",
    "\n",
    "querystring = {\"query\":\"Die Hard\"}\n",
    "\n",
    "headers = {\n",
    "\t\"X-RapidAPI-Key\": \"xxxxxxxxxxx\",  # insert your API key\n",
    "\t\"X-RapidAPI-Host\": \"imdb146.p.rapidapi.com\"\n",
    "}\n",
    "\n",
    "response = requests.get(url, headers=headers, params=querystring)\n",
    "\n",
    "pprint(response.json())"
   ]
  },
  {
   "cell_type": "code",
   "execution_count": 9,
   "metadata": {},
   "outputs": [
    {
     "data": {
      "text/plain": [
       "200"
      ]
     },
     "execution_count": 9,
     "metadata": {},
     "output_type": "execute_result"
    }
   ],
   "source": [
    "response.status_code"
   ]
  },
  {
   "cell_type": "code",
   "execution_count": 10,
   "metadata": {},
   "outputs": [
    {
     "name": "stdout",
     "output_type": "stream",
     "text": [
      "['Die Hard',\n",
      " 'Die Hard 2',\n",
      " 'Die Hard with a Vengeance',\n",
      " 'Live Free or Die Hard',\n",
      " 'A Good Day to Die Hard']\n"
     ]
    }
   ],
   "source": [
    "titles = [title for title in response.json()['titleResults']['results']]\n",
    "titles_sorted = [title['titleNameText'] for title in sorted(titles, key=lambda x: x.get('titleReleaseText', 0))]  # nice example of use of lambda\n",
    "\n",
    "pprint(titles_sorted)"
   ]
  },
  {
   "cell_type": "markdown",
   "metadata": {},
   "source": [
    "With the APIs the most important thing is the documentation. It is a good place to learn how to use the API."
   ]
  }
 ],
 "metadata": {
  "kernelspec": {
   "display_name": "myenv",
   "language": "python",
   "name": "python3"
  },
  "language_info": {
   "codemirror_mode": {
    "name": "ipython",
    "version": 3
   },
   "file_extension": ".py",
   "mimetype": "text/x-python",
   "name": "python",
   "nbconvert_exporter": "python",
   "pygments_lexer": "ipython3",
   "version": "3.12.3"
  }
 },
 "nbformat": 4,
 "nbformat_minor": 2
}
