{
 "cells": [
  {
   "cell_type": "markdown",
   "metadata": {},
   "source": [
    "# Lesson 6.3 - APIs\n",
    "\n",
    "Useful links:\n",
    "- [Python and REST APIs: Interacting With Web Services](https://realpython.com/api-integration-in-python/)\n",
    "- [Python API Tutorial](https://www.geeksforgeeks.org/python-api-tutorial-getting-started-with-apis/)\n",
    "\n",
    "### 6.3.1 - What is an API?\n",
    "\n",
    "APIs or *Application Programming Interfaces* are sets of protocols, routines, and tools for building software applications. They are a crucial part of any software application. In this lesson, we will learn about APIs and how to use them in Python.\n",
    "\n",
    "A RESTful API is an interface that two computer systems use to exchange information securely over the internet. Most business applications have to communicate with other internal and third-party applications to perform various tasks.\n",
    "\n",
    "Representational State Transfer (REST) is a software architecture that imposes conditions on how an API should work. REST was initially created as a guideline to manage communication on a complex network like the internet. "
   ]
  },
  {
   "cell_type": "markdown",
   "metadata": {},
   "source": [
    "## 6.3.2. Requests Module\n",
    "\n",
    "- In order to use APIs in Python, we need to import the `requests` module. Requests is a Python module that makes it easy to send HTTP requests using Python.\n",
    "- This is not a built-in module. You need to install it first.\n",
    "- You can install it with the following command: `pip install requests`\n",
    "- You can check if it is installed with the following command: `pip show requests`"
   ]
  },
  {
   "cell_type": "code",
   "execution_count": 2,
   "metadata": {},
   "outputs": [
    {
     "name": "stdout",
     "output_type": "stream",
     "text": [
      "Collecting requests\n",
      "  Downloading requests-2.31.0-py3-none-any.whl.metadata (4.6 kB)\n",
      "Collecting charset-normalizer<4,>=2 (from requests)\n",
      "  Downloading charset_normalizer-3.3.2-cp312-cp312-manylinux_2_17_x86_64.manylinux2014_x86_64.whl.metadata (33 kB)\n",
      "Collecting idna<4,>=2.5 (from requests)\n",
      "  Downloading idna-3.7-py3-none-any.whl.metadata (9.9 kB)\n",
      "Collecting urllib3<3,>=1.21.1 (from requests)\n",
      "  Downloading urllib3-2.2.1-py3-none-any.whl.metadata (6.4 kB)\n",
      "Collecting certifi>=2017.4.17 (from requests)\n",
      "  Downloading certifi-2024.2.2-py3-none-any.whl.metadata (2.2 kB)\n",
      "Downloading requests-2.31.0-py3-none-any.whl (62 kB)\n",
      "\u001b[2K   \u001b[90m━━━━━━━━━━━━━━━━━━━━━━━━━━━━━━━━━━━━━━━━\u001b[0m \u001b[32m62.6/62.6 kB\u001b[0m \u001b[31m1.2 MB/s\u001b[0m eta \u001b[36m0:00:00\u001b[0m00:01\u001b[0m\n",
      "\u001b[?25hDownloading certifi-2024.2.2-py3-none-any.whl (163 kB)\n",
      "\u001b[2K   \u001b[90m━━━━━━━━━━━━━━━━━━━━━━━━━━━━━━━━━━━━━━━━\u001b[0m \u001b[32m163.8/163.8 kB\u001b[0m \u001b[31m3.7 MB/s\u001b[0m eta \u001b[36m0:00:00\u001b[0ma \u001b[36m0:00:01\u001b[0m\n",
      "\u001b[?25hDownloading charset_normalizer-3.3.2-cp312-cp312-manylinux_2_17_x86_64.manylinux2014_x86_64.whl (141 kB)\n",
      "\u001b[2K   \u001b[90m━━━━━━━━━━━━━━━━━━━━━━━━━━━━━━━━━━━━━━━━\u001b[0m \u001b[32m141.9/141.9 kB\u001b[0m \u001b[31m7.1 MB/s\u001b[0m eta \u001b[36m0:00:00\u001b[0m\n",
      "\u001b[?25hDownloading idna-3.7-py3-none-any.whl (66 kB)\n",
      "\u001b[2K   \u001b[90m━━━━━━━━━━━━━━━━━━━━━━━━━━━━━━━━━━━━━━━━\u001b[0m \u001b[32m66.8/66.8 kB\u001b[0m \u001b[31m4.2 MB/s\u001b[0m eta \u001b[36m0:00:00\u001b[0m\n",
      "\u001b[?25hDownloading urllib3-2.2.1-py3-none-any.whl (121 kB)\n",
      "\u001b[2K   \u001b[90m━━━━━━━━━━━━━━━━━━━━━━━━━━━━━━━━━━━━━━━━\u001b[0m \u001b[32m121.1/121.1 kB\u001b[0m \u001b[31m6.5 MB/s\u001b[0m eta \u001b[36m0:00:00\u001b[0m\n",
      "\u001b[?25hInstalling collected packages: urllib3, idna, charset-normalizer, certifi, requests\n",
      "Successfully installed certifi-2024.2.2 charset-normalizer-3.3.2 idna-3.7 requests-2.31.0 urllib3-2.2.1\n"
     ]
    }
   ],
   "source": [
    "!pip install requests"
   ]
  },
  {
   "cell_type": "markdown",
   "metadata": {},
   "source": [
    "## 6.3.3. JSON File\n",
    "\n",
    "- Before we start our API calls, we need to understand JSON. A JSON is a lightweight data-interchange format that is easy for humans to read and write. JSON is a text format that is used to store and transport data. It is not a data type in Python. It is a data format that is used to transfer data between computers.\n",
    "- It is called JSON as abbreviation for JavaScript Object Notation.\n",
    "- It is a very popular format and it's use goes beyond the scope of this lesson.\n",
    " \n",
    " - Structurally, JSON File is a combination of dictionaries and lists.\n",
    " - Let us see an example of a JSON file (`sample.json`)."
   ]
  },
  {
   "cell_type": "code",
   "execution_count": 3,
   "metadata": {},
   "outputs": [
    {
     "name": "stdout",
     "output_type": "stream",
     "text": [
      "[\n",
      "  {\n",
      "    \"id\": 1,\n",
      "    \"name\": \"John Doe\",\n",
      "    \"email\": \"john.doe@example.com\",\n",
      "    \"age\": 25,\n",
      "    \"city\": \"New York\"\n",
      "  },\n",
      "  {\n",
      "    \"id\": 2,\n",
      "    \"name\": \"Jane Smith\",\n",
      "    \"email\": \"jane.smith@example.com\",\n",
      "    \"age\": 30,\n",
      "    \"city\": \"Chicago\"\n",
      "  },\n",
      "  {\n",
      "    \"id\": 3,\n",
      "    \"name\": \"Mike Johnson\",\n",
      "    \"email\": \"mike.johnson@example.com\",\n",
      "    \"age\": 40,\n",
      "    \"city\": \"San Francisco\"\n",
      "  },\n",
      "  {\n",
      "    \"id\": 4,\n",
      "    \"name\": \"Emma Wilson\",\n",
      "    \"email\": \"emma.wilson@example.com\",\n",
      "    \"age\": 28,\n",
      "    \"city\": \"Los Angeles\"\n",
      "  },\n",
      "  {\n",
      "    \"id\": 5,\n",
      "    \"name\": \"David Lee\",\n",
      "    \"email\": \"david.lee@example.com\",\n",
      "    \"age\": 35,\n",
      "    \"city\": \"Austin\"\n",
      "  }\n",
      "]\n",
      "\n",
      "\n"
     ]
    }
   ],
   "source": [
    "!cat data/sample.json"
   ]
  },
  {
   "cell_type": "markdown",
   "metadata": {},
   "source": [
    "- As you can notice, this data stucture is a list of dictionaries.\n",
    "- Let us see how to read it in Python. For that, we need to import the `json` module. "
   ]
  },
  {
   "cell_type": "code",
   "execution_count": 4,
   "metadata": {},
   "outputs": [
    {
     "name": "stdout",
     "output_type": "stream",
     "text": [
      "[{'id': 1, 'name': 'John Doe', 'email': 'john.doe@example.com', 'age': 25, 'city': 'New York'}, {'id': 2, 'name': 'Jane Smith', 'email': 'jane.smith@example.com', 'age': 30, 'city': 'Chicago'}, {'id': 3, 'name': 'Mike Johnson', 'email': 'mike.johnson@example.com', 'age': 40, 'city': 'San Francisco'}, {'id': 4, 'name': 'Emma Wilson', 'email': 'emma.wilson@example.com', 'age': 28, 'city': 'Los Angeles'}, {'id': 5, 'name': 'David Lee', 'email': 'david.lee@example.com', 'age': 35, 'city': 'Austin'}]\n"
     ]
    }
   ],
   "source": [
    "import json  # module needed for decoding/encoding JSON data\n",
    "\n",
    "with open(\"data/sample.json\", \"r\") as f:\n",
    "    data = json.load(f)\n",
    "\n",
    "print(data)"
   ]
  },
  {
   "cell_type": "markdown",
   "metadata": {},
   "source": [
    "- To make the output more readable, we can use the `pprint` (pretty print) module."
   ]
  },
  {
   "cell_type": "code",
   "execution_count": 6,
   "metadata": {},
   "outputs": [
    {
     "name": "stdout",
     "output_type": "stream",
     "text": [
      "[{'age': 25,\n",
      "  'city': 'New York',\n",
      "  'email': 'john.doe@example.com',\n",
      "  'id': 1,\n",
      "  'name': 'John Doe'},\n",
      " {'age': 30,\n",
      "  'city': 'Chicago',\n",
      "  'email': 'jane.smith@example.com',\n",
      "  'id': 2,\n",
      "  'name': 'Jane Smith'},\n",
      " {'age': 40,\n",
      "  'city': 'San Francisco',\n",
      "  'email': 'mike.johnson@example.com',\n",
      "  'id': 3,\n",
      "  'name': 'Mike Johnson'},\n",
      " {'age': 28,\n",
      "  'city': 'Los Angeles',\n",
      "  'email': 'emma.wilson@example.com',\n",
      "  'id': 4,\n",
      "  'name': 'Emma Wilson'},\n",
      " {'age': 35,\n",
      "  'city': 'Austin',\n",
      "  'email': 'david.lee@example.com',\n",
      "  'id': 5,\n",
      "  'name': 'David Lee'}]\n"
     ]
    }
   ],
   "source": [
    "from pprint import pprint\n",
    "\n",
    "pprint(data)"
   ]
  },
  {
   "cell_type": "markdown",
   "metadata": {},
   "source": [
    "I we wish to access the precise data, we can use the `data` variable and notation for accessing lists and dictionaries."
   ]
  },
  {
   "cell_type": "code",
   "execution_count": 11,
   "metadata": {},
   "outputs": [
    {
     "name": "stdout",
     "output_type": "stream",
     "text": [
      "John Doe\n",
      "John Doe john.doe@example.com\n",
      "Jane Smith jane.smith@example.com\n",
      "Mike Johnson mike.johnson@example.com\n",
      "Emma Wilson emma.wilson@example.com\n",
      "David Lee david.lee@example.com\n"
     ]
    }
   ],
   "source": [
    "# fetch name of the first person\n",
    "print(data[0][\"name\"])  # 0 is the index of the first person, and `name` is the key of the person's name\n",
    "\n",
    "# fetch the names and the emails of all the people\n",
    "for person in data:\n",
    "    print(person[\"name\"], person[\"email\"])"
   ]
  },
  {
   "cell_type": "markdown",
   "metadata": {},
   "source": [
    "### 6.3.4. API URL data\n",
    "\n",
    "Let us see how we can fetch data from an online API. We will use [**Open Trivia Database**](https://opentdb.com/) as an example.\n",
    "\n",
    "Let us interact first with the data directly from the website.\n",
    "- Click on the link above and then on the menu go to the **API** tab or click on it, or enter **https://opentdb.com/api_config.php** driectly in the **URL** field of your browser.\n",
    "- This is where the data is located.\n",
    "![Open Trivia Database](data/open-trivia-db.png)"
   ]
  },
  {
   "cell_type": "markdown",
   "metadata": {},
   "source": [
    "Here we can select different parameters to get different data. If we just click on the **Generate Api Url** button, it will generate a URL that will fetch 10 random questions. You can also change the parameters and generate the URL.\n",
    "\n",
    "![Generated URL with questions data](data/generated-url.png)\n",
    "\n",
    "The resulting url is `https://opentdb.com/api.php?amount=10`\n",
    "\n",
    "- Copy the link and past it in the url address field of your browser and press enter. The data will be fetched automatically and displayed in the browser as a json file structure.\n",
    "- Copy the contents of the browser (the json file). Now, we can open an empty file called `questions.json` and paste the contents inside.\n",
    "- Save the file.\n",
    "\n",
    "- Now, let us open a website [json viewer](https://jsonviewer.stack.hu/). Paste the contents inside the field of the website (it says `Paste JSON code here...`).\n",
    "- Once the data is loaded, click on the menu button that says `Viewer`. The data is displayed in the browser as a json file structure.\n",
    "![Json Viewer](data/json-viewer.png)\n",
    "\n",
    "Here we can more easily study the structure of the data that we will be later accessing via Python."
   ]
  },
  {
   "cell_type": "markdown",
   "metadata": {},
   "source": [
    "### 6.3.5. Accessing JSON data from a file\n",
    "\n",
    "Let us work with the file `questions.json` that we created in the previous step. In the following steps, we will use the `json` module to access the data, read the data and go through it."
   ]
  },
  {
   "cell_type": "code",
   "execution_count": 11,
   "metadata": {},
   "outputs": [
    {
     "name": "stdout",
     "output_type": "stream",
     "text": [
      "{'category': 'Entertainment: Video Games',\n",
      " 'correct_answer': 'Mike Harrington',\n",
      " 'difficulty': 'medium',\n",
      " 'incorrect_answers': ['Robin Walker', 'Marc Laidlaw', 'Stephen Bahl'],\n",
      " 'question': 'Along with Gabe Newell, who co-founded Valve?',\n",
      " 'type': 'multiple'}\n",
      "'Along with Gabe Newell, who co-founded Valve?'\n",
      "['Robin Walker', 'Marc Laidlaw', 'Stephen Bahl']\n",
      "'Mike Harrington'\n"
     ]
    }
   ],
   "source": [
    "import json\n",
    "from pprint import pprint\n",
    "\n",
    "with open(\"data/questions.json\", \"r\") as f:\n",
    "    questions = json.load(f)\n",
    "\n",
    "# pprint(questions)\n",
    "pprint(questions['results'][0])  # first question record\n",
    "pprint(questions['results'][0]['question'])  # first question record - question\n",
    "\n",
    "pprint(questions['results'][0]['incorrect_answers'])  # first question record - incorrect answers\n",
    "\n",
    "pprint(questions['results'][0]['correct_answer'])  # first question record - correct answer"
   ]
  }
 ],
 "metadata": {
  "kernelspec": {
   "display_name": "myenv",
   "language": "python",
   "name": "python3"
  },
  "language_info": {
   "codemirror_mode": {
    "name": "ipython",
    "version": 3
   },
   "file_extension": ".py",
   "mimetype": "text/x-python",
   "name": "python",
   "nbconvert_exporter": "python",
   "pygments_lexer": "ipython3",
   "version": "3.12.3"
  }
 },
 "nbformat": 4,
 "nbformat_minor": 2
}
