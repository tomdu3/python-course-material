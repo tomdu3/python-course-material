{
 "cells": [
  {
   "cell_type": "markdown",
   "metadata": {},
   "source": [
    "# Lesson 4: Working with Modules and Files in Python\n",
    "\n",
    "## 4.1. Modules\n",
    "\n",
    "Modules are a collection of functions that can be used in your program. We have already seen how to import some modules in Python like `random`, `time` and `datetime`.\n",
    "We have different kind of modules in Python: Built-in modules, third-party modules, and user-defined modules.\n",
    "- Built-in modules: These modules are pre-installed in the Python interpreter: `sys`, `math`, `os`, `random`, etc.\n",
    "- Third-party modules: These modules are not pre-installed in the Python interpreter. We need to install them first.\n",
    "- User-defined modules: These modules are created by us.\n",
    "\n",
    "## 4.1.1. Importing Modules\n",
    "\n",
    "- We can import modules using the `import` statement.\n",
    "  - syntax: `import module_name`\n",
    "  - `module_name` is the name of the module we want to import.\n",
    "\n",
    "This way we are importing the whole module with all its functions. To call a function from a module, we need to use the module name followed by the function name.\n",
    "  - syntax: `module_name.function_name()`\n",
    "    - example: `random.randint(0, 100)`"
   ]
  },
  {
   "cell_type": "code",
   "execution_count": 1,
   "metadata": {},
   "outputs": [
    {
     "name": "stdout",
     "output_type": "stream",
     "text": [
      "4.0\n"
     ]
    }
   ],
   "source": [
    "# import library\n",
    "import math\n",
    "\n",
    "# call the function for the square root of 16\n",
    "print(math.sqrt(16))"
   ]
  },
  {
   "cell_type": "markdown",
   "metadata": {},
   "source": [
    "- The other way is to import all the functions in a module using the `from` statement.\n",
    "  - syntax: `from module_name import *`\n",
    "  - `module_name` is the name of the module we want to import.\n",
    "  - `*` means we want to import all the functions in the module.\n",
    "  - example: `from random import *`\n",
    "\n",
    "This way of importing function gives us the opportunity to call a specific function and we don't need to write the module name and function name.\n",
    "  - syntax: `function_name()`\n",
    "    - example: `randint(0, 100)`\n",
    "  - when we import all the functions there could be a problem if we want to call a specific function that could overwrite other functions in the code."
   ]
  },
  {
   "cell_type": "code",
   "execution_count": 3,
   "metadata": {},
   "outputs": [
    {
     "name": "stdout",
     "output_type": "stream",
     "text": [
      "4.0\n"
     ]
    }
   ],
   "source": [
    "# import all functions from a module\n",
    "from math import *\n",
    "\n",
    "# call the square function\n",
    "print(sqrt(16))"
   ]
  },
  {
   "cell_type": "markdown",
   "metadata": {},
   "source": [
    "We can also import import single functions or multiple functions from a module using the `from` and `import` statements.\n",
    "  - syntax: `from module_name import function_name1, function_name2, function_name3`\n",
    "  - `module_name` is the name of the module we want to import.\n",
    "  - `function_name1, function_name2, function_name3` are the names of the functions we want to import.\n",
    "  - example: `from random import randint, choice`"
   ]
  },
  {
   "cell_type": "code",
   "execution_count": 4,
   "metadata": {},
   "outputs": [
    {
     "name": "stdout",
     "output_type": "stream",
     "text": [
      "4.0\n",
      "0.8939966636005579\n"
     ]
    }
   ],
   "source": [
    "# import specific functions\n",
    "from math import sqrt, sin\n",
    "\n",
    "# call the square function\n",
    "print(sqrt(16))\n",
    "\n",
    "# call the sine function\n",
    "print(sin(90))"
   ]
  },
  {
   "cell_type": "markdown",
   "metadata": {},
   "source": [
    "In order to shorten the syntax, we can import modules with the `as` statement.\n",
    "  - syntax: `import module_name as new_name`\n",
    "  - `module_name` is the name of the module we want to import.\n",
    "  - `new_name` is the new name we want to give to the module.\n",
    "  - example: `import pandas as pd`"
   ]
  },
  {
   "cell_type": "code",
   "execution_count": 6,
   "metadata": {},
   "outputs": [
    {
     "name": "stdout",
     "output_type": "stream",
     "text": [
      "2024-04-01\n"
     ]
    }
   ],
   "source": [
    "# import datetime module\n",
    "import datetime as dt\n",
    "\n",
    "# get today's date\n",
    "today = dt.date.today()\n",
    "print(today)"
   ]
  },
  {
   "cell_type": "markdown",
   "metadata": {},
   "source": [
    "### 4.1.2. Importing different kinds of modules\n",
    "\n",
    "#### 4.1.2.1. Built-in modules\n",
    "\n",
    "Built-in modules are the ones that come in the Python standard library. We can import them using only the `import` statement.\n",
    "These modules are `sys`, `math`, `os`, `random`, etc.\n",
    "\n",
    "#### 4.1.2.2. Third-party modules\n",
    "\n",
    "Third-party modules or packages are the ones that are not included in the standard library. We need to install them first and then import them. To install a third-party module, we need to use the `pip` command. We can find them on the [Python Package Manager](https://pypi.org/).\n",
    "- To install a third-party module, we need to go to the terminal and type `pip install module_name`.\n",
    "- We can also install a specific version of a module using the `pip` command.\n",
    "  - syntax: `pip install module_name==version` or `pip install module_name>=version`\n",
    "  - `module_name` is the name of the module we want to install.\n",
    "  - `version` is the version number of the module we want to install.\n"
   ]
  },
  {
   "cell_type": "code",
   "execution_count": 24,
   "metadata": {},
   "outputs": [
    {
     "name": "stdout",
     "output_type": "stream",
     "text": [
      "Collecting getch\n",
      "  Using cached getch-1.0-cp312-cp312-linux_x86_64.whl\n",
      "Installing collected packages: getch\n",
      "Successfully installed getch-1.0\n"
     ]
    }
   ],
   "source": [
    "!pip install getch"
   ]
  },
  {
   "cell_type": "code",
   "execution_count": null,
   "metadata": {},
   "outputs": [],
   "source": [
    "import getch\n",
    "\n",
    "print('press a key to continue...')\n",
    "getch.getch()"
   ]
  },
  {
   "cell_type": "markdown",
   "metadata": {},
   "source": [
    "#### 4.1.2.3. User-defined modules\n",
    "\n",
    "User-defined modules are the ones that we created. They are python files that contain functions and classes. We can import them using only the `import` statement.\n",
    "- the file needs to be in the same folder as the code we are executing. If we want to import a file in a different folder, we need to specify the folder path.\n",
    "- syntax: `import module_name` or `from module_name import function_name`"
   ]
  },
  {
   "cell_type": "code",
   "execution_count": 17,
   "metadata": {},
   "outputs": [
    {
     "name": "stdout",
     "output_type": "stream",
     "text": [
      "False\n",
      "True\n",
      "True\n"
     ]
    }
   ],
   "source": [
    "# import module from the same directory\n",
    "import even\n",
    "\n",
    "# call the function\n",
    "print(even.is_even(5))\n",
    "\n",
    "# import module from a subdirectory (1st)\n",
    "import modules.prime\n",
    "print(modules.prime.is_prime(5))\n",
    "\n",
    "# import module from a subdirectory (2nd)\n",
    "from  modules import prime\n",
    "print(prime.is_prime(5))"
   ]
  },
  {
   "cell_type": "markdown",
   "metadata": {},
   "source": [
    "#### 4.1.2.4. Libraries\n",
    "Libraries are the collections of similar modules grouped together under a single name. We need to install them first with `pip` and then import them.\n",
    "- The most famous libraries are `numpy`, `pandas`, `matplotlib`, `seaborn`, `scikit-learn`, etc.\n",
    "- Sometimes, when we need to work with multiple libraries, we need to import them all at once. We can do that using the `from` statement."
   ]
  },
  {
   "cell_type": "code",
   "execution_count": null,
   "metadata": {},
   "outputs": [],
   "source": [
    "!pip install pandas"
   ]
  },
  {
   "cell_type": "code",
   "execution_count": 28,
   "metadata": {},
   "outputs": [
    {
     "name": "stdout",
     "output_type": "stream",
     "text": [
      "    a   b   c\n",
      "0   1   2   3\n",
      "1   4   5   6\n",
      "2   7   8   9\n",
      "3  10  11  12\n"
     ]
    }
   ],
   "source": [
    "# import pandas\n",
    "import pandas as pd\n",
    "\n",
    "# make pandas dataframe from a 2d list\n",
    "data = [[1, 2, 3], [4, 5, 6], [7, 8, 9], [10, 11, 12]] \n",
    "df = pd.DataFrame(data, columns=['a', 'b', 'c'])\n",
    "print(df)\n"
   ]
  },
  {
   "cell_type": "markdown",
   "metadata": {},
   "source": [
    "## 4.2. Files I/O in Python\n",
    "\n",
    "If we want to permanently store data, we need to work with files. Files can be of different kind, from a simple text to a complex object like a database, video, audio, etc.\n",
    "\n",
    "We will first introduce the general approach to a file I/O in Python. The simplest one is to read and write to a file. We will see how to read and write to a text file.\n",
    "\n",
    "## 4.2.1. Reading from a File\n",
    "\n",
    "- To read a file we use the `open` function.\n",
    "- `open` takes two arguments: the name of the file and a mode.\n",
    "  - syntax: `open(filename, mode)`\n",
    "  - `filename` is the name of the file\n",
    "  - `mode` is a string that specifies how the file will be read. The default value is `r` for reading. You can also use `w` for writing. `a` for appending. If we ommit the mode, it will be `r` by default.\n",
    "- it is important to know that the file exists and that we can access it. Otherwise, we will get an error.\n",
    "- after we have opened the file, we need to read it. We can do that with different methods:\n",
    "  - `read` method reads the whole file as a string.\n",
    "  - `readline` method reads a line. \n",
    "  - `readlines` method reads all the lines and returns them as a list.\n",
    "  - `next` method skips to the next line. It returns the next line and advances the cursor. It is useful when we want to read a file line by line.\n",
    "- `close` method closes the file. It is very important to always close the file. Otherwise, the file will not be accessible."
   ]
  },
  {
   "cell_type": "code",
   "execution_count": 2,
   "metadata": {},
   "outputs": [
    {
     "name": "stdout",
     "output_type": "stream",
     "text": [
      "SONNET 54\n",
      "\n",
      "O how much more doth beauty beauteous seem,\n",
      "By that sweet ornament which truth doth give!\n",
      "The rose looks fair, but fairer we it deem\n",
      "For that sweet odour which doth in it live.\n",
      "The canker-blooms have full as deep a dye\n",
      "As the perfumed tincture of the roses,\n",
      "Hang on such thorns and play as wantonly\n",
      "When summer's breath their masked buds discloses:\n",
      "But, for their virtue only is their show,\n",
      "They live unwoo'd and unrespected fade,\n",
      "Die to themselves. Sweet roses do not so;\n",
      "Of their sweet deaths are sweetest odours made:\n",
      "And so of you, beauteous and lovely youth,\n",
      "When that shall fade, my verse distills your truth. \n",
      "SONNET 54\n",
      "\n",
      "\n",
      "\n",
      "O how much more doth beauty beauteous seem,\n",
      "\n",
      "['SONNET 54\\n', '\\n', 'O how much more doth beauty beauteous seem,\\n', 'By that sweet ornament which truth doth give!\\n', 'The rose looks fair, but fairer we it deem\\n', 'For that sweet odour which doth in it live.\\n', 'The canker-blooms have full as deep a dye\\n', 'As the perfumed tincture of the roses,\\n', 'Hang on such thorns and play as wantonly\\n', \"When summer's breath their masked buds discloses:\\n\", 'But, for their virtue only is their show,\\n', \"They live unwoo'd and unrespected fade,\\n\", 'Die to themselves. Sweet roses do not so;\\n', 'Of their sweet deaths are sweetest odours made:\\n', 'And so of you, beauteous and lovely youth,\\n', 'When that shall fade, my verse distills your truth. ']\n"
     ]
    }
   ],
   "source": [
    "# open and read the file\n",
    "file = open(\"shakespeare.txt\", \"r\")\n",
    "print(file.read())\n",
    "file.close()\n",
    "\n",
    "# open and read the file line by line\n",
    "file = open(\"shakespeare.txt\", \"r\")\n",
    "print(file.readline())\n",
    "print(file.readline())\n",
    "print(file.readline())\n",
    "file.close()\n",
    "\n",
    "# open and read the file line by line\n",
    "file = open(\"shakespeare.txt\", \"r\")\n",
    "print(file.readlines())\n",
    "file.close()\n"
   ]
  },
  {
   "cell_type": "markdown",
   "metadata": {},
   "source": [
    "- It seems we have some problems with the printouts. We need to clean them up. Reading the whole file is a good thing for a small text files, but for larger files, we need to read line by line. And when we do that, we should also be aware that some outputs are containg new lines. We need to clean them up using the `strip` function."
   ]
  },
  {
   "cell_type": "code",
   "execution_count": 7,
   "metadata": {},
   "outputs": [
    {
     "name": "stdout",
     "output_type": "stream",
     "text": [
      "SONNET 54\n",
      "\n",
      "O how much more doth beauty beauteous seem,\n",
      "By that sweet ornament which truth doth give!\n",
      "The rose looks fair, but fairer we it deem\n",
      "For that sweet odour which doth in it live.\n",
      "The canker-blooms have full as deep a dye\n",
      "As the perfumed tincture of the roses,\n",
      "Hang on such thorns and play as wantonly\n",
      "When summer's breath their masked buds discloses:\n",
      "But, for their virtue only is their show,\n",
      "They live unwoo'd and unrespected fade,\n",
      "Die to themselves. Sweet roses do not so;\n",
      "Of their sweet deaths are sweetest odours made:\n",
      "And so of you, beauteous and lovely youth,\n",
      "When that shall fade, my verse distills your truth.\n"
     ]
    }
   ],
   "source": [
    "# read file until you arrive to the end of the file\n",
    "file = open('shakespeare.txt', 'r')\n",
    "for line in file:\n",
    "    # print(line)  # each line will have a double newline. why?\n",
    "    print(line.strip())  # remove the double newline\n",
    "file.close()"
   ]
  },
  {
   "cell_type": "markdown",
   "metadata": {},
   "source": [
    "- we can read line by line if we use `readlines` method."
   ]
  },
  {
   "cell_type": "code",
   "execution_count": 9,
   "metadata": {},
   "outputs": [
    {
     "name": "stdout",
     "output_type": "stream",
     "text": [
      "SONNET 54\n",
      "\n",
      "O how much more doth beauty beauteous seem,\n",
      "By that sweet ornament which truth doth give!\n",
      "The rose looks fair, but fairer we it deem\n",
      "For that sweet odour which doth in it live.\n",
      "The canker-blooms have full as deep a dye\n",
      "As the perfumed tincture of the roses,\n",
      "Hang on such thorns and play as wantonly\n",
      "When summer's breath their masked buds discloses:\n",
      "But, for their virtue only is their show,\n",
      "They live unwoo'd and unrespected fade,\n",
      "Die to themselves. Sweet roses do not so;\n",
      "Of their sweet deaths are sweetest odours made:\n",
      "And so of you, beauteous and lovely youth,\n",
      "When that shall fade, my verse distills your truth.\n"
     ]
    }
   ],
   "source": [
    "# read file using readlines\n",
    "file = open('shakespeare.txt', 'r')\n",
    "lines = file.readlines()\n",
    "for line in lines:\n",
    "    print(line.strip())\n",
    "file.close()"
   ]
  },
  {
   "cell_type": "markdown",
   "metadata": {},
   "source": [
    "- sometimes is easier to read the file by using `with` statement. The syntax is a bit different and is similar to a while loop. All the file operations are done in the `with` statement indentation. The `with` statement closes the file automatically when it is done.\n",
    "- syntax: `with open(filename, mode) as file:`\n",
    "- `as` is used to assign the file to a variable.\n",
    "- `file` is the name of the variable."
   ]
  },
  {
   "cell_type": "code",
   "execution_count": 12,
   "metadata": {},
   "outputs": [
    {
     "name": "stdout",
     "output_type": "stream",
     "text": [
      "SONNET 54\n",
      "\n",
      "O how much more doth beauty beauteous seem,\n",
      "By that sweet ornament which truth doth give!\n",
      "The rose looks fair, but fairer we it deem\n",
      "For that sweet odour which doth in it live.\n",
      "The canker-blooms have full as deep a dye\n",
      "As the perfumed tincture of the roses,\n",
      "Hang on such thorns and play as wantonly\n",
      "When summer's breath their masked buds discloses:\n",
      "But, for their virtue only is their show,\n",
      "They live unwoo'd and unrespected fade,\n",
      "Die to themselves. Sweet roses do not so;\n",
      "Of their sweet deaths are sweetest odours made:\n",
      "And so of you, beauteous and lovely youth,\n",
      "When that shall fade, my verse distills your truth.\n",
      "SONNET 54\n",
      "\n",
      "O how much more doth beauty beauteous seem,\n",
      "By that sweet ornament which truth doth give!\n",
      "The rose looks fair, but fairer we it deem\n",
      "For that sweet odour which doth in it live.\n",
      "The canker-blooms have full as deep a dye\n",
      "As the perfumed tincture of the roses,\n",
      "Hang on such thorns and play as wantonly\n",
      "When summer's breath their masked buds discloses:\n",
      "But, for their virtue only is their show,\n",
      "They live unwoo'd and unrespected fade,\n",
      "Die to themselves. Sweet roses do not so;\n",
      "Of their sweet deaths are sweetest odours made:\n",
      "And so of you, beauteous and lovely youth,\n",
      "When that shall fade, my verse distills your truth.\n"
     ]
    },
    {
     "ename": "ValueError",
     "evalue": "I/O operation on closed file.",
     "output_type": "error",
     "traceback": [
      "\u001b[0;31m---------------------------------------------------------------------------\u001b[0m",
      "\u001b[0;31mValueError\u001b[0m                                Traceback (most recent call last)",
      "Cell \u001b[0;32mIn[12], line 12\u001b[0m\n\u001b[1;32m      9\u001b[0m     \u001b[38;5;28;01mfor\u001b[39;00m line \u001b[38;5;129;01min\u001b[39;00m lines:\n\u001b[1;32m     10\u001b[0m         \u001b[38;5;28mprint\u001b[39m(line\u001b[38;5;241m.\u001b[39mstrip())\n\u001b[0;32m---> 12\u001b[0m \u001b[38;5;28mprint\u001b[39m(\u001b[43mfile\u001b[49m\u001b[38;5;241;43m.\u001b[39;49m\u001b[43mread\u001b[49m\u001b[43m(\u001b[49m\u001b[43m)\u001b[49m)\n",
      "\u001b[0;31mValueError\u001b[0m: I/O operation on closed file."
     ]
    }
   ],
   "source": [
    "# open and read file with with\n",
    "with open('shakespeare.txt', 'r') as file:\n",
    "    for line in file:\n",
    "        print(line.strip())\n",
    "\n",
    "# open and read file with with\n",
    "with open('shakespeare.txt', 'r') as file:\n",
    "    lines = file.readlines()\n",
    "    for line in lines:\n",
    "        print(line.strip())\n",
    "\n",
    "print(file.read())  # this will throw an error, beacuse file is closed now\n"
   ]
  },
  {
   "cell_type": "markdown",
   "metadata": {},
   "source": [
    "### 4.2.2. Writing to a File\n",
    "\n",
    "- In order to write to a file, we need to open it. We can do that with the `open` function, and we need to use the `write` method.\n",
    "  - syntax: `open(filename, mode)`\n",
    "- `mode` can be `w` for writing, `a` for appending. If file already exists, it will be overwritten if we use `w` mode, otherwise it will be appended.\n",
    "- To write to a file we use the `write` method. It takes one argument: the string we want to write.\n",
    "  - syntax: `file.write(string)`\n"
   ]
  },
  {
   "cell_type": "code",
   "execution_count": 2,
   "metadata": {},
   "outputs": [
    {
     "name": "stdout",
     "output_type": "stream",
     "text": [
      "Hello, World!Hello, World!\n"
     ]
    }
   ],
   "source": [
    "# open and write to a file\n",
    "file = open('test.txt', 'w')\n",
    "file.write('Hello, World!')\n",
    "file.close()\n",
    "\n",
    "# open and append to a file\n",
    "file = open('test.txt', 'a')\n",
    "file.write('Hello, World!')\n",
    "file.close()\n",
    "\n",
    "# open and read a file\n",
    "file = open('test.txt', 'r')\n",
    "print(file.read())\n",
    "file.close()"
   ]
  },
  {
   "cell_type": "markdown",
   "metadata": {},
   "source": [
    "- Notice that with `write()` method, the strings are written to the file as one big string.\n",
    "- The other methods are `writelines()` and `seek()`."
   ]
  },
  {
   "cell_type": "code",
   "execution_count": 4,
   "metadata": {},
   "outputs": [
    {
     "name": "stdout",
     "output_type": "stream",
     "text": [
      "Hello, World!Welcome to Python!Have a nice day!\n"
     ]
    }
   ],
   "source": [
    "# writelines\n",
    "lines = ['Hello, World!', 'Welcome to Python!', 'Have a nice day!']\n",
    "\n",
    "file = open('test.txt', 'w')\n",
    "file.writelines(lines)\n",
    "file.close()\n",
    "\n",
    "# seek\n",
    "file = open('test.txt', 'r')\n",
    "file.seek(0)\n",
    "print(file.read())\n",
    "file.close()"
   ]
  },
  {
   "cell_type": "markdown",
   "metadata": {},
   "source": [
    "- If we wish to write properly line by line, we need to add `newline` argument in the `writelines` method.\n",
    "  - syntax: `writelines(lines, newline)`"
   ]
  },
  {
   "cell_type": "code",
   "execution_count": 5,
   "metadata": {},
   "outputs": [
    {
     "name": "stdout",
     "output_type": "stream",
     "text": [
      "Hello, World!\n",
      "Welcome to Python!\n",
      "Have a nice day!\n",
      "\n"
     ]
    }
   ],
   "source": [
    "# with\n",
    "with open('test.txt', 'w') as file:\n",
    "    file.write('Hello, World!\\n')\n",
    "    file.write('Welcome to Python!\\n')\n",
    "    file.write('Have a nice day!\\n')\n",
    "\n",
    "# read\n",
    "with open('test.txt', 'r') as file:\n",
    "    print(file.read())"
   ]
  },
  {
   "cell_type": "markdown",
   "metadata": {},
   "source": [
    "## 4.2.3. Other File I/O Methods\n",
    "\n",
    "[Os Module](https://docs.python.org/3/library/os.html)\n",
    "\n",
    "- Many times there's a need to perform other file I/O operations. We can use the `os` module to do that.\n",
    "- `os` module provides a lot of methods that we can use to perform other file I/O operations. We will introduce them in the next section.\n",
    "\n",
    "### 4.2.3.1. Check if File Exists\n",
    "\n",
    "- We can check if a file exists using the `exists` method.\n",
    "  - syntax: `os.path.exists(filename)`"
   ]
  },
  {
   "cell_type": "code",
   "execution_count": 1,
   "metadata": {},
   "outputs": [
    {
     "name": "stdout",
     "output_type": "stream",
     "text": [
      "File exists\n"
     ]
    }
   ],
   "source": [
    "import os\n",
    "\n",
    "# check if a file exists\n",
    "if os.path.exists('test.txt'):\n",
    "    print('File exists')\n",
    "else:\n",
    "    print('File does not exist')"
   ]
  },
  {
   "cell_type": "markdown",
   "metadata": {},
   "source": [
    "### 4.2.3.2. List Files\n",
    "\n",
    "- We can list all the files in a directory using the `listdir` method.\n",
    "  - syntax: `os.listdir(directory)`"
   ]
  },
  {
   "cell_type": "code",
   "execution_count": 2,
   "metadata": {},
   "outputs": [
    {
     "name": "stdout",
     "output_type": "stream",
     "text": [
      "['lesson-0501.ipynb', 'shakespeare.txt', 'even.py', 'modules', '__pycache__', 'test.txt']\n"
     ]
    }
   ],
   "source": [
    "# list files\n",
    "print(os.listdir())"
   ]
  },
  {
   "cell_type": "markdown",
   "metadata": {},
   "source": [
    "### 4.2.3.3. Create Directory\n",
    "\n",
    "- We can create a directory using the `mkdir` method.\n",
    "  - syntax: `os.mkdir(directory)`"
   ]
  },
  {
   "cell_type": "code",
   "execution_count": 3,
   "metadata": {},
   "outputs": [],
   "source": [
    "# create a directory\n",
    "os.mkdir('test')"
   ]
  },
  {
   "cell_type": "markdown",
   "metadata": {},
   "source": [
    "### 4.2.3.4. Remove Directory\n",
    "\n",
    "- We can remove a directory using the `rmdir` method.\n",
    "  - syntax: `os.rmdir(directory)`"
   ]
  },
  {
   "cell_type": "code",
   "execution_count": 4,
   "metadata": {},
   "outputs": [],
   "source": [
    "# remove a directory\n",
    "os.rmdir('test')"
   ]
  },
  {
   "cell_type": "markdown",
   "metadata": {},
   "source": [
    "### 4.2.3.5. Change Directory and Get Current Directory\n",
    "\n",
    "- We can change the current directory using the `chdir` method.\n",
    "  - syntax: `os.chdir(directory)`\n",
    "- We can get the current directory using the `getcwd` method.\n",
    "  - syntax: `os.getcwd()`"
   ]
  },
  {
   "cell_type": "code",
   "execution_count": 5,
   "metadata": {},
   "outputs": [
    {
     "name": "stdout",
     "output_type": "stream",
     "text": [
      "/home/tom/kreativestorm/python-course-material/lesson-05\n",
      "/home/tom/kreativestorm/python-course-material\n",
      "/home/tom/kreativestorm/python-course-material/lesson-05\n"
     ]
    }
   ],
   "source": [
    "# get current directory\n",
    "print(os.getcwd())\n",
    "\n",
    "# change directory\n",
    "os.chdir('..')\n",
    "print(os.getcwd())\n",
    "os.chdir('lesson-05')\n",
    "print(os.getcwd())"
   ]
  },
  {
   "cell_type": "markdown",
   "metadata": {},
   "source": [
    "### 4.2.3.6. Rename File and Rename Directory\n",
    "\n",
    "- We can rename a file using the `rename` method.\n",
    "  - syntax: `os.rename(old_filename, new_filename)`\n",
    "- We can rename a directory using the `rename` method.\n",
    "  - syntax: `os.rename(old_directory, new_directory)`"
   ]
  },
  {
   "cell_type": "code",
   "execution_count": 6,
   "metadata": {},
   "outputs": [
    {
     "name": "stdout",
     "output_type": "stream",
     "text": [
      "True\n",
      "False\n",
      "True\n",
      "True\n",
      "False\n",
      "True\n"
     ]
    }
   ],
   "source": [
    "# make a new file\n",
    "with open('test.txt', 'w') as file:\n",
    "    file.write('Hello, World!\\n')\n",
    "\n",
    "# check if the file exists\n",
    "print(os.path.exists('test.txt'))\n",
    "\n",
    "# rename the file\n",
    "os.rename('test.txt', 'test2.txt')\n",
    "\n",
    "# check if the old file exists\n",
    "print(os.path.exists('test.txt'))\n",
    "# check if the new file exists\n",
    "print(os.path.exists('test2.txt'))\n",
    "\n",
    "# remove the new file\n",
    "os.remove('test2.txt')\n",
    "\n",
    "\n",
    "# make a new directory\n",
    "os.mkdir('test_dir')\n",
    "\n",
    "# check if the directory exists\n",
    "print(os.path.exists('test_dir'))\n",
    "\n",
    "# rename the directory\n",
    "os.rename('test_dir', 'test_dir2')\n",
    "\n",
    "# check if the old directory exists\n",
    "print(os.path.exists('test_dir'))\n",
    "\n",
    "# check if the new directory exists\n",
    "print(os.path.exists('test_dir2'))\n",
    "\n",
    "# remove the new directory\n",
    "os.rmdir('test_dir2')\n"
   ]
  },
  {
   "cell_type": "markdown",
   "metadata": {},
   "source": [
    "### 4.2.3.7. Other useful methods of `Os` Module\n",
    "\n",
    "- We can list all the files in a directory using the `listdir` method.\n",
    "- We can create a directory using the `mkdir` method.\n",
    "- We can remove a directory using the `rmdir` method.\n",
    "- We can get the size of a file using the `getsize` method.\n",
    "- We can get the time of last modification of a file using the `getmtime` method.\n",
    "- We can get the time of last access of a file using the `getatime` method.\n",
    "- We can get the time of creation of a file using the `getctime` method.\n",
    "- We can remove a file using the `remove` method."
   ]
  }
 ],
 "metadata": {
  "kernelspec": {
   "display_name": "python312",
   "language": "python",
   "name": "python3"
  },
  "language_info": {
   "codemirror_mode": {
    "name": "ipython",
    "version": 3
   },
   "file_extension": ".py",
   "mimetype": "text/x-python",
   "name": "python",
   "nbconvert_exporter": "python",
   "pygments_lexer": "ipython3",
   "version": "3.12.2"
  }
 },
 "nbformat": 4,
 "nbformat_minor": 2
}
