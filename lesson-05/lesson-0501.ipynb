{
 "cells": [
  {
   "cell_type": "markdown",
   "metadata": {},
   "source": [
    "# Lesson 5a: Working with Modules and Files in Python\n",
    "\n",
    "## 5.1. Modules\n",
    "\n",
    "Modules are a collection of functions that can be used in your program. We have already seen how to import some modules in Python like `random`, `time` and `datetime`.\n",
    "We have different kind of modules in Python: Built-in modules, third-party modules, and user-defined modules.\n",
    "- Built-in modules: These modules are pre-installed in the Python interpreter: `sys`, `math`, `os`, `random`, etc.\n",
    "- Third-party modules: These modules are not pre-installed in the Python interpreter. We need to install them first.\n",
    "- User-defined modules: These modules are created by us.\n",
    "\n",
    "## 5.1.1. Importing Modules\n",
    "\n",
    "- We can import modules using the `import` statement.\n",
    "  - syntax: `import module_name`\n",
    "  - `module_name` is the name of the module we want to import.\n",
    "\n",
    "This way we are importing the whole module with all its functions. To call a function from a module, we need to use the module name followed by the function name.\n",
    "  - syntax: `module_name.function_name()`\n",
    "    - example: `random.randint(0, 100)`"
   ]
  },
  {
   "cell_type": "code",
   "execution_count": null,
   "metadata": {},
   "outputs": [],
   "source": []
  },
  {
   "cell_type": "code",
   "execution_count": 1,
   "metadata": {},
   "outputs": [
    {
     "name": "stdout",
     "output_type": "stream",
     "text": [
      "4.0\n"
     ]
    }
   ],
   "source": [
    "# import library\n",
    "import math\n",
    "\n",
    "# call the function for the square root of 16\n",
    "print(math.sqrt(16))"
   ]
  },
  {
   "cell_type": "markdown",
   "metadata": {},
   "source": [
    "- The other way is to import all the functions in a module using the `from` statement.\n",
    "  - syntax: `from module_name import *`\n",
    "  - `module_name` is the name of the module we want to import.\n",
    "  - `*` means we want to import all the functions in the module.\n",
    "  - example: `from random import *`\n",
    "\n",
    "This way of importing function gives us the opportunity to call a specific function and we don't need to write the module name and function name.\n",
    "  - syntax: `function_name()`\n",
    "    - example: `randint(0, 100)`\n",
    "  - when we import all the functions there could be a problem if we want to call a specific function that could overwrite other functions in the code."
   ]
  },
  {
   "cell_type": "code",
   "execution_count": 3,
   "metadata": {},
   "outputs": [
    {
     "name": "stdout",
     "output_type": "stream",
     "text": [
      "4.0\n"
     ]
    }
   ],
   "source": [
    "# import all functions from a module\n",
    "from math import *\n",
    "\n",
    "# call the square function\n",
    "print(sqrt(16))"
   ]
  },
  {
   "cell_type": "markdown",
   "metadata": {},
   "source": [
    "We can also import import single functions or multiple functions from a module using the `from` and `import` statements.\n",
    "  - syntax: `from module_name import function_name1, function_name2, function_name3`\n",
    "  - `module_name` is the name of the module we want to import.\n",
    "  - `function_name1, function_name2, function_name3` are the names of the functions we want to import.\n",
    "  - example: `from random import randint, choice`"
   ]
  },
  {
   "cell_type": "code",
   "execution_count": 4,
   "metadata": {},
   "outputs": [
    {
     "name": "stdout",
     "output_type": "stream",
     "text": [
      "4.0\n",
      "0.8939966636005579\n"
     ]
    }
   ],
   "source": [
    "# import specific functions\n",
    "from math import sqrt, sin\n",
    "\n",
    "# call the square function\n",
    "print(sqrt(16))\n",
    "\n",
    "# call the sine function\n",
    "print(sin(90))"
   ]
  },
  {
   "cell_type": "markdown",
   "metadata": {},
   "source": [
    "In order to shorten the syntax, we can import modules with the `as` statement.\n",
    "  - syntax: `import module_name as new_name`\n",
    "  - `module_name` is the name of the module we want to import.\n",
    "  - `new_name` is the new name we want to give to the module.\n",
    "  - example: `import pandas as pd`"
   ]
  },
  {
   "cell_type": "code",
   "execution_count": 6,
   "metadata": {},
   "outputs": [
    {
     "name": "stdout",
     "output_type": "stream",
     "text": [
      "2024-04-01\n"
     ]
    }
   ],
   "source": [
    "# import datetime module\n",
    "import datetime as dt\n",
    "\n",
    "# get today's date\n",
    "today = dt.date.today()\n",
    "print(today)"
   ]
  },
  {
   "cell_type": "markdown",
   "metadata": {},
   "source": [
    "### 5.1.2. Importing different kinds of modules\n",
    "\n",
    "#### 5.1.2.1. Built-in modules\n",
    "\n",
    "Built-in modules are the ones that come in the Python standard library. We can import them using only the `import` statement.\n",
    "These modules are `sys`, `math`, `os`, `random`, etc.\n",
    "\n",
    "#### 5.1.2.2. Third-party modules\n",
    "\n",
    "Third-party modules or packages are the ones that are not included in the standard library. We need to install them first and then import them. To install a third-party module, we need to use the `pip` command. We can find them on the [Python Package Manager - PyPI](https://pypi.org/).\n",
    "- To install a third-party module, we need to go to the terminal and type `pip install module_name`.\n",
    "- We can also install a specific version of a module using the `pip` command.\n",
    "  - syntax: `pip install module_name==version` or `pip install module_name>=version`\n",
    "  - `module_name` is the name of the module we want to install.\n",
    "  - `version` is the version number of the module we want to install.\n"
   ]
  },
  {
   "cell_type": "code",
   "execution_count": 3,
   "metadata": {},
   "outputs": [
    {
     "name": "stdout",
     "output_type": "stream",
     "text": [
      "Collecting getch\n",
      "  Downloading getch-1.0.tar.gz (1.3 kB)\n",
      "  Preparing metadata (setup.py) ... \u001b[?25ldone\n",
      "\u001b[?25hBuilding wheels for collected packages: getch\n",
      "  Building wheel for getch (setup.py) ... \u001b[?25ldone\n",
      "\u001b[?25h  Created wheel for getch: filename=getch-1.0-cp312-cp312-linux_x86_64.whl size=3902 sha256=6c958b6cc0e196126697862036483f4a5e78758038ca47bae1e703a2b7858d63\n",
      "  Stored in directory: /home/tom/.cache/pip/wheels/8c/ca/c3/7ff3db82188268b5fcd37edef2b827dd38687465056d1475ce\n",
      "Successfully built getch\n",
      "Installing collected packages: getch\n",
      "Successfully installed getch-1.0\n"
     ]
    }
   ],
   "source": [
    "!pip install getch"
   ]
  },
  {
   "cell_type": "markdown",
   "metadata": {},
   "source": [
    "***From the Module Documentation:***\n",
    "\n",
    "The getch module does single-char input by providing wrappers for the conio.h library functions getch() (gets a character from user input, no output - this is useful for password input) and getche() (also outputs to the screen), if conio.h does not exist, it uses a stub-library using termios.h and other headers to emulate this behaviour:\n",
    "\n",
    "```python\n",
    "import getch\n",
    "# ...\n",
    "char = getch.getch() # User input, but not displayed on the screen\n",
    "# or\n",
    "char = getch.getche() # also displayed on the screen\n",
    "```\n",
    "\n",
    "Hint: On Windows, you can use:\n",
    "\n",
    "```python\n",
    "import msvcrt\n",
    "# ...\n",
    "char = msvcrt.getch()\n",
    "# or, to display it on the screen\n",
    "char = msvcrt.getche()\n",
    "```\n",
    "\n",
    "as a standard library alternative to this module\n"
   ]
  },
  {
   "cell_type": "code",
   "execution_count": null,
   "metadata": {},
   "outputs": [
    {
     "name": "stdout",
     "output_type": "stream",
     "text": [
      "press a key to continue...\n"
     ]
    },
    {
     "ename": "KeyboardInterrupt",
     "evalue": "",
     "output_type": "error",
     "traceback": [
      "\u001b[0;31m---------------------------------------------------------------------------\u001b[0m",
      "\u001b[0;31mOverflowError\u001b[0m                             Traceback (most recent call last)",
      "    \u001b[0;31m[... skipping hidden 1 frame]\u001b[0m\n",
      "Cell \u001b[0;32mIn[4], line 4\u001b[0m\n\u001b[1;32m      3\u001b[0m \u001b[38;5;28mprint\u001b[39m(\u001b[38;5;124m'\u001b[39m\u001b[38;5;124mpress a key to continue...\u001b[39m\u001b[38;5;124m'\u001b[39m)\n\u001b[0;32m----> 4\u001b[0m \u001b[43mgetch\u001b[49m\u001b[38;5;241;43m.\u001b[39;49m\u001b[43mgetch\u001b[49m\u001b[43m(\u001b[49m\u001b[43m)\u001b[49m\n",
      "\u001b[0;31mOverflowError\u001b[0m: character argument not in range(0x110000)",
      "\nDuring handling of the above exception, another exception occurred:\n",
      "\u001b[0;31mKeyboardInterrupt\u001b[0m                         Traceback (most recent call last)",
      "File \u001b[0;32m~/.local/lib/python3.12/site-packages/IPython/core/interactiveshell.py:3598\u001b[0m, in \u001b[0;36mInteractiveShell.run_code\u001b[0;34m(self, code_obj, result, async_)\u001b[0m\n\u001b[1;32m   3596\u001b[0m \u001b[38;5;28;01mexcept\u001b[39;00m:\n\u001b[1;32m   3597\u001b[0m     \u001b[38;5;28;01mif\u001b[39;00m result \u001b[38;5;129;01mis\u001b[39;00m \u001b[38;5;129;01mnot\u001b[39;00m \u001b[38;5;28;01mNone\u001b[39;00m:\n\u001b[0;32m-> 3598\u001b[0m         result\u001b[38;5;241m.\u001b[39merror_in_exec \u001b[38;5;241m=\u001b[39m \u001b[43msys\u001b[49m\u001b[38;5;241;43m.\u001b[39;49m\u001b[43mexc_info\u001b[49m\u001b[43m(\u001b[49m\u001b[43m)\u001b[49m[\u001b[38;5;241m1\u001b[39m]\n\u001b[1;32m   3599\u001b[0m     \u001b[38;5;28mself\u001b[39m\u001b[38;5;241m.\u001b[39mshowtraceback(running_compiled_code\u001b[38;5;241m=\u001b[39m\u001b[38;5;28;01mTrue\u001b[39;00m)\n\u001b[1;32m   3600\u001b[0m \u001b[38;5;28;01melse\u001b[39;00m:\n",
      "\u001b[0;31mKeyboardInterrupt\u001b[0m: "
     ]
    },
    {
     "name": "stdout",
     "output_type": "stream",
     "text": [
      "press a key to continue...\n"
     ]
    },
    {
     "ename": "KeyboardInterrupt",
     "evalue": "",
     "output_type": "error",
     "traceback": [
      "\u001b[0;31m---------------------------------------------------------------------------\u001b[0m",
      "\u001b[0;31mOverflowError\u001b[0m                             Traceback (most recent call last)",
      "    \u001b[0;31m[... skipping hidden 1 frame]\u001b[0m\n",
      "Cell \u001b[0;32mIn[5], line 4\u001b[0m\n\u001b[1;32m      3\u001b[0m \u001b[38;5;28mprint\u001b[39m(\u001b[38;5;124m'\u001b[39m\u001b[38;5;124mpress a key to continue...\u001b[39m\u001b[38;5;124m'\u001b[39m)\n\u001b[0;32m----> 4\u001b[0m \u001b[43mgetch\u001b[49m\u001b[38;5;241;43m.\u001b[39;49m\u001b[43mgetch\u001b[49m\u001b[43m(\u001b[49m\u001b[43m)\u001b[49m\n",
      "\u001b[0;31mOverflowError\u001b[0m: character argument not in range(0x110000)",
      "\nDuring handling of the above exception, another exception occurred:\n",
      "\u001b[0;31mKeyboardInterrupt\u001b[0m                         Traceback (most recent call last)",
      "File \u001b[0;32m~/.local/lib/python3.12/site-packages/IPython/core/interactiveshell.py:3598\u001b[0m, in \u001b[0;36mInteractiveShell.run_code\u001b[0;34m(self, code_obj, result, async_)\u001b[0m\n\u001b[1;32m   3596\u001b[0m \u001b[38;5;28;01mexcept\u001b[39;00m:\n\u001b[1;32m   3597\u001b[0m     \u001b[38;5;28;01mif\u001b[39;00m result \u001b[38;5;129;01mis\u001b[39;00m \u001b[38;5;129;01mnot\u001b[39;00m \u001b[38;5;28;01mNone\u001b[39;00m:\n\u001b[0;32m-> 3598\u001b[0m         result\u001b[38;5;241m.\u001b[39merror_in_exec \u001b[38;5;241m=\u001b[39m \u001b[43msys\u001b[49m\u001b[38;5;241;43m.\u001b[39;49m\u001b[43mexc_info\u001b[49m\u001b[43m(\u001b[49m\u001b[43m)\u001b[49m[\u001b[38;5;241m1\u001b[39m]\n\u001b[1;32m   3599\u001b[0m     \u001b[38;5;28mself\u001b[39m\u001b[38;5;241m.\u001b[39mshowtraceback(running_compiled_code\u001b[38;5;241m=\u001b[39m\u001b[38;5;28;01mTrue\u001b[39;00m)\n\u001b[1;32m   3600\u001b[0m \u001b[38;5;28;01melse\u001b[39;00m:\n",
      "\u001b[0;31mKeyboardInterrupt\u001b[0m: "
     ]
    }
   ],
   "source": [
    "import getch\n",
    "\n",
    "print('press a key to continue...')\n",
    "getch.getch()"
   ]
  },
  {
   "cell_type": "code",
   "execution_count": null,
   "metadata": {},
   "outputs": [
    {
     "name": "stdout",
     "output_type": "stream",
     "text": [
      "press a key to continue...\n"
     ]
    },
    {
     "ename": "KeyboardInterrupt",
     "evalue": "",
     "output_type": "error",
     "traceback": [
      "\u001b[0;31m---------------------------------------------------------------------------\u001b[0m\n",
      "\u001b[0;31mOverflowError\u001b[0m                             Traceback (most recent call last)\n",
      "    \u001b[0;31m[... skipping hidden 1 frame]\u001b[0m\n",
      "\n",
      "Cell \u001b[0;32mIn[4], line 4\u001b[0m\n",
      "\u001b[1;32m      3\u001b[0m \u001b[38;5;28mprint\u001b[39m(\u001b[38;5;124m'\u001b[39m\u001b[38;5;124mpress a key to continue...\u001b[39m\u001b[38;5;124m'\u001b[39m)\n",
      "\u001b[0;32m----> 4\u001b[0m \u001b[43mgetch\u001b[49m\u001b[38;5;241;43m.\u001b[39;49m\u001b[43mgetch\u001b[49m\u001b[43m(\u001b[49m\u001b[43m)\u001b[49m\n",
      "\n",
      "\u001b[0;31mOverflowError\u001b[0m: character argument not in range(0x110000)\n",
      "\n",
      "During handling of the above exception, another exception occurred:\n",
      "\n",
      "\u001b[0;31mKeyboardInterrupt\u001b[0m                         Traceback (most recent call last)\n",
      "File \u001b[0;32m~/.local/lib/python3.12/site-packages/IPython/core/interactiveshell.py:3598\u001b[0m, in \u001b[0;36mInteractiveShell.run_code\u001b[0;34m(self, code_obj, result, async_)\u001b[0m\n",
      "\u001b[1;32m   3596\u001b[0m \u001b[38;5;28;01mexcept\u001b[39;00m:\n",
      "\u001b[1;32m   3597\u001b[0m     \u001b[38;5;28;01mif\u001b[39;00m result \u001b[38;5;129;01mis\u001b[39;00m \u001b[38;5;129;01mnot\u001b[39;00m \u001b[38;5;28;01mNone\u001b[39;00m:\n",
      "\u001b[0;32m-> 3598\u001b[0m         result\u001b[38;5;241m.\u001b[39merror_in_exec \u001b[38;5;241m=\u001b[39m \u001b[43msys\u001b[49m\u001b[38;5;241;43m.\u001b[39;49m\u001b[43mexc_info\u001b[49m\u001b[43m(\u001b[49m\u001b[43m)\u001b[49m[\u001b[38;5;241m1\u001b[39m]\n",
      "\u001b[1;32m   3599\u001b[0m     \u001b[38;5;28mself\u001b[39m\u001b[38;5;241m.\u001b[39mshowtraceback(running_compiled_code\u001b[38;5;241m=\u001b[39m\u001b[38;5;28;01mTrue\u001b[39;00m)\n",
      "\u001b[1;32m   3600\u001b[0m \u001b[38;5;28;01melse\u001b[39;00m:\n",
      "\n",
      "\u001b[0;31mKeyboardInterrupt\u001b[0m: "
     ]
    },
    {
     "name": "stdout",
     "output_type": "stream",
     "text": [
      "press a key to continue...\n"
     ]
    },
    {
     "ename": "KeyboardInterrupt",
     "evalue": "",
     "output_type": "error",
     "traceback": [
      "\u001b[0;31m---------------------------------------------------------------------------\u001b[0m\n",
      "\u001b[0;31mOverflowError\u001b[0m                             Traceback (most recent call last)\n",
      "    \u001b[0;31m[... skipping hidden 1 frame]\u001b[0m\n",
      "\n",
      "Cell \u001b[0;32mIn[5], line 4\u001b[0m\n",
      "\u001b[1;32m      3\u001b[0m \u001b[38;5;28mprint\u001b[39m(\u001b[38;5;124m'\u001b[39m\u001b[38;5;124mpress a key to continue...\u001b[39m\u001b[38;5;124m'\u001b[39m)\n",
      "\u001b[0;32m----> 4\u001b[0m \u001b[43mgetch\u001b[49m\u001b[38;5;241;43m.\u001b[39;49m\u001b[43mgetch\u001b[49m\u001b[43m(\u001b[49m\u001b[43m)\u001b[49m\n",
      "\n",
      "\u001b[0;31mOverflowError\u001b[0m: character argument not in range(0x110000)\n",
      "\n",
      "During handling of the above exception, another exception occurred:\n",
      "\n",
      "\u001b[0;31mKeyboardInterrupt\u001b[0m                         Traceback (most recent call last)\n",
      "File \u001b[0;32m~/.local/lib/python3.12/site-packages/IPython/core/interactiveshell.py:3598\u001b[0m, in \u001b[0;36mInteractiveShell.run_code\u001b[0;34m(self, code_obj, result, async_)\u001b[0m\n",
      "\u001b[1;32m   3596\u001b[0m \u001b[38;5;28;01mexcept\u001b[39;00m:\n",
      "\u001b[1;32m   3597\u001b[0m     \u001b[38;5;28;01mif\u001b[39;00m result \u001b[38;5;129;01mis\u001b[39;00m \u001b[38;5;129;01mnot\u001b[39;00m \u001b[38;5;28;01mNone\u001b[39;00m:\n",
      "\u001b[0;32m-> 3598\u001b[0m         result\u001b[38;5;241m.\u001b[39merror_in_exec \u001b[38;5;241m=\u001b[39m \u001b[43msys\u001b[49m\u001b[38;5;241;43m.\u001b[39;49m\u001b[43mexc_info\u001b[49m\u001b[43m(\u001b[49m\u001b[43m)\u001b[49m[\u001b[38;5;241m1\u001b[39m]\n",
      "\u001b[1;32m   3599\u001b[0m     \u001b[38;5;28mself\u001b[39m\u001b[38;5;241m.\u001b[39mshowtraceback(running_compiled_code\u001b[38;5;241m=\u001b[39m\u001b[38;5;28;01mTrue\u001b[39;00m)\n",
      "\u001b[1;32m   3600\u001b[0m \u001b[38;5;28;01melse\u001b[39;00m:\n",
      "\n",
      "\u001b[0;31mKeyboardInterrupt\u001b[0m: "
     ]
    }
   ],
   "source": [
    "import getch\n",
    "\n",
    "print('press a key to continue...')\n",
    "getch.getch()"
   ]
  },
  {
   "cell_type": "markdown",
   "metadata": {},
   "source": [
    "The following code is a sophisticated example of using the getch module so that we can get a single character from the user whether they are on Linux, macOS or Windows."
   ]
  },
  {
   "cell_type": "code",
   "execution_count": null,
   "metadata": {},
   "outputs": [
    {
     "ename": "ImportError",
     "evalue": "Unsupported platform",
     "output_type": "error",
     "traceback": [
      "\u001b[0;31m---------------------------------------------------------------------------\u001b[0m",
      "\u001b[0;31mModuleNotFoundError\u001b[0m                       Traceback (most recent call last)",
      "Cell \u001b[0;32mIn[2], line 4\u001b[0m\n\u001b[1;32m      3\u001b[0m \u001b[38;5;28;01mtry\u001b[39;00m:\n\u001b[0;32m----> 4\u001b[0m     \u001b[38;5;28;01mimport\u001b[39;00m \u001b[38;5;21;01mgetch\u001b[39;00m  \u001b[38;5;66;03m# Importing getch for Linux and macOS\u001b[39;00m\n\u001b[1;32m      5\u001b[0m \u001b[38;5;28;01mexcept\u001b[39;00m \u001b[38;5;167;01mImportError\u001b[39;00m:\n",
      "\u001b[0;31mModuleNotFoundError\u001b[0m: No module named 'getch'",
      "\nDuring handling of the above exception, another exception occurred:\n",
      "\u001b[0;31mImportError\u001b[0m                               Traceback (most recent call last)",
      "Cell \u001b[0;32mIn[2], line 9\u001b[0m\n\u001b[1;32m      7\u001b[0m         \u001b[38;5;28;01mimport\u001b[39;00m \u001b[38;5;21;01mmsvcrt\u001b[39;00m  \u001b[38;5;66;03m# Importing msvcrt for Windows\u001b[39;00m\n\u001b[1;32m      8\u001b[0m     \u001b[38;5;28;01melse\u001b[39;00m:\n\u001b[0;32m----> 9\u001b[0m         \u001b[38;5;28;01mraise\u001b[39;00m \u001b[38;5;167;01mImportError\u001b[39;00m(\u001b[38;5;124m\"\u001b[39m\u001b[38;5;124mUnsupported platform\u001b[39m\u001b[38;5;124m\"\u001b[39m)\n\u001b[1;32m     11\u001b[0m \u001b[38;5;28;01mdef\u001b[39;00m \u001b[38;5;21mget_char\u001b[39m():\n\u001b[1;32m     12\u001b[0m \u001b[38;5;250m    \u001b[39m\u001b[38;5;124;03m\"\"\"\u001b[39;00m\n\u001b[1;32m     13\u001b[0m \u001b[38;5;124;03m    Get a single character from the user.\u001b[39;00m\n\u001b[1;32m     14\u001b[0m \u001b[38;5;124;03m    \"\"\"\u001b[39;00m\n",
      "\u001b[0;31mImportError\u001b[0m: Unsupported platform"
     ]
    }
   ],
   "source": [
    "import sys\n",
    "\n",
    "try:\n",
    "    import getch  # Importing getch for Linux and macOS\n",
    "except ImportError:\n",
    "    if sys.platform.startswith('win'):\n",
    "        import msvcrt  # Importing msvcrt for Windows\n",
    "    else:\n",
    "        raise ImportError(\"Unsupported platform\")\n",
    "\n",
    "def get_char():\n",
    "    \"\"\"\n",
    "    Get a single character from the user.\n",
    "    \"\"\"\n",
    "    if 'getch' in globals():  # Using getch module\n",
    "        return getch.getch()\n",
    "    elif sys.platform.startswith('win'):  # Using msvcrt for Windows\n",
    "        return msvcrt.getch().decode('utf-8')\n",
    "    else:\n",
    "        raise NotImplementedError(\"get_char is not implemented for this platform\")\n",
    "\n",
    "# Example usage\n",
    "print(\"Press any key (q to quit):\")\n",
    "while True:\n",
    "    char = get_char()\n",
    "    print(\"You pressed:\", char)\n",
    "    if char.lower() == 'q':\n",
    "        break\n"
   ]
  },
  {
   "cell_type": "markdown",
   "metadata": {},
   "source": [
    "#### 5.1.2.3. User-defined modules\n",
    "\n",
    "User-defined modules are the ones that we created. They are python files that contain functions and classes. We can import them using only the `import` statement.\n",
    "- the file needs to be in the same folder as the code we are executing. If we want to import a file in a different folder, we need to specify the folder path.\n",
    "- syntax: `import module_name` or `from module_name import function_name`"
   ]
  },
  {
   "cell_type": "code",
   "execution_count": 17,
   "metadata": {},
   "outputs": [
    {
     "name": "stdout",
     "output_type": "stream",
     "text": [
      "False\n",
      "True\n",
      "True\n"
     ]
    }
   ],
   "source": [
    "# import module from the same directory\n",
    "import even\n",
    "\n",
    "# call the function\n",
    "print(even.is_even(5))\n",
    "\n",
    "# import module from a subdirectory (1st)\n",
    "import modules.prime\n",
    "print(modules.prime.is_prime(5))\n",
    "\n",
    "# import module from a subdirectory (2nd)\n",
    "from  modules import prime\n",
    "print(prime.is_prime(5))"
   ]
  },
  {
   "cell_type": "markdown",
   "metadata": {},
   "source": [
    "#### 5.1.2.4. Libraries\n",
    "Libraries are the collections of similar modules grouped together under a single name. We need to install them first with `pip` and then import them.\n",
    "- The most famous libraries are `numpy`, `pandas`, `matplotlib`, `seaborn`, `scikit-learn`, etc.\n",
    "- Sometimes, when we need to work with multiple libraries, we need to import them all at once. We can do that using the `from` statement."
   ]
  },
  {
   "cell_type": "code",
   "execution_count": null,
   "metadata": {},
   "outputs": [],
   "source": [
    "!pip install pandas"
   ]
  },
  {
   "cell_type": "code",
   "execution_count": 28,
   "metadata": {},
   "outputs": [
    {
     "name": "stdout",
     "output_type": "stream",
     "text": [
      "    a   b   c\n",
      "0   1   2   3\n",
      "1   4   5   6\n",
      "2   7   8   9\n",
      "3  10  11  12\n"
     ]
    }
   ],
   "source": [
    "# import pandas\n",
    "import pandas as pd\n",
    "\n",
    "# make pandas dataframe from a 2d list\n",
    "data = [[1, 2, 3], [4, 5, 6], [7, 8, 9], [10, 11, 12]] \n",
    "df = pd.DataFrame(data, columns=['a', 'b', 'c'])\n",
    "print(df)\n"
   ]
  },
  {
   "cell_type": "markdown",
   "metadata": {},
   "source": [
    "#### 5.1.2.5. requirements.txt file\n",
    "- [Free Code Camp: *Python Requirements.txt – How to Create and Pip Install Requirements.txt in Python*](https://www.freecodecamp.org/news/python-requirementstxt-explained/)\n",
    "\n",
    "We can install modules from the [requirements.txt](https://www.python.org/dev/peps/pep-0508/) file. This file is created by the developer of the code in order to provide the list of necessary modules to the user who uses the code.\n",
    "- syntax: `pip install -r requirements.txt`\n",
    "- We usually use `requirements.txt` in the same main folder of a complex project. It is not recommended to use it in subdirectories.\n",
    "- when we are creating this file, we could just add the module names, or we could also give the versions of single modules.\n",
    "- there's an automated way, that is to use the command `pip freeze > requirements.txt` in the terminal."
   ]
  },
  {
   "cell_type": "markdown",
   "metadata": {},
   "source": [
    "- Simple requirements.txt example\n",
    "```\n",
    "numpy\n",
    "pandas\n",
    "```\n",
    "\n",
    "- requirements.txt with versions of the packages example\n",
    "```\n",
    "numpy==1.21.5\n",
    "pandas==1.3.5\n",
    "```\n"
   ]
  },
  {
   "cell_type": "code",
   "execution_count": 1,
   "metadata": {},
   "outputs": [
    {
     "name": "stdout",
     "output_type": "stream",
     "text": [
      "asttokens==2.4.1\n",
      "certifi==2024.2.2\n",
      "charset-normalizer==3.3.2\n",
      "comm==0.2.2\n",
      "contourpy==1.2.1\n",
      "cycler==0.12.1\n",
      "debugpy==1.8.1\n",
      "decorator==5.1.1\n",
      "exceptiongroup @ file:///home/conda/feedstock_root/build_artifacts/exceptiongroup_1704921103267/work\n",
      "executing==2.0.1\n",
      "fonttools==4.51.0\n",
      "idna==3.7\n",
      "importlib_metadata @ file:///home/conda/feedstock_root/build_artifacts/importlib-metadata_1710971335535/work\n",
      "ipykernel==6.29.4\n",
      "ipython==8.24.0\n",
      "jedi==0.19.1\n",
      "joblib==1.4.0\n",
      "jupyter_client==8.6.1\n",
      "jupyter_core==5.7.2\n",
      "kiwisolver==1.4.5\n",
      "matplotlib==3.8.4\n",
      "matplotlib-inline==0.1.7\n",
      "nest-asyncio==1.6.0\n",
      "numpy==1.26.4\n",
      "packaging==24.0\n",
      "pandas==2.2.2\n",
      "parso==0.8.4\n",
      "pexpect==4.9.0\n",
      "pickleshare @ file:///home/conda/feedstock_root/build_artifacts/pickleshare_1602536217715/work\n",
      "pillow==10.3.0\n",
      "platformdirs==4.2.1\n",
      "prompt-toolkit==3.0.43\n",
      "psutil==5.9.8\n",
      "ptyprocess==0.7.0\n",
      "pure-eval==0.2.2\n",
      "Pygments==2.17.2\n",
      "pyparsing==3.1.2\n",
      "python-dateutil==2.9.0.post0\n",
      "pytz==2024.1\n",
      "pyzmq==26.0.2\n",
      "requests==2.31.0\n",
      "scikit-learn==1.4.2\n",
      "scipy==1.13.0\n",
      "seaborn==0.13.2\n",
      "setuptools==68.2.2\n",
      "six==1.16.0\n",
      "stack-data==0.6.3\n",
      "threadpoolctl==3.5.0\n",
      "tornado==6.4\n",
      "traitlets==5.14.3\n",
      "typing_extensions @ file:///home/conda/feedstock_root/build_artifacts/typing_extensions_1712329955671/work\n",
      "tzdata==2024.1\n",
      "urllib3==2.2.1\n",
      "wcwidth==0.2.13\n",
      "wheel==0.41.2\n",
      "zipp @ file:///home/conda/feedstock_root/build_artifacts/zipp_1695255097490/work\n"
     ]
    }
   ],
   "source": [
    "!pip freeze > requirements.txt\n",
    "!cat requirements.txt"
   ]
  },
  {
   "cell_type": "markdown",
   "metadata": {},
   "source": [
    "## 5.2. Files I/O in Python\n",
    "\n",
    "If we want to permanently store data, we need to work with files. Files can be of different kind, from a simple text to a complex object like a database, video, audio, etc.\n",
    "\n",
    "We will first introduce the general approach to a file I/O in Python. The simplest one is to read and write to a file. We will see how to read and write to a text file.\n",
    "\n",
    "## 5.2.1. Reading from a File\n",
    "\n",
    "- To read a file we use the `open` function.\n",
    "- `open` takes two arguments: the name of the file and a mode.\n",
    "  - syntax: `open(filename, mode)`\n",
    "  - `filename` is the name of the file\n",
    "  - `mode` is a string that specifies how the file will be read. The default value is `r` for reading. You can also use `w` for writing. `a` for appending. If we ommit the mode, it will be `r` by default.\n",
    "- it is important to know that the file exists and that we can access it. Otherwise, we will get an error.\n",
    "- after we have opened the file, we need to read it. We can do that with different methods:\n",
    "  - `read` method reads the whole file as a string.\n",
    "  - `readline` method reads a line. \n",
    "  - `readlines` method reads all the lines and returns them as a list.\n",
    "  - `next` method skips to the next line. It returns the next line and advances the cursor. It is useful when we want to read a file line by line.\n",
    "- `close` method closes the file. It is very important to always close the file. Otherwise, the file will not be accessible."
   ]
  },
  {
   "cell_type": "code",
   "execution_count": 2,
   "metadata": {},
   "outputs": [
    {
     "name": "stdout",
     "output_type": "stream",
     "text": [
      "SONNET 54\n",
      "\n",
      "O how much more doth beauty beauteous seem,\n",
      "By that sweet ornament which truth doth give!\n",
      "The rose looks fair, but fairer we it deem\n",
      "For that sweet odour which doth in it live.\n",
      "The canker-blooms have full as deep a dye\n",
      "As the perfumed tincture of the roses,\n",
      "Hang on such thorns and play as wantonly\n",
      "When summer's breath their masked buds discloses:\n",
      "But, for their virtue only is their show,\n",
      "They live unwoo'd and unrespected fade,\n",
      "Die to themselves. Sweet roses do not so;\n",
      "Of their sweet deaths are sweetest odours made:\n",
      "And so of you, beauteous and lovely youth,\n",
      "When that shall fade, my verse distills your truth. \n",
      "SONNET 54\n",
      "\n",
      "\n",
      "\n",
      "O how much more doth beauty beauteous seem,\n",
      "\n",
      "['SONNET 54\\n', '\\n', 'O how much more doth beauty beauteous seem,\\n', 'By that sweet ornament which truth doth give!\\n', 'The rose looks fair, but fairer we it deem\\n', 'For that sweet odour which doth in it live.\\n', 'The canker-blooms have full as deep a dye\\n', 'As the perfumed tincture of the roses,\\n', 'Hang on such thorns and play as wantonly\\n', \"When summer's breath their masked buds discloses:\\n\", 'But, for their virtue only is their show,\\n', \"They live unwoo'd and unrespected fade,\\n\", 'Die to themselves. Sweet roses do not so;\\n', 'Of their sweet deaths are sweetest odours made:\\n', 'And so of you, beauteous and lovely youth,\\n', 'When that shall fade, my verse distills your truth. ']\n"
     ]
    }
   ],
   "source": [
    "# open and read the file\n",
    "file = open(\"shakespeare.txt\", \"r\")\n",
    "print(file.read())\n",
    "file.close()\n",
    "\n",
    "# open and read the file line by line\n",
    "file = open(\"shakespeare.txt\", \"r\")\n",
    "print(file.readline())\n",
    "print(file.readline())\n",
    "print(file.readline())\n",
    "file.close()\n",
    "\n",
    "# open and read the file line by line\n",
    "file = open(\"shakespeare.txt\", \"r\")\n",
    "print(file.readlines())\n",
    "file.close()\n"
   ]
  },
  {
   "cell_type": "markdown",
   "metadata": {},
   "source": [
    "- It seems we have some problems with the printouts. We need to clean them up. Reading the whole file is a good thing for a small text files, but for larger files, we need to read line by line. And when we do that, we should also be aware that some outputs are containg new lines. We need to clean them up using the `strip` function."
   ]
  },
  {
   "cell_type": "code",
   "execution_count": 7,
   "metadata": {},
   "outputs": [
    {
     "name": "stdout",
     "output_type": "stream",
     "text": [
      "SONNET 54\n",
      "\n",
      "O how much more doth beauty beauteous seem,\n",
      "By that sweet ornament which truth doth give!\n",
      "The rose looks fair, but fairer we it deem\n",
      "For that sweet odour which doth in it live.\n",
      "The canker-blooms have full as deep a dye\n",
      "As the perfumed tincture of the roses,\n",
      "Hang on such thorns and play as wantonly\n",
      "When summer's breath their masked buds discloses:\n",
      "But, for their virtue only is their show,\n",
      "They live unwoo'd and unrespected fade,\n",
      "Die to themselves. Sweet roses do not so;\n",
      "Of their sweet deaths are sweetest odours made:\n",
      "And so of you, beauteous and lovely youth,\n",
      "When that shall fade, my verse distills your truth.\n"
     ]
    }
   ],
   "source": [
    "# read file until you arrive to the end of the file\n",
    "file = open('shakespeare.txt', 'r')\n",
    "for line in file:\n",
    "    # print(line)  # each line will have a double newline. why?\n",
    "    print(line.strip())  # remove the double newline\n",
    "file.close()"
   ]
  },
  {
   "cell_type": "markdown",
   "metadata": {},
   "source": [
    "- we can read line by line if we use `readlines` method."
   ]
  },
  {
   "cell_type": "code",
   "execution_count": 9,
   "metadata": {},
   "outputs": [
    {
     "name": "stdout",
     "output_type": "stream",
     "text": [
      "SONNET 54\n",
      "\n",
      "O how much more doth beauty beauteous seem,\n",
      "By that sweet ornament which truth doth give!\n",
      "The rose looks fair, but fairer we it deem\n",
      "For that sweet odour which doth in it live.\n",
      "The canker-blooms have full as deep a dye\n",
      "As the perfumed tincture of the roses,\n",
      "Hang on such thorns and play as wantonly\n",
      "When summer's breath their masked buds discloses:\n",
      "But, for their virtue only is their show,\n",
      "They live unwoo'd and unrespected fade,\n",
      "Die to themselves. Sweet roses do not so;\n",
      "Of their sweet deaths are sweetest odours made:\n",
      "And so of you, beauteous and lovely youth,\n",
      "When that shall fade, my verse distills your truth.\n"
     ]
    }
   ],
   "source": [
    "# read file using readlines\n",
    "file = open('shakespeare.txt', 'r')\n",
    "lines = file.readlines()\n",
    "for line in lines:\n",
    "    print(line.strip())\n",
    "file.close()"
   ]
  },
  {
   "cell_type": "markdown",
   "metadata": {},
   "source": [
    "- sometimes is easier to read the file by using `with` statement. The syntax is a bit different and is similar to a while loop. All the file operations are done in the `with` statement indentation. The `with` statement closes the file automatically when it is done.\n",
    "- syntax: `with open(filename, mode) as file:`\n",
    "- `as` is used to assign the file to a variable.\n",
    "- `file` is the name of the variable."
   ]
  },
  {
   "cell_type": "code",
   "execution_count": 12,
   "metadata": {},
   "outputs": [
    {
     "name": "stdout",
     "output_type": "stream",
     "text": [
      "SONNET 54\n",
      "\n",
      "O how much more doth beauty beauteous seem,\n",
      "By that sweet ornament which truth doth give!\n",
      "The rose looks fair, but fairer we it deem\n",
      "For that sweet odour which doth in it live.\n",
      "The canker-blooms have full as deep a dye\n",
      "As the perfumed tincture of the roses,\n",
      "Hang on such thorns and play as wantonly\n",
      "When summer's breath their masked buds discloses:\n",
      "But, for their virtue only is their show,\n",
      "They live unwoo'd and unrespected fade,\n",
      "Die to themselves. Sweet roses do not so;\n",
      "Of their sweet deaths are sweetest odours made:\n",
      "And so of you, beauteous and lovely youth,\n",
      "When that shall fade, my verse distills your truth.\n",
      "SONNET 54\n",
      "\n",
      "O how much more doth beauty beauteous seem,\n",
      "By that sweet ornament which truth doth give!\n",
      "The rose looks fair, but fairer we it deem\n",
      "For that sweet odour which doth in it live.\n",
      "The canker-blooms have full as deep a dye\n",
      "As the perfumed tincture of the roses,\n",
      "Hang on such thorns and play as wantonly\n",
      "When summer's breath their masked buds discloses:\n",
      "But, for their virtue only is their show,\n",
      "They live unwoo'd and unrespected fade,\n",
      "Die to themselves. Sweet roses do not so;\n",
      "Of their sweet deaths are sweetest odours made:\n",
      "And so of you, beauteous and lovely youth,\n",
      "When that shall fade, my verse distills your truth.\n"
     ]
    },
    {
     "ename": "ValueError",
     "evalue": "I/O operation on closed file.",
     "output_type": "error",
     "traceback": [
      "\u001b[0;31m---------------------------------------------------------------------------\u001b[0m",
      "\u001b[0;31mValueError\u001b[0m                                Traceback (most recent call last)",
      "Cell \u001b[0;32mIn[12], line 12\u001b[0m\n\u001b[1;32m      9\u001b[0m     \u001b[38;5;28;01mfor\u001b[39;00m line \u001b[38;5;129;01min\u001b[39;00m lines:\n\u001b[1;32m     10\u001b[0m         \u001b[38;5;28mprint\u001b[39m(line\u001b[38;5;241m.\u001b[39mstrip())\n\u001b[0;32m---> 12\u001b[0m \u001b[38;5;28mprint\u001b[39m(\u001b[43mfile\u001b[49m\u001b[38;5;241;43m.\u001b[39;49m\u001b[43mread\u001b[49m\u001b[43m(\u001b[49m\u001b[43m)\u001b[49m)\n",
      "\u001b[0;31mValueError\u001b[0m: I/O operation on closed file."
     ]
    }
   ],
   "source": [
    "# open and read file with with\n",
    "with open('shakespeare.txt', 'r') as file:\n",
    "    for line in file:\n",
    "        print(line.strip())\n",
    "\n",
    "# open and read file with with\n",
    "with open('shakespeare.txt', 'r') as file:\n",
    "    lines = file.readlines()\n",
    "    for line in lines:\n",
    "        print(line.strip())\n",
    "\n",
    "print(file.read())  # this will throw an error, beacuse file is closed now\n"
   ]
  },
  {
   "cell_type": "markdown",
   "metadata": {},
   "source": [
    "### 5.2.2. Writing to a File\n",
    "\n",
    "- In order to write to a file, we need to open it. We can do that with the `open` function, and we need to use the `write` method.\n",
    "  - syntax: `open(filename, mode)`\n",
    "- `mode` can be `w` for writing, `a` for appending. If file already exists, it will be overwritten if we use `w` mode, otherwise it will be appended.\n",
    "- To write to a file we use the `write` method. It takes one argument: the string we want to write.\n",
    "  - syntax: `file.write(string)`\n"
   ]
  },
  {
   "cell_type": "code",
   "execution_count": 2,
   "metadata": {},
   "outputs": [
    {
     "name": "stdout",
     "output_type": "stream",
     "text": [
      "Hello, World!Hello, World!\n"
     ]
    }
   ],
   "source": [
    "# open and write to a file\n",
    "file = open('test.txt', 'w')\n",
    "file.write('Hello, World!')\n",
    "file.close()\n",
    "\n",
    "# open and append to a file\n",
    "file = open('test.txt', 'a')\n",
    "file.write('Hello, World!')\n",
    "file.close()\n",
    "\n",
    "# open and read a file\n",
    "file = open('test.txt', 'r')\n",
    "print(file.read())\n",
    "file.close()"
   ]
  },
  {
   "cell_type": "markdown",
   "metadata": {},
   "source": [
    "- Notice that with `write()` method, the strings are written to the file as one big string.\n",
    "- The other methods are `writelines()` and `seek()` to move to a specific position in the file."
   ]
  },
  {
   "cell_type": "code",
   "execution_count": 4,
   "metadata": {},
   "outputs": [
    {
     "name": "stdout",
     "output_type": "stream",
     "text": [
      "Hello, World!Welcome to Python!Have a nice day!\n"
     ]
    }
   ],
   "source": [
    "# writelines\n",
    "lines = ['Hello, World!', 'Welcome to Python!', 'Have a nice day!']\n",
    "\n",
    "file = open('test.txt', 'w')\n",
    "file.writelines(lines)\n",
    "file.close()\n",
    "\n",
    "# seek\n",
    "file = open('test.txt', 'r')\n",
    "file.seek(0)\n",
    "print(file.read())\n",
    "file.close()"
   ]
  },
  {
   "cell_type": "markdown",
   "metadata": {},
   "source": [
    "- If we wish to write properly line by line with `write` method, we need to add `newline` argument at the end of a string(line).\n",
    "  - syntax: `write(line+'\\n')`"
   ]
  },
  {
   "cell_type": "code",
   "execution_count": 5,
   "metadata": {},
   "outputs": [
    {
     "name": "stdout",
     "output_type": "stream",
     "text": [
      "Hello, World!\n",
      "Welcome to Python!\n",
      "Have a nice day!\n",
      "\n"
     ]
    }
   ],
   "source": [
    "# with\n",
    "with open('test.txt', 'w') as file:\n",
    "    file.write('Hello, World!\\n')\n",
    "    file.write('Welcome to Python!\\n')\n",
    "    file.write('Have a nice day!\\n')\n",
    "\n",
    "# read\n",
    "with open('test.txt', 'r') as file:\n",
    "    print(file.read())"
   ]
  },
  {
   "cell_type": "markdown",
   "metadata": {},
   "source": [
    "## 5.2.3. Other File I/O Methods\n",
    "\n",
    "[Os Module](https://docs.python.org/3/library/os.html)\n",
    "\n",
    "- Many times there's a need to perform other file I/O operations. We can use the `os` module to do that.\n",
    "- `os` module provides a lot of methods that we can use to perform other file I/O operations. We will introduce them in the next section.\n",
    "\n",
    "### 5.2.3.1. Check if File Exists\n",
    "\n",
    "- We can check if a file exists using the `exists` method.\n",
    "  - syntax: `os.path.exists(filename)`"
   ]
  },
  {
   "cell_type": "code",
   "execution_count": 1,
   "metadata": {},
   "outputs": [
    {
     "name": "stdout",
     "output_type": "stream",
     "text": [
      "File exists\n"
     ]
    }
   ],
   "source": [
    "import os\n",
    "\n",
    "# check if a file exists\n",
    "if os.path.exists('test.txt'):\n",
    "    print('File exists')\n",
    "else:\n",
    "    print('File does not exist')"
   ]
  },
  {
   "cell_type": "markdown",
   "metadata": {},
   "source": [
    "### 5.2.3.2. List Files\n",
    "\n",
    "- We can list all the files in a directory using the `listdir` method.\n",
    "  - syntax: `os.listdir(directory)`"
   ]
  },
  {
   "cell_type": "code",
   "execution_count": 2,
   "metadata": {},
   "outputs": [
    {
     "name": "stdout",
     "output_type": "stream",
     "text": [
      "['lesson-0501.ipynb', 'shakespeare.txt', 'even.py', 'modules', '__pycache__', 'test.txt']\n"
     ]
    }
   ],
   "source": [
    "# list files\n",
    "print(os.listdir())"
   ]
  },
  {
   "cell_type": "markdown",
   "metadata": {},
   "source": [
    "### 5.2.3.3. Create Directory\n",
    "\n",
    "- We can create a directory using the `mkdir` method.\n",
    "  - syntax: `os.mkdir(directory)`"
   ]
  },
  {
   "cell_type": "code",
   "execution_count": 3,
   "metadata": {},
   "outputs": [],
   "source": [
    "# create a directory\n",
    "os.mkdir('test')"
   ]
  },
  {
   "cell_type": "markdown",
   "metadata": {},
   "source": [
    "### 5.2.3.4. Remove Directory\n",
    "\n",
    "- We can remove a directory using the `rmdir` method.\n",
    "  - syntax: `os.rmdir(directory)`"
   ]
  },
  {
   "cell_type": "code",
   "execution_count": 4,
   "metadata": {},
   "outputs": [],
   "source": [
    "# remove a directory\n",
    "os.rmdir('test')"
   ]
  },
  {
   "cell_type": "markdown",
   "metadata": {},
   "source": [
    "### 5.2.3.5. Change Directory and Get Current Directory\n",
    "\n",
    "- We can change the current directory using the `chdir` method.\n",
    "  - syntax: `os.chdir(directory)`\n",
    "- We can get the current directory using the `getcwd` method.\n",
    "  - syntax: `os.getcwd()`"
   ]
  },
  {
   "cell_type": "code",
   "execution_count": 5,
   "metadata": {},
   "outputs": [
    {
     "name": "stdout",
     "output_type": "stream",
     "text": [
      "/home/tom/kreativestorm/python-course-material/lesson-05\n",
      "/home/tom/kreativestorm/python-course-material\n",
      "/home/tom/kreativestorm/python-course-material/lesson-05\n"
     ]
    }
   ],
   "source": [
    "# get current directory\n",
    "print(os.getcwd())\n",
    "\n",
    "# change directory\n",
    "os.chdir('..')\n",
    "print(os.getcwd())\n",
    "os.chdir('lesson-05')\n",
    "print(os.getcwd())"
   ]
  },
  {
   "cell_type": "markdown",
   "metadata": {},
   "source": [
    "### 5.2.3.6. Rename File and Rename Directory\n",
    "\n",
    "- We can rename a file using the `rename` method.\n",
    "  - syntax: `os.rename(old_filename, new_filename)`\n",
    "- We can rename a directory using the `rename` method.\n",
    "  - syntax: `os.rename(old_directory, new_directory)`"
   ]
  },
  {
   "cell_type": "code",
   "execution_count": 6,
   "metadata": {},
   "outputs": [
    {
     "name": "stdout",
     "output_type": "stream",
     "text": [
      "True\n",
      "False\n",
      "True\n",
      "True\n",
      "False\n",
      "True\n"
     ]
    }
   ],
   "source": [
    "# make a new file\n",
    "with open('test.txt', 'w') as file:\n",
    "    file.write('Hello, World!\\n')\n",
    "\n",
    "# check if the file exists\n",
    "print(os.path.exists('test.txt'))\n",
    "\n",
    "# rename the file\n",
    "os.rename('test.txt', 'test2.txt')\n",
    "\n",
    "# check if the old file exists\n",
    "print(os.path.exists('test.txt'))\n",
    "# check if the new file exists\n",
    "print(os.path.exists('test2.txt'))\n",
    "\n",
    "# remove the new file\n",
    "os.remove('test2.txt')\n",
    "\n",
    "\n",
    "# make a new directory\n",
    "os.mkdir('test_dir')\n",
    "\n",
    "# check if the directory exists\n",
    "print(os.path.exists('test_dir'))\n",
    "\n",
    "# rename the directory\n",
    "os.rename('test_dir', 'test_dir2')\n",
    "\n",
    "# check if the old directory exists\n",
    "print(os.path.exists('test_dir'))\n",
    "\n",
    "# check if the new directory exists\n",
    "print(os.path.exists('test_dir2'))\n",
    "\n",
    "# remove the new directory\n",
    "os.rmdir('test_dir2')\n"
   ]
  },
  {
   "cell_type": "markdown",
   "metadata": {},
   "source": [
    "### 5.2.3.7. Other useful methods of `Os` Module\n",
    "\n",
    "- We can list all the files in a directory using the `listdir` method.\n",
    "- We can create a directory using the `mkdir` method.\n",
    "- We can remove a directory using the `rmdir` method.\n",
    "- We can get the size of a file using the `getsize` method.\n",
    "- We can get the time of last modification of a file using the `getmtime` method.\n",
    "- We can get the time of last access of a file using the `getatime` method.\n",
    "- We can get the time of creation of a file using the `getctime` method.\n",
    "- We can remove a file using the `remove` method."
   ]
  }
 ],
 "metadata": {
  "kernelspec": {
   "display_name": "python312",
   "language": "python",
   "name": "python3"
  },
  "language_info": {
   "codemirror_mode": {
    "name": "ipython",
    "version": 3
   },
   "file_extension": ".py",
   "mimetype": "text/x-python",
   "name": "python",
   "nbconvert_exporter": "python",
   "pygments_lexer": "ipython3",
   "version": "3.12.3"
  }
 },
 "nbformat": 4,
 "nbformat_minor": 2
}
