{
 "cells": [
  {
   "cell_type": "markdown",
   "metadata": {},
   "source": [
    "# Lesson 5a: Working with Modules and Files in Python\n",
    "\n",
    "![Modules in Python](./docs/modules.png)\n",
    "\n",
    "- [Python Documentation: *Modules*](https://docs.python.org/3/tutorial/modules.html)\n",
    "- [Real Python: *Modules*](https://realpython.com/python-modules/)\n",
    "- [Learn Python: *Python Modules, Packages, Libraries, and Frameworks*](https://learnpython.com/blog/python-modules-packages-libraries-frameworks/)\n",
    "- [Ajeet Verma: *Understanding the Python Ecosystem: Modules, Packages, Libraries, and Frameworks, with a Focus on TensorFlow*](https://medium.com/@ajeet214/understanding-the-python-ecosystem-modules-packages-libraries-and-frameworks-with-a-focus-on-cb4602b5d31c)\n",
    "\n",
    "## 5.1. Modules\n",
    "\n",
    "Modules are a collection of functions that can be used in your program. We have already seen how to import some modules in Python like `random`, `time` and `datetime`.\n",
    "We have different kind of modules in Python: Built-in modules, third-party modules, and user-defined modules.\n",
    "- Built-in modules: These modules are pre-installed in the Python interpreter: `sys`, `math`, `os`, `random`, etc.\n",
    "- Third-party modules: These modules are not pre-installed in the Python interpreter. We need to install them first.\n",
    "- User-defined modules: These modules are created by us.\n",
    "\n",
    "## 5.1.1. Importing Modules\n",
    "\n",
    "- We can import modules using the `import` statement.\n",
    "  - syntax: `import module_name`\n",
    "  - `module_name` is the name of the module we want to import.\n",
    "\n",
    "This way we are importing the whole module with all its functions. To call a function from a module, we need to use the module name followed by the function name.\n",
    "  - syntax: `module_name.function_name()`\n",
    "    - example: `random.randint(0, 100)`"
   ]
  },
  {
   "cell_type": "code",
   "execution_count": null,
   "metadata": {},
   "outputs": [
    {
     "name": "stdout",
     "output_type": "stream",
     "text": [
      "4.0\n"
     ]
    }
   ],
   "source": [
    "# import library\n",
    "import math\n",
    "\n",
    "# call the function for the square root of 16\n",
    "print(math.sqrt(16))"
   ]
  },
  {
   "cell_type": "markdown",
   "metadata": {},
   "source": [
    "- The other way is to import all the functions in a module using the `from` statement.\n",
    "  - syntax: `from module_name import *`\n",
    "  - `module_name` is the name of the module we want to import.\n",
    "  - `*` means we want to import all the functions in the module.\n",
    "  - example: `from random import *`\n",
    "\n",
    "This way of importing function gives us the opportunity to call a specific function and we don't need to write the module name and function name.\n",
    "  - syntax: `function_name()`\n",
    "    - example: `randint(0, 100)`\n",
    "  - when we import all the functions there could be a problem if we want to call a specific function that could overwrite other functions in the code."
   ]
  },
  {
   "cell_type": "code",
   "execution_count": null,
   "metadata": {},
   "outputs": [
    {
     "name": "stdout",
     "output_type": "stream",
     "text": [
      "4.0\n"
     ]
    }
   ],
   "source": [
    "# import all functions from a module\n",
    "from math import *\n",
    "\n",
    "# call the square function\n",
    "print(sqrt(16))"
   ]
  },
  {
   "cell_type": "markdown",
   "metadata": {},
   "source": [
    "We can also import import single functions or multiple functions from a module using the `from` and `import` statements.\n",
    "  - syntax: `from module_name import function_name1, function_name2, function_name3`\n",
    "  - `module_name` is the name of the module we want to import.\n",
    "  - `function_name1, function_name2, function_name3` are the names of the functions we want to import.\n",
    "  - example: `from random import randint, choice`"
   ]
  },
  {
   "cell_type": "code",
   "execution_count": null,
   "metadata": {},
   "outputs": [
    {
     "name": "stdout",
     "output_type": "stream",
     "text": [
      "4.0\n",
      "0.8939966636005579\n"
     ]
    }
   ],
   "source": [
    "# import specific functions\n",
    "from math import sqrt, sin\n",
    "\n",
    "# call the square function\n",
    "print(sqrt(16))\n",
    "\n",
    "# call the sine function\n",
    "print(sin(90))"
   ]
  },
  {
   "cell_type": "markdown",
   "metadata": {},
   "source": [
    "In order to shorten the syntax, we can import modules with the `as` statement.\n",
    "  - syntax: `import module_name as new_name`\n",
    "  - `module_name` is the name of the module we want to import.\n",
    "  - `new_name` is the new name we want to give to the module.\n",
    "  - example: `import pandas as pd`"
   ]
  },
  {
   "cell_type": "code",
   "execution_count": null,
   "metadata": {},
   "outputs": [
    {
     "name": "stdout",
     "output_type": "stream",
     "text": [
      "2025-05-16\n"
     ]
    }
   ],
   "source": [
    "# import datetime module\n",
    "import datetime as dt\n",
    "\n",
    "# get today's date\n",
    "today = dt.date.today()\n",
    "print(today)"
   ]
  },
  {
   "cell_type": "markdown",
   "metadata": {},
   "source": [
    "### 5.1.2. Importing different kinds of modules\n",
    "\n",
    "#### 5.1.2.1. Built-in modules\n",
    "\n",
    "Built-in modules are the ones that come in the Python standard library. We can import them using only the `import` statement.\n",
    "These modules are `sys`, `math`, `os`, `random`, etc.\n",
    "\n",
    "#### 5.1.2.2. Third-party modules\n",
    "\n",
    "Third-party modules or packages are the ones that are not included in the standard library. We need to install them first and then import them. To install a third-party module, we need to use the `pip` command. We can find them on the [Python Package Manager - PyPI](https://pypi.org/).\n",
    "- To install a third-party module, we need to go to the terminal and type `pip install module_name`.\n",
    "- We can also install a specific version of a module using the `pip` command.\n",
    "  - syntax: `pip install module_name==version` or `pip install module_name>=version`\n",
    "  - `module_name` is the name of the module we want to install.\n",
    "  - `version` is the version number of the module we want to install.\n"
   ]
  },
  {
   "cell_type": "code",
   "execution_count": 8,
   "metadata": {},
   "outputs": [
    {
     "name": "stderr",
     "output_type": "stream",
     "text": [
      "159.07s - pydevd: Sending message related to process being replaced timed-out after 5 seconds\n"
     ]
    },
    {
     "name": "stdout",
     "output_type": "stream",
     "text": [
      "Requirement already satisfied: getch in ./venv/lib/python3.12/site-packages (1.0)\n",
      "\n",
      "\u001b[1m[\u001b[0m\u001b[34;49mnotice\u001b[0m\u001b[1;39;49m]\u001b[0m\u001b[39;49m A new release of pip is available: \u001b[0m\u001b[31;49m24.2\u001b[0m\u001b[39;49m -> \u001b[0m\u001b[32;49m25.1.1\u001b[0m\n",
      "\u001b[1m[\u001b[0m\u001b[34;49mnotice\u001b[0m\u001b[1;39;49m]\u001b[0m\u001b[39;49m To update, run: \u001b[0m\u001b[32;49mpip install --upgrade pip\u001b[0m\n"
     ]
    }
   ],
   "source": [
    "!pip install getch"
   ]
  },
  {
   "cell_type": "markdown",
   "metadata": {},
   "source": [
    "***From the Module Documentation:***\n",
    "\n",
    "The getch module does single-char input by providing wrappers for the conio.h library functions getch() (gets a character from user input, no output - this is useful for password input) and getche() (also outputs to the screen), if conio.h does not exist, it uses a stub-library using termios.h and other headers to emulate this behaviour:\n",
    "\n",
    "```python\n",
    "import getch\n",
    "# ...\n",
    "char = getch.getch() # User input, but not displayed on the screen\n",
    "# or\n",
    "char = getch.getche() # also displayed on the screen\n",
    "```\n",
    "\n",
    "Hint: On Windows, you can use:\n",
    "\n",
    "```python\n",
    "import msvcrt\n",
    "# ...\n",
    "char = msvcrt.getch()\n",
    "# or, to display it on the screen\n",
    "char = msvcrt.getche()\n",
    "```\n",
    "\n",
    "as a standard library alternative to this module\n"
   ]
  },
  {
   "cell_type": "code",
   "execution_count": null,
   "metadata": {},
   "outputs": [
    {
     "name": "stdout",
     "output_type": "stream",
     "text": [
      "press a key to continue...\n"
     ]
    },
    {
     "ename": "KeyboardInterrupt",
     "evalue": "",
     "output_type": "error",
     "traceback": [
      "\u001b[31m---------------------------------------------------------------------------\u001b[39m",
      "\u001b[31mOverflowError\u001b[39m                             Traceback (most recent call last)",
      "    \u001b[31m[... skipping hidden 1 frame]\u001b[39m\n",
      "\u001b[36mCell\u001b[39m\u001b[36m \u001b[39m\u001b[32mIn[6]\u001b[39m\u001b[32m, line 4\u001b[39m\n\u001b[32m      3\u001b[39m \u001b[38;5;28mprint\u001b[39m(\u001b[33m'\u001b[39m\u001b[33mpress a key to continue...\u001b[39m\u001b[33m'\u001b[39m)\n\u001b[32m----> \u001b[39m\u001b[32m4\u001b[39m \u001b[43mgetch\u001b[49m\u001b[43m.\u001b[49m\u001b[43mgetch\u001b[49m\u001b[43m(\u001b[49m\u001b[43m)\u001b[49m\n",
      "\u001b[31mOverflowError\u001b[39m: character argument not in range(0x110000)",
      "\nDuring handling of the above exception, another exception occurred:\n",
      "\u001b[31mKeyboardInterrupt\u001b[39m                         Traceback (most recent call last)",
      "\u001b[36mFile \u001b[39m\u001b[32m~/training/python-course-material/lesson-05/venv/lib/python3.12/site-packages/IPython/core/interactiveshell.py:3691\u001b[39m, in \u001b[36mInteractiveShell.run_code\u001b[39m\u001b[34m(self, code_obj, result, async_)\u001b[39m\n\u001b[32m   3689\u001b[39m \u001b[38;5;28;01mexcept\u001b[39;00m:\n\u001b[32m   3690\u001b[39m     \u001b[38;5;28;01mif\u001b[39;00m result \u001b[38;5;129;01mis\u001b[39;00m \u001b[38;5;129;01mnot\u001b[39;00m \u001b[38;5;28;01mNone\u001b[39;00m:\n\u001b[32m-> \u001b[39m\u001b[32m3691\u001b[39m         result.error_in_exec = \u001b[43msys\u001b[49m\u001b[43m.\u001b[49m\u001b[43mexc_info\u001b[49m\u001b[43m(\u001b[49m\u001b[43m)\u001b[49m[\u001b[32m1\u001b[39m]\n\u001b[32m   3692\u001b[39m     \u001b[38;5;28mself\u001b[39m.showtraceback(running_compiled_code=\u001b[38;5;28;01mTrue\u001b[39;00m)\n\u001b[32m   3693\u001b[39m \u001b[38;5;28;01melse\u001b[39;00m:\n",
      "\u001b[31mKeyboardInterrupt\u001b[39m: "
     ]
    },
    {
     "name": "stdout",
     "output_type": "stream",
     "text": [
      "press a key to continue...\n"
     ]
    },
    {
     "ename": "KeyboardInterrupt",
     "evalue": "",
     "output_type": "error",
     "traceback": [
      "\u001b[31m---------------------------------------------------------------------------\u001b[39m",
      "\u001b[31mOverflowError\u001b[39m                             Traceback (most recent call last)",
      "    \u001b[31m[... skipping hidden 1 frame]\u001b[39m\n",
      "\u001b[36mCell\u001b[39m\u001b[36m \u001b[39m\u001b[32mIn[7]\u001b[39m\u001b[32m, line 4\u001b[39m\n\u001b[32m      3\u001b[39m \u001b[38;5;28mprint\u001b[39m(\u001b[33m'\u001b[39m\u001b[33mpress a key to continue...\u001b[39m\u001b[33m'\u001b[39m)\n\u001b[32m----> \u001b[39m\u001b[32m4\u001b[39m \u001b[43mgetch\u001b[49m\u001b[43m.\u001b[49m\u001b[43mgetch\u001b[49m\u001b[43m(\u001b[49m\u001b[43m)\u001b[49m\n",
      "\u001b[31mOverflowError\u001b[39m: character argument not in range(0x110000)",
      "\nDuring handling of the above exception, another exception occurred:\n",
      "\u001b[31mKeyboardInterrupt\u001b[39m                         Traceback (most recent call last)",
      "\u001b[36mFile \u001b[39m\u001b[32m~/training/python-course-material/lesson-05/venv/lib/python3.12/site-packages/IPython/core/interactiveshell.py:3691\u001b[39m, in \u001b[36mInteractiveShell.run_code\u001b[39m\u001b[34m(self, code_obj, result, async_)\u001b[39m\n\u001b[32m   3689\u001b[39m \u001b[38;5;28;01mexcept\u001b[39;00m:\n\u001b[32m   3690\u001b[39m     \u001b[38;5;28;01mif\u001b[39;00m result \u001b[38;5;129;01mis\u001b[39;00m \u001b[38;5;129;01mnot\u001b[39;00m \u001b[38;5;28;01mNone\u001b[39;00m:\n\u001b[32m-> \u001b[39m\u001b[32m3691\u001b[39m         result.error_in_exec = \u001b[43msys\u001b[49m\u001b[43m.\u001b[49m\u001b[43mexc_info\u001b[49m\u001b[43m(\u001b[49m\u001b[43m)\u001b[49m[\u001b[32m1\u001b[39m]\n\u001b[32m   3692\u001b[39m     \u001b[38;5;28mself\u001b[39m.showtraceback(running_compiled_code=\u001b[38;5;28;01mTrue\u001b[39;00m)\n\u001b[32m   3693\u001b[39m \u001b[38;5;28;01melse\u001b[39;00m:\n",
      "\u001b[31mKeyboardInterrupt\u001b[39m: "
     ]
    }
   ],
   "source": [
    "import getch\n",
    "\n",
    "print('press a key to continue...')\n",
    "getch.getch()"
   ]
  },
  {
   "cell_type": "markdown",
   "metadata": {},
   "source": [
    "The following code is a sophisticated example of using the getch module so that we can get a single character from the user whether they are on Linux, macOS or Windows."
   ]
  },
  {
   "cell_type": "code",
   "execution_count": null,
   "metadata": {},
   "outputs": [
    {
     "name": "stdout",
     "output_type": "stream",
     "text": [
      "Press any key (q to quit):\n"
     ]
    },
    {
     "ename": "KeyboardInterrupt",
     "evalue": "",
     "output_type": "error",
     "traceback": [
      "\u001b[31m---------------------------------------------------------------------------\u001b[39m",
      "\u001b[31mOverflowError\u001b[39m                             Traceback (most recent call last)",
      "    \u001b[31m[... skipping hidden 1 frame]\u001b[39m\n",
      "\u001b[36mCell\u001b[39m\u001b[36m \u001b[39m\u001b[32mIn[9]\u001b[39m\u001b[32m, line 25\u001b[39m\n\u001b[32m     24\u001b[39m \u001b[38;5;28;01mwhile\u001b[39;00m \u001b[38;5;28;01mTrue\u001b[39;00m:\n\u001b[32m---> \u001b[39m\u001b[32m25\u001b[39m     char = \u001b[43mget_char\u001b[49m\u001b[43m(\u001b[49m\u001b[43m)\u001b[49m\n\u001b[32m     26\u001b[39m     \u001b[38;5;28mprint\u001b[39m(\u001b[33m\"\u001b[39m\u001b[33mYou pressed:\u001b[39m\u001b[33m\"\u001b[39m, char)\n",
      "\u001b[36mCell\u001b[39m\u001b[36m \u001b[39m\u001b[32mIn[9]\u001b[39m\u001b[32m, line 16\u001b[39m, in \u001b[36mget_char\u001b[39m\u001b[34m()\u001b[39m\n\u001b[32m     15\u001b[39m \u001b[38;5;28;01mif\u001b[39;00m \u001b[33m'\u001b[39m\u001b[33mgetch\u001b[39m\u001b[33m'\u001b[39m \u001b[38;5;129;01min\u001b[39;00m \u001b[38;5;28mglobals\u001b[39m():  \u001b[38;5;66;03m# Using getch module\u001b[39;00m\n\u001b[32m---> \u001b[39m\u001b[32m16\u001b[39m     \u001b[38;5;28;01mreturn\u001b[39;00m \u001b[43mgetch\u001b[49m\u001b[43m.\u001b[49m\u001b[43mgetch\u001b[49m\u001b[43m(\u001b[49m\u001b[43m)\u001b[49m\n\u001b[32m     17\u001b[39m \u001b[38;5;28;01melif\u001b[39;00m sys.platform.startswith(\u001b[33m'\u001b[39m\u001b[33mwin\u001b[39m\u001b[33m'\u001b[39m):  \u001b[38;5;66;03m# Using msvcrt for Windows\u001b[39;00m\n",
      "\u001b[31mOverflowError\u001b[39m: character argument not in range(0x110000)",
      "\nDuring handling of the above exception, another exception occurred:\n",
      "\u001b[31mKeyboardInterrupt\u001b[39m                         Traceback (most recent call last)",
      "\u001b[36mFile \u001b[39m\u001b[32m~/training/python-course-material/lesson-05/venv/lib/python3.12/site-packages/IPython/core/interactiveshell.py:3691\u001b[39m, in \u001b[36mInteractiveShell.run_code\u001b[39m\u001b[34m(self, code_obj, result, async_)\u001b[39m\n\u001b[32m   3689\u001b[39m \u001b[38;5;28;01mexcept\u001b[39;00m:\n\u001b[32m   3690\u001b[39m     \u001b[38;5;28;01mif\u001b[39;00m result \u001b[38;5;129;01mis\u001b[39;00m \u001b[38;5;129;01mnot\u001b[39;00m \u001b[38;5;28;01mNone\u001b[39;00m:\n\u001b[32m-> \u001b[39m\u001b[32m3691\u001b[39m         result.error_in_exec = \u001b[43msys\u001b[49m\u001b[43m.\u001b[49m\u001b[43mexc_info\u001b[49m\u001b[43m(\u001b[49m\u001b[43m)\u001b[49m[\u001b[32m1\u001b[39m]\n\u001b[32m   3692\u001b[39m     \u001b[38;5;28mself\u001b[39m.showtraceback(running_compiled_code=\u001b[38;5;28;01mTrue\u001b[39;00m)\n\u001b[32m   3693\u001b[39m \u001b[38;5;28;01melse\u001b[39;00m:\n",
      "\u001b[31mKeyboardInterrupt\u001b[39m: "
     ]
    }
   ],
   "source": [
    "import sys\n",
    "\n",
    "try:\n",
    "    import getch  # Importing getch for Linux and macOS\n",
    "except ImportError:\n",
    "    if sys.platform.startswith('win'):\n",
    "        import msvcrt  # Importing msvcrt for Windows\n",
    "    else:\n",
    "        raise ImportError(\"Unsupported platform\")\n",
    "\n",
    "def get_char():\n",
    "    \"\"\"\n",
    "    Get a single character from the user.\n",
    "    \"\"\"\n",
    "    if 'getch' in globals():  # Using getch module\n",
    "        return getch.getch()\n",
    "    elif sys.platform.startswith('win'):  # Using msvcrt for Windows\n",
    "        return msvcrt.getch().decode('utf-8')\n",
    "    else:\n",
    "        raise NotImplementedError(\"get_char is not implemented for this platform\")\n",
    "\n",
    "# Example usage\n",
    "print(\"Press any key (q to quit):\")\n",
    "while True:\n",
    "    char = get_char()\n",
    "    print(\"You pressed:\", char)\n",
    "    if char.lower() == 'q':\n",
    "        break"
   ]
  },
  {
   "cell_type": "markdown",
   "metadata": {},
   "source": [
    "#### 5.1.2.3. User-defined modules\n",
    "\n",
    "User-defined modules are the ones that we created. They are python files that contain functions and classes. We can import them using only the `import` statement.\n",
    "- the file needs to be in the same folder as the code we are executing. If we want to import a file in a different folder, we need to specify the folder path.\n",
    "- syntax: `import module_name` or `from module_name import function_name`"
   ]
  },
  {
   "cell_type": "code",
   "execution_count": null,
   "metadata": {},
   "outputs": [
    {
     "name": "stdout",
     "output_type": "stream",
     "text": [
      "False\n",
      "True\n",
      "True\n"
     ]
    }
   ],
   "source": [
    "# import module from the same directory\n",
    "import even\n",
    "\n",
    "# call the function\n",
    "print(even.is_even(5))\n",
    "\n",
    "# import module from a subdirectory (1st)\n",
    "import modules.prime\n",
    "print(modules.prime.is_prime(5))\n",
    "\n",
    "# import module from a subdirectory (2nd)\n",
    "from  modules import prime\n",
    "print(prime.is_prime(5))"
   ]
  },
  {
   "cell_type": "markdown",
   "metadata": {},
   "source": [
    "#### 5.1.2.4. Libraries\n",
    "Libraries are the collections of similar modules grouped together under a single name. We need to install them first with `pip` and then import them.\n",
    "- The most famous libraries are `numpy`, `pandas`, `matplotlib`, `seaborn`, `scikit-learn`, etc.\n",
    "- Sometimes, when we need to work with multiple libraries, we need to import them all at once. We can do that using the `from` statement."
   ]
  },
  {
   "cell_type": "code",
   "execution_count": 10,
   "metadata": {},
   "outputs": [
    {
     "name": "stderr",
     "output_type": "stream",
     "text": [
      "194.58s - pydevd: Sending message related to process being replaced timed-out after 5 seconds\n"
     ]
    },
    {
     "name": "stdout",
     "output_type": "stream",
     "text": [
      "Collecting pandas\n",
      "  Downloading pandas-2.2.3-cp312-cp312-manylinux_2_17_x86_64.manylinux2014_x86_64.whl.metadata (89 kB)\n",
      "Collecting numpy>=1.26.0 (from pandas)\n",
      "  Downloading numpy-2.2.5-cp312-cp312-manylinux_2_17_x86_64.manylinux2014_x86_64.whl.metadata (62 kB)\n",
      "Requirement already satisfied: python-dateutil>=2.8.2 in ./venv/lib/python3.12/site-packages (from pandas) (2.9.0.post0)\n",
      "Collecting pytz>=2020.1 (from pandas)\n",
      "  Downloading pytz-2025.2-py2.py3-none-any.whl.metadata (22 kB)\n",
      "Collecting tzdata>=2022.7 (from pandas)\n",
      "  Downloading tzdata-2025.2-py2.py3-none-any.whl.metadata (1.4 kB)\n",
      "Requirement already satisfied: six>=1.5 in ./venv/lib/python3.12/site-packages (from python-dateutil>=2.8.2->pandas) (1.17.0)\n",
      "Downloading pandas-2.2.3-cp312-cp312-manylinux_2_17_x86_64.manylinux2014_x86_64.whl (12.7 MB)\n",
      "\u001b[2K   \u001b[38;2;114;156;31m━━━━━━━━━━━━━━━━━━━━━━━━━━━━━━━━━━━━━━━━\u001b[0m \u001b[32m12.7/12.7 MB\u001b[0m \u001b[31m22.3 MB/s\u001b[0m eta \u001b[36m0:00:00\u001b[0m1m21.7 MB/s\u001b[0m eta \u001b[36m0:00:01\u001b[0m\n",
      "\u001b[?25hDownloading numpy-2.2.5-cp312-cp312-manylinux_2_17_x86_64.manylinux2014_x86_64.whl (16.1 MB)\n",
      "\u001b[2K   \u001b[38;2;114;156;31m━━━━━━━━━━━━━━━━━━━━━━━━━━━━━━━━━━━━━━━━\u001b[0m \u001b[32m16.1/16.1 MB\u001b[0m \u001b[31m24.4 MB/s\u001b[0m eta \u001b[36m0:00:00\u001b[0m MB/s\u001b[0m eta \u001b[36m0:00:01\u001b[0m01\u001b[0m\n",
      "\u001b[?25hDownloading pytz-2025.2-py2.py3-none-any.whl (509 kB)\n",
      "Downloading tzdata-2025.2-py2.py3-none-any.whl (347 kB)\n",
      "Installing collected packages: pytz, tzdata, numpy, pandas\n",
      "Successfully installed numpy-2.2.5 pandas-2.2.3 pytz-2025.2 tzdata-2025.2\n",
      "\n",
      "\u001b[1m[\u001b[0m\u001b[34;49mnotice\u001b[0m\u001b[1;39;49m]\u001b[0m\u001b[39;49m A new release of pip is available: \u001b[0m\u001b[31;49m24.2\u001b[0m\u001b[39;49m -> \u001b[0m\u001b[32;49m25.1.1\u001b[0m\n",
      "\u001b[1m[\u001b[0m\u001b[34;49mnotice\u001b[0m\u001b[1;39;49m]\u001b[0m\u001b[39;49m To update, run: \u001b[0m\u001b[32;49mpip install --upgrade pip\u001b[0m\n"
     ]
    }
   ],
   "source": [
    "!pip install pandas"
   ]
  },
  {
   "cell_type": "code",
   "execution_count": 11,
   "metadata": {},
   "outputs": [
    {
     "name": "stdout",
     "output_type": "stream",
     "text": [
      "    a   b   c\n",
      "0   1   2   3\n",
      "1   4   5   6\n",
      "2   7   8   9\n",
      "3  10  11  12\n"
     ]
    }
   ],
   "source": [
    "# import pandas\n",
    "import pandas as pd\n",
    "\n",
    "# make pandas dataframe from a 2d list\n",
    "data = [[1, 2, 3], [4, 5, 6], [7, 8, 9], [10, 11, 12]] \n",
    "df = pd.DataFrame(data, columns=['a', 'b', 'c'])\n",
    "print(df)\n"
   ]
  },
  {
   "cell_type": "markdown",
   "metadata": {},
   "source": [
    "#### 5.1.2.5. requirements.txt file\n",
    "- [Free Code Camp: *Python Requirements.txt – How to Create and Pip Install Requirements.txt in Python*](https://www.freecodecamp.org/news/python-requirementstxt-explained/)\n",
    "\n",
    "We can install modules from the [requirements.txt](https://www.python.org/dev/peps/pep-0508/) file. This file is created by the developer of the code in order to provide the list of necessary modules to the user who uses the code.\n",
    "- syntax: `pip install -r requirements.txt`\n",
    "- We usually use `requirements.txt` in the same main folder of a complex project. It is not recommended to use it in subdirectories.\n",
    "- when we are creating this file, we could just add the module names, or we could also give the versions of single modules.\n",
    "- there's an automated way, that is to use the command `pip freeze > requirements.txt` in the terminal."
   ]
  },
  {
   "cell_type": "markdown",
   "metadata": {},
   "source": [
    "- Simple requirements.txt example\n",
    "```\n",
    "numpy\n",
    "pandas\n",
    "```\n",
    "\n",
    "- requirements.txt with versions of the packages example\n",
    "```\n",
    "numpy==1.21.5\n",
    "pandas==1.3.5\n",
    "```\n"
   ]
  },
  {
   "cell_type": "code",
   "execution_count": 13,
   "metadata": {},
   "outputs": [
    {
     "name": "stderr",
     "output_type": "stream",
     "text": [
      "259.01s - pydevd: Sending message related to process being replaced timed-out after 5 seconds\n",
      "264.73s - pydevd: Sending message related to process being replaced timed-out after 5 seconds\n"
     ]
    },
    {
     "name": "stdout",
     "output_type": "stream",
     "text": [
      "asttokens==3.0.0\n",
      "comm==0.2.2\n",
      "debugpy==1.8.14\n",
      "decorator==5.2.1\n",
      "executing==2.2.0\n",
      "getch==1.0\n",
      "ipykernel==6.29.5\n",
      "ipython==9.2.0\n",
      "ipython_pygments_lexers==1.1.1\n",
      "jedi==0.19.2\n",
      "jupyter_client==8.6.3\n",
      "jupyter_core==5.7.2\n",
      "matplotlib-inline==0.1.7\n",
      "nest-asyncio==1.6.0\n",
      "numpy==2.2.5\n",
      "packaging==25.0\n",
      "pandas==2.2.3\n",
      "parso==0.8.4\n",
      "pexpect==4.9.0\n",
      "platformdirs==4.3.8\n",
      "prompt_toolkit==3.0.51\n",
      "psutil==7.0.0\n",
      "ptyprocess==0.7.0\n",
      "pure_eval==0.2.3\n",
      "Pygments==2.19.1\n",
      "python-dateutil==2.9.0.post0\n",
      "pytz==2025.2\n",
      "pyzmq==26.4.0\n",
      "six==1.17.0\n",
      "stack-data==0.6.3\n",
      "tornado==6.5\n",
      "traitlets==5.14.3\n",
      "tzdata==2025.2\n",
      "wcwidth==0.2.13\n"
     ]
    }
   ],
   "source": [
    "!pip freeze > requirements.txt\n",
    "!cat requirements.txt"
   ]
  },
  {
   "cell_type": "markdown",
   "metadata": {},
   "source": [
    "## 5.2. Files I/O in Python\n",
    "\n",
    "If we want to permanently store data, we need to work with files. Files can be of different kind, from a simple text to a complex object like a database, video, audio, etc.\n",
    "\n",
    "We will first introduce the general approach to a file I/O in Python. The simplest one is to read and write to a file. We will see how to read and write to a text file.\n",
    "\n",
    "## 5.2.1. Reading from a File\n",
    "\n",
    "- To read a file we use the `open` function.\n",
    "- `open` takes two arguments: the name of the file and a mode.\n",
    "  - syntax: `open(filename, mode)`\n",
    "  - `filename` is the name of the file\n",
    "  - `mode` is a string that specifies how the file will be read. The default value is `r` for reading. You can also use `w` for writing. `a` for appending. If we ommit the mode, it will be `r` by default.\n",
    "- it is important to know that the file exists and that we can access it. Otherwise, we will get an error.\n",
    "- after we have opened the file, we need to read it. We can do that with different methods:\n",
    "  - `read` method reads the whole file as a string.\n",
    "  - `readline` method reads a line. \n",
    "  - `readlines` method reads all the lines and returns them as a list.\n",
    "  - `next` method skips to the next line. It returns the next line and advances the cursor. It is useful when we want to read a file line by line.\n",
    "- `close` method closes the file. It is very important to always close the file. Otherwise, the file will not be accessible."
   ]
  },
  {
   "cell_type": "code",
   "execution_count": null,
   "metadata": {},
   "outputs": [
    {
     "name": "stdout",
     "output_type": "stream",
     "text": [
      "SONNET 54\n",
      "\n",
      "O how much more doth beauty beauteous seem,\n",
      "By that sweet ornament which truth doth give!\n",
      "The rose looks fair, but fairer we it deem\n",
      "For that sweet odour which doth in it live.\n",
      "The canker-blooms have full as deep a dye\n",
      "As the perfumed tincture of the roses,\n",
      "Hang on such thorns and play as wantonly\n",
      "When summer's breath their masked buds discloses:\n",
      "But, for their virtue only is their show,\n",
      "They live unwoo'd and unrespected fade,\n",
      "Die to themselves. Sweet roses do not so;\n",
      "Of their sweet deaths are sweetest odours made:\n",
      "And so of you, beauteous and lovely youth,\n",
      "When that shall fade, my verse distills your truth. \n",
      "SONNET 54\n",
      "\n",
      "\n",
      "\n",
      "O how much more doth beauty beauteous seem,\n",
      "\n",
      "['SONNET 54\\n', '\\n', 'O how much more doth beauty beauteous seem,\\n', 'By that sweet ornament which truth doth give!\\n', 'The rose looks fair, but fairer we it deem\\n', 'For that sweet odour which doth in it live.\\n', 'The canker-blooms have full as deep a dye\\n', 'As the perfumed tincture of the roses,\\n', 'Hang on such thorns and play as wantonly\\n', \"When summer's breath their masked buds discloses:\\n\", 'But, for their virtue only is their show,\\n', \"They live unwoo'd and unrespected fade,\\n\", 'Die to themselves. Sweet roses do not so;\\n', 'Of their sweet deaths are sweetest odours made:\\n', 'And so of you, beauteous and lovely youth,\\n', 'When that shall fade, my verse distills your truth. ']\n"
     ]
    }
   ],
   "source": [
    "# open and read the file\n",
    "file = open(\"shakespeare.txt\", \"r\")\n",
    "print(file.read())\n",
    "file.close()\n",
    "\n",
    "# open and read the file line by line\n",
    "file = open(\"shakespeare.txt\", \"r\")\n",
    "print(file.readline())\n",
    "print(file.readline())\n",
    "print(file.readline())\n",
    "file.close()\n",
    "\n",
    "# open and read the file line by line\n",
    "file = open(\"shakespeare.txt\", \"r\")\n",
    "print(file.readlines())\n",
    "file.close()\n"
   ]
  },
  {
   "cell_type": "markdown",
   "metadata": {},
   "source": [
    "- It seems we have some problems with the printouts. We need to clean them up. Reading the whole file is a good thing for a small text files, but for larger files, we need to read line by line. And when we do that, we should also be aware that some outputs are containg new lines. We need to clean them up using the `strip` function."
   ]
  },
  {
   "cell_type": "code",
   "execution_count": null,
   "metadata": {},
   "outputs": [
    {
     "name": "stdout",
     "output_type": "stream",
     "text": [
      "SONNET 54\n",
      "\n",
      "O how much more doth beauty beauteous seem,\n",
      "By that sweet ornament which truth doth give!\n",
      "The rose looks fair, but fairer we it deem\n",
      "For that sweet odour which doth in it live.\n",
      "The canker-blooms have full as deep a dye\n",
      "As the perfumed tincture of the roses,\n",
      "Hang on such thorns and play as wantonly\n",
      "When summer's breath their masked buds discloses:\n",
      "But, for their virtue only is their show,\n",
      "They live unwoo'd and unrespected fade,\n",
      "Die to themselves. Sweet roses do not so;\n",
      "Of their sweet deaths are sweetest odours made:\n",
      "And so of you, beauteous and lovely youth,\n",
      "When that shall fade, my verse distills your truth.\n"
     ]
    }
   ],
   "source": [
    "# read file until you arrive to the end of the file\n",
    "file = open('shakespeare.txt', 'r')\n",
    "for line in file:\n",
    "    # print(line)  # each line will have a double newline. why?\n",
    "    print(line.strip())  # remove the double newline\n",
    "file.close()"
   ]
  },
  {
   "cell_type": "markdown",
   "metadata": {},
   "source": [
    "- we can read line by line if we use `readlines` method."
   ]
  },
  {
   "cell_type": "code",
   "execution_count": null,
   "metadata": {},
   "outputs": [
    {
     "name": "stdout",
     "output_type": "stream",
     "text": [
      "SONNET 54\n",
      "\n",
      "O how much more doth beauty beauteous seem,\n",
      "By that sweet ornament which truth doth give!\n",
      "The rose looks fair, but fairer we it deem\n",
      "For that sweet odour which doth in it live.\n",
      "The canker-blooms have full as deep a dye\n",
      "As the perfumed tincture of the roses,\n",
      "Hang on such thorns and play as wantonly\n",
      "When summer's breath their masked buds discloses:\n",
      "But, for their virtue only is their show,\n",
      "They live unwoo'd and unrespected fade,\n",
      "Die to themselves. Sweet roses do not so;\n",
      "Of their sweet deaths are sweetest odours made:\n",
      "And so of you, beauteous and lovely youth,\n",
      "When that shall fade, my verse distills your truth.\n"
     ]
    }
   ],
   "source": [
    "# read file using readlines\n",
    "file = open('shakespeare.txt', 'r')\n",
    "lines = file.readlines()\n",
    "for line in lines:\n",
    "    print(line.strip())\n",
    "file.close()"
   ]
  },
  {
   "cell_type": "markdown",
   "metadata": {},
   "source": [
    "- sometimes is easier to read the file by using `with` statement. The syntax is a bit different and is similar to a while loop. All the file operations are done in the `with` statement indentation. The `with` statement closes the file automatically when it is done.\n",
    "- syntax: `with open(filename, mode) as file:`\n",
    "- `as` is used to assign the file to a variable.\n",
    "- `file` is the name of the variable."
   ]
  },
  {
   "cell_type": "code",
   "execution_count": null,
   "metadata": {},
   "outputs": [
    {
     "name": "stdout",
     "output_type": "stream",
     "text": [
      "SONNET 54\n",
      "\n",
      "O how much more doth beauty beauteous seem,\n",
      "By that sweet ornament which truth doth give!\n",
      "The rose looks fair, but fairer we it deem\n",
      "For that sweet odour which doth in it live.\n",
      "The canker-blooms have full as deep a dye\n",
      "As the perfumed tincture of the roses,\n",
      "Hang on such thorns and play as wantonly\n",
      "When summer's breath their masked buds discloses:\n",
      "But, for their virtue only is their show,\n",
      "They live unwoo'd and unrespected fade,\n",
      "Die to themselves. Sweet roses do not so;\n",
      "Of their sweet deaths are sweetest odours made:\n",
      "And so of you, beauteous and lovely youth,\n",
      "When that shall fade, my verse distills your truth.\n",
      "SONNET 54\n",
      "\n",
      "O how much more doth beauty beauteous seem,\n",
      "By that sweet ornament which truth doth give!\n",
      "The rose looks fair, but fairer we it deem\n",
      "For that sweet odour which doth in it live.\n",
      "The canker-blooms have full as deep a dye\n",
      "As the perfumed tincture of the roses,\n",
      "Hang on such thorns and play as wantonly\n",
      "When summer's breath their masked buds discloses:\n",
      "But, for their virtue only is their show,\n",
      "They live unwoo'd and unrespected fade,\n",
      "Die to themselves. Sweet roses do not so;\n",
      "Of their sweet deaths are sweetest odours made:\n",
      "And so of you, beauteous and lovely youth,\n",
      "When that shall fade, my verse distills your truth.\n"
     ]
    },
    {
     "ename": "ValueError",
     "evalue": "I/O operation on closed file.",
     "output_type": "error",
     "traceback": [
      "\u001b[0;31m---------------------------------------------------------------------------\u001b[0m",
      "\u001b[0;31mValueError\u001b[0m                                Traceback (most recent call last)",
      "Cell \u001b[0;32mIn[9], line 12\u001b[0m\n\u001b[1;32m      9\u001b[0m     \u001b[38;5;28;01mfor\u001b[39;00m line \u001b[38;5;129;01min\u001b[39;00m lines:\n\u001b[1;32m     10\u001b[0m         \u001b[38;5;28mprint\u001b[39m(line\u001b[38;5;241m.\u001b[39mstrip())\n\u001b[0;32m---> 12\u001b[0m \u001b[38;5;28mprint\u001b[39m(\u001b[43mfile\u001b[49m\u001b[38;5;241;43m.\u001b[39;49m\u001b[43mread\u001b[49m\u001b[43m(\u001b[49m\u001b[43m)\u001b[49m)  \u001b[38;5;66;03m# this will throw an error, beacuse file is closed now\u001b[39;00m\n",
      "\u001b[0;31mValueError\u001b[0m: I/O operation on closed file."
     ]
    }
   ],
   "source": [
    "# open and read file with with\n",
    "with open('shakespeare.txt', 'r') as file:\n",
    "    for line in file:\n",
    "        print(line.strip())\n",
    "\n",
    "# open and read file with with\n",
    "with open('shakespeare.txt', 'r') as file:\n",
    "    lines = file.readlines()\n",
    "    for line in lines:\n",
    "        print(line.strip())\n",
    "\n",
    "print(file.read())  # this will throw an error, beacuse file is closed now\n"
   ]
  },
  {
   "cell_type": "markdown",
   "metadata": {},
   "source": [
    "### 5.2.2. Writing to a File\n",
    "\n",
    "- In order to write to a file, we need to open it. We can do that with the `open` function, and we need to use the `write` method.\n",
    "  - syntax: `open(filename, mode)`\n",
    "- `mode` can be `w` for writing, `a` for appending. If file already exists, it will be overwritten if we use `w` mode, otherwise it will be appended.\n",
    "- To write to a file we use the `write` method. It takes one argument: the string we want to write.\n",
    "  - syntax: `file.write(string)`\n"
   ]
  },
  {
   "cell_type": "code",
   "execution_count": null,
   "metadata": {},
   "outputs": [
    {
     "name": "stdout",
     "output_type": "stream",
     "text": [
      "Hello, World!Hello, World!\n"
     ]
    }
   ],
   "source": [
    "# open and write to a file\n",
    "file = open('test.txt', 'w')\n",
    "file.write('Hello, World!')\n",
    "file.close()\n",
    "\n",
    "# open and append to a file\n",
    "file = open('test.txt', 'a')\n",
    "file.write('Hello, World!')\n",
    "file.close()\n",
    "\n",
    "# open and read a file\n",
    "file = open('test.txt', 'r')\n",
    "print(file.read())\n",
    "file.close()"
   ]
  },
  {
   "cell_type": "markdown",
   "metadata": {},
   "source": [
    "- Notice that with `write()` method, the strings are written to the file as one big string.\n",
    "- The other methods are `writelines()` and `seek()` to move to a specific position in the file."
   ]
  },
  {
   "cell_type": "code",
   "execution_count": null,
   "metadata": {},
   "outputs": [
    {
     "name": "stdout",
     "output_type": "stream",
     "text": [
      "Hello, World!Welcome to Python!Have a nice day!\n"
     ]
    }
   ],
   "source": [
    "# writelines\n",
    "lines = ['Hello, World!', 'Welcome to Python!', 'Have a nice day!']\n",
    "\n",
    "file = open('test.txt', 'w')\n",
    "file.writelines(lines)\n",
    "file.close()\n",
    "\n",
    "# seek\n",
    "file = open('test.txt', 'r')\n",
    "file.seek(0)\n",
    "print(file.read())\n",
    "file.close()"
   ]
  },
  {
   "cell_type": "markdown",
   "metadata": {},
   "source": [
    "- If we wish to write properly line by line with `write` method, we need to add `newline` argument at the end of a string(line).\n",
    "  - syntax: `write(line+'\\n')`"
   ]
  },
  {
   "cell_type": "code",
   "execution_count": null,
   "metadata": {},
   "outputs": [
    {
     "name": "stdout",
     "output_type": "stream",
     "text": [
      "Hello, World!\n",
      "Welcome to Python!\n",
      "Have a nice day!\n",
      "\n"
     ]
    }
   ],
   "source": [
    "# with\n",
    "with open('test.txt', 'w') as file:\n",
    "    file.write('Hello, World!\\n')\n",
    "    file.write('Welcome to Python!\\n')\n",
    "    file.write('Have a nice day!\\n')\n",
    "\n",
    "# read\n",
    "with open('test.txt', 'r') as file:\n",
    "    print(file.read())"
   ]
  },
  {
   "cell_type": "markdown",
   "metadata": {},
   "source": [
    "## 5.2.3. Other File I/O Methods\n",
    "\n",
    "[Os Module](https://docs.python.org/3/library/os.html)\n",
    "\n",
    "- Many times there's a need to perform other file I/O operations. We can use the `os` module to do that.\n",
    "- `os` module provides a lot of methods that we can use to perform other file I/O operations. We will introduce them in the next section.\n",
    "\n",
    "### 5.2.3.1. Check if File Exists\n",
    "\n",
    "- We can check if a file exists using the `exists` method.\n",
    "  - syntax: `os.path.exists(filename)`"
   ]
  },
  {
   "cell_type": "code",
   "execution_count": null,
   "metadata": {},
   "outputs": [
    {
     "name": "stdout",
     "output_type": "stream",
     "text": [
      "File exists\n"
     ]
    }
   ],
   "source": [
    "import os\n",
    "\n",
    "# check if a file exists\n",
    "if os.path.exists('test.txt'):\n",
    "    print('File exists')\n",
    "else:\n",
    "    print('File does not exist')"
   ]
  },
  {
   "cell_type": "markdown",
   "metadata": {},
   "source": [
    "### 5.2.3.2. List Files\n",
    "\n",
    "- We can list all the files in a directory using the `listdir` method.\n",
    "  - syntax: `os.listdir(directory)`"
   ]
  },
  {
   "cell_type": "code",
   "execution_count": null,
   "metadata": {},
   "outputs": [
    {
     "name": "stdout",
     "output_type": "stream",
     "text": [
      "['even.py', 'lesson-0501.ipynb', 'lesson-0502.ipynb', 'modules', 'shakespeare.txt', 'requirements.txt', 'lesson-0501.md', 'lesson-0502.md', 'weekly-challenge', 'lesson-csv.ipynb', 'sample_data.csv', 'test.txt']\n"
     ]
    }
   ],
   "source": [
    "# list files\n",
    "print(os.listdir())"
   ]
  },
  {
   "cell_type": "markdown",
   "metadata": {},
   "source": [
    "### 5.2.3.3. Create Directory\n",
    "\n",
    "- We can create a directory using the `mkdir` method.\n",
    "  - syntax: `os.mkdir(directory)`"
   ]
  },
  {
   "cell_type": "code",
   "execution_count": null,
   "metadata": {},
   "outputs": [],
   "source": [
    "# create a directory\n",
    "os.mkdir('test')"
   ]
  },
  {
   "cell_type": "markdown",
   "metadata": {},
   "source": [
    "### 5.2.3.4. Remove Directory\n",
    "\n",
    "- We can remove a directory using the `rmdir` method.\n",
    "  - syntax: `os.rmdir(directory)`"
   ]
  },
  {
   "cell_type": "code",
   "execution_count": null,
   "metadata": {},
   "outputs": [],
   "source": [
    "# remove a directory\n",
    "os.rmdir('test')"
   ]
  },
  {
   "cell_type": "markdown",
   "metadata": {},
   "source": [
    "### 5.2.3.5. Change Directory and Get Current Directory\n",
    "\n",
    "- We can change the current directory using the `chdir` method.\n",
    "  - syntax: `os.chdir(directory)`\n",
    "- We can get the current directory using the `getcwd` method.\n",
    "  - syntax: `os.getcwd()`"
   ]
  },
  {
   "cell_type": "code",
   "execution_count": null,
   "metadata": {},
   "outputs": [
    {
     "name": "stdout",
     "output_type": "stream",
     "text": [
      "/devop/tutoring/python-course-material/lesson-05\n",
      "/devop/tutoring/python-course-material\n",
      "/devop/tutoring/python-course-material/lesson-05\n"
     ]
    }
   ],
   "source": [
    "# get current directory\n",
    "print(os.getcwd())\n",
    "\n",
    "# change directory\n",
    "os.chdir('..')\n",
    "print(os.getcwd())\n",
    "os.chdir('lesson-05')\n",
    "print(os.getcwd())"
   ]
  },
  {
   "cell_type": "markdown",
   "metadata": {},
   "source": [
    "### 5.2.3.6. Rename File and Rename Directory\n",
    "\n",
    "- We can rename a file using the `rename` method.\n",
    "  - syntax: `os.rename(old_filename, new_filename)`\n",
    "- We can rename a directory using the `rename` method.\n",
    "  - syntax: `os.rename(old_directory, new_directory)`"
   ]
  },
  {
   "cell_type": "code",
   "execution_count": null,
   "metadata": {},
   "outputs": [
    {
     "name": "stdout",
     "output_type": "stream",
     "text": [
      "True\n",
      "False\n",
      "True\n",
      "True\n",
      "False\n",
      "True\n"
     ]
    }
   ],
   "source": [
    "# make a new file\n",
    "with open('test.txt', 'w') as file:\n",
    "    file.write('Hello, World!\\n')\n",
    "\n",
    "# check if the file exists\n",
    "print(os.path.exists('test.txt'))\n",
    "\n",
    "# rename the file\n",
    "os.rename('test.txt', 'test2.txt')\n",
    "\n",
    "# check if the old file exists\n",
    "print(os.path.exists('test.txt'))\n",
    "# check if the new file exists\n",
    "print(os.path.exists('test2.txt'))\n",
    "\n",
    "# remove the new file\n",
    "os.remove('test2.txt')\n",
    "\n",
    "\n",
    "# make a new directory\n",
    "os.mkdir('test_dir')\n",
    "\n",
    "# check if the directory exists\n",
    "print(os.path.exists('test_dir'))\n",
    "\n",
    "# rename the directory\n",
    "os.rename('test_dir', 'test_dir2')\n",
    "\n",
    "# check if the old directory exists\n",
    "print(os.path.exists('test_dir'))\n",
    "\n",
    "# check if the new directory exists\n",
    "print(os.path.exists('test_dir2'))\n",
    "\n",
    "# remove the new directory\n",
    "os.rmdir('test_dir2')\n"
   ]
  },
  {
   "cell_type": "markdown",
   "metadata": {},
   "source": [
    "### 5.2.3.7. Other useful methods of `Os` Module\n",
    "\n",
    "The `os` module in Python provides a variety of methods for interacting with the file system. Here are some useful methods along with examples for each:\n",
    "\n",
    "- **Listing All Files in a Directory**: Use the `listdir` method.\n",
    "  ```python\n",
    "  import os\n",
    "  \n",
    "  files = os.listdir('/path/to/directory')\n",
    "  print(files)\n",
    "  ```\n",
    "  Example: If the directory `/path/to/directory` contains files `file1.txt` and `file2.txt`, the output will be `['file1.txt', 'file2.txt']`.\n",
    "\n",
    "- **Creating a Directory**: Use the `mkdir` method.\n",
    "  ```python\n",
    "  import os\n",
    "  \n",
    "  os.mkdir('/path/to/new_directory')\n",
    "  ```\n",
    "  Example: Creates a new directory named `new_directory` at the specified path.\n",
    "\n",
    "- **Removing a Directory**: Use the `rmdir` method.\n",
    "  ```python\n",
    "  import os\n",
    "  \n",
    "  os.rmdir('/path/to/directory_to_remove')\n",
    "  ```\n",
    "  Example: Removes the directory named `directory_to_remove` at the specified path. The directory must be empty.\n",
    "\n",
    "- **Getting the Size of a File**: Use the `getsize` method.\n",
    "  ```python\n",
    "  import os\n",
    "  \n",
    "  file_size = os.path.getsize('/path/to/file.txt')\n",
    "  print(file_size)\n",
    "  ```\n",
    "  Example: If `file.txt` is 1024 bytes, the output will be `1024`.\n",
    "\n",
    "- **Getting the Time of Last Modification of a File**: Use the `getmtime` method.\n",
    "  ```python\n",
    "  import os\n",
    "  import time\n",
    "  \n",
    "  mod_time = os.path.getmtime('/path/to/file.txt')\n",
    "  print(time.ctime(mod_time))\n",
    "  ```\n",
    "  Example: If the file was last modified on May 19, 2024, the output will be `Sun May 19 12:34:56 2024`.\n",
    "\n",
    "- **Getting the Time of Last Access of a File**: Use the `getatime` method.\n",
    "  ```python\n",
    "  import os\n",
    "  import time\n",
    "  \n",
    "  access_time = os.path.getatime('/path/to/file.txt')\n",
    "  print(time.ctime(access_time))\n",
    "  ```\n",
    "  Example: If the file was last accessed on May 19, 2024, the output will be `Sun May 19 12:34:56 2024`.\n",
    "\n",
    "- **Getting the Time of Creation of a File**: Use the `getctime` method.\n",
    "  ```python\n",
    "  import os\n",
    "  import time\n",
    "  \n",
    "  creation_time = os.path.getctime('/path/to/file.txt')\n",
    "  print(time.ctime(creation_time))\n",
    "  ```\n",
    "  Example: If the file was created on May 19, 2024, the output will be `Sun May 19 12:34:56 2024`.\n",
    "\n",
    "- **Removing a File**: Use the `remove` method.\n",
    "  ```python\n",
    "  import os\n",
    "  \n",
    "  os.remove('/path/to/file.txt')\n",
    "  ```\n",
    "  Example: Removes the file named `file.txt` at the specified path.\n",
    "```"
   ]
  }
 ],
 "metadata": {
  "kernelspec": {
   "display_name": "venv",
   "language": "python",
   "name": "python3"
  },
  "language_info": {
   "codemirror_mode": {
    "name": "ipython",
    "version": 3
   },
   "file_extension": ".py",
   "mimetype": "text/x-python",
   "name": "python",
   "nbconvert_exporter": "python",
   "pygments_lexer": "ipython3",
   "version": "3.12.7"
  }
 },
 "nbformat": 4,
 "nbformat_minor": 2
}
