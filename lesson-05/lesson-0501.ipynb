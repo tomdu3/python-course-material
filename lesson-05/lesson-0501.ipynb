{
 "cells": [
  {
   "cell_type": "markdown",
   "metadata": {},
   "source": [
    "# Lesson 4: Working with Files in Python\n",
    "\n",
    "If we want to permanently store data, we need to work with files. Files can be of different kind, from a simple text to a complex object like a database, video, audio, etc.\n",
    "\n",
    "## 4.1. Files I/O in Python\n",
    "\n",
    "We will first introduce the general approach to a file I/O in Python. The simplest one is to read and write to a file. We will see how to read and write to a text file.\n",
    "\n",
    "## 4.1.1. Reading from a File\n",
    "\n",
    "- To read a file we use the `open` function.\n",
    "- `open` takes two arguments: the name of the file and a mode.\n",
    "  - syntax: `open(filename, mode)`\n",
    "  - `filename` is the name of the file\n",
    "  - `mode` is a string that specifies how the file will be read. The default value is `r` for reading. You can also use `w` for writing. `a` for appending. If we ommit the mode, it will be `r` by default.\n",
    "- it is important to know that the file exists and that we can access it. Otherwise, we will get an error.\n",
    "- after we have opened the file, we need to read it. We can do that with different methods:\n",
    "  - `read` method reads the whole file as a string.\n",
    "  - `readline` method reads a line. \n",
    "  - `readlines` method reads all the lines and returns them as a list.\n",
    "  - `next` method skips to the next line. It returns the next line and advances the cursor. It is useful when we want to read a file line by line.\n",
    "- `close` method closes the file. It is very important to always close the file. Otherwise, the file will not be accessible."
   ]
  },
  {
   "cell_type": "code",
   "execution_count": 2,
   "metadata": {},
   "outputs": [
    {
     "name": "stdout",
     "output_type": "stream",
     "text": [
      "SONNET 54\n",
      "\n",
      "O how much more doth beauty beauteous seem,\n",
      "By that sweet ornament which truth doth give!\n",
      "The rose looks fair, but fairer we it deem\n",
      "For that sweet odour which doth in it live.\n",
      "The canker-blooms have full as deep a dye\n",
      "As the perfumed tincture of the roses,\n",
      "Hang on such thorns and play as wantonly\n",
      "When summer's breath their masked buds discloses:\n",
      "But, for their virtue only is their show,\n",
      "They live unwoo'd and unrespected fade,\n",
      "Die to themselves. Sweet roses do not so;\n",
      "Of their sweet deaths are sweetest odours made:\n",
      "And so of you, beauteous and lovely youth,\n",
      "When that shall fade, my verse distills your truth. \n",
      "SONNET 54\n",
      "\n",
      "\n",
      "\n",
      "O how much more doth beauty beauteous seem,\n",
      "\n",
      "['SONNET 54\\n', '\\n', 'O how much more doth beauty beauteous seem,\\n', 'By that sweet ornament which truth doth give!\\n', 'The rose looks fair, but fairer we it deem\\n', 'For that sweet odour which doth in it live.\\n', 'The canker-blooms have full as deep a dye\\n', 'As the perfumed tincture of the roses,\\n', 'Hang on such thorns and play as wantonly\\n', \"When summer's breath their masked buds discloses:\\n\", 'But, for their virtue only is their show,\\n', \"They live unwoo'd and unrespected fade,\\n\", 'Die to themselves. Sweet roses do not so;\\n', 'Of their sweet deaths are sweetest odours made:\\n', 'And so of you, beauteous and lovely youth,\\n', 'When that shall fade, my verse distills your truth. ']\n"
     ]
    }
   ],
   "source": [
    "# open and read the file\n",
    "file = open(\"shakespeare.txt\", \"r\")\n",
    "print(file.read())\n",
    "file.close()\n",
    "\n",
    "# open and read the file line by line\n",
    "file = open(\"shakespeare.txt\", \"r\")\n",
    "print(file.readline())\n",
    "print(file.readline())\n",
    "print(file.readline())\n",
    "file.close()\n",
    "\n",
    "# open and read the file line by line\n",
    "file = open(\"shakespeare.txt\", \"r\")\n",
    "print(file.readlines())\n",
    "file.close()\n"
   ]
  },
  {
   "cell_type": "markdown",
   "metadata": {},
   "source": [
    "- It seems we have some problems with the printouts. We need to clean them up. Reading the whole file is a good thing for a small text files, but for larger files, we need to read line by line. And when we do that, we should also be aware that some outputs are containg new lines. We need to clean them up using the `strip` function."
   ]
  },
  {
   "cell_type": "code",
   "execution_count": 7,
   "metadata": {},
   "outputs": [
    {
     "name": "stdout",
     "output_type": "stream",
     "text": [
      "SONNET 54\n",
      "\n",
      "O how much more doth beauty beauteous seem,\n",
      "By that sweet ornament which truth doth give!\n",
      "The rose looks fair, but fairer we it deem\n",
      "For that sweet odour which doth in it live.\n",
      "The canker-blooms have full as deep a dye\n",
      "As the perfumed tincture of the roses,\n",
      "Hang on such thorns and play as wantonly\n",
      "When summer's breath their masked buds discloses:\n",
      "But, for their virtue only is their show,\n",
      "They live unwoo'd and unrespected fade,\n",
      "Die to themselves. Sweet roses do not so;\n",
      "Of their sweet deaths are sweetest odours made:\n",
      "And so of you, beauteous and lovely youth,\n",
      "When that shall fade, my verse distills your truth.\n"
     ]
    }
   ],
   "source": [
    "# read file until you arrive to the end of the file\n",
    "file = open('shakespeare.txt', 'r')\n",
    "for line in file:\n",
    "    # print(line)  # each line will have a double newline. why?\n",
    "    print(line.strip())  # remove the double newline\n",
    "file.close()"
   ]
  },
  {
   "cell_type": "markdown",
   "metadata": {},
   "source": [
    "- we can read line by line if we use `readlines` method."
   ]
  },
  {
   "cell_type": "code",
   "execution_count": 9,
   "metadata": {},
   "outputs": [
    {
     "name": "stdout",
     "output_type": "stream",
     "text": [
      "SONNET 54\n",
      "\n",
      "O how much more doth beauty beauteous seem,\n",
      "By that sweet ornament which truth doth give!\n",
      "The rose looks fair, but fairer we it deem\n",
      "For that sweet odour which doth in it live.\n",
      "The canker-blooms have full as deep a dye\n",
      "As the perfumed tincture of the roses,\n",
      "Hang on such thorns and play as wantonly\n",
      "When summer's breath their masked buds discloses:\n",
      "But, for their virtue only is their show,\n",
      "They live unwoo'd and unrespected fade,\n",
      "Die to themselves. Sweet roses do not so;\n",
      "Of their sweet deaths are sweetest odours made:\n",
      "And so of you, beauteous and lovely youth,\n",
      "When that shall fade, my verse distills your truth.\n"
     ]
    }
   ],
   "source": [
    "# read file using readlines\n",
    "file = open('shakespeare.txt', 'r')\n",
    "lines = file.readlines()\n",
    "for line in lines:\n",
    "    print(line.strip())\n",
    "file.close()"
   ]
  },
  {
   "cell_type": "markdown",
   "metadata": {},
   "source": [
    "- sometimes is easier to read the file by using `with` statement. The syntax is a bit different and is similar to a while loop. All the file operations are done in the `with` statement indentation. The `with` statement closes the file automatically when it is done.\n",
    "- syntax: `with open(filename, mode) as file:`\n",
    "- `as` is used to assign the file to a variable.\n",
    "- `file` is the name of the variable."
   ]
  },
  {
   "cell_type": "code",
   "execution_count": 12,
   "metadata": {},
   "outputs": [
    {
     "name": "stdout",
     "output_type": "stream",
     "text": [
      "SONNET 54\n",
      "\n",
      "O how much more doth beauty beauteous seem,\n",
      "By that sweet ornament which truth doth give!\n",
      "The rose looks fair, but fairer we it deem\n",
      "For that sweet odour which doth in it live.\n",
      "The canker-blooms have full as deep a dye\n",
      "As the perfumed tincture of the roses,\n",
      "Hang on such thorns and play as wantonly\n",
      "When summer's breath their masked buds discloses:\n",
      "But, for their virtue only is their show,\n",
      "They live unwoo'd and unrespected fade,\n",
      "Die to themselves. Sweet roses do not so;\n",
      "Of their sweet deaths are sweetest odours made:\n",
      "And so of you, beauteous and lovely youth,\n",
      "When that shall fade, my verse distills your truth.\n",
      "SONNET 54\n",
      "\n",
      "O how much more doth beauty beauteous seem,\n",
      "By that sweet ornament which truth doth give!\n",
      "The rose looks fair, but fairer we it deem\n",
      "For that sweet odour which doth in it live.\n",
      "The canker-blooms have full as deep a dye\n",
      "As the perfumed tincture of the roses,\n",
      "Hang on such thorns and play as wantonly\n",
      "When summer's breath their masked buds discloses:\n",
      "But, for their virtue only is their show,\n",
      "They live unwoo'd and unrespected fade,\n",
      "Die to themselves. Sweet roses do not so;\n",
      "Of their sweet deaths are sweetest odours made:\n",
      "And so of you, beauteous and lovely youth,\n",
      "When that shall fade, my verse distills your truth.\n"
     ]
    },
    {
     "ename": "ValueError",
     "evalue": "I/O operation on closed file.",
     "output_type": "error",
     "traceback": [
      "\u001b[0;31m---------------------------------------------------------------------------\u001b[0m",
      "\u001b[0;31mValueError\u001b[0m                                Traceback (most recent call last)",
      "Cell \u001b[0;32mIn[12], line 12\u001b[0m\n\u001b[1;32m      9\u001b[0m     \u001b[38;5;28;01mfor\u001b[39;00m line \u001b[38;5;129;01min\u001b[39;00m lines:\n\u001b[1;32m     10\u001b[0m         \u001b[38;5;28mprint\u001b[39m(line\u001b[38;5;241m.\u001b[39mstrip())\n\u001b[0;32m---> 12\u001b[0m \u001b[38;5;28mprint\u001b[39m(\u001b[43mfile\u001b[49m\u001b[38;5;241;43m.\u001b[39;49m\u001b[43mread\u001b[49m\u001b[43m(\u001b[49m\u001b[43m)\u001b[49m)\n",
      "\u001b[0;31mValueError\u001b[0m: I/O operation on closed file."
     ]
    }
   ],
   "source": [
    "# open and read file with with\n",
    "with open('shakespeare.txt', 'r') as file:\n",
    "    for line in file:\n",
    "        print(line.strip())\n",
    "\n",
    "# open and read file with with\n",
    "with open('shakespeare.txt', 'r') as file:\n",
    "    lines = file.readlines()\n",
    "    for line in lines:\n",
    "        print(line.strip())\n",
    "\n",
    "print(file.read())  # this will throw an error, beacuse file is closed now\n"
   ]
  }
 ],
 "metadata": {
  "kernelspec": {
   "display_name": "python312",
   "language": "python",
   "name": "python3"
  },
  "language_info": {
   "codemirror_mode": {
    "name": "ipython",
    "version": 3
   },
   "file_extension": ".py",
   "mimetype": "text/x-python",
   "name": "python",
   "nbconvert_exporter": "python",
   "pygments_lexer": "ipython3",
   "version": "3.12.2"
  }
 },
 "nbformat": 4,
 "nbformat_minor": 2
}
