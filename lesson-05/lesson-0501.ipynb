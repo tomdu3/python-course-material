{
 "cells": [
  {
   "cell_type": "markdown",
   "metadata": {},
   "source": [
    "# Lesson 4: Working with Modules and Files in Python\n",
    "\n",
    "## 4.1. Modules\n",
    "\n",
    "Modules are a collection of functions that can be used in your program. We have already seen how to import some modules in Python like `random`, `time` and `datetime`.\n",
    "We have different kind of modules in Python: Built-in modules, third-party modules, and user-defined modules.\n",
    "- Built-in modules: These modules are pre-installed in the Python interpreter: `sys`, `math`, `os`, `random`, etc.\n",
    "- Third-party modules: These modules are not pre-installed in the Python interpreter. We need to install them first.\n",
    "- User-defined modules: These modules are created by us.\n",
    "\n",
    "## 4.1.1. Importing Modules\n",
    "\n",
    "- We can import modules using the `import` statement.\n",
    "  - syntax: `import module_name`\n",
    "  - `module_name` is the name of the module we want to import.\n",
    "\n",
    "This way we are importing the whole module with all its functions. To call a function from a module, we need to use the module name followed by the function name.\n",
    "  - syntax: `module_name.function_name()`\n",
    "    - example: `random.randint(0, 100)`"
   ]
  },
  {
   "cell_type": "code",
   "execution_count": 1,
   "metadata": {},
   "outputs": [
    {
     "name": "stdout",
     "output_type": "stream",
     "text": [
      "4.0\n"
     ]
    }
   ],
   "source": [
    "# import library\n",
    "import math\n",
    "\n",
    "# call the function for the square root of 16\n",
    "print(math.sqrt(16))"
   ]
  },
  {
   "cell_type": "markdown",
   "metadata": {},
   "source": [
    "- The other way is to import all the functions in a module using the `from` statement.\n",
    "  - syntax: `from module_name import *`\n",
    "  - `module_name` is the name of the module we want to import.\n",
    "  - `*` means we want to import all the functions in the module.\n",
    "  - example: `from random import *`\n",
    "\n",
    "This way of importing function gives us the opportunity to call a specific function and we don't need to write the module name and function name.\n",
    "  - syntax: `function_name()`\n",
    "    - example: `randint(0, 100)`\n",
    "  - when we import all the functions there could be a problem if we want to call a specific function that could overwrite other functions in the code."
   ]
  },
  {
   "cell_type": "code",
   "execution_count": 3,
   "metadata": {},
   "outputs": [
    {
     "name": "stdout",
     "output_type": "stream",
     "text": [
      "4.0\n"
     ]
    }
   ],
   "source": [
    "# import all functions from a module\n",
    "from math import *\n",
    "\n",
    "# call the square function\n",
    "print(sqrt(16))"
   ]
  },
  {
   "cell_type": "markdown",
   "metadata": {},
   "source": [
    "We can also import import single functions or multiple functions from a module using the `from` and `import` statements.\n",
    "  - syntax: `from module_name import function_name1, function_name2, function_name3`\n",
    "  - `module_name` is the name of the module we want to import.\n",
    "  - `function_name1, function_name2, function_name3` are the names of the functions we want to import.\n",
    "  - example: `from random import randint, choice`"
   ]
  },
  {
   "cell_type": "code",
   "execution_count": 4,
   "metadata": {},
   "outputs": [
    {
     "name": "stdout",
     "output_type": "stream",
     "text": [
      "4.0\n",
      "0.8939966636005579\n"
     ]
    }
   ],
   "source": [
    "# import specific functions\n",
    "from math import sqrt, sin\n",
    "\n",
    "# call the square function\n",
    "print(sqrt(16))\n",
    "\n",
    "# call the sine function\n",
    "print(sin(90))"
   ]
  },
  {
   "cell_type": "markdown",
   "metadata": {},
   "source": [
    "In order to shorten the syntax, we can import modules with the `as` statement.\n",
    "  - syntax: `import module_name as new_name`\n",
    "  - `module_name` is the name of the module we want to import.\n",
    "  - `new_name` is the new name we want to give to the module.\n",
    "  - example: `import pandas as pd`"
   ]
  },
  {
   "cell_type": "code",
   "execution_count": 6,
   "metadata": {},
   "outputs": [
    {
     "name": "stdout",
     "output_type": "stream",
     "text": [
      "2024-04-01\n"
     ]
    }
   ],
   "source": [
    "# import datetime module\n",
    "import datetime as dt\n",
    "\n",
    "# get today's date\n",
    "today = dt.date.today()\n",
    "print(today)"
   ]
  },
  {
   "cell_type": "markdown",
   "metadata": {},
   "source": [
    "### 4.1.2. Importing different kinds of modules\n",
    "\n",
    "#### 4.1.2.1. Built-in modules\n",
    "\n",
    "Built-in modules are the ones that come in the Python standard library. We can import them using only the `import` statement.\n",
    "These modules are `sys`, `math`, `os`, `random`, etc.\n",
    "\n",
    "#### 4.1.2.2. Third-party modules\n",
    "\n",
    "Third-party modules or packages are the ones that are not included in the standard library. We need to install them first and then import them. To install a third-party module, we need to use the `pip` command. We can find them on the [Python Package Manager](https://pypi.org/).\n",
    "- To install a third-party module, we need to go to the terminal and type `pip install module_name`.\n",
    "- We can also install a specific version of a module using the `pip` command.\n",
    "  - syntax: `pip install module_name==version` or `pip install module_name>=version`\n",
    "  - `module_name` is the name of the module we want to install.\n",
    "  - `version` is the version number of the module we want to install.\n"
   ]
  },
  {
   "cell_type": "code",
   "execution_count": 7,
   "metadata": {},
   "outputs": [
    {
     "name": "stdout",
     "output_type": "stream",
     "text": [
      "Collecting pandas\n",
      "  Downloading pandas-2.2.1-cp312-cp312-manylinux_2_17_x86_64.manylinux2014_x86_64.whl.metadata (19 kB)\n",
      "Collecting numpy<2,>=1.26.0 (from pandas)\n",
      "  Downloading numpy-1.26.4-cp312-cp312-manylinux_2_17_x86_64.manylinux2014_x86_64.whl.metadata (61 kB)\n",
      "\u001b[2K     \u001b[90m━━━━━━━━━━━━━━━━━━━━━━━━━━━━━━━━━━━━━━━\u001b[0m \u001b[32m61.0/61.0 kB\u001b[0m \u001b[31m966.9 kB/s\u001b[0m eta \u001b[36m0:00:00\u001b[0m \u001b[36m0:00:01\u001b[0m\n",
      "\u001b[?25hRequirement already satisfied: python-dateutil>=2.8.2 in /home/tom/anaconda3/envs/python312/lib/python3.12/site-packages (from pandas) (2.9.0)\n",
      "Collecting pytz>=2020.1 (from pandas)\n",
      "  Downloading pytz-2024.1-py2.py3-none-any.whl.metadata (22 kB)\n",
      "Collecting tzdata>=2022.7 (from pandas)\n",
      "  Downloading tzdata-2024.1-py2.py3-none-any.whl.metadata (1.4 kB)\n",
      "Requirement already satisfied: six>=1.5 in /home/tom/anaconda3/envs/python312/lib/python3.12/site-packages (from python-dateutil>=2.8.2->pandas) (1.16.0)\n",
      "Downloading pandas-2.2.1-cp312-cp312-manylinux_2_17_x86_64.manylinux2014_x86_64.whl (12.7 MB)\n",
      "\u001b[2K   \u001b[90m━━━━━━━━━━━━━━━━━━━━━━━━━━━━━━━━━━━━━━━━\u001b[0m \u001b[32m12.7/12.7 MB\u001b[0m \u001b[31m6.6 MB/s\u001b[0m eta \u001b[36m0:00:00\u001b[0m00:01\u001b[0m00:01\u001b[0m\n",
      "\u001b[?25hDownloading numpy-1.26.4-cp312-cp312-manylinux_2_17_x86_64.manylinux2014_x86_64.whl (18.0 MB)\n",
      "\u001b[2K   \u001b[90m━━━━━━━━━━━━━━━━━━━━━━━━━━━━━━━━━━━━━━━━\u001b[0m \u001b[32m18.0/18.0 MB\u001b[0m \u001b[31m20.6 MB/s\u001b[0m eta \u001b[36m0:00:00\u001b[0m00:01\u001b[0m00:01\u001b[0m\n",
      "\u001b[?25hDownloading pytz-2024.1-py2.py3-none-any.whl (505 kB)\n",
      "\u001b[2K   \u001b[90m━━━━━━━━━━━━━━━━━━━━━━━━━━━━━━━━━━━━━━━━\u001b[0m \u001b[32m505.5/505.5 kB\u001b[0m \u001b[31m7.9 MB/s\u001b[0m eta \u001b[36m0:00:00\u001b[0mta \u001b[36m0:00:01\u001b[0m\n",
      "\u001b[?25hDownloading tzdata-2024.1-py2.py3-none-any.whl (345 kB)\n",
      "\u001b[2K   \u001b[90m━━━━━━━━━━━━━━━━━━━━━━━━━━━━━━━━━━━━━━━━\u001b[0m \u001b[32m345.4/345.4 kB\u001b[0m \u001b[31m11.5 MB/s\u001b[0m eta \u001b[36m0:00:00\u001b[0m\n",
      "\u001b[?25hInstalling collected packages: pytz, tzdata, numpy, pandas\n",
      "Successfully installed numpy-1.26.4 pandas-2.2.1 pytz-2024.1 tzdata-2024.1\n"
     ]
    }
   ],
   "source": [
    "!pip install pandas"
   ]
  },
  {
   "cell_type": "code",
   "execution_count": 11,
   "metadata": {},
   "outputs": [
    {
     "name": "stdout",
     "output_type": "stream",
     "text": [
      "   a   b\n",
      "0  1   2\n",
      "1  3   4\n",
      "2  5   6\n",
      "3  7   8\n",
      "4  9  10\n"
     ]
    }
   ],
   "source": [
    "# import pandas\n",
    "import pandas as pd\n",
    "\n",
    "# make a 2d dataframe from a list\n",
    "df = pd.DataFrame([[1, 2], [3, 4], [5, 6], [7, 8], [9, 10], [11, 12]], columns=['a', 'b'])\n",
    "\n",
    "# print the first 5 rows\n",
    "print(df.head())"
   ]
  },
  {
   "cell_type": "markdown",
   "metadata": {},
   "source": [
    "## 4.2. Files I/O in Python\n",
    "\n",
    "If we want to permanently store data, we need to work with files. Files can be of different kind, from a simple text to a complex object like a database, video, audio, etc.\n",
    "\n",
    "We will first introduce the general approach to a file I/O in Python. The simplest one is to read and write to a file. We will see how to read and write to a text file.\n",
    "\n",
    "## 4.2.1. Reading from a File\n",
    "\n",
    "- To read a file we use the `open` function.\n",
    "- `open` takes two arguments: the name of the file and a mode.\n",
    "  - syntax: `open(filename, mode)`\n",
    "  - `filename` is the name of the file\n",
    "  - `mode` is a string that specifies how the file will be read. The default value is `r` for reading. You can also use `w` for writing. `a` for appending. If we ommit the mode, it will be `r` by default.\n",
    "- it is important to know that the file exists and that we can access it. Otherwise, we will get an error.\n",
    "- after we have opened the file, we need to read it. We can do that with different methods:\n",
    "  - `read` method reads the whole file as a string.\n",
    "  - `readline` method reads a line. \n",
    "  - `readlines` method reads all the lines and returns them as a list.\n",
    "  - `next` method skips to the next line. It returns the next line and advances the cursor. It is useful when we want to read a file line by line.\n",
    "- `close` method closes the file. It is very important to always close the file. Otherwise, the file will not be accessible."
   ]
  },
  {
   "cell_type": "code",
   "execution_count": 2,
   "metadata": {},
   "outputs": [
    {
     "name": "stdout",
     "output_type": "stream",
     "text": [
      "SONNET 54\n",
      "\n",
      "O how much more doth beauty beauteous seem,\n",
      "By that sweet ornament which truth doth give!\n",
      "The rose looks fair, but fairer we it deem\n",
      "For that sweet odour which doth in it live.\n",
      "The canker-blooms have full as deep a dye\n",
      "As the perfumed tincture of the roses,\n",
      "Hang on such thorns and play as wantonly\n",
      "When summer's breath their masked buds discloses:\n",
      "But, for their virtue only is their show,\n",
      "They live unwoo'd and unrespected fade,\n",
      "Die to themselves. Sweet roses do not so;\n",
      "Of their sweet deaths are sweetest odours made:\n",
      "And so of you, beauteous and lovely youth,\n",
      "When that shall fade, my verse distills your truth. \n",
      "SONNET 54\n",
      "\n",
      "\n",
      "\n",
      "O how much more doth beauty beauteous seem,\n",
      "\n",
      "['SONNET 54\\n', '\\n', 'O how much more doth beauty beauteous seem,\\n', 'By that sweet ornament which truth doth give!\\n', 'The rose looks fair, but fairer we it deem\\n', 'For that sweet odour which doth in it live.\\n', 'The canker-blooms have full as deep a dye\\n', 'As the perfumed tincture of the roses,\\n', 'Hang on such thorns and play as wantonly\\n', \"When summer's breath their masked buds discloses:\\n\", 'But, for their virtue only is their show,\\n', \"They live unwoo'd and unrespected fade,\\n\", 'Die to themselves. Sweet roses do not so;\\n', 'Of their sweet deaths are sweetest odours made:\\n', 'And so of you, beauteous and lovely youth,\\n', 'When that shall fade, my verse distills your truth. ']\n"
     ]
    }
   ],
   "source": [
    "# open and read the file\n",
    "file = open(\"shakespeare.txt\", \"r\")\n",
    "print(file.read())\n",
    "file.close()\n",
    "\n",
    "# open and read the file line by line\n",
    "file = open(\"shakespeare.txt\", \"r\")\n",
    "print(file.readline())\n",
    "print(file.readline())\n",
    "print(file.readline())\n",
    "file.close()\n",
    "\n",
    "# open and read the file line by line\n",
    "file = open(\"shakespeare.txt\", \"r\")\n",
    "print(file.readlines())\n",
    "file.close()\n"
   ]
  },
  {
   "cell_type": "markdown",
   "metadata": {},
   "source": [
    "- It seems we have some problems with the printouts. We need to clean them up. Reading the whole file is a good thing for a small text files, but for larger files, we need to read line by line. And when we do that, we should also be aware that some outputs are containg new lines. We need to clean them up using the `strip` function."
   ]
  },
  {
   "cell_type": "code",
   "execution_count": 7,
   "metadata": {},
   "outputs": [
    {
     "name": "stdout",
     "output_type": "stream",
     "text": [
      "SONNET 54\n",
      "\n",
      "O how much more doth beauty beauteous seem,\n",
      "By that sweet ornament which truth doth give!\n",
      "The rose looks fair, but fairer we it deem\n",
      "For that sweet odour which doth in it live.\n",
      "The canker-blooms have full as deep a dye\n",
      "As the perfumed tincture of the roses,\n",
      "Hang on such thorns and play as wantonly\n",
      "When summer's breath their masked buds discloses:\n",
      "But, for their virtue only is their show,\n",
      "They live unwoo'd and unrespected fade,\n",
      "Die to themselves. Sweet roses do not so;\n",
      "Of their sweet deaths are sweetest odours made:\n",
      "And so of you, beauteous and lovely youth,\n",
      "When that shall fade, my verse distills your truth.\n"
     ]
    }
   ],
   "source": [
    "# read file until you arrive to the end of the file\n",
    "file = open('shakespeare.txt', 'r')\n",
    "for line in file:\n",
    "    # print(line)  # each line will have a double newline. why?\n",
    "    print(line.strip())  # remove the double newline\n",
    "file.close()"
   ]
  },
  {
   "cell_type": "markdown",
   "metadata": {},
   "source": [
    "- we can read line by line if we use `readlines` method."
   ]
  },
  {
   "cell_type": "code",
   "execution_count": 9,
   "metadata": {},
   "outputs": [
    {
     "name": "stdout",
     "output_type": "stream",
     "text": [
      "SONNET 54\n",
      "\n",
      "O how much more doth beauty beauteous seem,\n",
      "By that sweet ornament which truth doth give!\n",
      "The rose looks fair, but fairer we it deem\n",
      "For that sweet odour which doth in it live.\n",
      "The canker-blooms have full as deep a dye\n",
      "As the perfumed tincture of the roses,\n",
      "Hang on such thorns and play as wantonly\n",
      "When summer's breath their masked buds discloses:\n",
      "But, for their virtue only is their show,\n",
      "They live unwoo'd and unrespected fade,\n",
      "Die to themselves. Sweet roses do not so;\n",
      "Of their sweet deaths are sweetest odours made:\n",
      "And so of you, beauteous and lovely youth,\n",
      "When that shall fade, my verse distills your truth.\n"
     ]
    }
   ],
   "source": [
    "# read file using readlines\n",
    "file = open('shakespeare.txt', 'r')\n",
    "lines = file.readlines()\n",
    "for line in lines:\n",
    "    print(line.strip())\n",
    "file.close()"
   ]
  },
  {
   "cell_type": "markdown",
   "metadata": {},
   "source": [
    "- sometimes is easier to read the file by using `with` statement. The syntax is a bit different and is similar to a while loop. All the file operations are done in the `with` statement indentation. The `with` statement closes the file automatically when it is done.\n",
    "- syntax: `with open(filename, mode) as file:`\n",
    "- `as` is used to assign the file to a variable.\n",
    "- `file` is the name of the variable."
   ]
  },
  {
   "cell_type": "code",
   "execution_count": 12,
   "metadata": {},
   "outputs": [
    {
     "name": "stdout",
     "output_type": "stream",
     "text": [
      "SONNET 54\n",
      "\n",
      "O how much more doth beauty beauteous seem,\n",
      "By that sweet ornament which truth doth give!\n",
      "The rose looks fair, but fairer we it deem\n",
      "For that sweet odour which doth in it live.\n",
      "The canker-blooms have full as deep a dye\n",
      "As the perfumed tincture of the roses,\n",
      "Hang on such thorns and play as wantonly\n",
      "When summer's breath their masked buds discloses:\n",
      "But, for their virtue only is their show,\n",
      "They live unwoo'd and unrespected fade,\n",
      "Die to themselves. Sweet roses do not so;\n",
      "Of their sweet deaths are sweetest odours made:\n",
      "And so of you, beauteous and lovely youth,\n",
      "When that shall fade, my verse distills your truth.\n",
      "SONNET 54\n",
      "\n",
      "O how much more doth beauty beauteous seem,\n",
      "By that sweet ornament which truth doth give!\n",
      "The rose looks fair, but fairer we it deem\n",
      "For that sweet odour which doth in it live.\n",
      "The canker-blooms have full as deep a dye\n",
      "As the perfumed tincture of the roses,\n",
      "Hang on such thorns and play as wantonly\n",
      "When summer's breath their masked buds discloses:\n",
      "But, for their virtue only is their show,\n",
      "They live unwoo'd and unrespected fade,\n",
      "Die to themselves. Sweet roses do not so;\n",
      "Of their sweet deaths are sweetest odours made:\n",
      "And so of you, beauteous and lovely youth,\n",
      "When that shall fade, my verse distills your truth.\n"
     ]
    },
    {
     "ename": "ValueError",
     "evalue": "I/O operation on closed file.",
     "output_type": "error",
     "traceback": [
      "\u001b[0;31m---------------------------------------------------------------------------\u001b[0m",
      "\u001b[0;31mValueError\u001b[0m                                Traceback (most recent call last)",
      "Cell \u001b[0;32mIn[12], line 12\u001b[0m\n\u001b[1;32m      9\u001b[0m     \u001b[38;5;28;01mfor\u001b[39;00m line \u001b[38;5;129;01min\u001b[39;00m lines:\n\u001b[1;32m     10\u001b[0m         \u001b[38;5;28mprint\u001b[39m(line\u001b[38;5;241m.\u001b[39mstrip())\n\u001b[0;32m---> 12\u001b[0m \u001b[38;5;28mprint\u001b[39m(\u001b[43mfile\u001b[49m\u001b[38;5;241;43m.\u001b[39;49m\u001b[43mread\u001b[49m\u001b[43m(\u001b[49m\u001b[43m)\u001b[49m)\n",
      "\u001b[0;31mValueError\u001b[0m: I/O operation on closed file."
     ]
    }
   ],
   "source": [
    "# open and read file with with\n",
    "with open('shakespeare.txt', 'r') as file:\n",
    "    for line in file:\n",
    "        print(line.strip())\n",
    "\n",
    "# open and read file with with\n",
    "with open('shakespeare.txt', 'r') as file:\n",
    "    lines = file.readlines()\n",
    "    for line in lines:\n",
    "        print(line.strip())\n",
    "\n",
    "print(file.read())  # this will throw an error, beacuse file is closed now\n"
   ]
  }
 ],
 "metadata": {
  "kernelspec": {
   "display_name": "python312",
   "language": "python",
   "name": "python3"
  },
  "language_info": {
   "codemirror_mode": {
    "name": "ipython",
    "version": 3
   },
   "file_extension": ".py",
   "mimetype": "text/x-python",
   "name": "python",
   "nbconvert_exporter": "python",
   "pygments_lexer": "ipython3",
   "version": "3.12.2"
  }
 },
 "nbformat": 4,
 "nbformat_minor": 2
}
