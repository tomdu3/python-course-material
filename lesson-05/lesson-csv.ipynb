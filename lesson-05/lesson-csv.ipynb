{
 "cells": [
  {
   "cell_type": "markdown",
   "metadata": {},
   "source": [
    "# Lesson 5a: Working with Modules and Files in Python\n",
    "\n",
    "- [Real Python: *Parsing CSV Files With Python's Built'in CSV Library*](https://realpython.com/python-csv/)\n",
    "- [CSV Module](https://docs.python.org/3/library/csv.html)\n",
    "\n",
    "The so-called CSV (Comma Separated Values) format is the most common import and export format for spreadsheets and databases. CSV format was used for many years prior to attempts to describe the format in a standardized way in RFC 4180. The lack of a well-defined standard means that subtle differences often exist in the data produced and consumed by different applications. While the delimiters and quoting characters vary, the overall format is similar enough that it is possible to write a single module which can efficiently manipulate such data, hiding the details of reading and writing the data from the programmer.\n",
    "\n",
    "## CSV module\n",
    "\n",
    "- CSV stands for \"comma separated values\". It is a standard way to format data in a text file. We will use it to store data in a CSV file.\n",
    "- \n",
    "### Creating a CSV File\n",
    "\n",
    "We'll start by creating a CSV file named `sample_data.csv` with the following data:\n",
    "\n"
   ]
  }
 ],
 "metadata": {
  "language_info": {
   "name": "python"
  }
 },
 "nbformat": 4,
 "nbformat_minor": 2
}
