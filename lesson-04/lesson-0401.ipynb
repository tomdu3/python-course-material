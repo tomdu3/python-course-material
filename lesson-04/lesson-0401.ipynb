{
 "cells": [
  {
   "cell_type": "markdown",
   "metadata": {},
   "source": [
    "# 4. Complex Data Structures in Python: Tuples, Sets and Dictionaries\n",
    "\n",
    "## 4.1 Tuples\n",
    "[Python Tuples](https://www.w3schools.com/python/python_tuples.asp)\n",
    "\n",
    "- Tuples are used to store multiple items in a single variable. They are ordered, immutable/unchangeable collections of elements.\n",
    "- They allow duplicate elements.\n",
    "- We generally use tuples when we have a lot of data and we don't want to change it.\n",
    "- We write them inside round brackets - `(el1, el2, el3)`"
   ]
  },
  {
   "cell_type": "code",
   "execution_count": 1,
   "metadata": {},
   "outputs": [
    {
     "name": "stdout",
     "output_type": "stream",
     "text": [
      "(1, 2, 3)\n",
      "2\n"
     ]
    }
   ],
   "source": [
    "# tuple example\n",
    "my_tuple = (1, 2, 3)\n",
    "print(my_tuple)\n",
    "print(my_tuple[1])  # access the second element, element on the index 1"
   ]
  },
  {
   "cell_type": "markdown",
   "metadata": {},
   "source": [
    "### 4.1.1 Methods with tuples\n",
    "\n",
    "- these are the methods we can use with tuples:\n",
    "  - `count` - returns the number of times an element appears\n",
    "  - `index` - returns the index of an element\n",
    "  - `len` - returns the length of the tuple\n",
    "  - `max` - returns the maximum value\n",
    "  - `min` - returns the minimum value\n",
    "  - `sum` - returns the sum of all elements\n",
    "  - `sorted` - sorts the tuple\n",
    "  - `reverse` - reverses the tuple\n",
    "  - `tuple` - converts a list to a tuple"
   ]
  },
  {
   "cell_type": "code",
   "execution_count": 5,
   "metadata": {},
   "outputs": [
    {
     "ename": "AttributeError",
     "evalue": "'tuple' object has no attribute 'append'",
     "output_type": "error",
     "traceback": [
      "\u001b[0;31m---------------------------------------------------------------------------\u001b[0m",
      "\u001b[0;31mAttributeError\u001b[0m                            Traceback (most recent call last)",
      "Cell \u001b[0;32mIn[5], line 5\u001b[0m\n\u001b[1;32m      1\u001b[0m \u001b[38;5;66;03m# forbidden methods examples\u001b[39;00m\n\u001b[1;32m      2\u001b[0m \n\u001b[1;32m      3\u001b[0m \u001b[38;5;66;03m# appending the tuple\u001b[39;00m\n\u001b[1;32m      4\u001b[0m my_tuple \u001b[38;5;241m=\u001b[39m (\u001b[38;5;241m1\u001b[39m, \u001b[38;5;241m2\u001b[39m, \u001b[38;5;241m3\u001b[39m)\n\u001b[0;32m----> 5\u001b[0m \u001b[43mmy_tuple\u001b[49m\u001b[38;5;241;43m.\u001b[39;49m\u001b[43mappend\u001b[49m(\u001b[38;5;241m4\u001b[39m)  \u001b[38;5;66;03m# AttributeError: 'tuple' object has no attribute 'append'\u001b[39;00m\n\u001b[1;32m      7\u001b[0m \u001b[38;5;66;03m# changing the elements in the tuple\u001b[39;00m\n\u001b[1;32m      8\u001b[0m my_tuple \u001b[38;5;241m=\u001b[39m (\u001b[38;5;241m1\u001b[39m, \u001b[38;5;241m2\u001b[39m, \u001b[38;5;241m3\u001b[39m)\n",
      "\u001b[0;31mAttributeError\u001b[0m: 'tuple' object has no attribute 'append'"
     ]
    }
   ],
   "source": [
    "# forbidden methods examples\n",
    "\n",
    "# appending the tuple\n",
    "my_tuple = (1, 2, 3)\n",
    "my_tuple.append(4)  # AttributeError: 'tuple' object has no attribute 'append'\n",
    "\n",
    "# changing the elements in the tuple\n",
    "my_tuple = (1, 2, 3)\n",
    "my_tuple[1] = 4  # TypeError: 'tuple' object does not support item assignment\n",
    "\n",
    "# deleting the tuple\n",
    "del my_tuple  # NameError: name 'my_tuple' is not defined"
   ]
  },
  {
   "cell_type": "code",
   "execution_count": 6,
   "metadata": {},
   "outputs": [
    {
     "name": "stdout",
     "output_type": "stream",
     "text": [
      "3\n",
      "3\n",
      "1\n",
      "6\n"
     ]
    }
   ],
   "source": [
    "# allowed methods examples\n",
    "\n",
    "# len\n",
    "my_tuple = (1, 2, 3)\n",
    "print(len(my_tuple))\n",
    "\n",
    "# max\n",
    "my_tuple = (1, 2, 3)\n",
    "print(max(my_tuple))\n",
    "\n",
    "# min\n",
    "my_tuple = (1, 2, 3)\n",
    "print(min(my_tuple))\n",
    "\n",
    "# sum\n",
    "my_tuple = (1, 2, 3)\n",
    "print(sum(my_tuple))"
   ]
  },
  {
   "cell_type": "markdown",
   "metadata": {},
   "source": [
    "### 4.1.2 Tuple Packing and Unpacking\n",
    "\n",
    "- `packing` means assigning multiple values to the tuple\n",
    "  - syntax: `my_tuple = (value1, value2, value3)`\n",
    "\n",
    "- under the term `unpacking` we mean extracting the values from the tuple to the variables\n",
    "  - syntax: `value1, value2, value3 = my_tuple`\n",
    "  - in order to do this we need to have the same number of variables as the number of elements in the tuple"
   ]
  },
  {
   "cell_type": "code",
   "execution_count": 7,
   "metadata": {},
   "outputs": [
    {
     "name": "stdout",
     "output_type": "stream",
     "text": [
      "(1, 2, 3)\n",
      "1\n",
      "2\n",
      "3\n"
     ]
    }
   ],
   "source": [
    "# unpacking the tuple\n",
    "my_tuple = (1, 2, 3)\n",
    "print(my_tuple)\n",
    "\n",
    "a, b, c = my_tuple\n",
    "print(a)\n",
    "print(b)\n",
    "print(c)"
   ]
  },
  {
   "cell_type": "markdown",
   "metadata": {},
   "source": [
    "- There's also a special sytax for unpacking a tuple that can be used when the number of variables is not equal to the number of elements in the tuple.\n",
    "  - syntax: `value1, *value2, value3 = my_tuple`\n",
    "    - `value1` will be the first element in the tuple\n",
    "    - `value2` will be a list of all the elements that were not unpacked\n",
    "    - `value3` will be the last element in the tuple\n",
    "- or we cane use it like this:\n",
    "  - syntax: `value1, value2, value3, *value4 = my_tuple`\n",
    "    - `value4` will be a list of all the remaining elements that were not unpacked\n",
    "  "
   ]
  },
  {
   "cell_type": "code",
   "execution_count": 9,
   "metadata": {},
   "outputs": [
    {
     "name": "stdout",
     "output_type": "stream",
     "text": [
      "(1, 2, 3, 4, 5)\n",
      "1\n",
      "2\n",
      "[3, 4, 5]\n",
      "1\n",
      "[2, 3, 4]\n",
      "5\n"
     ]
    }
   ],
   "source": [
    "# example unpacking with asterisk\n",
    "my_tuple = (1, 2, 3, 4, 5)\n",
    "print(my_tuple)\n",
    "a, b, *c = my_tuple\n",
    "print(a)\n",
    "print(b)\n",
    "print(c)\n",
    "\n",
    "# example unpacking first and last element\n",
    "first, *middle, last = my_tuple\n",
    "print(first)\n",
    "print(middle)\n",
    "print(last)"
   ]
  },
  {
   "cell_type": "markdown",
   "metadata": {},
   "source": [
    "<span style=\"color:red\">Important!</span> We can use the same unpacking methods with lists and sets."
   ]
  },
  {
   "cell_type": "markdown",
   "metadata": {},
   "source": [
    "- Tuples can be concatenated with the `+` operator, but the result must be a new tuple and if stored, it has to be stored in a new variable, or if given to the same variable, the original tuple will be overwritten.\n",
    "\n",
    "- If we wish to change the original tuple, we can convert it to a list and change the elements in the list, after that we can convert it back to a tuple."
   ]
  },
  {
   "cell_type": "code",
   "execution_count": 10,
   "metadata": {},
   "outputs": [
    {
     "name": "stdout",
     "output_type": "stream",
     "text": [
      "(1, 2, 3)\n",
      "(5, 2, 3)\n",
      "(1, 2, 3)\n",
      "(1, 2, 3, 4)\n"
     ]
    }
   ],
   "source": [
    "# conversion tuple to list, change the list and convert back to tuple\n",
    "my_tuple = (1, 2, 3)\n",
    "print(my_tuple)\n",
    "my_list = list(my_tuple)\n",
    "my_list[0] = 5\n",
    "my_tuple = tuple(my_list)\n",
    "print(my_tuple)\n",
    "\n",
    "# or\n",
    "new_tuple = (1, 2, 3)\n",
    "print(new_tuple)\n",
    "new_list = list(new_tuple)\n",
    "new_list.append(4)\n",
    "new_tuple = tuple(new_list)\n",
    "print(new_tuple)"
   ]
  },
  {
   "cell_type": "markdown",
   "metadata": {},
   "source": [
    "### 4.2 Sets\n",
    "[Python Sets](https://www.w3schools.com/python/python_sets.asp)\n",
    "[Python Sets in Real Python](https://realpython.com/python-sets/)\n",
    "\n",
    "- Sets are used to store multiple items in a single variable. They are unordered, and do not allow duplicate values.\n",
    "- A set itself may be modified, but the elements contained in the set must be of an immutable type (lists and dictionaries cannot be inside a set).\n",
    "- We generally use them when we need to have a collection of unique elements.\n",
    "- We write them inside curly brackets - `{el1, el2, el3}`"
   ]
  },
  {
   "cell_type": "code",
   "execution_count": 11,
   "metadata": {},
   "outputs": [
    {
     "name": "stdout",
     "output_type": "stream",
     "text": [
      "{1, 2, 3, 4, 5}\n"
     ]
    }
   ],
   "source": [
    "# set\n",
    "my_set = {1, 2, 3, 4, 5}\n",
    "print(my_set)"
   ]
  },
  {
   "cell_type": "markdown",
   "metadata": {},
   "source": [
    "- a set can created by converting a list or tuple to a set"
   ]
  },
  {
   "cell_type": "code",
   "execution_count": 12,
   "metadata": {},
   "outputs": [
    {
     "name": "stdout",
     "output_type": "stream",
     "text": [
      "{1, 2, 3, 4, 5, 6, 7, 8, 9, 10}\n",
      "<class 'set'>\n"
     ]
    }
   ],
   "source": [
    "# converting to set\n",
    "my_list = [1,2,3,4,5,6,7,8,9,10]\n",
    "my_set = set(my_list)\n",
    "print(my_set)\n",
    "print(type(my_set))\n"
   ]
  },
  {
   "cell_type": "code",
   "execution_count": 13,
   "metadata": {},
   "outputs": [
    {
     "name": "stdout",
     "output_type": "stream",
     "text": [
      "{1, 2, 3, 4, 5, 6, 7, 8, 9, 10}\n",
      "<class 'set'>\n"
     ]
    }
   ],
   "source": [
    "# if we have more than one equal element in the set, any iteration will be ignored\n",
    "my_list = [1,2,3,4,5,6,7,8,9,10,1,2,3,4,5,6,7,8,9,10]\n",
    "my_set = set(my_list)\n",
    "print(my_set)\n",
    "print(type(my_set))"
   ]
  },
  {
   "cell_type": "markdown",
   "metadata": {},
   "source": [
    "### 4.2.1 Methods with sets\n",
    "- We can make a union of two sets with the `|` operator. The same can be done withe the `union` method.\n",
    "- We can make an intersection of two sets with the `&` operator. The same can be done with the `intersection` method."
   ]
  },
  {
   "cell_type": "code",
   "execution_count": 14,
   "metadata": {},
   "outputs": [
    {
     "name": "stdout",
     "output_type": "stream",
     "text": [
      "{1, 2, 3, 4, 5, 6, 7, 8}\n",
      "{1, 2, 3, 4, 5, 6, 7, 8}\n"
     ]
    }
   ],
   "source": [
    "# union of sets\n",
    "set1 = {1, 2, 3, 4, 5}\n",
    "set2 = {4, 5, 6, 7, 8}\n",
    "print(set1 | set2)\n",
    "print(set1.union(set2))"
   ]
  },
  {
   "cell_type": "code",
   "execution_count": 15,
   "metadata": {},
   "outputs": [
    {
     "name": "stdout",
     "output_type": "stream",
     "text": [
      "{4, 5}\n",
      "{4, 5}\n"
     ]
    }
   ],
   "source": [
    "# intersection of sets\n",
    "a={1,2,3,4,5}\n",
    "b={4,5,6,7,8}\n",
    "print(a & b)\n",
    "print(a.intersection(b))"
   ]
  },
  {
   "cell_type": "markdown",
   "metadata": {},
   "source": [
    "- We can also make a difference of two sets with the `-` operator. The same can be done with the `difference` method."
   ]
  },
  {
   "cell_type": "code",
   "execution_count": 16,
   "metadata": {},
   "outputs": [
    {
     "name": "stdout",
     "output_type": "stream",
     "text": [
      "{1, 2, 3}\n",
      "{1, 2, 3}\n"
     ]
    }
   ],
   "source": [
    "# difference of sets\n",
    "a={1,2,3,4,5}\n",
    "b={4,5,6,7,8}\n",
    "print(a - b)\n",
    "print(a.difference(b))"
   ]
  },
  {
   "cell_type": "markdown",
   "metadata": {},
   "source": [
    "- We can also check if one set is a subset of another with the `issubset` method or with `<=` operator.\n",
    "  - If the first set is a subset of the second, the result will be `True`, otherwise it will be `False`.\n",
    "<br>\n",
    "- We can also check if one set is a superset of another with the `issuperset` method or with `>=` operator.\n",
    "  - If the first set is a superset of the second, the result will be `True`, otherwise it will be `False`."
   ]
  },
  {
   "cell_type": "code",
   "execution_count": 18,
   "metadata": {},
   "outputs": [
    {
     "name": "stdout",
     "output_type": "stream",
     "text": [
      "True\n",
      "False\n"
     ]
    }
   ],
   "source": [
    "# issubset\n",
    "a={4,5,6}\n",
    "b={4,5,6,7,8}\n",
    "print(a.issubset(b))\n",
    "\n",
    "# issuperset\n",
    "print(a.issuperset(b))"
   ]
  },
  {
   "cell_type": "markdown",
   "metadata": {},
   "source": [
    "### Modification of Sets\n",
    "\n",
    "- We can add elements to a set with the `add` method.\n",
    "- We can remove elements from a set with the `remove` method.\n",
    "- We can clear the set with the `clear` method.\n",
    "- We can delete the set with the `del` keyword.\n",
    "- We can copy the set with the `copy` method.\n",
    "- We can update the set with the `update` method.\n",
    "- We can remove the set with the `pop` method."
   ]
  },
  {
   "cell_type": "code",
   "execution_count": 24,
   "metadata": {},
   "outputs": [
    {
     "name": "stdout",
     "output_type": "stream",
     "text": [
      "{1, 2, 3, 4, 5, 6}\n",
      "{1, 2, 4, 5, 6}\n",
      "set()\n",
      "{1, 2, 3}\n",
      "{1, 2, 3, 4, 5}\n",
      "{2, 3, 4, 5}\n"
     ]
    }
   ],
   "source": [
    "# Create a set\n",
    "my_set = {1, 2, 3, 4, 5}\n",
    "\n",
    "# Add elements to a set\n",
    "my_set.add(6)\n",
    "print(my_set)  # Output: {1, 2, 3, 4, 5, 6}\n",
    "\n",
    "# Remove elements from a set\n",
    "my_set.remove(3)\n",
    "print(my_set)  # Output: {1, 2, 4, 5, 6}\n",
    "\n",
    "# Clear the set\n",
    "my_set.clear()\n",
    "print(my_set)  # Output: set()\n",
    "\n",
    "# Delete the set\n",
    "del my_set\n",
    "print(my_set)  # Output: NameError: name 'my_set' is not defined\n",
    "\n",
    "# Copy the set\n",
    "set1 = {1, 2, 3}\n",
    "set2 = set1.copy()\n",
    "print(set2)  # Output: {1, 2, 3}\n",
    "\n",
    "# Update the set\n",
    "set1 = {1, 2, 3}\n",
    "set2 = {3, 4, 5}\n",
    "set1.update(set2)\n",
    "print(set1)  # Output: {1, 2, 3, 4, 5}\n",
    "\n",
    "# Remove an element from the set using pop()\n",
    "set1 = {1, 2, 3, 4, 5}\n",
    "set1.pop()\n",
    "print(set1)  # Output: {2, 3, 4, 5}\n"
   ]
  },
  {
   "cell_type": "markdown",
   "metadata": {},
   "source": [
    "### 4.2.2 Frozen Sets\n",
    "\n",
    "- Frozen sets are immutable sets that cannot be modified after creation.\n",
    "- We can create a frozen set with the `frozenset` function.\n",
    "- We can convert a list or a tuple to a frozen set with the `frozenset` function.\n",
    "- all the methods of sets can be used with frozen sets except the ones that modify the set."
   ]
  },
  {
   "cell_type": "code",
   "execution_count": 25,
   "metadata": {},
   "outputs": [
    {
     "name": "stdout",
     "output_type": "stream",
     "text": [
      "frozenset({1, 2, 3, 4, 5})\n"
     ]
    },
    {
     "ename": "AttributeError",
     "evalue": "'frozenset' object has no attribute 'add'",
     "output_type": "error",
     "traceback": [
      "\u001b[0;31m---------------------------------------------------------------------------\u001b[0m",
      "\u001b[0;31mAttributeError\u001b[0m                            Traceback (most recent call last)",
      "Cell \u001b[0;32mIn[25], line 4\u001b[0m\n\u001b[1;32m      2\u001b[0m my_frozen_set \u001b[38;5;241m=\u001b[39m \u001b[38;5;28mfrozenset\u001b[39m([\u001b[38;5;241m1\u001b[39m, \u001b[38;5;241m2\u001b[39m, \u001b[38;5;241m3\u001b[39m, \u001b[38;5;241m4\u001b[39m, \u001b[38;5;241m5\u001b[39m])\n\u001b[1;32m      3\u001b[0m \u001b[38;5;28mprint\u001b[39m(my_frozen_set)\n\u001b[0;32m----> 4\u001b[0m \u001b[43mmy_frozen_set\u001b[49m\u001b[38;5;241;43m.\u001b[39;49m\u001b[43madd\u001b[49m(\u001b[38;5;241m6\u001b[39m)  \u001b[38;5;66;03m# AttributeError: 'frozenset' object has no attribute 'add'\u001b[39;00m\n",
      "\u001b[0;31mAttributeError\u001b[0m: 'frozenset' object has no attribute 'add'"
     ]
    }
   ],
   "source": [
    "# frozen set\n",
    "my_frozen_set = frozenset([1, 2, 3, 4, 5])\n",
    "print(my_frozen_set)\n",
    "my_frozen_set.add(6)  # AttributeError: 'frozenset' object has no attribute 'add'"
   ]
  },
  {
   "cell_type": "markdown",
   "metadata": {},
   "source": [
    "## 4.3 Dictionaries\n",
    "[Dictionaries](https://www.w3schools.com/python/python_dictionaries.asp)\n",
    "\n",
    "- dictionary is a collection which is ordered and changeable. It doesn't allow duplicates.\n",
    "- dictionaries are written with curly brackets, and they are composed of key-value pairs, that are called *items*.\n",
    "- keys are unique within a dictionary, and they can be of any immutable data type such as strings, numbers, or tuples.\n",
    "- syntax:\n",
    "  - `my_dict = {key1: value1, key2: value2, key3: value3}`\n"
   ]
  },
  {
   "cell_type": "code",
   "execution_count": 1,
   "metadata": {},
   "outputs": [
    {
     "name": "stdout",
     "output_type": "stream",
     "text": [
      "{'name': 'John', 'age': 25, 'city': 'New York'}\n"
     ]
    }
   ],
   "source": [
    "# create a dictionary\n",
    "my_dict = {'name': 'John', 'age': 25, 'city': 'New York'}\n",
    "print(my_dict)"
   ]
  },
  {
   "cell_type": "markdown",
   "metadata": {},
   "source": [
    "### 4.3.1 Methods with dictionaries\n",
    "\n",
    "- these are the methods we can use with dictionaries:\n",
    "  - `clear` - removes all the elements from the dictionary\n",
    "  - `copy` - returns a copy of the dictionary\n",
    "  - `fromkeys` - returns a new dictionary with the specified keys and values\n",
    "  - `get` - returns the value of the specified key\n",
    "  - `items` - returns a list containing the dictionary's (key, value) tuple pairs\n",
    "  - `keys` - returns a list containing the dictionary's keys\n",
    "  - `pop` - removes the element with the specified key\n",
    "  - `popitem` - removes the last inserted item\n",
    "  - `setdefault` - returns the value of the specified key. If the key does not exist: insert the key, with the specified value\n",
    "  - `update` - updates the dictionary with the specified key-value pairs\n",
    "  - `values` - returns a list of all the values in the dictionary\n",
    "  - `dict` - converts a list of tuples into a dictionary\n",
    "  - `len` - returns the number of items in the dictionary"
   ]
  },
  {
   "cell_type": "code",
   "execution_count": 4,
   "metadata": {},
   "outputs": [
    {
     "name": "stdout",
     "output_type": "stream",
     "text": [
      "{'name': 'John', 'age': 25, 'city': 'New York'}\n",
      "{'name': ['John', 25, 'New York'], 'age': ['John', 25, 'New York'], 'city': ['John', 25, 'New York']}\n",
      "John\n",
      "dict_items([('name', 'John'), ('age', 25), ('city', 'New York')])\n",
      "dict_keys(['name', 'age', 'city'])\n",
      "25\n",
      "{'name': 'John', 'city': 'New York'}\n",
      "('city', 'New York')\n",
      "{'name': 'John'}\n",
      "25\n",
      "{'name': 'John', 'age': 25}\n",
      "{'name': 'John', 'age': 25, 'city': 'London', 'country': 'UK'}\n",
      "dict_values(['John', 25, 'London', 'UK'])\n",
      "{'name': 'John', 'age': 25, 'city': 'New York'}\n",
      "4\n"
     ]
    }
   ],
   "source": [
    "my_dict = {'name': 'John', 'age': 25, 'city': 'New York'}\n",
    "\n",
    "# # clear - removes all the elements from the dictionary\n",
    "# my_dict.clear()\n",
    "# print(my_dict)  # Output: {}\n",
    "\n",
    "# copy - returns a copy of the dictionary\n",
    "new_dict = my_dict.copy()\n",
    "print(new_dict)  # Output: {'name': 'John', 'age': 25, 'city': 'New York'}\n",
    "\n",
    "# fromkeys - returns a new dictionary with the specified keys and values\n",
    "keys = ['name', 'age', 'city']\n",
    "values = ['John', 25, 'New York']\n",
    "new_dict = dict.fromkeys(keys, values)\n",
    "print(new_dict)  # Output: {'name': ['John', 25, 'New York'], 'age': ['John', 25, 'New York'], 'city': ['John', 25, 'New York']}\n",
    "\n",
    "# get - returns the value of the specified key\n",
    "name = my_dict.get('name')\n",
    "print(name)  # Output: John\n",
    "\n",
    "# items - returns a list containing the dictionary's (key, value) tuple pairs\n",
    "items = my_dict.items()\n",
    "print(items)  # Output: dict_items([('name', 'John'), ('age', 25), ('city', 'New York')])\n",
    "\n",
    "# keys - returns a list containing the dictionary's keys\n",
    "keys = my_dict.keys()\n",
    "print(keys)  # Output: dict_keys(['name', 'age', 'city'])\n",
    "\n",
    "# pop - removes the element with the specified key\n",
    "age = my_dict.pop('age')\n",
    "print(age)  # Output: 25\n",
    "print(my_dict)  # Output: {'name': 'John', 'city': 'New York'}\n",
    "\n",
    "# popitem - removes the last inserted item\n",
    "item = my_dict.popitem()\n",
    "print(item)  # Output: ('city', 'New York')\n",
    "print(my_dict)  # Output: {'name': 'John'}\n",
    "\n",
    "# setdefault - returns the value of the specified key. If the key does not exist: insert the key, with the specified value\n",
    "age = my_dict.setdefault('age', 25)\n",
    "print(age)  # Output: 25\n",
    "print(my_dict)  # Output: {'name': 'John', 'age': 25}\n",
    "\n",
    "# update - updates the dictionary with the specified key-value pairs\n",
    "my_dict.update({'city': 'London', 'country': 'UK'})\n",
    "print(my_dict)  # Output: {'name': 'John', 'age': 25, 'city': 'London', 'country': 'UK'}\n",
    "\n",
    "# values - returns a list of all the values in the dictionary\n",
    "values = my_dict.values()\n",
    "print(values)  # Output: dict_values(['John', 25, 'London', 'UK'])\n",
    "\n",
    "# dict - converts a list of tuples into a dictionary\n",
    "list_of_tuples = [('name', 'John'), ('age', 25), ('city', 'New York')]\n",
    "new_dict = dict(list_of_tuples)\n",
    "print(new_dict)  # Output: {'name': 'John', 'age': 25, 'city': 'New York'}\n",
    "\n",
    "# len - returns the length of the dictionary\n",
    "length = len(my_dict)\n",
    "print(length)  # Output: 4\n"
   ]
  },
  {
   "cell_type": "markdown",
   "metadata": {},
   "source": [
    "### 4.3.2 Accessing and modifying the dictionary records\n",
    "\n",
    "- We can access the dictionary records using the keys.\n",
    "  - syntax: `my_dict[key]`"
   ]
  },
  {
   "cell_type": "code",
   "execution_count": 1,
   "metadata": {},
   "outputs": [
    {
     "name": "stdout",
     "output_type": "stream",
     "text": [
      "John\n"
     ]
    }
   ],
   "source": [
    "# Access elements\n",
    "my_dict = {'name': 'John', 'age': 25, 'city': 'New York'}\n",
    "name = my_dict['name']\n",
    "print(name)  # Output: John"
   ]
  },
  {
   "cell_type": "markdown",
   "metadata": {},
   "source": [
    "- if by any chance the key does not exist, we could receive a `KeyError` exception.\n",
    "- to avoid this, we can use the `get` method. It will return `None` if the key does not exist.\n",
    "  - syntax: `my_dict.get(key)`\n",
    "- if we want to give a default value when the key doesn't exist, we can add it to a .get expression.\n",
    "  - syntax: `my_dict.get(key, default_value)`"
   ]
  },
  {
   "cell_type": "code",
   "execution_count": 7,
   "metadata": {},
   "outputs": [
    {
     "name": "stdout",
     "output_type": "stream",
     "text": [
      "None\n",
      "25\n",
      "New York\n"
     ]
    }
   ],
   "source": [
    "# get method in a dictionary\n",
    "my_dict = {'name': 'John', 'age': 25}\n",
    "graduation = my_dict.get('graduated')\n",
    "print(graduation)  # Output: None\n",
    "age = my_dict.get('age')\n",
    "print(age)  # Output: 25\n",
    "city = my_dict.get('city', 'New York')\n",
    "print(city)  # Output: New York, because the key 'city' is not present in the dictionary."
   ]
  },
  {
   "cell_type": "markdown",
   "metadata": {},
   "source": [
    "That gives us a temporary solution that doesn't change the original dictionary.\n",
    "- if we want to change the original dictionary, we can use the `update` method.\n",
    "  - syntax: `my_dict.update({key: value})`\n",
    "- or simply `my_dict[key] = value`"
   ]
  },
  {
   "cell_type": "code",
   "execution_count": 9,
   "metadata": {},
   "outputs": [
    {
     "name": "stdout",
     "output_type": "stream",
     "text": [
      "{'name': 'John', 'age': 25, 'city': 'New York'}\n",
      "{'name': 'John', 'age': 25, 'city': 'New York', 'something': 'value'}\n"
     ]
    }
   ],
   "source": [
    "# update dictionary\n",
    "my_dict = {'name': 'John', 'age': 25}\n",
    "my_dict.update({'city': 'New York'})\n",
    "print(my_dict)  # Output: {'name': 'John', 'age': 25, 'city': 'New York'}\n",
    "\n",
    "my_dict['something'] = 'value'\n",
    "print(my_dict)  # Output: {'name': 'John', 'age': 25, 'city': 'New York', 'something': 'value'}"
   ]
  },
  {
   "cell_type": "markdown",
   "metadata": {},
   "source": [
    "- another way to check if the key exists in the dictionary is to use the `in` operator.\n",
    "  - syntax: `key in my_dict`"
   ]
  },
  {
   "cell_type": "code",
   "execution_count": 10,
   "metadata": {},
   "outputs": [
    {
     "name": "stdout",
     "output_type": "stream",
     "text": [
      "True\n"
     ]
    }
   ],
   "source": [
    "# check if key exists\n",
    "my_dict = {'name': 'John', 'age': 25}\n",
    "name = 'name' in my_dict\n",
    "print(name)  # Output: True"
   ]
  },
  {
   "cell_type": "markdown",
   "metadata": {},
   "source": [
    "### 4.3.3 Removing elements from the dictionary\n",
    "\n",
    "- We can remove elements from the dictionary using the `del` statement.\n",
    "  - syntax: `del my_dict[key]`\n",
    "- or simply `my_dict.pop(key)`\n",
    "- if removing the last element, we can use the `popitem` method - `my_dict.popitem()`"
   ]
  },
  {
   "cell_type": "code",
   "execution_count": 11,
   "metadata": {},
   "outputs": [
    {
     "name": "stdout",
     "output_type": "stream",
     "text": [
      "{'name': 'John', 'city': 'New York'}\n",
      "{'name': 'John'}\n"
     ]
    }
   ],
   "source": [
    "# example of removing items\n",
    "my_dict = {'name': 'John', 'age': 25, 'city': 'New York'}\n",
    "my_dict.pop('age')\n",
    "print(my_dict)  # Output: {'name': 'John', 'city': 'New York'}\n",
    "\n",
    "my_dict.popitem()\n",
    "print(my_dict)  # Output: {'name': 'John'}"
   ]
  },
  {
   "cell_type": "markdown",
   "metadata": {},
   "source": [
    "- to remove all the items, that is to clear the dictionary, we can use the `clear` method.\n",
    "- we can remove all the items by defining the dictionary as empty `my_dict = {}`.\n",
    "- to delete the dictionary, we can use the `del` keyword. Deleting will remove the definition of the variable that contained the dictionary as well."
   ]
  },
  {
   "cell_type": "code",
   "execution_count": 13,
   "metadata": {},
   "outputs": [
    {
     "name": "stdout",
     "output_type": "stream",
     "text": [
      "{}\n",
      "{}\n"
     ]
    },
    {
     "ename": "NameError",
     "evalue": "name 'my_dict' is not defined",
     "output_type": "error",
     "traceback": [
      "\u001b[0;31m---------------------------------------------------------------------------\u001b[0m",
      "\u001b[0;31mNameError\u001b[0m                                 Traceback (most recent call last)",
      "Cell \u001b[0;32mIn[13], line 14\u001b[0m\n\u001b[1;32m     12\u001b[0m my_dict \u001b[38;5;241m=\u001b[39m {\u001b[38;5;124m'\u001b[39m\u001b[38;5;124mname\u001b[39m\u001b[38;5;124m'\u001b[39m: \u001b[38;5;124m'\u001b[39m\u001b[38;5;124mJohn\u001b[39m\u001b[38;5;124m'\u001b[39m, \u001b[38;5;124m'\u001b[39m\u001b[38;5;124mage\u001b[39m\u001b[38;5;124m'\u001b[39m: \u001b[38;5;241m25\u001b[39m, \u001b[38;5;124m'\u001b[39m\u001b[38;5;124mcity\u001b[39m\u001b[38;5;124m'\u001b[39m: \u001b[38;5;124m'\u001b[39m\u001b[38;5;124mNew York\u001b[39m\u001b[38;5;124m'\u001b[39m}\n\u001b[1;32m     13\u001b[0m \u001b[38;5;28;01mdel\u001b[39;00m my_dict\n\u001b[0;32m---> 14\u001b[0m \u001b[38;5;28mprint\u001b[39m(\u001b[43mmy_dict\u001b[49m)  \u001b[38;5;66;03m# NameError: name 'my_dict' is not defined\u001b[39;00m\n",
      "\u001b[0;31mNameError\u001b[0m: name 'my_dict' is not defined"
     ]
    }
   ],
   "source": [
    "# to empty a dictionary\n",
    "my_dict = {'name': 'John', 'age': 25, 'city': 'New York'}\n",
    "my_dict.clear()\n",
    "print(my_dict)  # Output: {}\n",
    "\n",
    "# empty the dictionary\n",
    "my_dict = {'name': 'John', 'age': 25, 'city': 'New York'}\n",
    "my_dict = {}\n",
    "print(my_dict)  # Output: {}\n",
    "\n",
    "# del method\n",
    "my_dict = {'name': 'John', 'age': 25, 'city': 'New York'}\n",
    "del my_dict\n",
    "print(my_dict)  # NameError: name 'my_dict' is not defined"
   ]
  },
  {
   "cell_type": "markdown",
   "metadata": {},
   "source": [
    "### 4.3.4 Looping/Iterating through the dictionary\n",
    "\n",
    "- We can loop through the dictionary using the `for` loop.\n",
    "  - syntax: `for key, value in my_dict.items():` - this will give us the key and value of the dictionary\n",
    "- We can also loop only through the keys:\n",
    "  - syntax: `for key in my_dict.keys():`\n",
    "- or through the values:\n",
    "  - syntax: `for value in my_dict.values():`"
   ]
  },
  {
   "cell_type": "code",
   "execution_count": 14,
   "metadata": {},
   "outputs": [
    {
     "name": "stdout",
     "output_type": "stream",
     "text": [
      "name John\n",
      "age 25\n",
      "city New York\n",
      "name\n",
      "age\n",
      "city\n",
      "John\n",
      "25\n",
      "New York\n"
     ]
    }
   ],
   "source": [
    "# loop through dictionary\n",
    "my_dict = {'name': 'John', 'age': 25, 'city': 'New York'}\n",
    "for key, value in my_dict.items():\n",
    "    print(key, value)\n",
    "\n",
    "# loop through the keys\n",
    "for key in my_dict.keys():\n",
    "    print(key)\n",
    "\n",
    "# loop through the values\n",
    "for value in my_dict.values():\n",
    "    print(value)"
   ]
  },
  {
   "cell_type": "markdown",
   "metadata": {},
   "source": [
    "### Nesting dictionaries and lists\n",
    "\n",
    "- We can nest dictionaries and lists in dictionaries and lists.\n",
    "- there is no limit to the nesting level.\n",
    "- only limitation we could have is that the keys have to be unique and the key has to be a strings, numbers or tuples.\n",
    "- syntax:\n",
    "  - `my_dict = {'name': 'John', 'age': 25, 'city': 'New York', 'address': {'street': 'Main Street', 'number': 123}}`"
   ]
  },
  {
   "cell_type": "markdown",
   "metadata": {},
   "source": [
    "In order to print the nested dictionary, we can use the `pprint` module. It will print the dictionary in a more readable format.\n",
    "\n",
    "- syntax:\n",
    "    ```python\n",
    "    import pprint\n",
    "    pprint.pprint(my_dict)\n",
    "    ```"
   ]
  },
  {
   "cell_type": "code",
   "execution_count": 21,
   "metadata": {},
   "outputs": [
    {
     "name": "stdout",
     "output_type": "stream",
     "text": [
      "{'name': 'John', 'age': 25, 'city': 'New York', 'friend': {'name': 'Jane', 'age': 30, 'city': 'London'}}\n",
      "{'age': 25,\n",
      " 'city': 'New York',\n",
      " 'friend': {'age': 30, 'city': 'London', 'name': 'Jane'},\n",
      " 'name': 'John'}\n",
      "{'name': 'Jane', 'age': 30, 'city': 'London'}\n",
      "London\n"
     ]
    }
   ],
   "source": [
    "import pprint\n",
    "\n",
    "# nested dictionaries\n",
    "my_dict = {'name': 'John', 'age': 25, 'city': 'New York'}\n",
    "nested_dict = {'name': 'Jane', 'age': 30, 'city': 'London'}\n",
    "my_dict.update({'friend': nested_dict})\n",
    "# print dictionary with normal print function\n",
    "print(my_dict)  # Output: {'name': 'John', 'age': 25, 'city': 'New York', 'friend': {'name': 'Jane', 'age': 30, 'city': 'London'}}\n",
    "# print dictionary with pprint function\n",
    "pprint.pprint(my_dict)\n",
    "\n",
    "# access nested dictionary\n",
    "friend = my_dict['friend']\n",
    "print(friend)  # Output: {'name': 'Jane', 'age': 30, 'city': 'London'}\n",
    "\n",
    "# print friend's city\n",
    "friend_city = my_dict['friend']['city']\n",
    "print(friend_city)  # Output: London"
   ]
  },
  {
   "cell_type": "markdown",
   "metadata": {},
   "source": [
    "- We can have dictionaries nested in lists."
   ]
  },
  {
   "cell_type": "code",
   "execution_count": 27,
   "metadata": {},
   "outputs": [
    {
     "name": "stdout",
     "output_type": "stream",
     "text": [
      "[{'age': 25, 'city': 'New York', 'name': 'John'},\n",
      " {'age': 30, 'city': 'London', 'name': 'Jane'},\n",
      " {'age': 35, 'city': 'Paris', 'name': 'Bob'}]\n",
      "{'name': 'Jane', 'age': 30, 'city': 'London'}\n",
      "John\n",
      "Jane\n",
      "Bob\n"
     ]
    }
   ],
   "source": [
    "import pprint\n",
    "\n",
    "# list of students\n",
    "students = [\n",
    "    {'name': 'John', 'age': 25, 'city': 'New York'},\n",
    "    {'name': 'Jane', 'age': 30, 'city': 'London'},\n",
    "    {'name': 'Bob', 'age': 35, 'city': 'Paris'}\n",
    "]\n",
    "pprint.pprint(students)  # Output: [{'name': 'John', 'age': 25, 'city': 'New York'}, {'name': 'Jane', 'age': 30, 'city': 'London'}, {'name': 'Bob', 'age': 35, 'city': 'Paris'}]\n",
    "\n",
    "# access student 2\n",
    "student2 = students[1]\n",
    "print(student2)  # Output: {'name': 'Jane', 'age': 30, 'city': 'London'}\n",
    "\n",
    "# loop throught students and print their names\n",
    "for student in students:\n",
    "    name = student['name']\n",
    "    print(name)  # Output: John, Jane, Bob\n",
    "\n"
   ]
  },
  {
   "cell_type": "markdown",
   "metadata": {},
   "source": [
    "<span style=\"color:red\">Important!</span> These combinations of the dictionary and list are very common. This is the cornerstone of the JSON format.\n"
   ]
  }
 ],
 "metadata": {
  "kernelspec": {
   "display_name": "python312",
   "language": "python",
   "name": "python3"
  },
  "language_info": {
   "codemirror_mode": {
    "name": "ipython",
    "version": 3
   },
   "file_extension": ".py",
   "mimetype": "text/x-python",
   "name": "python",
   "nbconvert_exporter": "python",
   "pygments_lexer": "ipython3",
   "version": "3.12.2"
  }
 },
 "nbformat": 4,
 "nbformat_minor": 2
}
