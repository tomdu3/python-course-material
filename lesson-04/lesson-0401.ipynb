{
 "cells": [
  {
   "cell_type": "markdown",
   "metadata": {},
   "source": [
    "# 4. Complex Data Structures in Python: Tuples, Sets and Dictionaries\n",
    "\n",
    "## 4.1 Tuples\n",
    "[Python Tuples](https://www.w3schools.com/python/python_tuples.asp)\n",
    "\n",
    "- Tuples are used to store multiple items in a single variable. They are ordered, immutable/unchangeable collections of elements.\n",
    "- They allow duplicate elements.\n",
    "- We write them inside round brackets - `(el1, el2, el3)`"
   ]
  },
  {
   "cell_type": "code",
   "execution_count": 1,
   "metadata": {},
   "outputs": [
    {
     "name": "stdout",
     "output_type": "stream",
     "text": [
      "(1, 2, 3)\n",
      "2\n"
     ]
    }
   ],
   "source": [
    "# tuple example\n",
    "my_tuple = (1, 2, 3)\n",
    "print(my_tuple)\n",
    "print(my_tuple[1])  # access the second element, element on the index 1"
   ]
  },
  {
   "cell_type": "markdown",
   "metadata": {},
   "source": [
    "### 4.1.1 Methods with tuples\n",
    "\n",
    "- these are the methods we can use with tuples:\n",
    "  - `count` - returns the number of times an element appears\n",
    "  - `index` - returns the index of an element\n",
    "  - `len` - returns the length of the tuple\n",
    "  - `max` - returns the maximum value\n",
    "  - `min` - returns the minimum value\n",
    "  - `sum` - returns the sum of all elements\n",
    "  - `sorted` - sorts the tuple\n",
    "  - `reverse` - reverses the tuple\n",
    "  - `tuple` - converts a list to a tuple"
   ]
  },
  {
   "cell_type": "code",
   "execution_count": 5,
   "metadata": {},
   "outputs": [
    {
     "ename": "AttributeError",
     "evalue": "'tuple' object has no attribute 'append'",
     "output_type": "error",
     "traceback": [
      "\u001b[0;31m---------------------------------------------------------------------------\u001b[0m",
      "\u001b[0;31mAttributeError\u001b[0m                            Traceback (most recent call last)",
      "Cell \u001b[0;32mIn[5], line 5\u001b[0m\n\u001b[1;32m      1\u001b[0m \u001b[38;5;66;03m# forbidden methods examples\u001b[39;00m\n\u001b[1;32m      2\u001b[0m \n\u001b[1;32m      3\u001b[0m \u001b[38;5;66;03m# appending the tuple\u001b[39;00m\n\u001b[1;32m      4\u001b[0m my_tuple \u001b[38;5;241m=\u001b[39m (\u001b[38;5;241m1\u001b[39m, \u001b[38;5;241m2\u001b[39m, \u001b[38;5;241m3\u001b[39m)\n\u001b[0;32m----> 5\u001b[0m \u001b[43mmy_tuple\u001b[49m\u001b[38;5;241;43m.\u001b[39;49m\u001b[43mappend\u001b[49m(\u001b[38;5;241m4\u001b[39m)  \u001b[38;5;66;03m# AttributeError: 'tuple' object has no attribute 'append'\u001b[39;00m\n\u001b[1;32m      7\u001b[0m \u001b[38;5;66;03m# changing the elements in the tuple\u001b[39;00m\n\u001b[1;32m      8\u001b[0m my_tuple \u001b[38;5;241m=\u001b[39m (\u001b[38;5;241m1\u001b[39m, \u001b[38;5;241m2\u001b[39m, \u001b[38;5;241m3\u001b[39m)\n",
      "\u001b[0;31mAttributeError\u001b[0m: 'tuple' object has no attribute 'append'"
     ]
    }
   ],
   "source": [
    "# forbidden methods examples\n",
    "\n",
    "# appending the tuple\n",
    "my_tuple = (1, 2, 3)\n",
    "my_tuple.append(4)  # AttributeError: 'tuple' object has no attribute 'append'\n",
    "\n",
    "# changing the elements in the tuple\n",
    "my_tuple = (1, 2, 3)\n",
    "my_tuple[1] = 4  # TypeError: 'tuple' object does not support item assignment\n",
    "\n",
    "# deleting the tuple\n",
    "del my_tuple  # NameError: name 'my_tuple' is not defined"
   ]
  },
  {
   "cell_type": "code",
   "execution_count": 6,
   "metadata": {},
   "outputs": [
    {
     "name": "stdout",
     "output_type": "stream",
     "text": [
      "3\n",
      "3\n",
      "1\n",
      "6\n"
     ]
    }
   ],
   "source": [
    "# allowed methods examples\n",
    "\n",
    "# len\n",
    "my_tuple = (1, 2, 3)\n",
    "print(len(my_tuple))\n",
    "\n",
    "# max\n",
    "my_tuple = (1, 2, 3)\n",
    "print(max(my_tuple))\n",
    "\n",
    "# min\n",
    "my_tuple = (1, 2, 3)\n",
    "print(min(my_tuple))\n",
    "\n",
    "# sum\n",
    "my_tuple = (1, 2, 3)\n",
    "print(sum(my_tuple))"
   ]
  },
  {
   "cell_type": "markdown",
   "metadata": {},
   "source": [
    "### 4.1.2 Tuple Packing and Unpacking\n",
    "\n",
    "- `packing` means assigning multiple values to the tuple\n",
    "  - syntax: `my_tuple = (value1, value2, value3)`\n",
    "\n",
    "- under the term `unpacking` we mean extracting the values from the tuple to the variables\n",
    "  - syntax: `value1, value2, value3 = my_tuple`\n",
    "  - in order to do this we need to have the same number of variables as the number of elements in the tuple"
   ]
  },
  {
   "cell_type": "code",
   "execution_count": 7,
   "metadata": {},
   "outputs": [
    {
     "name": "stdout",
     "output_type": "stream",
     "text": [
      "(1, 2, 3)\n",
      "1\n",
      "2\n",
      "3\n"
     ]
    }
   ],
   "source": [
    "# unpacking the tuple\n",
    "my_tuple = (1, 2, 3)\n",
    "print(my_tuple)\n",
    "\n",
    "a, b, c = my_tuple\n",
    "print(a)\n",
    "print(b)\n",
    "print(c)"
   ]
  },
  {
   "cell_type": "markdown",
   "metadata": {},
   "source": [
    "- There's also a special sytax for unpacking a tuple that can be used when the number of variables is not equal to the number of elements in the tuple.\n",
    "  - syntax: `value1, *value2, value3 = my_tuple`\n",
    "    - `value1` will be the first element in the tuple\n",
    "    - `value2` will be a list of all the elements that were not unpacked\n",
    "    - `value3` will be the last element in the tuple\n",
    "- or we cane use it like this:\n",
    "  - syntax: `value1, value2, value3, *value4 = my_tuple`\n",
    "    - `value4` will be a list of all the remaining elements that were not unpacked\n",
    "  "
   ]
  },
  {
   "cell_type": "code",
   "execution_count": 9,
   "metadata": {},
   "outputs": [
    {
     "name": "stdout",
     "output_type": "stream",
     "text": [
      "(1, 2, 3, 4, 5)\n",
      "1\n",
      "2\n",
      "[3, 4, 5]\n",
      "1\n",
      "[2, 3, 4]\n",
      "5\n"
     ]
    }
   ],
   "source": [
    "# example unpacking with asterisk\n",
    "my_tuple = (1, 2, 3, 4, 5)\n",
    "print(my_tuple)\n",
    "a, b, *c = my_tuple\n",
    "print(a)\n",
    "print(b)\n",
    "print(c)\n",
    "\n",
    "# example unpacking first and last element\n",
    "first, *middle, last = my_tuple\n",
    "print(first)\n",
    "print(middle)\n",
    "print(last)"
   ]
  },
  {
   "cell_type": "markdown",
   "metadata": {},
   "source": [
    "<span style=\"color:red\">Important!</span> We can use the same unpacking methods with lists and sets."
   ]
  },
  {
   "cell_type": "markdown",
   "metadata": {},
   "source": [
    "- Tuples can be concatenated with the `+` operator, but the result must be a new tuple and if stored, it has to be stored in a new variable, or if given to the same variable, the original tuple will be overwritten.\n",
    "\n",
    "- If we wish to change the original tuple, we can convert it to a list and change the elements in the list, after that we can convert it back to a tuple."
   ]
  },
  {
   "cell_type": "code",
   "execution_count": 10,
   "metadata": {},
   "outputs": [
    {
     "name": "stdout",
     "output_type": "stream",
     "text": [
      "(1, 2, 3)\n",
      "(5, 2, 3)\n",
      "(1, 2, 3)\n",
      "(1, 2, 3, 4)\n"
     ]
    }
   ],
   "source": [
    "# conversion tuple to list, change the list and convert back to tuple\n",
    "my_tuple = (1, 2, 3)\n",
    "print(my_tuple)\n",
    "my_list = list(my_tuple)\n",
    "my_list[0] = 5\n",
    "my_tuple = tuple(my_list)\n",
    "print(my_tuple)\n",
    "\n",
    "# or\n",
    "new_tuple = (1, 2, 3)\n",
    "print(new_tuple)\n",
    "new_list = list(new_tuple)\n",
    "new_list.append(4)\n",
    "new_tuple = tuple(new_list)\n",
    "print(new_tuple)"
   ]
  },
  {
   "cell_type": "markdown",
   "metadata": {},
   "source": [
    "- We generally use tuples when we have a lot of data and we don't want to change it."
   ]
  }
 ],
 "metadata": {
  "kernelspec": {
   "display_name": "python312",
   "language": "python",
   "name": "python3"
  },
  "language_info": {
   "codemirror_mode": {
    "name": "ipython",
    "version": 3
   },
   "file_extension": ".py",
   "mimetype": "text/x-python",
   "name": "python",
   "nbconvert_exporter": "python",
   "pygments_lexer": "ipython3",
   "version": "3.12.2"
  }
 },
 "nbformat": 4,
 "nbformat_minor": 2
}
