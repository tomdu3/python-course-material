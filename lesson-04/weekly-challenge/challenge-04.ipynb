{
 "cells": [
  {
   "cell_type": "markdown",
   "metadata": {},
   "source": [
    "Weekly Challenge\n",
    "\n",
    "- 1. **Phonebook Application**: Create a phonebook application using dictionaries to store contact information. Allow users to add, delete, and search for contacts.\n",
    "\n",
    "- 2. **Word Frequency Counter**: Build a program that reads a text file and counts the frequency of each word using dictionaries. Display the top N most frequent words.\n",
    "\n",
    "- 3. **Student Grade Tracker**: Develop a program that stores student names and their corresponding grades using dictionaries. Allow users to add, update, and retrieve student grades.\n",
    "  \n",
    "- 4. **Tic-Tac-Toe**: Create a simple game of tic-tac-toe."
   ]
  }
 ],
 "metadata": {
  "language_info": {
   "name": "python"
  }
 },
 "nbformat": 4,
 "nbformat_minor": 2
}
